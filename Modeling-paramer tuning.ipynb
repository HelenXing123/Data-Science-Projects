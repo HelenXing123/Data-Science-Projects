{
 "cells": [
  {
   "cell_type": "code",
   "execution_count": 62,
   "metadata": {},
   "outputs": [],
   "source": [
    "import pandas as pd\n",
    "import numpy as np\n",
    "import matplotlib.pyplot as plt\n",
    "%matplotlib inline\n",
    "import xgboost as xgb\n",
    "import seaborn as sns\n",
    "sns.set_style('darkgrid')\n",
    "from sklearn.model_selection import KFold,GridSearchCV\n",
    "from sklearn.model_selection import StratifiedKFold\n",
    "from sklearn.model_selection import train_test_split"
   ]
  },
  {
   "cell_type": "code",
   "execution_count": 63,
   "metadata": {},
   "outputs": [
    {
     "name": "stderr",
     "output_type": "stream",
     "text": [
      "/anaconda3/lib/python3.6/site-packages/IPython/core/interactiveshell.py:3049: DtypeWarning: Columns (0) have mixed types. Specify dtype option on import or set low_memory=False.\n",
      "  interactivity=interactivity, compiler=compiler, result=result)\n"
     ]
    },
    {
     "data": {
      "text/plain": [
       "(283165, 119)"
      ]
     },
     "execution_count": 63,
     "metadata": {},
     "output_type": "execute_result"
    }
   ],
   "source": [
    "df = pd.read_csv('loan_2015_ready.csv')\n",
    "df.shape"
   ]
  },
  {
   "cell_type": "code",
   "execution_count": 64,
   "metadata": {
    "scrolled": true
   },
   "outputs": [
    {
     "data": {
      "text/plain": [
       "107"
      ]
     },
     "execution_count": 64,
     "metadata": {},
     "output_type": "execute_result"
    }
   ],
   "source": [
    "select_feature = ['totalilhighcreditlimit', 'allutil', 'numtl120dpd2m', 'mthssincerecentbc', 'inqlast12m', 'mortacc', 'numtl30dpd', 'openacc6m', 'pubrecbankruptcies', 'mthssincerecentinq', 'numrevaccts', 'numactvrevtl', 'dti', 'mthssincelastdelinq', 'mthssincelastmajorderog', 'openacc', 'delinqamnt', 'mthssincerecentbcdlq', 'pcttlnvrdlq', 'accopenpast24mths', 'annualincjoint', 'loanamnt', 'mosinrcnttl', 'openrv12m', 'accnowdelinq', 'totalbalil', 'mthssincercntil', 'collections12mthsexmed', 'avgcurbal', 'delinq2yrs', 'dtijoint', 'numoprevtl', 'annualinc', 'numrevtlbalgt0', 'mosinoldilacct', 'openil12m', 'mosinrcntrevtlop', 'taxliens', 'totalrevhilim', 'openactil', 'numacctsever120pd', 'percentbcgt75', 'totalbclimit', 'maxbalbc', 'openrv24m', 'totalacc', 'mthssincelastrecord', 'ficorangehigh', 'numtl90gdpd24m', 'numsats', 'revolbal', 'ficorangelow', 'totcollamt', 'totalbalexmort', 'chargeoffwithin12mths', 'totalcutl', 'inqfi', 'mosinoldrevtlop', 'numtloppast12m', 'bcutil', 'numiltl', 'installment', 'inqlast6mths', 'pubrec', 'tothicredlim', 'totcurbal', 'numbcsats', 'mthssincerecentrevoldelinq', 'ilutil', 'numactvbctl', 'openil24m', 'numbctl', 'bcopentobuy', 'earliestcrline_month', 'emplength', 'intrate', 'revolutil', 'grade', 'subgrade', 'zipcode', 'zipcode_freq', 'addrstate_freq', 'emptitle_freq', 'verificationstatusjoint_Not Verified', 'homeownership_ANY', 'homeownership_MORTGAGE', 'homeownership_OWN', 'homeownership_RENT', 'verificationstatus_Not Verified', 'verificationstatus_Source Verified', 'verificationstatus_Verified', 'purpose_car', 'purpose_credit_card', 'purpose_debt_consolidation', 'purpose_educational', 'purpose_home_improvement', 'purpose_house', 'purpose_major_purchase', 'purpose_medical', 'purpose_moving', 'purpose_other', 'purpose_renewable_energy', 'purpose_small_business', 'purpose_vacation', 'purpose_wedding', 'initialliststatus_f', 'initialliststatus_w']\n",
    "feat = select_feature\n",
    "len(feat)"
   ]
  },
  {
   "cell_type": "code",
   "execution_count": 65,
   "metadata": {},
   "outputs": [
    {
     "data": {
      "text/plain": [
       "((252828, 119), (30337, 119))"
      ]
     },
     "execution_count": 65,
     "metadata": {},
     "output_type": "execute_result"
    }
   ],
   "source": [
    "df_train = df.query(\"train_flg==1\")\n",
    "df_test = df.query(\"train_flg==0\")\n",
    "df_train.shape,df_test.shape"
   ]
  },
  {
   "cell_type": "code",
   "execution_count": 66,
   "metadata": {},
   "outputs": [],
   "source": [
    "x_train, y_train = df_train[feat], df_train.loanstatus\n",
    "x_test, y_test = df_test[feat], df_test.loanstatus"
   ]
  },
  {
   "cell_type": "code",
   "execution_count": 5,
   "metadata": {},
   "outputs": [
    {
     "name": "stdout",
     "output_type": "stream",
     "text": [
      "Fitting 4 folds for each of 5 candidates, totalling 20 fits\n"
     ]
    },
    {
     "name": "stderr",
     "output_type": "stream",
     "text": [
      "[Parallel(n_jobs=3)]: Using backend LokyBackend with 3 concurrent workers.\n",
      "[Parallel(n_jobs=3)]: Done   2 tasks      | elapsed:  5.0min\n",
      "/anaconda3/lib/python3.6/site-packages/sklearn/externals/joblib/externals/loky/process_executor.py:706: UserWarning: A worker stopped while some jobs were given to the executor. This can be caused by a too short worker timeout or by a memory leak.\n",
      "  \"timeout or by a memory leak.\", UserWarning\n",
      "[Parallel(n_jobs=3)]: Done   7 tasks      | elapsed: 15.2min\n",
      "/anaconda3/lib/python3.6/site-packages/sklearn/externals/joblib/externals/loky/process_executor.py:706: UserWarning: A worker stopped while some jobs were given to the executor. This can be caused by a too short worker timeout or by a memory leak.\n",
      "  \"timeout or by a memory leak.\", UserWarning\n",
      "/anaconda3/lib/python3.6/site-packages/sklearn/externals/joblib/externals/loky/process_executor.py:706: UserWarning: A worker stopped while some jobs were given to the executor. This can be caused by a too short worker timeout or by a memory leak.\n",
      "  \"timeout or by a memory leak.\", UserWarning\n",
      "[Parallel(n_jobs=3)]: Done  12 tasks      | elapsed: 21.7min\n",
      "/anaconda3/lib/python3.6/site-packages/sklearn/externals/joblib/externals/loky/process_executor.py:706: UserWarning: A worker stopped while some jobs were given to the executor. This can be caused by a too short worker timeout or by a memory leak.\n",
      "  \"timeout or by a memory leak.\", UserWarning\n",
      "[Parallel(n_jobs=3)]: Done  18 out of  20 | elapsed: 34.1min remaining:  3.8min\n",
      "[Parallel(n_jobs=3)]: Done  20 out of  20 | elapsed: 38.3min finished\n"
     ]
    },
    {
     "name": "stdout",
     "output_type": "stream",
     "text": [
      "Best score: 0.705\n",
      "Best parameters set: {'n_estimators': 265}\n"
     ]
    },
    {
     "ename": "AttributeError",
     "evalue": "'GridSearchCV' object has no attribute 'grid_scores_'",
     "output_type": "error",
     "traceback": [
      "\u001b[0;31m---------------------------------------------------------------------------\u001b[0m",
      "\u001b[0;31mAttributeError\u001b[0m                            Traceback (most recent call last)",
      "\u001b[0;32m<ipython-input-5-36ae750a048b>\u001b[0m in \u001b[0;36m<module>\u001b[0;34m\u001b[0m\n\u001b[1;32m     10\u001b[0m \u001b[0mprint\u001b[0m\u001b[0;34m(\u001b[0m\u001b[0;34m\"Best score: %0.3f\"\u001b[0m \u001b[0;34m%\u001b[0m \u001b[0moptimized_GBM\u001b[0m\u001b[0;34m.\u001b[0m\u001b[0mbest_score_\u001b[0m\u001b[0;34m)\u001b[0m\u001b[0;34m\u001b[0m\u001b[0;34m\u001b[0m\u001b[0m\n\u001b[1;32m     11\u001b[0m \u001b[0mprint\u001b[0m\u001b[0;34m(\u001b[0m\u001b[0;34m\"Best parameters set:\"\u001b[0m\u001b[0;34m,\u001b[0m \u001b[0moptimized_GBM\u001b[0m\u001b[0;34m.\u001b[0m\u001b[0mbest_params_\u001b[0m\u001b[0;34m)\u001b[0m\u001b[0;34m\u001b[0m\u001b[0;34m\u001b[0m\u001b[0m\n\u001b[0;32m---> 12\u001b[0;31m \u001b[0mprint\u001b[0m\u001b[0;34m(\u001b[0m\u001b[0;34m\"Scores:\"\u001b[0m\u001b[0;34m,\u001b[0m \u001b[0moptimized_GBM\u001b[0m\u001b[0;34m.\u001b[0m\u001b[0mgrid_scores_\u001b[0m\u001b[0;34m)\u001b[0m\u001b[0;34m\u001b[0m\u001b[0;34m\u001b[0m\u001b[0m\n\u001b[0m",
      "\u001b[0;31mAttributeError\u001b[0m: 'GridSearchCV' object has no attribute 'grid_scores_'"
     ]
    }
   ],
   "source": [
    "x_train, y_train = df_train[feat], df_train.loanstatus\n",
    "x_test, y_test = df_test[feat], df_test.loanstatus\n",
    "\n",
    "cv_params = {'n_estimators':[205,220,235,250,265]}\n",
    "other_params = {'learning_rate':0.02,'max_depth':6, 'min_child_weight':50,'gamma':0.2,'seed':1234,'subsample':0.78,'colsample_bytree':0.67,\n",
    "                'nthread': -1}\n",
    "model = xgb.XGBClassifier(**other_params)\n",
    "optimized_GBM = GridSearchCV(estimator=model, param_grid=cv_params, scoring='roc_auc', cv=4, verbose=10, n_jobs=3)\n",
    "optimized_GBM.fit(x_train, y_train)\n",
    "print(\"Best score: %0.3f\" % optimized_GBM.best_score_)\n",
    "print(\"Best parameters set:\", optimized_GBM.best_params_)\n",
    "print(\"Scores:\", optimized_GBM.grid_scores_)"
   ]
  },
  {
   "cell_type": "code",
   "execution_count": 6,
   "metadata": {},
   "outputs": [
    {
     "name": "stdout",
     "output_type": "stream",
     "text": [
      "Fitting 4 folds for each of 3 candidates, totalling 12 fits\n"
     ]
    },
    {
     "name": "stderr",
     "output_type": "stream",
     "text": [
      "[Parallel(n_jobs=3)]: Using backend LokyBackend with 3 concurrent workers.\n",
      "[Parallel(n_jobs=3)]: Done   2 tasks      | elapsed:  7.1min\n",
      "[Parallel(n_jobs=3)]: Done   7 tasks      | elapsed: 22.0min\n",
      "/anaconda3/lib/python3.6/site-packages/sklearn/externals/joblib/externals/loky/process_executor.py:706: UserWarning: A worker stopped while some jobs were given to the executor. This can be caused by a too short worker timeout or by a memory leak.\n",
      "  \"timeout or by a memory leak.\", UserWarning\n",
      "[Parallel(n_jobs=3)]: Done   9 out of  12 | elapsed: 25.6min remaining:  8.5min\n",
      "[Parallel(n_jobs=3)]: Done  12 out of  12 | elapsed: 35.5min finished\n"
     ]
    },
    {
     "name": "stdout",
     "output_type": "stream",
     "text": [
      "Best score: 0.708\n",
      "Best parameters set: {'n_estimators': 400}\n"
     ]
    }
   ],
   "source": [
    "cv_params = {'n_estimators':[265, 300,400]}\n",
    "other_params = {'learning_rate':0.02,'max_depth':6, 'min_child_weight':50,'gamma':0.2,'seed':1234,'subsample':0.78,'colsample_bytree':0.67,\n",
    "                'nthread': -1}\n",
    "model = xgb.XGBClassifier(**other_params)\n",
    "optimized_GBM = GridSearchCV(estimator=model, param_grid=cv_params, scoring='roc_auc', cv=4, verbose=10, n_jobs=3)\n",
    "optimized_GBM.fit(x_train, y_train)\n",
    "print(\"Best score: %0.3f\" % optimized_GBM.best_score_)\n",
    "print(\"Best parameters set:\", optimized_GBM.best_params_)\n"
   ]
  },
  {
   "cell_type": "code",
   "execution_count": 7,
   "metadata": {},
   "outputs": [
    {
     "name": "stdout",
     "output_type": "stream",
     "text": [
      "Fitting 4 folds for each of 6 candidates, totalling 24 fits\n"
     ]
    },
    {
     "name": "stderr",
     "output_type": "stream",
     "text": [
      "[Parallel(n_jobs=3)]: Using backend LokyBackend with 3 concurrent workers.\n",
      "[Parallel(n_jobs=3)]: Done   2 tasks      | elapsed:  5.2min\n",
      "/anaconda3/lib/python3.6/site-packages/sklearn/externals/joblib/externals/loky/process_executor.py:706: UserWarning: A worker stopped while some jobs were given to the executor. This can be caused by a too short worker timeout or by a memory leak.\n",
      "  \"timeout or by a memory leak.\", UserWarning\n",
      "[Parallel(n_jobs=3)]: Done   7 tasks      | elapsed: 16.8min\n",
      "/anaconda3/lib/python3.6/site-packages/sklearn/externals/joblib/externals/loky/process_executor.py:706: UserWarning: A worker stopped while some jobs were given to the executor. This can be caused by a too short worker timeout or by a memory leak.\n",
      "  \"timeout or by a memory leak.\", UserWarning\n",
      "/anaconda3/lib/python3.6/site-packages/sklearn/externals/joblib/externals/loky/process_executor.py:706: UserWarning: A worker stopped while some jobs were given to the executor. This can be caused by a too short worker timeout or by a memory leak.\n",
      "  \"timeout or by a memory leak.\", UserWarning\n",
      "[Parallel(n_jobs=3)]: Done  12 tasks      | elapsed: 25.6min\n",
      "/anaconda3/lib/python3.6/site-packages/sklearn/externals/joblib/externals/loky/process_executor.py:706: UserWarning: A worker stopped while some jobs were given to the executor. This can be caused by a too short worker timeout or by a memory leak.\n",
      "  \"timeout or by a memory leak.\", UserWarning\n",
      "/anaconda3/lib/python3.6/site-packages/sklearn/externals/joblib/externals/loky/process_executor.py:706: UserWarning: A worker stopped while some jobs were given to the executor. This can be caused by a too short worker timeout or by a memory leak.\n",
      "  \"timeout or by a memory leak.\", UserWarning\n",
      "/anaconda3/lib/python3.6/site-packages/sklearn/externals/joblib/externals/loky/process_executor.py:706: UserWarning: A worker stopped while some jobs were given to the executor. This can be caused by a too short worker timeout or by a memory leak.\n",
      "  \"timeout or by a memory leak.\", UserWarning\n",
      "[Parallel(n_jobs=3)]: Done  19 tasks      | elapsed: 48.5min\n",
      "[Parallel(n_jobs=3)]: Done  22 out of  24 | elapsed: 60.5min remaining:  5.5min\n",
      "[Parallel(n_jobs=3)]: Done  24 out of  24 | elapsed: 63.3min finished\n"
     ]
    },
    {
     "name": "stdout",
     "output_type": "stream",
     "text": [
      "Best score: 0.710\n",
      "Best parameters set: {'n_estimators': 400}\n"
     ]
    }
   ],
   "source": [
    "cv_params = {'n_estimators':[200,235,270,305, 340,400]}\n",
    "other_params = {'learning_rate':0.05,'max_depth':6, 'min_child_weight':50,'gamma':0.2,'seed':1234,'subsample':0.78,'colsample_bytree':0.67,\n",
    "                'nthread': -1,'objective':'binary:logistic'}\n",
    "model = xgb.XGBClassifier(**other_params)\n",
    "optimized_GBM = GridSearchCV(estimator=model, param_grid=cv_params, scoring='roc_auc', cv=4, verbose=10, n_jobs=3)\n",
    "optimized_GBM.fit(x_train, y_train)\n",
    "print(\"Best score: %0.3f\" % optimized_GBM.best_score_)\n",
    "print(\"Best parameters set:\", optimized_GBM.best_params_)"
   ]
  },
  {
   "cell_type": "code",
   "execution_count": 8,
   "metadata": {},
   "outputs": [
    {
     "name": "stdout",
     "output_type": "stream",
     "text": [
      "Fitting 4 folds for each of 6 candidates, totalling 24 fits\n"
     ]
    },
    {
     "name": "stderr",
     "output_type": "stream",
     "text": [
      "[Parallel(n_jobs=3)]: Using backend LokyBackend with 3 concurrent workers.\n",
      "[Parallel(n_jobs=3)]: Done   2 tasks      | elapsed: 13.2min\n",
      "/anaconda3/lib/python3.6/site-packages/sklearn/externals/joblib/externals/loky/process_executor.py:706: UserWarning: A worker stopped while some jobs were given to the executor. This can be caused by a too short worker timeout or by a memory leak.\n",
      "  \"timeout or by a memory leak.\", UserWarning\n",
      "[Parallel(n_jobs=3)]: Done   7 tasks      | elapsed: 46.5min\n",
      "[Parallel(n_jobs=3)]: Done  12 tasks      | elapsed: 84.1min\n",
      "/anaconda3/lib/python3.6/site-packages/sklearn/externals/joblib/externals/loky/process_executor.py:706: UserWarning: A worker stopped while some jobs were given to the executor. This can be caused by a too short worker timeout or by a memory leak.\n",
      "  \"timeout or by a memory leak.\", UserWarning\n",
      "[Parallel(n_jobs=3)]: Done  19 tasks      | elapsed: 170.6min\n",
      "/anaconda3/lib/python3.6/site-packages/sklearn/externals/joblib/externals/loky/process_executor.py:706: UserWarning: A worker stopped while some jobs were given to the executor. This can be caused by a too short worker timeout or by a memory leak.\n",
      "  \"timeout or by a memory leak.\", UserWarning\n",
      "/anaconda3/lib/python3.6/site-packages/sklearn/externals/joblib/externals/loky/process_executor.py:706: UserWarning: A worker stopped while some jobs were given to the executor. This can be caused by a too short worker timeout or by a memory leak.\n",
      "  \"timeout or by a memory leak.\", UserWarning\n",
      "[Parallel(n_jobs=3)]: Done  22 out of  24 | elapsed: 212.2min remaining: 19.3min\n",
      "[Parallel(n_jobs=3)]: Done  24 out of  24 | elapsed: 226.6min finished\n"
     ]
    },
    {
     "name": "stdout",
     "output_type": "stream",
     "text": [
      "Best score: 0.710\n",
      "Best parameters set: {'n_estimators': 500}\n"
     ]
    }
   ],
   "source": [
    "cv_params = {'n_estimators':[500,700,900,1100, 1300,1500]}\n",
    "other_params = {'learning_rate':0.05,'max_depth':6, 'min_child_weight':50,'gamma':0.2,'seed':1234,'subsample':0.78,'colsample_bytree':0.67,\n",
    "                'nthread': -1,'objective':'binary:logistic'}\n",
    "model = xgb.XGBClassifier(**other_params)\n",
    "optimized_GBM = GridSearchCV(estimator=model, param_grid=cv_params, scoring='roc_auc', cv=4, verbose=10, n_jobs=3)\n",
    "optimized_GBM.fit(x_train, y_train)\n",
    "print(\"Best score: %0.3f\" % optimized_GBM.best_score_)\n",
    "print(\"Best parameters set:\", optimized_GBM.best_params_)"
   ]
  },
  {
   "cell_type": "code",
   "execution_count": 9,
   "metadata": {},
   "outputs": [
    {
     "name": "stdout",
     "output_type": "stream",
     "text": [
      "Fitting 4 folds for each of 3 candidates, totalling 12 fits\n"
     ]
    },
    {
     "name": "stderr",
     "output_type": "stream",
     "text": [
      "[Parallel(n_jobs=3)]: Using backend LokyBackend with 3 concurrent workers.\n",
      "[Parallel(n_jobs=3)]: Done   2 tasks      | elapsed: 10.0min\n",
      "/anaconda3/lib/python3.6/site-packages/sklearn/externals/joblib/externals/loky/process_executor.py:706: UserWarning: A worker stopped while some jobs were given to the executor. This can be caused by a too short worker timeout or by a memory leak.\n",
      "  \"timeout or by a memory leak.\", UserWarning\n",
      "[Parallel(n_jobs=3)]: Done   7 tasks      | elapsed: 30.4min\n",
      "[Parallel(n_jobs=3)]: Done   9 out of  12 | elapsed: 31.7min remaining: 10.6min\n",
      "[Parallel(n_jobs=3)]: Done  12 out of  12 | elapsed: 44.4min finished\n"
     ]
    },
    {
     "name": "stdout",
     "output_type": "stream",
     "text": [
      "Best score: 0.710\n",
      "Best parameters set: {'n_estimators': 425}\n"
     ]
    }
   ],
   "source": [
    "cv_params = {'n_estimators':[425,450,475]}\n",
    "other_params = {'learning_rate':0.05,'max_depth':6, 'min_child_weight':50,'gamma':0.2,'seed':1234,'subsample':0.78,'colsample_bytree':0.67,\n",
    "                'nthread': -1,'objective':'binary:logistic', 'silent':0}\n",
    "model = xgb.XGBClassifier(**other_params)\n",
    "optimized_GBM = GridSearchCV(estimator=model, param_grid=cv_params, scoring='roc_auc', cv=4, verbose=10, n_jobs=3)\n",
    "optimized_GBM.fit(x_train, y_train)\n",
    "print(\"Best score: %0.3f\" % optimized_GBM.best_score_)\n",
    "print(\"Best parameters set:\", optimized_GBM.best_params_)"
   ]
  },
  {
   "cell_type": "code",
   "execution_count": null,
   "metadata": {},
   "outputs": [],
   "source": [
    "print('done')"
   ]
  },
  {
   "cell_type": "code",
   "execution_count": null,
   "metadata": {},
   "outputs": [
    {
     "name": "stdout",
     "output_type": "stream",
     "text": [
      "Fitting 4 folds for each of 32 candidates, totalling 128 fits\n"
     ]
    },
    {
     "name": "stderr",
     "output_type": "stream",
     "text": [
      "[Parallel(n_jobs=3)]: Using backend LokyBackend with 3 concurrent workers.\n",
      "/anaconda3/lib/python3.6/site-packages/sklearn/externals/joblib/externals/loky/process_executor.py:706: UserWarning: A worker stopped while some jobs were given to the executor. This can be caused by a too short worker timeout or by a memory leak.\n",
      "  \"timeout or by a memory leak.\", UserWarning\n",
      "/anaconda3/lib/python3.6/site-packages/sklearn/externals/joblib/externals/loky/process_executor.py:706: UserWarning: A worker stopped while some jobs were given to the executor. This can be caused by a too short worker timeout or by a memory leak.\n",
      "  \"timeout or by a memory leak.\", UserWarning\n",
      "/anaconda3/lib/python3.6/site-packages/sklearn/externals/joblib/externals/loky/process_executor.py:706: UserWarning: A worker stopped while some jobs were given to the executor. This can be caused by a too short worker timeout or by a memory leak.\n",
      "  \"timeout or by a memory leak.\", UserWarning\n",
      "[Parallel(n_jobs=3)]: Done  12 tasks      | elapsed: 25.1min\n",
      "/anaconda3/lib/python3.6/site-packages/sklearn/externals/joblib/externals/loky/process_executor.py:706: UserWarning: A worker stopped while some jobs were given to the executor. This can be caused by a too short worker timeout or by a memory leak.\n",
      "  \"timeout or by a memory leak.\", UserWarning\n",
      "/anaconda3/lib/python3.6/site-packages/sklearn/externals/joblib/externals/loky/process_executor.py:706: UserWarning: A worker stopped while some jobs were given to the executor. This can be caused by a too short worker timeout or by a memory leak.\n",
      "  \"timeout or by a memory leak.\", UserWarning\n",
      "/anaconda3/lib/python3.6/site-packages/sklearn/externals/joblib/externals/loky/process_executor.py:706: UserWarning: A worker stopped while some jobs were given to the executor. This can be caused by a too short worker timeout or by a memory leak.\n",
      "  \"timeout or by a memory leak.\", UserWarning\n",
      "/anaconda3/lib/python3.6/site-packages/sklearn/externals/joblib/externals/loky/process_executor.py:706: UserWarning: A worker stopped while some jobs were given to the executor. This can be caused by a too short worker timeout or by a memory leak.\n",
      "  \"timeout or by a memory leak.\", UserWarning\n",
      "/anaconda3/lib/python3.6/site-packages/sklearn/externals/joblib/externals/loky/process_executor.py:706: UserWarning: A worker stopped while some jobs were given to the executor. This can be caused by a too short worker timeout or by a memory leak.\n",
      "  \"timeout or by a memory leak.\", UserWarning\n",
      "/anaconda3/lib/python3.6/site-packages/sklearn/externals/joblib/externals/loky/process_executor.py:706: UserWarning: A worker stopped while some jobs were given to the executor. This can be caused by a too short worker timeout or by a memory leak.\n",
      "  \"timeout or by a memory leak.\", UserWarning\n",
      "/anaconda3/lib/python3.6/site-packages/sklearn/externals/joblib/externals/loky/process_executor.py:706: UserWarning: A worker stopped while some jobs were given to the executor. This can be caused by a too short worker timeout or by a memory leak.\n",
      "  \"timeout or by a memory leak.\", UserWarning\n",
      "[Parallel(n_jobs=3)]: Done  66 tasks      | elapsed: 185.3min\n",
      "/anaconda3/lib/python3.6/site-packages/sklearn/externals/joblib/externals/loky/process_executor.py:706: UserWarning: A worker stopped while some jobs were given to the executor. This can be caused by a too short worker timeout or by a memory leak.\n",
      "  \"timeout or by a memory leak.\", UserWarning\n",
      "/anaconda3/lib/python3.6/site-packages/sklearn/externals/joblib/externals/loky/process_executor.py:706: UserWarning: A worker stopped while some jobs were given to the executor. This can be caused by a too short worker timeout or by a memory leak.\n",
      "  \"timeout or by a memory leak.\", UserWarning\n",
      "/anaconda3/lib/python3.6/site-packages/sklearn/externals/joblib/externals/loky/process_executor.py:706: UserWarning: A worker stopped while some jobs were given to the executor. This can be caused by a too short worker timeout or by a memory leak.\n",
      "  \"timeout or by a memory leak.\", UserWarning\n",
      "/anaconda3/lib/python3.6/site-packages/sklearn/externals/joblib/externals/loky/process_executor.py:706: UserWarning: A worker stopped while some jobs were given to the executor. This can be caused by a too short worker timeout or by a memory leak.\n",
      "  \"timeout or by a memory leak.\", UserWarning\n",
      "/anaconda3/lib/python3.6/site-packages/sklearn/externals/joblib/externals/loky/process_executor.py:706: UserWarning: A worker stopped while some jobs were given to the executor. This can be caused by a too short worker timeout or by a memory leak.\n",
      "  \"timeout or by a memory leak.\", UserWarning\n",
      "/anaconda3/lib/python3.6/site-packages/sklearn/externals/joblib/externals/loky/process_executor.py:706: UserWarning: A worker stopped while some jobs were given to the executor. This can be caused by a too short worker timeout or by a memory leak.\n",
      "  \"timeout or by a memory leak.\", UserWarning\n",
      "/anaconda3/lib/python3.6/site-packages/sklearn/externals/joblib/externals/loky/process_executor.py:706: UserWarning: A worker stopped while some jobs were given to the executor. This can be caused by a too short worker timeout or by a memory leak.\n",
      "  \"timeout or by a memory leak.\", UserWarning\n",
      "/anaconda3/lib/python3.6/site-packages/sklearn/externals/joblib/externals/loky/process_executor.py:706: UserWarning: A worker stopped while some jobs were given to the executor. This can be caused by a too short worker timeout or by a memory leak.\n",
      "  \"timeout or by a memory leak.\", UserWarning\n",
      "/anaconda3/lib/python3.6/site-packages/sklearn/externals/joblib/externals/loky/process_executor.py:706: UserWarning: A worker stopped while some jobs were given to the executor. This can be caused by a too short worker timeout or by a memory leak.\n",
      "  \"timeout or by a memory leak.\", UserWarning\n",
      "/anaconda3/lib/python3.6/site-packages/sklearn/externals/joblib/externals/loky/process_executor.py:706: UserWarning: A worker stopped while some jobs were given to the executor. This can be caused by a too short worker timeout or by a memory leak.\n",
      "  \"timeout or by a memory leak.\", UserWarning\n",
      "/anaconda3/lib/python3.6/site-packages/sklearn/externals/joblib/externals/loky/process_executor.py:706: UserWarning: A worker stopped while some jobs were given to the executor. This can be caused by a too short worker timeout or by a memory leak.\n",
      "  \"timeout or by a memory leak.\", UserWarning\n",
      "/anaconda3/lib/python3.6/site-packages/sklearn/externals/joblib/externals/loky/process_executor.py:706: UserWarning: A worker stopped while some jobs were given to the executor. This can be caused by a too short worker timeout or by a memory leak.\n",
      "  \"timeout or by a memory leak.\", UserWarning\n",
      "/anaconda3/lib/python3.6/site-packages/sklearn/externals/joblib/externals/loky/process_executor.py:706: UserWarning: A worker stopped while some jobs were given to the executor. This can be caused by a too short worker timeout or by a memory leak.\n",
      "  \"timeout or by a memory leak.\", UserWarning\n",
      "/anaconda3/lib/python3.6/site-packages/sklearn/externals/joblib/externals/loky/process_executor.py:706: UserWarning: A worker stopped while some jobs were given to the executor. This can be caused by a too short worker timeout or by a memory leak.\n",
      "  \"timeout or by a memory leak.\", UserWarning\n",
      "/anaconda3/lib/python3.6/site-packages/sklearn/externals/joblib/externals/loky/process_executor.py:706: UserWarning: A worker stopped while some jobs were given to the executor. This can be caused by a too short worker timeout or by a memory leak.\n",
      "  \"timeout or by a memory leak.\", UserWarning\n",
      "/anaconda3/lib/python3.6/site-packages/sklearn/externals/joblib/externals/loky/process_executor.py:706: UserWarning: A worker stopped while some jobs were given to the executor. This can be caused by a too short worker timeout or by a memory leak.\n",
      "  \"timeout or by a memory leak.\", UserWarning\n"
     ]
    }
   ],
   "source": [
    "x_train, y_train = df_train[feat], df_train.loanstatus\n",
    "x_test, y_test = df_test[feat], df_test.loanstatus\n",
    "\n",
    "cv_params = {\n",
    "             'max_depth': [3,4,5,6,7,8,9,10],\n",
    "             'min_child_weight':[30,50,100,150]\n",
    "             }\n",
    "other_params = {'learning_rate':0.02,'n_estimators':400, 'gamma':0.2,'seed':1234,'subsample':0.78,'colsample_bytree':0.67,\n",
    "                'nthread': -1, 'objective':'binary:logistic', 'silent':0}\n",
    "model = xgb.XGBClassifier(**other_params)\n",
    "optimized_GBM = GridSearchCV(estimator=model, param_grid=cv_params, scoring='roc_auc', cv=4, verbose=5, n_jobs=3)\n",
    "optimized_GBM.fit(x_train, y_train)\n",
    "print(\"Best score: %0.3f\" % optimized_GBM.best_score_)\n",
    "print(\"Best parameters set:\", optimized_GBM.best_params_)\n",
    "#Best score: 0.710\n",
    "#Best parameters set: {'max_depth': 10, 'min_child_weight': 100}"
   ]
  },
  {
   "cell_type": "code",
   "execution_count": 6,
   "metadata": {},
   "outputs": [
    {
     "name": "stdout",
     "output_type": "stream",
     "text": [
      "Fitting 4 folds for each of 2 candidates, totalling 8 fits\n"
     ]
    },
    {
     "name": "stderr",
     "output_type": "stream",
     "text": [
      "[Parallel(n_jobs=3)]: Using backend LokyBackend with 3 concurrent workers.\n",
      "[Parallel(n_jobs=3)]: Done   5 out of   8 | elapsed: 30.5min remaining: 18.3min\n",
      "[Parallel(n_jobs=3)]: Done   8 out of   8 | elapsed: 41.1min finished\n"
     ]
    },
    {
     "name": "stdout",
     "output_type": "stream",
     "text": [
      "Best score: 0.710\n",
      "Best parameters set: {'max_depth': 10, 'min_child_weight': 75}\n"
     ]
    }
   ],
   "source": [
    "cv_params = {\n",
    "             'max_depth': [10],\n",
    "             'min_child_weight':[75,125]\n",
    "             }\n",
    "other_params = {'learning_rate':0.02,'n_estimators':400, 'gamma':0.2,'seed':1234,'subsample':0.78,'colsample_bytree':0.67,\n",
    "                'nthread': -1, 'objective':'binary:logistic', 'silent':0}\n",
    "model = xgb.XGBClassifier(**other_params)\n",
    "optimized_GBM = GridSearchCV(estimator=model, param_grid=cv_params, scoring='roc_auc', cv=4, verbose=5, n_jobs=3)\n",
    "optimized_GBM.fit(x_train, y_train)\n",
    "print(\"Best score: %0.3f\" % optimized_GBM.best_score_)\n",
    "print(\"Best parameters set:\", optimized_GBM.best_params_)"
   ]
  },
  {
   "cell_type": "code",
   "execution_count": 7,
   "metadata": {},
   "outputs": [
    {
     "name": "stdout",
     "output_type": "stream",
     "text": [
      "Fitting 4 folds for each of 2 candidates, totalling 8 fits\n"
     ]
    },
    {
     "name": "stderr",
     "output_type": "stream",
     "text": [
      "[Parallel(n_jobs=3)]: Using backend LokyBackend with 3 concurrent workers.\n",
      "[Parallel(n_jobs=3)]: Done   5 out of   8 | elapsed: 45.3min remaining: 27.2min\n",
      "/anaconda3/lib/python3.6/site-packages/sklearn/externals/joblib/externals/loky/process_executor.py:706: UserWarning: A worker stopped while some jobs were given to the executor. This can be caused by a too short worker timeout or by a memory leak.\n",
      "  \"timeout or by a memory leak.\", UserWarning\n",
      "[Parallel(n_jobs=3)]: Done   8 out of   8 | elapsed: 63.5min finished\n"
     ]
    },
    {
     "name": "stdout",
     "output_type": "stream",
     "text": [
      "Best score: 0.710\n",
      "Best parameters set: {'max_depth': 15, 'min_child_weight': 75}\n"
     ]
    }
   ],
   "source": [
    "cv_params = {\n",
    "             'max_depth': [15,20],\n",
    "             'min_child_weight':[75]\n",
    "             }\n",
    "other_params = {'learning_rate':0.02,'n_estimators':400, 'gamma':0.2,'seed':1234,'subsample':0.78,'colsample_bytree':0.67,\n",
    "                'nthread': -1, 'objective':'binary:logistic', 'silent':0}\n",
    "model = xgb.XGBClassifier(**other_params)\n",
    "optimized_GBM = GridSearchCV(estimator=model, param_grid=cv_params, scoring='roc_auc', cv=4, verbose=5, n_jobs=3)\n",
    "optimized_GBM.fit(x_train, y_train)\n",
    "print(\"Best score: %0.3f\" % optimized_GBM.best_score_)\n",
    "print(\"Best parameters set:\", optimized_GBM.best_params_)"
   ]
  },
  {
   "cell_type": "code",
   "execution_count": 8,
   "metadata": {},
   "outputs": [
    {
     "name": "stdout",
     "output_type": "stream",
     "text": [
      "Fitting 4 folds for each of 1 candidates, totalling 4 fits\n"
     ]
    },
    {
     "name": "stderr",
     "output_type": "stream",
     "text": [
      "[Parallel(n_jobs=3)]: Using backend LokyBackend with 3 concurrent workers.\n",
      "[Parallel(n_jobs=3)]: Done   2 out of   4 | elapsed: 15.2min remaining: 15.2min\n",
      "[Parallel(n_jobs=3)]: Done   4 out of   4 | elapsed: 25.2min remaining:    0.0s\n",
      "[Parallel(n_jobs=3)]: Done   4 out of   4 | elapsed: 25.2min finished\n"
     ]
    },
    {
     "name": "stdout",
     "output_type": "stream",
     "text": [
      "Best score: 0.708\n",
      "Best parameters set: {'max_depth': 10, 'min_child_weight': 75}\n"
     ]
    }
   ],
   "source": [
    "cv_params = {\n",
    "             'max_depth': [10],\n",
    "             'min_child_weight':[75]\n",
    "             }\n",
    "other_params = {'learning_rate':0.05,'n_estimators':400, 'gamma':0.2,'seed':1234,'subsample':0.78,'colsample_bytree':0.67,\n",
    "                'nthread': -1, 'objective':'binary:logistic', 'silent':0}\n",
    "model = xgb.XGBClassifier(**other_params)\n",
    "optimized_GBM = GridSearchCV(estimator=model, param_grid=cv_params, scoring='roc_auc', cv=4, verbose=5, n_jobs=3)\n",
    "optimized_GBM.fit(x_train, y_train)\n",
    "print(\"Best score: %0.3f\" % optimized_GBM.best_score_)\n",
    "print(\"Best parameters set:\", optimized_GBM.best_params_)"
   ]
  },
  {
   "cell_type": "code",
   "execution_count": 6,
   "metadata": {},
   "outputs": [
    {
     "name": "stdout",
     "output_type": "stream",
     "text": [
      "Fitting 4 folds for each of 12 candidates, totalling 48 fits\n"
     ]
    },
    {
     "name": "stderr",
     "output_type": "stream",
     "text": [
      "[Parallel(n_jobs=3)]: Using backend LokyBackend with 3 concurrent workers.\n",
      "[Parallel(n_jobs=3)]: Done   2 tasks      | elapsed: 10.4min\n",
      "[Parallel(n_jobs=3)]: Done   7 tasks      | elapsed: 34.5min\n",
      "[Parallel(n_jobs=3)]: Done  12 tasks      | elapsed: 58.1min\n",
      "[Parallel(n_jobs=3)]: Done  19 tasks      | elapsed: 82.4min\n",
      "/anaconda3/lib/python3.6/site-packages/sklearn/externals/joblib/externals/loky/process_executor.py:706: UserWarning: A worker stopped while some jobs were given to the executor. This can be caused by a too short worker timeout or by a memory leak.\n",
      "  \"timeout or by a memory leak.\", UserWarning\n",
      "[Parallel(n_jobs=3)]: Done  26 tasks      | elapsed: 112.5min\n",
      "[Parallel(n_jobs=3)]: Done  35 tasks      | elapsed: 155.3min\n",
      "/anaconda3/lib/python3.6/site-packages/sklearn/externals/joblib/externals/loky/process_executor.py:706: UserWarning: A worker stopped while some jobs were given to the executor. This can be caused by a too short worker timeout or by a memory leak.\n",
      "  \"timeout or by a memory leak.\", UserWarning\n",
      "/anaconda3/lib/python3.6/site-packages/sklearn/externals/joblib/externals/loky/process_executor.py:706: UserWarning: A worker stopped while some jobs were given to the executor. This can be caused by a too short worker timeout or by a memory leak.\n",
      "  \"timeout or by a memory leak.\", UserWarning\n",
      "[Parallel(n_jobs=3)]: Done  48 out of  48 | elapsed: 220.4min remaining:    0.0s\n",
      "[Parallel(n_jobs=3)]: Done  48 out of  48 | elapsed: 220.4min finished\n"
     ]
    },
    {
     "name": "stdout",
     "output_type": "stream",
     "text": [
      "Best score: 0.711\n",
      "Best parameters set: {'gamma': 0.8, 'max_depth': 6}\n"
     ]
    },
    {
     "ename": "AttributeError",
     "evalue": "'GridSearchCV' object has no attribute 'grid_scores_'",
     "output_type": "error",
     "traceback": [
      "\u001b[0;31m---------------------------------------------------------------------------\u001b[0m",
      "\u001b[0;31mAttributeError\u001b[0m                            Traceback (most recent call last)",
      "\u001b[0;32m<ipython-input-6-8fbba20f6266>\u001b[0m in \u001b[0;36m<module>\u001b[0;34m\u001b[0m\n\u001b[1;32m      9\u001b[0m \u001b[0mprint\u001b[0m\u001b[0;34m(\u001b[0m\u001b[0;34m\"Best score: %0.3f\"\u001b[0m \u001b[0;34m%\u001b[0m \u001b[0moptimized_GBM\u001b[0m\u001b[0;34m.\u001b[0m\u001b[0mbest_score_\u001b[0m\u001b[0;34m)\u001b[0m\u001b[0;34m\u001b[0m\u001b[0;34m\u001b[0m\u001b[0m\n\u001b[1;32m     10\u001b[0m \u001b[0mprint\u001b[0m\u001b[0;34m(\u001b[0m\u001b[0;34m\"Best parameters set:\"\u001b[0m\u001b[0;34m,\u001b[0m \u001b[0moptimized_GBM\u001b[0m\u001b[0;34m.\u001b[0m\u001b[0mbest_params_\u001b[0m\u001b[0;34m)\u001b[0m\u001b[0;34m\u001b[0m\u001b[0;34m\u001b[0m\u001b[0m\n\u001b[0;32m---> 11\u001b[0;31m \u001b[0mprint\u001b[0m\u001b[0;34m(\u001b[0m\u001b[0;34m\"Scores:\"\u001b[0m\u001b[0;34m,\u001b[0m \u001b[0moptimized_GBM\u001b[0m\u001b[0;34m.\u001b[0m\u001b[0mgrid_scores_\u001b[0m\u001b[0;34m)\u001b[0m\u001b[0;34m\u001b[0m\u001b[0;34m\u001b[0m\u001b[0m\n\u001b[0m",
      "\u001b[0;31mAttributeError\u001b[0m: 'GridSearchCV' object has no attribute 'grid_scores_'"
     ]
    }
   ],
   "source": [
    "cv_params = {'max_depth': [4,6,8],\n",
    "             'gamma':[0.2,0.4,0.8,0.9]}\n",
    "other_params = {'learning_rate':0.05, 'min_child_weight':75,'n_estimators':400,'seed':1234,'subsample':0.78,'colsample_bytree':0.67,\n",
    "                'nthread': -1,'objective':'binary:logistic'}\n",
    "\n",
    "model = xgb.XGBClassifier(**other_params)\n",
    "optimized_GBM = GridSearchCV(estimator=model, param_grid=cv_params, scoring='roc_auc', cv=4, verbose=10, n_jobs=3)\n",
    "optimized_GBM.fit(x_train, y_train)\n",
    "print(\"Best score: %0.3f\" % optimized_GBM.best_score_)\n",
    "print(\"Best parameters set:\", optimized_GBM.best_params_)\n",
    "print(\"Scores:\", optimized_GBM.grid_scores_)"
   ]
  },
  {
   "cell_type": "code",
   "execution_count": 7,
   "metadata": {},
   "outputs": [
    {
     "name": "stdout",
     "output_type": "stream",
     "text": [
      "Fitting 4 folds for each of 4 candidates, totalling 16 fits\n"
     ]
    },
    {
     "name": "stderr",
     "output_type": "stream",
     "text": [
      "[Parallel(n_jobs=1)]: Using backend SequentialBackend with 1 concurrent workers.\n",
      "[Parallel(n_jobs=1)]: Done  16 out of  16 | elapsed: 105.6min finished\n"
     ]
    },
    {
     "name": "stdout",
     "output_type": "stream",
     "text": [
      "Best score: 0.710\n",
      "Best parameters set: {'learning_rate': 0.04}\n"
     ]
    }
   ],
   "source": [
    "cv_params = {'learning_rate':[0.02, 0.04, 0.06, 0.08]}\n",
    "other_params = {'n_estimators':400, 'max_depth':6, 'min_child_weight':75,'gamma':0.8,'seed':1234,'subsample':0.78,'colsample_bytree':0.67,\n",
    "                'nthread': -1, 'objective':'binary:logistic'}\n",
    "model = xgb.XGBClassifier(**other_params)\n",
    "optimized_GBM = GridSearchCV(estimator=model, param_grid=cv_params, scoring='roc_auc', cv=4, verbose=1, n_jobs=1)\n",
    "optimized_GBM.fit(x_train, y_train)\n",
    "print(\"Best score: %0.3f\" % optimized_GBM.best_score_)\n",
    "print(\"Best parameters set:\", optimized_GBM.best_params_)\n"
   ]
  },
  {
   "cell_type": "code",
   "execution_count": null,
   "metadata": {},
   "outputs": [],
   "source": [
    "cv_params = {'learning_rate':[0.02, 0.04, 0.06, 0.08]}\n",
    "other_params = {'n_estimators':400, 'max_depth':6, 'min_child_weight':75,'gamma':0.8,'seed':1234,'subsample':0.78,'colsample_bytree':0.67,\n",
    "                'nthread': -1, 'objective':'binary:logistic'}\n",
    "model = xgb.XGBClassifier(**other_params)\n",
    "optimized_GBM = GridSearchCV(estimator=model, param_grid=cv_params, scoring='roc_auc', cv=4, verbose=1, n_jobs=1)\n",
    "optimized_GBM.fit(x_train, y_train)\n",
    "print(\"Best score: %0.3f\" % optimized_GBM.best_score_)\n",
    "print(\"Best parameters set:\", optimized_GBM.best_params_)"
   ]
  },
  {
   "cell_type": "code",
   "execution_count": 8,
   "metadata": {},
   "outputs": [],
   "source": [
    "optimal_params = {'n_estimators':400, 'learning_rate': 0.04, 'max_depth':6, 'min_child_weight':75,'gamma':0.8,'seed':1234,'subsample':0.78,'colsample_bytree':0.67,\n",
    "                'nthread': -1, 'objective':'binary:logistic'}"
   ]
  },
  {
   "cell_type": "markdown",
   "metadata": {},
   "source": [
    "### Predict "
   ]
  },
  {
   "cell_type": "code",
   "execution_count": 67,
   "metadata": {},
   "outputs": [],
   "source": [
    "model_xgb = xgb.XGBClassifier(objective='binary:logistic',booster='gbtree',n_estimators=400, learning_rate= 0.04, \n",
    "                              max_depth=6, min_child_weight=75, gamma=0.8, seed=1234,\n",
    "                              subsample=0.78, colsample_bytree=0.67)"
   ]
  },
  {
   "cell_type": "code",
   "execution_count": 68,
   "metadata": {},
   "outputs": [
    {
     "data": {
      "text/plain": [
       "XGBClassifier(base_score=0.5, booster='gbtree', colsample_bylevel=1,\n",
       "       colsample_bytree=0.67, gamma=0.8, learning_rate=0.04,\n",
       "       max_delta_step=0, max_depth=6, min_child_weight=75, missing=None,\n",
       "       n_estimators=400, n_jobs=1, nthread=None,\n",
       "       objective='binary:logistic', random_state=0, reg_alpha=0,\n",
       "       reg_lambda=1, scale_pos_weight=1, seed=1234, silent=True,\n",
       "       subsample=0.78)"
      ]
     },
     "execution_count": 68,
     "metadata": {},
     "output_type": "execute_result"
    }
   ],
   "source": [
    "model_xgb.fit(x_train, y_train)"
   ]
  },
  {
   "cell_type": "code",
   "execution_count": 69,
   "metadata": {},
   "outputs": [
    {
     "data": {
      "text/plain": [
       "array([0, 0, 0, 0, 0])"
      ]
     },
     "execution_count": 69,
     "metadata": {},
     "output_type": "execute_result"
    }
   ],
   "source": [
    "y_pred = model_xgb.predict(x_test)\n",
    "y_pred[:5]"
   ]
  },
  {
   "cell_type": "code",
   "execution_count": 70,
   "metadata": {
    "scrolled": true
   },
   "outputs": [
    {
     "data": {
      "text/plain": [
       "array([[0.8402078 , 0.15979216],\n",
       "       [0.9026889 , 0.09731109],\n",
       "       [0.8228448 , 0.17715518],\n",
       "       [0.9291293 , 0.07087069],\n",
       "       [0.8672515 , 0.13274845]], dtype=float32)"
      ]
     },
     "execution_count": 70,
     "metadata": {},
     "output_type": "execute_result"
    }
   ],
   "source": [
    "y_pred_proba = model_xgb.predict_proba(x_test)\n",
    "y_pred_proba[:5]"
   ]
  },
  {
   "cell_type": "code",
   "execution_count": 123,
   "metadata": {},
   "outputs": [
    {
     "data": {
      "text/plain": [
       "array([0.15979216, 0.09731109, 0.17715518, 0.07087069, 0.13274845],\n",
       "      dtype=float32)"
      ]
     },
     "execution_count": 123,
     "metadata": {},
     "output_type": "execute_result"
    }
   ],
   "source": [
    "y_pred_proba[:5][:,1]"
   ]
  },
  {
   "cell_type": "code",
   "execution_count": 72,
   "metadata": {},
   "outputs": [],
   "source": [
    "from sklearn.metrics import roc_curve, auc"
   ]
  },
  {
   "cell_type": "code",
   "execution_count": 73,
   "metadata": {},
   "outputs": [
    {
     "data": {
      "text/plain": [
       "0.7202610465498235"
      ]
     },
     "execution_count": 73,
     "metadata": {},
     "output_type": "execute_result"
    }
   ],
   "source": [
    "fpr_test, tpr_test, thresholds_test = roc_curve(y_test, y_pred_proba[:,1])\n",
    "roc_auc_test = auc(fpr_test, tpr_test)\n",
    "roc_auc_test"
   ]
  },
  {
   "cell_type": "code",
   "execution_count": 74,
   "metadata": {},
   "outputs": [
    {
     "name": "stdout",
     "output_type": "stream",
     "text": [
      "AUC--train: 0.750\n",
      "AUC--test: 0.720\n"
     ]
    },
    {
     "data": {
      "text/plain": [
       "<matplotlib.legend.Legend at 0x1a3fec2f98>"
      ]
     },
     "execution_count": 74,
     "metadata": {},
     "output_type": "execute_result"
    },
    {
     "data": {
      "image/png": "[encoded data removed]",
      "text/plain": [
       "<Figure size 576x576 with 1 Axes>"
      ]
     },
     "metadata": {},
     "output_type": "display_data"
    }
   ],
   "source": [
    "y_train_proba = model_xgb.predict_proba(x_train)\n",
    "y_test_proba = model_xgb.predict_proba(x_test)\n",
    "fpr_train, tpr_train, thresholds_train = roc_curve(y_train, y_train_proba[:,1])\n",
    "fpr_test, tpr_test, thresholds_test = roc_curve(y_test, y_test_proba[:,1])\n",
    "roc_auc_train = auc(fpr_train, tpr_train)\n",
    "roc_auc_test = auc(fpr_test, tpr_test)\n",
    "print('AUC--train: %.3f' %roc_auc_train)\n",
    "print('AUC--test: %.3f' %roc_auc_test)\n",
    "#plot ROC curve\n",
    "plt.figure(figsize=(8,8))\n",
    "plt.plot(fpr_train, tpr_train,label='AUC--train: %.3f' %roc_auc_train, color='r')\n",
    "plt.plot(fpr_test, tpr_test,label='AUC--test: %.3f' %roc_auc_test, color='b')\n",
    "plt.plot([0,1],[0,1],'k--')#k: black\n",
    "plt.xlim([0.0,1.0])\n",
    "plt.ylim([0.0,1.0])\n",
    "plt.xlabel('False Positive Rate')\n",
    "plt.ylabel('True Positive Rate')\n",
    "plt.title('ROC for score model')\n",
    "plt.legend(loc='lower right')"
   ]
  },
  {
   "cell_type": "markdown",
   "metadata": {},
   "source": [
    "### Save model "
   ]
  },
  {
   "cell_type": "code",
   "execution_count": 124,
   "metadata": {},
   "outputs": [],
   "source": [
    "import pickle\n",
    "\n",
    "with open('model_xgb.pkl', 'wb') as outfile:\n",
    "    pickle.dump(model_xgb, outfile)"
   ]
  },
  {
   "cell_type": "markdown",
   "metadata": {},
   "source": [
    "### Save csv "
   ]
  },
  {
   "cell_type": "code",
   "execution_count": 75,
   "metadata": {},
   "outputs": [
    {
     "data": {
      "text/plain": [
       "array([0.03954922, 0.19568066, 0.12063516, ..., 0.23304221, 0.19181605,\n",
       "       0.16894276], dtype=float32)"
      ]
     },
     "execution_count": 75,
     "metadata": {},
     "output_type": "execute_result"
    }
   ],
   "source": [
    "y_train_proba[:,1]"
   ]
  },
  {
   "cell_type": "code",
   "execution_count": 76,
   "metadata": {},
   "outputs": [
    {
     "name": "stderr",
     "output_type": "stream",
     "text": [
      "/anaconda3/lib/python3.6/site-packages/ipykernel_launcher.py:2: SettingWithCopyWarning: \n",
      "A value is trying to be set on a copy of a slice from a DataFrame.\n",
      "Try using .loc[row_indexer,col_indexer] = value instead\n",
      "\n",
      "See the caveats in the documentation: http://pandas.pydata.org/pandas-docs/stable/indexing.html#indexing-view-versus-copy\n",
      "  \n",
      "/anaconda3/lib/python3.6/site-packages/ipykernel_launcher.py:4: SettingWithCopyWarning: \n",
      "A value is trying to be set on a copy of a slice from a DataFrame.\n",
      "Try using .loc[row_indexer,col_indexer] = value instead\n",
      "\n",
      "See the caveats in the documentation: http://pandas.pydata.org/pandas-docs/stable/indexing.html#indexing-view-versus-copy\n",
      "  after removing the cwd from sys.path.\n"
     ]
    },
    {
     "data": {
      "text/html": [
       "<div>\n",
       "<style scoped>\n",
       "    .dataframe tbody tr th:only-of-type {\n",
       "        vertical-align: middle;\n",
       "    }\n",
       "\n",
       "    .dataframe tbody tr th {\n",
       "        vertical-align: top;\n",
       "    }\n",
       "\n",
       "    .dataframe thead th {\n",
       "        text-align: right;\n",
       "    }\n",
       "</style>\n",
       "<table border=\"1\" class=\"dataframe\">\n",
       "  <thead>\n",
       "    <tr style=\"text-align: right;\">\n",
       "      <th></th>\n",
       "      <th>id</th>\n",
       "      <th>issued</th>\n",
       "      <th>intrate</th>\n",
       "      <th>grade</th>\n",
       "      <th>subgrade</th>\n",
       "      <th>loanstatus</th>\n",
       "      <th>defaultrate</th>\n",
       "    </tr>\n",
       "  </thead>\n",
       "  <tbody>\n",
       "    <tr>\n",
       "      <th>0</th>\n",
       "      <td>68355089</td>\n",
       "      <td>Dec-2015</td>\n",
       "      <td>11.99</td>\n",
       "      <td>3</td>\n",
       "      <td>11</td>\n",
       "      <td>0</td>\n",
       "      <td>0.159792</td>\n",
       "    </tr>\n",
       "    <tr>\n",
       "      <th>1</th>\n",
       "      <td>68407277</td>\n",
       "      <td>Dec-2015</td>\n",
       "      <td>13.99</td>\n",
       "      <td>3</td>\n",
       "      <td>14</td>\n",
       "      <td>0</td>\n",
       "      <td>0.097311</td>\n",
       "    </tr>\n",
       "    <tr>\n",
       "      <th>2</th>\n",
       "      <td>68426831</td>\n",
       "      <td>Dec-2015</td>\n",
       "      <td>13.44</td>\n",
       "      <td>3</td>\n",
       "      <td>13</td>\n",
       "      <td>0</td>\n",
       "      <td>0.177155</td>\n",
       "    </tr>\n",
       "    <tr>\n",
       "      <th>3</th>\n",
       "      <td>68476668</td>\n",
       "      <td>Dec-2015</td>\n",
       "      <td>9.17</td>\n",
       "      <td>2</td>\n",
       "      <td>7</td>\n",
       "      <td>0</td>\n",
       "      <td>0.070871</td>\n",
       "    </tr>\n",
       "    <tr>\n",
       "      <th>4</th>\n",
       "      <td>68338832</td>\n",
       "      <td>Dec-2015</td>\n",
       "      <td>12.88</td>\n",
       "      <td>3</td>\n",
       "      <td>12</td>\n",
       "      <td>0</td>\n",
       "      <td>0.132748</td>\n",
       "    </tr>\n",
       "  </tbody>\n",
       "</table>\n",
       "</div>"
      ],
      "text/plain": [
       "         id    issued  intrate  grade  subgrade  loanstatus  defaultrate\n",
       "0  68355089  Dec-2015    11.99      3        11           0     0.159792\n",
       "1  68407277  Dec-2015    13.99      3        14           0     0.097311\n",
       "2  68426831  Dec-2015    13.44      3        13           0     0.177155\n",
       "3  68476668  Dec-2015     9.17      2         7           0     0.070871\n",
       "4  68338832  Dec-2015    12.88      3        12           0     0.132748"
      ]
     },
     "execution_count": 76,
     "metadata": {},
     "output_type": "execute_result"
    }
   ],
   "source": [
    "loan_2015_train = df_train[['id','issued','intrate','grade','subgrade','loanstatus']]\n",
    "loan_2015_train['defaultrate'] = y_train_proba[:,1]\n",
    "loan_2015_test = df_test[['id','issued','intrate','grade','subgrade','loanstatus']]\n",
    "loan_2015_test['defaultrate'] = y_test_proba[:,1]\n",
    "loan_2015_test[:5]"
   ]
  },
  {
   "cell_type": "code",
   "execution_count": 77,
   "metadata": {},
   "outputs": [
    {
     "data": {
      "text/plain": [
       "((252828, 7), (30337, 7))"
      ]
     },
     "execution_count": 77,
     "metadata": {},
     "output_type": "execute_result"
    }
   ],
   "source": [
    "loan_2015_train.shape, loan_2015_test.shape"
   ]
  },
  {
   "cell_type": "code",
   "execution_count": 78,
   "metadata": {},
   "outputs": [
    {
     "data": {
      "text/plain": [
       "(283165, 7)"
      ]
     },
     "execution_count": 78,
     "metadata": {},
     "output_type": "execute_result"
    }
   ],
   "source": [
    "loan_2015_pred = pd.concat([loan_2015_train, loan_2015_test], axis=0)\n",
    "loan_2015_pred.shape"
   ]
  },
  {
   "cell_type": "code",
   "execution_count": 88,
   "metadata": {},
   "outputs": [],
   "source": [
    "loan_2015_pred.to_csv('loan_2015_pred.csv',index=False)"
   ]
  },
  {
   "cell_type": "code",
   "execution_count": 79,
   "metadata": {},
   "outputs": [
    {
     "data": {
      "text/plain": [
       "(0.7107938, 0.005655391)"
      ]
     },
     "execution_count": 79,
     "metadata": {},
     "output_type": "execute_result"
    }
   ],
   "source": [
    "loan_2015_pred.defaultrate.max(),loan_2015_pred.defaultrate.min()"
   ]
  },
  {
   "cell_type": "code",
   "execution_count": 91,
   "metadata": {},
   "outputs": [
    {
     "data": {
      "text/plain": [
       "893"
      ]
     },
     "execution_count": 91,
     "metadata": {},
     "output_type": "execute_result"
    }
   ],
   "source": [
    "len(loan_2015_pred.query('defaultrate>0.5'))"
   ]
  },
  {
   "cell_type": "code",
   "execution_count": 80,
   "metadata": {},
   "outputs": [
    {
     "data": {
      "text/plain": [
       "(28.99, 5.32)"
      ]
     },
     "execution_count": 80,
     "metadata": {},
     "output_type": "execute_result"
    }
   ],
   "source": [
    "loan_2015_pred.intrate.max(),loan_2015_pred.intrate.min()"
   ]
  },
  {
   "cell_type": "code",
   "execution_count": 89,
   "metadata": {
    "scrolled": true
   },
   "outputs": [
    {
     "data": {
      "text/html": [
       "<div>\n",
       "<style scoped>\n",
       "    .dataframe tbody tr th:only-of-type {\n",
       "        vertical-align: middle;\n",
       "    }\n",
       "\n",
       "    .dataframe tbody tr th {\n",
       "        vertical-align: top;\n",
       "    }\n",
       "\n",
       "    .dataframe thead th {\n",
       "        text-align: right;\n",
       "    }\n",
       "</style>\n",
       "<table border=\"1\" class=\"dataframe\">\n",
       "  <thead>\n",
       "    <tr style=\"text-align: right;\">\n",
       "      <th></th>\n",
       "      <th>id</th>\n",
       "      <th>issued</th>\n",
       "      <th>intrate</th>\n",
       "      <th>grade</th>\n",
       "      <th>subgrade</th>\n",
       "      <th>loanstatus</th>\n",
       "      <th>defaultrate</th>\n",
       "    </tr>\n",
       "  </thead>\n",
       "  <tbody>\n",
       "    <tr>\n",
       "      <th>29158</th>\n",
       "      <td>65607855</td>\n",
       "      <td>Nov-2015</td>\n",
       "      <td>15.41</td>\n",
       "      <td>4</td>\n",
       "      <td>16</td>\n",
       "      <td>0</td>\n",
       "      <td>0.079372</td>\n",
       "    </tr>\n",
       "    <tr>\n",
       "      <th>29872</th>\n",
       "      <td>65677132</td>\n",
       "      <td>Nov-2015</td>\n",
       "      <td>15.41</td>\n",
       "      <td>4</td>\n",
       "      <td>16</td>\n",
       "      <td>0</td>\n",
       "      <td>0.064618</td>\n",
       "    </tr>\n",
       "    <tr>\n",
       "      <th>30394</th>\n",
       "      <td>65606977</td>\n",
       "      <td>Nov-2015</td>\n",
       "      <td>16.99</td>\n",
       "      <td>4</td>\n",
       "      <td>18</td>\n",
       "      <td>0</td>\n",
       "      <td>0.070190</td>\n",
       "    </tr>\n",
       "    <tr>\n",
       "      <th>45152</th>\n",
       "      <td>65037274</td>\n",
       "      <td>Nov-2015</td>\n",
       "      <td>16.99</td>\n",
       "      <td>4</td>\n",
       "      <td>18</td>\n",
       "      <td>0</td>\n",
       "      <td>0.066461</td>\n",
       "    </tr>\n",
       "    <tr>\n",
       "      <th>51477</th>\n",
       "      <td>64087878</td>\n",
       "      <td>Nov-2015</td>\n",
       "      <td>16.55</td>\n",
       "      <td>4</td>\n",
       "      <td>17</td>\n",
       "      <td>0</td>\n",
       "      <td>0.068431</td>\n",
       "    </tr>\n",
       "    <tr>\n",
       "      <th>59207</th>\n",
       "      <td>63507203</td>\n",
       "      <td>Oct-2015</td>\n",
       "      <td>17.86</td>\n",
       "      <td>4</td>\n",
       "      <td>20</td>\n",
       "      <td>0</td>\n",
       "      <td>0.071886</td>\n",
       "    </tr>\n",
       "    <tr>\n",
       "      <th>62762</th>\n",
       "      <td>63404863</td>\n",
       "      <td>Oct-2015</td>\n",
       "      <td>15.61</td>\n",
       "      <td>4</td>\n",
       "      <td>16</td>\n",
       "      <td>0</td>\n",
       "      <td>0.056698</td>\n",
       "    </tr>\n",
       "    <tr>\n",
       "      <th>63216</th>\n",
       "      <td>63394810</td>\n",
       "      <td>Oct-2015</td>\n",
       "      <td>15.61</td>\n",
       "      <td>4</td>\n",
       "      <td>16</td>\n",
       "      <td>0</td>\n",
       "      <td>0.077363</td>\n",
       "    </tr>\n",
       "    <tr>\n",
       "      <th>67143</th>\n",
       "      <td>62589633</td>\n",
       "      <td>Nov-2015</td>\n",
       "      <td>16.55</td>\n",
       "      <td>4</td>\n",
       "      <td>17</td>\n",
       "      <td>0</td>\n",
       "      <td>0.071489</td>\n",
       "    </tr>\n",
       "    <tr>\n",
       "      <th>68006</th>\n",
       "      <td>62126922</td>\n",
       "      <td>Oct-2015</td>\n",
       "      <td>15.61</td>\n",
       "      <td>4</td>\n",
       "      <td>16</td>\n",
       "      <td>0</td>\n",
       "      <td>0.072998</td>\n",
       "    </tr>\n",
       "    <tr>\n",
       "      <th>68710</th>\n",
       "      <td>62207125</td>\n",
       "      <td>Oct-2015</td>\n",
       "      <td>15.61</td>\n",
       "      <td>4</td>\n",
       "      <td>16</td>\n",
       "      <td>0</td>\n",
       "      <td>0.072118</td>\n",
       "    </tr>\n",
       "    <tr>\n",
       "      <th>71128</th>\n",
       "      <td>62115475</td>\n",
       "      <td>Oct-2015</td>\n",
       "      <td>15.61</td>\n",
       "      <td>4</td>\n",
       "      <td>16</td>\n",
       "      <td>0</td>\n",
       "      <td>0.077325</td>\n",
       "    </tr>\n",
       "    <tr>\n",
       "      <th>71579</th>\n",
       "      <td>62105271</td>\n",
       "      <td>Oct-2015</td>\n",
       "      <td>15.61</td>\n",
       "      <td>4</td>\n",
       "      <td>16</td>\n",
       "      <td>0</td>\n",
       "      <td>0.068638</td>\n",
       "    </tr>\n",
       "    <tr>\n",
       "      <th>76029</th>\n",
       "      <td>61553478</td>\n",
       "      <td>Oct-2015</td>\n",
       "      <td>15.61</td>\n",
       "      <td>4</td>\n",
       "      <td>16</td>\n",
       "      <td>0</td>\n",
       "      <td>0.075427</td>\n",
       "    </tr>\n",
       "    <tr>\n",
       "      <th>76219</th>\n",
       "      <td>61443092</td>\n",
       "      <td>Oct-2015</td>\n",
       "      <td>15.61</td>\n",
       "      <td>4</td>\n",
       "      <td>16</td>\n",
       "      <td>0</td>\n",
       "      <td>0.060744</td>\n",
       "    </tr>\n",
       "    <tr>\n",
       "      <th>77994</th>\n",
       "      <td>61422649</td>\n",
       "      <td>Oct-2015</td>\n",
       "      <td>19.19</td>\n",
       "      <td>5</td>\n",
       "      <td>23</td>\n",
       "      <td>0</td>\n",
       "      <td>0.074791</td>\n",
       "    </tr>\n",
       "    <tr>\n",
       "      <th>85105</th>\n",
       "      <td>60904856</td>\n",
       "      <td>Oct-2015</td>\n",
       "      <td>15.61</td>\n",
       "      <td>4</td>\n",
       "      <td>16</td>\n",
       "      <td>0</td>\n",
       "      <td>0.075951</td>\n",
       "    </tr>\n",
       "    <tr>\n",
       "      <th>92885</th>\n",
       "      <td>60647581</td>\n",
       "      <td>Sep-2015</td>\n",
       "      <td>16.55</td>\n",
       "      <td>4</td>\n",
       "      <td>17</td>\n",
       "      <td>0</td>\n",
       "      <td>0.078592</td>\n",
       "    </tr>\n",
       "    <tr>\n",
       "      <th>94532</th>\n",
       "      <td>60565913</td>\n",
       "      <td>Sep-2015</td>\n",
       "      <td>16.55</td>\n",
       "      <td>4</td>\n",
       "      <td>17</td>\n",
       "      <td>0</td>\n",
       "      <td>0.077027</td>\n",
       "    </tr>\n",
       "    <tr>\n",
       "      <th>98171</th>\n",
       "      <td>60235614</td>\n",
       "      <td>Sep-2015</td>\n",
       "      <td>15.61</td>\n",
       "      <td>4</td>\n",
       "      <td>16</td>\n",
       "      <td>0</td>\n",
       "      <td>0.074794</td>\n",
       "    </tr>\n",
       "    <tr>\n",
       "      <th>100253</th>\n",
       "      <td>59749481</td>\n",
       "      <td>Sep-2015</td>\n",
       "      <td>16.55</td>\n",
       "      <td>4</td>\n",
       "      <td>17</td>\n",
       "      <td>0</td>\n",
       "      <td>0.073994</td>\n",
       "    </tr>\n",
       "    <tr>\n",
       "      <th>100836</th>\n",
       "      <td>59603031</td>\n",
       "      <td>Sep-2015</td>\n",
       "      <td>17.57</td>\n",
       "      <td>4</td>\n",
       "      <td>19</td>\n",
       "      <td>0</td>\n",
       "      <td>0.075287</td>\n",
       "    </tr>\n",
       "    <tr>\n",
       "      <th>106238</th>\n",
       "      <td>58752195</td>\n",
       "      <td>Sep-2015</td>\n",
       "      <td>15.61</td>\n",
       "      <td>4</td>\n",
       "      <td>16</td>\n",
       "      <td>0</td>\n",
       "      <td>0.056142</td>\n",
       "    </tr>\n",
       "    <tr>\n",
       "      <th>115224</th>\n",
       "      <td>58350159</td>\n",
       "      <td>Aug-2015</td>\n",
       "      <td>18.25</td>\n",
       "      <td>5</td>\n",
       "      <td>21</td>\n",
       "      <td>0</td>\n",
       "      <td>0.076315</td>\n",
       "    </tr>\n",
       "    <tr>\n",
       "      <th>117268</th>\n",
       "      <td>57794752</td>\n",
       "      <td>Aug-2015</td>\n",
       "      <td>16.55</td>\n",
       "      <td>4</td>\n",
       "      <td>17</td>\n",
       "      <td>0</td>\n",
       "      <td>0.057514</td>\n",
       "    </tr>\n",
       "    <tr>\n",
       "      <th>122380</th>\n",
       "      <td>57196795</td>\n",
       "      <td>Aug-2015</td>\n",
       "      <td>17.57</td>\n",
       "      <td>4</td>\n",
       "      <td>19</td>\n",
       "      <td>0</td>\n",
       "      <td>0.079510</td>\n",
       "    </tr>\n",
       "    <tr>\n",
       "      <th>122497</th>\n",
       "      <td>55970409</td>\n",
       "      <td>Aug-2015</td>\n",
       "      <td>6.00</td>\n",
       "      <td>5</td>\n",
       "      <td>21</td>\n",
       "      <td>0</td>\n",
       "      <td>0.039163</td>\n",
       "    </tr>\n",
       "    <tr>\n",
       "      <th>122955</th>\n",
       "      <td>57166890</td>\n",
       "      <td>Aug-2015</td>\n",
       "      <td>16.55</td>\n",
       "      <td>4</td>\n",
       "      <td>17</td>\n",
       "      <td>0</td>\n",
       "      <td>0.074019</td>\n",
       "    </tr>\n",
       "    <tr>\n",
       "      <th>127138</th>\n",
       "      <td>57025304</td>\n",
       "      <td>Jul-2015</td>\n",
       "      <td>15.61</td>\n",
       "      <td>4</td>\n",
       "      <td>16</td>\n",
       "      <td>0</td>\n",
       "      <td>0.077803</td>\n",
       "    </tr>\n",
       "    <tr>\n",
       "      <th>128065</th>\n",
       "      <td>57004634</td>\n",
       "      <td>Jul-2015</td>\n",
       "      <td>17.57</td>\n",
       "      <td>4</td>\n",
       "      <td>19</td>\n",
       "      <td>0</td>\n",
       "      <td>0.067559</td>\n",
       "    </tr>\n",
       "    <tr>\n",
       "      <th>...</th>\n",
       "      <td>...</td>\n",
       "      <td>...</td>\n",
       "      <td>...</td>\n",
       "      <td>...</td>\n",
       "      <td>...</td>\n",
       "      <td>...</td>\n",
       "      <td>...</td>\n",
       "    </tr>\n",
       "    <tr>\n",
       "      <th>181850</th>\n",
       "      <td>50204328</td>\n",
       "      <td>May-2015</td>\n",
       "      <td>16.55</td>\n",
       "      <td>4</td>\n",
       "      <td>17</td>\n",
       "      <td>0</td>\n",
       "      <td>0.067217</td>\n",
       "    </tr>\n",
       "    <tr>\n",
       "      <th>183981</th>\n",
       "      <td>50084238</td>\n",
       "      <td>May-2015</td>\n",
       "      <td>15.61</td>\n",
       "      <td>4</td>\n",
       "      <td>16</td>\n",
       "      <td>0</td>\n",
       "      <td>0.079022</td>\n",
       "    </tr>\n",
       "    <tr>\n",
       "      <th>197273</th>\n",
       "      <td>48080571</td>\n",
       "      <td>May-2015</td>\n",
       "      <td>16.55</td>\n",
       "      <td>4</td>\n",
       "      <td>17</td>\n",
       "      <td>0</td>\n",
       "      <td>0.067307</td>\n",
       "    </tr>\n",
       "    <tr>\n",
       "      <th>202541</th>\n",
       "      <td>45172240</td>\n",
       "      <td>Apr-2015</td>\n",
       "      <td>15.61</td>\n",
       "      <td>4</td>\n",
       "      <td>16</td>\n",
       "      <td>0</td>\n",
       "      <td>0.073288</td>\n",
       "    </tr>\n",
       "    <tr>\n",
       "      <th>207750</th>\n",
       "      <td>46772762</td>\n",
       "      <td>Apr-2015</td>\n",
       "      <td>16.55</td>\n",
       "      <td>4</td>\n",
       "      <td>17</td>\n",
       "      <td>0</td>\n",
       "      <td>0.077038</td>\n",
       "    </tr>\n",
       "    <tr>\n",
       "      <th>209972</th>\n",
       "      <td>46448109</td>\n",
       "      <td>Apr-2015</td>\n",
       "      <td>16.99</td>\n",
       "      <td>4</td>\n",
       "      <td>18</td>\n",
       "      <td>0</td>\n",
       "      <td>0.078672</td>\n",
       "    </tr>\n",
       "    <tr>\n",
       "      <th>218401</th>\n",
       "      <td>45222192</td>\n",
       "      <td>Apr-2015</td>\n",
       "      <td>17.86</td>\n",
       "      <td>4</td>\n",
       "      <td>20</td>\n",
       "      <td>0</td>\n",
       "      <td>0.063209</td>\n",
       "    </tr>\n",
       "    <tr>\n",
       "      <th>226887</th>\n",
       "      <td>43985444</td>\n",
       "      <td>Mar-2015</td>\n",
       "      <td>16.99</td>\n",
       "      <td>4</td>\n",
       "      <td>18</td>\n",
       "      <td>0</td>\n",
       "      <td>0.062958</td>\n",
       "    </tr>\n",
       "    <tr>\n",
       "      <th>227105</th>\n",
       "      <td>43995151</td>\n",
       "      <td>Mar-2015</td>\n",
       "      <td>15.61</td>\n",
       "      <td>4</td>\n",
       "      <td>16</td>\n",
       "      <td>0</td>\n",
       "      <td>0.074443</td>\n",
       "    </tr>\n",
       "    <tr>\n",
       "      <th>228195</th>\n",
       "      <td>43660447</td>\n",
       "      <td>Apr-2015</td>\n",
       "      <td>6.00</td>\n",
       "      <td>4</td>\n",
       "      <td>18</td>\n",
       "      <td>0</td>\n",
       "      <td>0.076584</td>\n",
       "    </tr>\n",
       "    <tr>\n",
       "      <th>236975</th>\n",
       "      <td>42275134</td>\n",
       "      <td>Mar-2015</td>\n",
       "      <td>16.99</td>\n",
       "      <td>4</td>\n",
       "      <td>18</td>\n",
       "      <td>0</td>\n",
       "      <td>0.072624</td>\n",
       "    </tr>\n",
       "    <tr>\n",
       "      <th>238276</th>\n",
       "      <td>42344701</td>\n",
       "      <td>Mar-2015</td>\n",
       "      <td>16.99</td>\n",
       "      <td>4</td>\n",
       "      <td>18</td>\n",
       "      <td>0</td>\n",
       "      <td>0.077219</td>\n",
       "    </tr>\n",
       "    <tr>\n",
       "      <th>248373</th>\n",
       "      <td>41051860</td>\n",
       "      <td>Mar-2015</td>\n",
       "      <td>15.61</td>\n",
       "      <td>4</td>\n",
       "      <td>16</td>\n",
       "      <td>0</td>\n",
       "      <td>0.075924</td>\n",
       "    </tr>\n",
       "    <tr>\n",
       "      <th>251427</th>\n",
       "      <td>41019822</td>\n",
       "      <td>Feb-2015</td>\n",
       "      <td>16.55</td>\n",
       "      <td>4</td>\n",
       "      <td>17</td>\n",
       "      <td>0</td>\n",
       "      <td>0.068579</td>\n",
       "    </tr>\n",
       "    <tr>\n",
       "      <th>253957</th>\n",
       "      <td>40038894</td>\n",
       "      <td>Feb-2015</td>\n",
       "      <td>15.59</td>\n",
       "      <td>4</td>\n",
       "      <td>16</td>\n",
       "      <td>0</td>\n",
       "      <td>0.078981</td>\n",
       "    </tr>\n",
       "    <tr>\n",
       "      <th>270515</th>\n",
       "      <td>39198354</td>\n",
       "      <td>Jan-2015</td>\n",
       "      <td>15.99</td>\n",
       "      <td>4</td>\n",
       "      <td>17</td>\n",
       "      <td>0</td>\n",
       "      <td>0.067629</td>\n",
       "    </tr>\n",
       "    <tr>\n",
       "      <th>275265</th>\n",
       "      <td>38497750</td>\n",
       "      <td>Jan-2015</td>\n",
       "      <td>15.59</td>\n",
       "      <td>4</td>\n",
       "      <td>16</td>\n",
       "      <td>0</td>\n",
       "      <td>0.061944</td>\n",
       "    </tr>\n",
       "    <tr>\n",
       "      <th>279733</th>\n",
       "      <td>38321934</td>\n",
       "      <td>Jan-2015</td>\n",
       "      <td>15.59</td>\n",
       "      <td>4</td>\n",
       "      <td>16</td>\n",
       "      <td>0</td>\n",
       "      <td>0.075209</td>\n",
       "    </tr>\n",
       "    <tr>\n",
       "      <th>280216</th>\n",
       "      <td>38222527</td>\n",
       "      <td>Jan-2015</td>\n",
       "      <td>16.49</td>\n",
       "      <td>4</td>\n",
       "      <td>18</td>\n",
       "      <td>0</td>\n",
       "      <td>0.067420</td>\n",
       "    </tr>\n",
       "    <tr>\n",
       "      <th>281537</th>\n",
       "      <td>38048602</td>\n",
       "      <td>Jan-2015</td>\n",
       "      <td>16.49</td>\n",
       "      <td>4</td>\n",
       "      <td>18</td>\n",
       "      <td>0</td>\n",
       "      <td>0.053418</td>\n",
       "    </tr>\n",
       "    <tr>\n",
       "      <th>4017</th>\n",
       "      <td>68323278</td>\n",
       "      <td>Dec-2015</td>\n",
       "      <td>15.77</td>\n",
       "      <td>4</td>\n",
       "      <td>16</td>\n",
       "      <td>0</td>\n",
       "      <td>0.077498</td>\n",
       "    </tr>\n",
       "    <tr>\n",
       "      <th>6275</th>\n",
       "      <td>67545814</td>\n",
       "      <td>Dec-2015</td>\n",
       "      <td>15.41</td>\n",
       "      <td>4</td>\n",
       "      <td>16</td>\n",
       "      <td>0</td>\n",
       "      <td>0.069264</td>\n",
       "    </tr>\n",
       "    <tr>\n",
       "      <th>7640</th>\n",
       "      <td>67868284</td>\n",
       "      <td>Dec-2015</td>\n",
       "      <td>15.41</td>\n",
       "      <td>4</td>\n",
       "      <td>16</td>\n",
       "      <td>0</td>\n",
       "      <td>0.079838</td>\n",
       "    </tr>\n",
       "    <tr>\n",
       "      <th>8999</th>\n",
       "      <td>67625287</td>\n",
       "      <td>Dec-2015</td>\n",
       "      <td>16.55</td>\n",
       "      <td>4</td>\n",
       "      <td>17</td>\n",
       "      <td>0</td>\n",
       "      <td>0.063920</td>\n",
       "    </tr>\n",
       "    <tr>\n",
       "      <th>11830</th>\n",
       "      <td>67276309</td>\n",
       "      <td>Dec-2015</td>\n",
       "      <td>16.55</td>\n",
       "      <td>4</td>\n",
       "      <td>17</td>\n",
       "      <td>0</td>\n",
       "      <td>0.064999</td>\n",
       "    </tr>\n",
       "    <tr>\n",
       "      <th>11934</th>\n",
       "      <td>67337599</td>\n",
       "      <td>Dec-2015</td>\n",
       "      <td>15.41</td>\n",
       "      <td>4</td>\n",
       "      <td>16</td>\n",
       "      <td>0</td>\n",
       "      <td>0.067488</td>\n",
       "    </tr>\n",
       "    <tr>\n",
       "      <th>11960</th>\n",
       "      <td>66666545</td>\n",
       "      <td>Dec-2015</td>\n",
       "      <td>15.41</td>\n",
       "      <td>4</td>\n",
       "      <td>16</td>\n",
       "      <td>0</td>\n",
       "      <td>0.073174</td>\n",
       "    </tr>\n",
       "    <tr>\n",
       "      <th>19570</th>\n",
       "      <td>66633034</td>\n",
       "      <td>Dec-2015</td>\n",
       "      <td>16.55</td>\n",
       "      <td>4</td>\n",
       "      <td>17</td>\n",
       "      <td>0</td>\n",
       "      <td>0.078049</td>\n",
       "    </tr>\n",
       "    <tr>\n",
       "      <th>21821</th>\n",
       "      <td>66621390</td>\n",
       "      <td>Dec-2015</td>\n",
       "      <td>16.99</td>\n",
       "      <td>4</td>\n",
       "      <td>18</td>\n",
       "      <td>0</td>\n",
       "      <td>0.065194</td>\n",
       "    </tr>\n",
       "    <tr>\n",
       "      <th>22270</th>\n",
       "      <td>66421173</td>\n",
       "      <td>Dec-2015</td>\n",
       "      <td>16.99</td>\n",
       "      <td>4</td>\n",
       "      <td>18</td>\n",
       "      <td>1</td>\n",
       "      <td>0.060318</td>\n",
       "    </tr>\n",
       "  </tbody>\n",
       "</table>\n",
       "<p>77 rows × 7 columns</p>\n",
       "</div>"
      ],
      "text/plain": [
       "              id    issued  intrate  grade  subgrade  loanstatus  defaultrate\n",
       "29158   65607855  Nov-2015    15.41      4        16           0     0.079372\n",
       "29872   65677132  Nov-2015    15.41      4        16           0     0.064618\n",
       "30394   65606977  Nov-2015    16.99      4        18           0     0.070190\n",
       "45152   65037274  Nov-2015    16.99      4        18           0     0.066461\n",
       "51477   64087878  Nov-2015    16.55      4        17           0     0.068431\n",
       "59207   63507203  Oct-2015    17.86      4        20           0     0.071886\n",
       "62762   63404863  Oct-2015    15.61      4        16           0     0.056698\n",
       "63216   63394810  Oct-2015    15.61      4        16           0     0.077363\n",
       "67143   62589633  Nov-2015    16.55      4        17           0     0.071489\n",
       "68006   62126922  Oct-2015    15.61      4        16           0     0.072998\n",
       "68710   62207125  Oct-2015    15.61      4        16           0     0.072118\n",
       "71128   62115475  Oct-2015    15.61      4        16           0     0.077325\n",
       "71579   62105271  Oct-2015    15.61      4        16           0     0.068638\n",
       "76029   61553478  Oct-2015    15.61      4        16           0     0.075427\n",
       "76219   61443092  Oct-2015    15.61      4        16           0     0.060744\n",
       "77994   61422649  Oct-2015    19.19      5        23           0     0.074791\n",
       "85105   60904856  Oct-2015    15.61      4        16           0     0.075951\n",
       "92885   60647581  Sep-2015    16.55      4        17           0     0.078592\n",
       "94532   60565913  Sep-2015    16.55      4        17           0     0.077027\n",
       "98171   60235614  Sep-2015    15.61      4        16           0     0.074794\n",
       "100253  59749481  Sep-2015    16.55      4        17           0     0.073994\n",
       "100836  59603031  Sep-2015    17.57      4        19           0     0.075287\n",
       "106238  58752195  Sep-2015    15.61      4        16           0     0.056142\n",
       "115224  58350159  Aug-2015    18.25      5        21           0     0.076315\n",
       "117268  57794752  Aug-2015    16.55      4        17           0     0.057514\n",
       "122380  57196795  Aug-2015    17.57      4        19           0     0.079510\n",
       "122497  55970409  Aug-2015     6.00      5        21           0     0.039163\n",
       "122955  57166890  Aug-2015    16.55      4        17           0     0.074019\n",
       "127138  57025304  Jul-2015    15.61      4        16           0     0.077803\n",
       "128065  57004634  Jul-2015    17.57      4        19           0     0.067559\n",
       "...          ...       ...      ...    ...       ...         ...          ...\n",
       "181850  50204328  May-2015    16.55      4        17           0     0.067217\n",
       "183981  50084238  May-2015    15.61      4        16           0     0.079022\n",
       "197273  48080571  May-2015    16.55      4        17           0     0.067307\n",
       "202541  45172240  Apr-2015    15.61      4        16           0     0.073288\n",
       "207750  46772762  Apr-2015    16.55      4        17           0     0.077038\n",
       "209972  46448109  Apr-2015    16.99      4        18           0     0.078672\n",
       "218401  45222192  Apr-2015    17.86      4        20           0     0.063209\n",
       "226887  43985444  Mar-2015    16.99      4        18           0     0.062958\n",
       "227105  43995151  Mar-2015    15.61      4        16           0     0.074443\n",
       "228195  43660447  Apr-2015     6.00      4        18           0     0.076584\n",
       "236975  42275134  Mar-2015    16.99      4        18           0     0.072624\n",
       "238276  42344701  Mar-2015    16.99      4        18           0     0.077219\n",
       "248373  41051860  Mar-2015    15.61      4        16           0     0.075924\n",
       "251427  41019822  Feb-2015    16.55      4        17           0     0.068579\n",
       "253957  40038894  Feb-2015    15.59      4        16           0     0.078981\n",
       "270515  39198354  Jan-2015    15.99      4        17           0     0.067629\n",
       "275265  38497750  Jan-2015    15.59      4        16           0     0.061944\n",
       "279733  38321934  Jan-2015    15.59      4        16           0     0.075209\n",
       "280216  38222527  Jan-2015    16.49      4        18           0     0.067420\n",
       "281537  38048602  Jan-2015    16.49      4        18           0     0.053418\n",
       "4017    68323278  Dec-2015    15.77      4        16           0     0.077498\n",
       "6275    67545814  Dec-2015    15.41      4        16           0     0.069264\n",
       "7640    67868284  Dec-2015    15.41      4        16           0     0.079838\n",
       "8999    67625287  Dec-2015    16.55      4        17           0     0.063920\n",
       "11830   67276309  Dec-2015    16.55      4        17           0     0.064999\n",
       "11934   67337599  Dec-2015    15.41      4        16           0     0.067488\n",
       "11960   66666545  Dec-2015    15.41      4        16           0     0.073174\n",
       "19570   66633034  Dec-2015    16.55      4        17           0     0.078049\n",
       "21821   66621390  Dec-2015    16.99      4        18           0     0.065194\n",
       "22270   66421173  Dec-2015    16.99      4        18           1     0.060318\n",
       "\n",
       "[77 rows x 7 columns]"
      ]
     },
     "execution_count": 89,
     "metadata": {},
     "output_type": "execute_result"
    }
   ],
   "source": [
    "loan_2015_pred.query('defaultrate<=0.08 and grade>3')"
   ]
  },
  {
   "cell_type": "code",
   "execution_count": 107,
   "metadata": {},
   "outputs": [
    {
     "data": {
      "text/plain": [
       "dict_items([('intrate', 478), ('grade', 54), ('numactvrevtl', 110), ('totalrevhilim', 333), ('accopenpast24mths', 433), ('homeownership_RENT', 114), ('numrevaccts', 144), ('numactvbctl', 114), ('avgcurbal', 391), ('emplength', 301), ('annualinc', 383), ('emptitle_freq', 494), ('mosinoldrevtlop', 365), ('mthssincerecentbc', 355), ('bcutil', 335), ('revolbal', 321), ('tothicredlim', 345), ('loanamnt', 333), ('installment', 458), ('subgrade', 141), ('numrevtlbalgt0', 150), ('mthssincelastrecord', 228), ('dti', 690), ('totcurbal', 265), ('bcopentobuy', 378), ('revolutil', 263), ('mthssincerecentinq', 299), ('addrstate_freq', 206), ('mortacc', 137), ('zipcode_freq', 294), ('ficorangelow', 101), ('mosinoldilacct', 347), ('numbcsats', 132), ('earliestcrline_month', 339), ('mthssincelastmajorderog', 174), ('zipcode', 504), ('verificationstatus_Not Verified', 20), ('numsats', 66), ('ficorangehigh', 230), ('numbctl', 197), ('numtloppast12m', 79), ('totalbclimit', 305), ('purpose_debt_consolidation', 32), ('verificationstatus_Verified', 25), ('totalilhighcreditlimit', 278), ('mosinrcntrevtlop', 185), ('totalbalexmort', 220), ('pcttlnvrdlq', 164), ('numoprevtl', 87), ('initialliststatus_w', 13), ('percentbcgt75', 164), ('inqlast6mths', 81), ('homeownership_MORTGAGE', 82), ('mthssincelastdelinq', 276), ('pubrec', 5), ('numiltl', 118), ('openacc', 70), ('mosinrcnttl', 154), ('mthssincerecentbcdlq', 149), ('totalacc', 124), ('totcollamt', 56), ('verificationstatus_Source Verified', 35), ('mthssincerecentrevoldelinq', 109), ('pubrecbankruptcies', 14), ('delinq2yrs', 48), ('initialliststatus_f', 18), ('numacctsever120pd', 19), ('purpose_credit_card', 6), ('collections12mthsexmed', 24), ('purpose_other', 5), ('numtl120dpd2m', 9), ('numtl90gdpd24m', 3), ('taxliens', 4), ('purpose_home_improvement', 8), ('purpose_small_business', 7), ('homeownership_OWN', 10), ('purpose_medical', 5), ('purpose_house', 2), ('purpose_moving', 4), ('purpose_car', 1)])"
      ]
     },
     "execution_count": 107,
     "metadata": {},
     "output_type": "execute_result"
    }
   ],
   "source": [
    "fscore = model_xgb.get_booster().get_fscore()\n",
    "fscore.items()                "
   ]
  },
  {
   "cell_type": "code",
   "execution_count": 105,
   "metadata": {
    "scrolled": true
   },
   "outputs": [
    {
     "data": {
      "text/plain": [
       "intrate                               478\n",
       "grade                                  54\n",
       "numactvrevtl                          110\n",
       "totalrevhilim                         333\n",
       "accopenpast24mths                     433\n",
       "homeownership_RENT                    114\n",
       "numrevaccts                           144\n",
       "numactvbctl                           114\n",
       "avgcurbal                             391\n",
       "emplength                             301\n",
       "annualinc                             383\n",
       "emptitle_freq                         494\n",
       "mosinoldrevtlop                       365\n",
       "mthssincerecentbc                     355\n",
       "bcutil                                335\n",
       "revolbal                              321\n",
       "tothicredlim                          345\n",
       "loanamnt                              333\n",
       "installment                           458\n",
       "subgrade                              141\n",
       "numrevtlbalgt0                        150\n",
       "mthssincelastrecord                   228\n",
       "dti                                   690\n",
       "totcurbal                             265\n",
       "bcopentobuy                           378\n",
       "revolutil                             263\n",
       "mthssincerecentinq                    299\n",
       "addrstate_freq                        206\n",
       "mortacc                               137\n",
       "zipcode_freq                          294\n",
       "                                     ... \n",
       "percentbcgt75                         164\n",
       "inqlast6mths                           81\n",
       "homeownership_MORTGAGE                 82\n",
       "mthssincelastdelinq                   276\n",
       "pubrec                                  5\n",
       "numiltl                               118\n",
       "openacc                                70\n",
       "mosinrcnttl                           154\n",
       "mthssincerecentbcdlq                  149\n",
       "totalacc                              124\n",
       "totcollamt                             56\n",
       "verificationstatus_Source Verified     35\n",
       "mthssincerecentrevoldelinq            109\n",
       "pubrecbankruptcies                     14\n",
       "delinq2yrs                             48\n",
       "initialliststatus_f                    18\n",
       "numacctsever120pd                      19\n",
       "purpose_credit_card                     6\n",
       "collections12mthsexmed                 24\n",
       "purpose_other                           5\n",
       "numtl120dpd2m                           9\n",
       "numtl90gdpd24m                          3\n",
       "taxliens                                4\n",
       "purpose_home_improvement                8\n",
       "purpose_small_business                  7\n",
       "homeownership_OWN                      10\n",
       "purpose_medical                         5\n",
       "purpose_house                           2\n",
       "purpose_moving                          4\n",
       "purpose_car                             1\n",
       "Length: 80, dtype: int64"
      ]
     },
     "execution_count": 105,
     "metadata": {},
     "output_type": "execute_result"
    }
   ],
   "source": [
    "pd.Series(model_xgb.get_booster().get_fscore())"
   ]
  },
  {
   "cell_type": "code",
   "execution_count": 112,
   "metadata": {},
   "outputs": [
    {
     "data": {
      "text/plain": [
       "dti                     690\n",
       "zipcode                 504\n",
       "emptitle_freq           494\n",
       "intrate                 478\n",
       "installment             458\n",
       "accopenpast24mths       433\n",
       "avgcurbal               391\n",
       "annualinc               383\n",
       "bcopentobuy             378\n",
       "mosinoldrevtlop         365\n",
       "mthssincerecentbc       355\n",
       "mosinoldilacct          347\n",
       "tothicredlim            345\n",
       "earliestcrline_month    339\n",
       "bcutil                  335\n",
       "dtype: int64"
      ]
     },
     "execution_count": 112,
     "metadata": {},
     "output_type": "execute_result"
    }
   ],
   "source": [
    "feature_importance = pd.Series(model_xgb.get_booster().get_fscore()).sort_values(ascending=False)\n",
    "feature_importance[:15]"
   ]
  },
  {
   "cell_type": "code",
   "execution_count": 118,
   "metadata": {},
   "outputs": [
    {
     "data": {
      "text/plain": [
       "Text(0, 0.5, 'Features')"
      ]
     },
     "execution_count": 118,
     "metadata": {},
     "output_type": "execute_result"
    },
    {
     "data": {
      "image/png": "[encoded data removed]",
      "text/plain": [
       "<Figure size 432x432 with 1 Axes>"
      ]
     },
     "metadata": {},
     "output_type": "display_data"
    }
   ],
   "source": [
    "feature_importance[:15].plot(kind='barh',title='Feature Importances', figsize=(6, 6))\n",
    "plt.xlabel('Feature Importance Score')\n",
    "plt.ylabel('Features')"
   ]
  },
  {
   "cell_type": "code",
   "execution_count": null,
   "metadata": {},
   "outputs": [],
   "source": []
  },
  {
   "cell_type": "code",
   "execution_count": null,
   "metadata": {},
   "outputs": [],
   "source": []
  }
 ],
 "metadata": {
  "kernelspec": {
   "display_name": "Python 3",
   "language": "python",
   "name": "python3"
  },
  "language_info": {
   "codemirror_mode": {
    "name": "ipython",
    "version": 3
   },
   "file_extension": ".py",
   "mimetype": "text/x-python",
   "name": "python",
   "nbconvert_exporter": "python",
   "pygments_lexer": "ipython3",
   "version": "3.6.8"
  }
 },
 "nbformat": 4,
 "nbformat_minor": 2
}
