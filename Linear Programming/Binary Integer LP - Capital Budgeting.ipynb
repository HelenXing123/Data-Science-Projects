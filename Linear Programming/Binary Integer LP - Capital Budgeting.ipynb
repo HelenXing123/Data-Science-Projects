{
 "cells": [
  {
   "cell_type": "markdown",
   "id": "a1aaa06f",
   "metadata": {},
   "source": [
    "### 1. Problem"
   ]
  },
  {
   "cell_type": "markdown",
   "id": "7c27837e",
   "metadata": {},
   "source": [
    "**Problem:**\n",
    "\n",
    "> The Excel file ***Capital_Budget.xlsx*** contains the annual budget, net profit for each project, and the associated costs broken down by project and by year.\n",
    "Please help us to figure out which projects is supposed to select in order to maximize the total NPV. The values are in millions.\n",
    "\n",
    "* Unused funds in one year can be carried over to the following year.\n",
    "* Poject 2 cannot be selected unless Project 1 is also selected.\n",
    "* Project 4 and 5 must not be selected together.\n",
    "* At leaset one of projects 3, 4, and 5 must be selected.\n"
   ]
  },
  {
   "cell_type": "code",
   "execution_count": 48,
   "id": "45195fec",
   "metadata": {},
   "outputs": [
    {
     "data": {
      "text/html": [
       "<div>\n",
       "<style scoped>\n",
       "    .dataframe tbody tr th:only-of-type {\n",
       "        vertical-align: middle;\n",
       "    }\n",
       "\n",
       "    .dataframe tbody tr th {\n",
       "        vertical-align: top;\n",
       "    }\n",
       "\n",
       "    .dataframe thead th {\n",
       "        text-align: right;\n",
       "    }\n",
       "</style>\n",
       "<table border=\"1\" class=\"dataframe\">\n",
       "  <thead>\n",
       "    <tr style=\"text-align: right;\">\n",
       "      <th></th>\n",
       "      <th>Project_1</th>\n",
       "      <th>Project_2</th>\n",
       "      <th>Project_3</th>\n",
       "      <th>Project_4</th>\n",
       "      <th>Project_5</th>\n",
       "      <th>Budget</th>\n",
       "    </tr>\n",
       "  </thead>\n",
       "  <tbody>\n",
       "    <tr>\n",
       "      <th>Year_1</th>\n",
       "      <td>5</td>\n",
       "      <td>11</td>\n",
       "      <td>13</td>\n",
       "      <td>16</td>\n",
       "      <td>9</td>\n",
       "      <td>32.0</td>\n",
       "    </tr>\n",
       "    <tr>\n",
       "      <th>Year_2</th>\n",
       "      <td>2</td>\n",
       "      <td>8</td>\n",
       "      <td>7</td>\n",
       "      <td>7</td>\n",
       "      <td>6</td>\n",
       "      <td>30.0</td>\n",
       "    </tr>\n",
       "    <tr>\n",
       "      <th>Year_3</th>\n",
       "      <td>2</td>\n",
       "      <td>6</td>\n",
       "      <td>6</td>\n",
       "      <td>6</td>\n",
       "      <td>1</td>\n",
       "      <td>15.0</td>\n",
       "    </tr>\n",
       "    <tr>\n",
       "      <th>Year_4</th>\n",
       "      <td>0</td>\n",
       "      <td>3</td>\n",
       "      <td>4</td>\n",
       "      <td>6</td>\n",
       "      <td>-1</td>\n",
       "      <td>11.0</td>\n",
       "    </tr>\n",
       "    <tr>\n",
       "      <th>NPV</th>\n",
       "      <td>10</td>\n",
       "      <td>18</td>\n",
       "      <td>22</td>\n",
       "      <td>25</td>\n",
       "      <td>12</td>\n",
       "      <td>NaN</td>\n",
       "    </tr>\n",
       "  </tbody>\n",
       "</table>\n",
       "</div>"
      ],
      "text/plain": [
       "        Project_1  Project_2  Project_3  Project_4  Project_5  Budget\n",
       "Year_1          5         11         13         16          9    32.0\n",
       "Year_2          2          8          7          7          6    30.0\n",
       "Year_3          2          6          6          6          1    15.0\n",
       "Year_4          0          3          4          6         -1    11.0\n",
       "NPV            10         18         22         25         12     NaN"
      ]
     },
     "execution_count": 48,
     "metadata": {},
     "output_type": "execute_result"
    }
   ],
   "source": [
    "import pandas as pd\n",
    "df = pd.read_excel('Capital_Budget.xlsx', index_col=0)\n",
    "df"
   ]
  },
  {
   "cell_type": "markdown",
   "id": "f3bd52f8",
   "metadata": {},
   "source": [
    "### 2. Define Variables, Objective Function, Constraints"
   ]
  },
  {
   "cell_type": "markdown",
   "id": "e035ce49",
   "metadata": {},
   "source": [
    "Xi = 1 if project i is selected, otherwise 0   i = 1,2,3,4,5\n",
    "\n",
    "Maximize Z = 10X1 + 18X2 + 22X3 + 25X4 + 12X5\n",
    "\n",
    "S.T.\n",
    "\n",
    "    5X1 + 11X2 + 13X3 + 16X4 +  9X5 <= 32   Year 1\n",
    "    7X1 + 19X2 + 20X3 + 23X4 + 15X5 <= 62   Year 2\n",
    "    9X1 + 25X2 + 26X3 + 29X4 + 16X5 <= 77   Year 3\n",
    "    9X1 + 28X2 + 30X3 + 35X4 + 15X5 <= 88   Year 4\n",
    "    X2 <= X1 ==> -X1 + X2 <=0    Project 2 cannot be selected, unless project 1 is also selected\n",
    "                  X4 + X5 <= 1   Project 4 and 5 cannot be selected together\n",
    "             X3 + X4 + X5 >= 1   At least one of projects 3,4,5 must be selected"
   ]
  },
  {
   "cell_type": "markdown",
   "id": "448fe4d7",
   "metadata": {},
   "source": [
    "### 3. Coding "
   ]
  },
  {
   "cell_type": "code",
   "execution_count": null,
   "id": "5fc6f19c",
   "metadata": {},
   "outputs": [],
   "source": [
    "import pandas as pd\n",
    "import numpy as ny\n",
    "import gurobipy as gp\n",
    "from gurobipy import Model, quicksum, GRB"
   ]
  },
  {
   "cell_type": "code",
   "execution_count": 71,
   "id": "0a35a111",
   "metadata": {},
   "outputs": [
    {
     "data": {
      "text/html": [
       "<div>\n",
       "<style scoped>\n",
       "    .dataframe tbody tr th:only-of-type {\n",
       "        vertical-align: middle;\n",
       "    }\n",
       "\n",
       "    .dataframe tbody tr th {\n",
       "        vertical-align: top;\n",
       "    }\n",
       "\n",
       "    .dataframe thead th {\n",
       "        text-align: right;\n",
       "    }\n",
       "</style>\n",
       "<table border=\"1\" class=\"dataframe\">\n",
       "  <thead>\n",
       "    <tr style=\"text-align: right;\">\n",
       "      <th></th>\n",
       "      <th>Project_1</th>\n",
       "      <th>Project_2</th>\n",
       "      <th>Project_3</th>\n",
       "      <th>Project_4</th>\n",
       "      <th>Project_5</th>\n",
       "      <th>Budget</th>\n",
       "    </tr>\n",
       "  </thead>\n",
       "  <tbody>\n",
       "    <tr>\n",
       "      <th>Year_1</th>\n",
       "      <td>5</td>\n",
       "      <td>11</td>\n",
       "      <td>13</td>\n",
       "      <td>16</td>\n",
       "      <td>9</td>\n",
       "      <td>32.0</td>\n",
       "    </tr>\n",
       "    <tr>\n",
       "      <th>Year_2</th>\n",
       "      <td>7</td>\n",
       "      <td>19</td>\n",
       "      <td>20</td>\n",
       "      <td>23</td>\n",
       "      <td>15</td>\n",
       "      <td>62.0</td>\n",
       "    </tr>\n",
       "    <tr>\n",
       "      <th>Year_3</th>\n",
       "      <td>9</td>\n",
       "      <td>25</td>\n",
       "      <td>26</td>\n",
       "      <td>29</td>\n",
       "      <td>16</td>\n",
       "      <td>77.0</td>\n",
       "    </tr>\n",
       "    <tr>\n",
       "      <th>Year_4</th>\n",
       "      <td>9</td>\n",
       "      <td>28</td>\n",
       "      <td>30</td>\n",
       "      <td>35</td>\n",
       "      <td>15</td>\n",
       "      <td>88.0</td>\n",
       "    </tr>\n",
       "  </tbody>\n",
       "</table>\n",
       "</div>"
      ],
      "text/plain": [
       "        Project_1  Project_2  Project_3  Project_4  Project_5  Budget\n",
       "Year_1          5         11         13         16          9    32.0\n",
       "Year_2          7         19         20         23         15    62.0\n",
       "Year_3          9         25         26         29         16    77.0\n",
       "Year_4          9         28         30         35         15    88.0"
      ]
     },
     "execution_count": 71,
     "metadata": {},
     "output_type": "execute_result"
    }
   ],
   "source": [
    "df_cost_budget = df.iloc[:-1]\n",
    "df_cost_budget = df_cost_budget.cumsum()\n",
    "df_cost_budget"
   ]
  },
  {
   "cell_type": "code",
   "execution_count": 72,
   "id": "f6e2cac9",
   "metadata": {},
   "outputs": [],
   "source": [
    "var_names = df.columns.tolist()[:-1]\n",
    "# ['Project_1', 'Project_2', 'Project_3', 'Project_4', 'Project_5']\n",
    "year_names = df.index.values.tolist()[:-1]\n",
    "# ['Year_1', 'Year_2', 'Year_3', 'Year_4']\n",
    "constr_proj_select_names = ['constr_proj_select_1', 'constr_proj_select_2', 'constr_proj_selec3']"
   ]
  },
  {
   "cell_type": "code",
   "execution_count": 73,
   "id": "8dd7e561",
   "metadata": {},
   "outputs": [],
   "source": [
    "proj_n = len(var_names)\n",
    "year_n = len(year_names)"
   ]
  },
  {
   "cell_type": "code",
   "execution_count": 74,
   "id": "8fc42b1f",
   "metadata": {},
   "outputs": [
    {
     "data": {
      "text/plain": [
       "10"
      ]
     },
     "execution_count": 74,
     "metadata": {},
     "output_type": "execute_result"
    }
   ],
   "source": [
    "df.loc['NPV', 'Project_1']"
   ]
  },
  {
   "cell_type": "code",
   "execution_count": 75,
   "id": "f246a86a",
   "metadata": {},
   "outputs": [
    {
     "name": "stdout",
     "output_type": "stream",
     "text": [
      "Gurobi Optimizer version 11.0.3 build v11.0.3rc0 (mac64[x86] - Darwin 19.6.0 19H2026)\n",
      "\n",
      "CPU model: Intel(R) Core(TM) i5-7360U CPU @ 2.30GHz\n",
      "Thread count: 2 physical cores, 4 logical processors, using up to 4 threads\n",
      "\n",
      "Optimize a model with 7 rows, 5 columns and 27 nonzeros\n",
      "Model fingerprint: 0x6c562792\n",
      "Variable types: 0 continuous, 5 integer (5 binary)\n",
      "Coefficient statistics:\n",
      "  Matrix range     [1e+00, 4e+01]\n",
      "  Objective range  [1e+01, 2e+01]\n",
      "  Bounds range     [1e+00, 1e+00]\n",
      "  RHS range        [1e+00, 9e+01]\n",
      "Found heuristic solution: objective 50.0000000\n",
      "Presolve removed 2 rows and 0 columns\n",
      "Presolve time: 0.01s\n",
      "Presolved: 5 rows, 5 columns, 15 nonzeros\n",
      "Variable types: 0 continuous, 5 integer (5 binary)\n",
      "Found heuristic solution: objective 53.0000000\n",
      "\n",
      "Root relaxation: cutoff, 0 iterations, 0.00 seconds (0.00 work units)\n",
      "\n",
      "Explored 1 nodes (0 simplex iterations) in 0.06 seconds (0.00 work units)\n",
      "Thread count was 4 (of 4 available processors)\n",
      "\n",
      "Solution count 2: 53 50 \n",
      "\n",
      "Optimal solution found (tolerance 1.00e-04)\n",
      "Best objective 5.300000000000e+01, best bound 5.300000000000e+01, gap 0.0000%\n"
     ]
    }
   ],
   "source": [
    "# create a new model\n",
    "model = Model()\n",
    "\n",
    "# set decision variables\n",
    "X = model.addVars(var_names, vtype=GRB.BINARY, name='X')\n",
    "\n",
    "# set the bojective function\n",
    "model.setObjective(quicksum(df.loc['NPV', var]*X[var] for var in var_names), GRB.MAXIMIZE)\n",
    "\n",
    "# Add constraints\n",
    "# constraints on annual budget\n",
    "for year in year_names:\n",
    "    model.addConstr(\n",
    "        quicksum(df_cost_budget.loc[year, var]*X[var] for var in var_names) <= df_cost_budget.loc[year, 'Budget']\n",
    "        , name=year\n",
    "    )\n",
    "# constraints on combination of project selection \n",
    "model.addConstr(-1*X['Project_1'] + X['Project_2'] <= 0, name='Project_Selection_Combination_1')\n",
    "model.addConstr(X['Project_4'] + X['Project_5'] <= 1, name='Project_Selection_Combination_2')\n",
    "model.addConstr(X['Project_3'] + X['Project_4'] + X['Project_5'] >= 1, name='Project_Selection_Combination_3')\n",
    "\n",
    "# Optimize the model\n",
    "model.optimize()"
   ]
  },
  {
   "cell_type": "code",
   "execution_count": null,
   "id": "1d0917fc",
   "metadata": {},
   "outputs": [],
   "source": [
    "import numpy as np\n",
    "import pandas as pd\n",
    "from gurobipy import Model, GRB, quicksum"
   ]
  },
  {
   "cell_type": "code",
   "execution_count": 76,
   "id": "d320e674",
   "metadata": {},
   "outputs": [
    {
     "name": "stdout",
     "output_type": "stream",
     "text": [
      "ObjVal = 53.00\n",
      "\n",
      "    Variable            X \n",
      "-------------------------\n",
      "X[Project_1]            1 \n",
      "X[Project_2]            1 \n",
      "X[Project_4]            1 \n"
     ]
    }
   ],
   "source": [
    "print(f\"ObjVal = {model.ObjVal:.2f}\")\n",
    "model.printAttr('X')"
   ]
  },
  {
   "cell_type": "code",
   "execution_count": 79,
   "id": "ab7bf012",
   "metadata": {},
   "outputs": [
    {
     "name": "stdout",
     "output_type": "stream",
     "text": [
      "\n",
      "✅ Optimal solution found:\n",
      "\n",
      "Objective value: 53.0\n",
      "\n",
      "X[Project_1]: 1\n",
      "X[Project_2]: 1\n",
      "X[Project_3]: 0\n",
      "X[Project_4]: 1\n",
      "X[Project_5]: 0\n"
     ]
    }
   ],
   "source": [
    "if model.status == GRB.OPTIMAL:\n",
    "    print(\"\\n✅ Optimal solution found:\\n\")\n",
    "    print(f'Objective value: {model.ObjVal}\\n')\n",
    "    \n",
    "    #Print all variables and their optimal values\n",
    "    for var in model.getVars():\n",
    "        print(f\"{var.VarName}: {var.X:.0f}\")\n",
    "else:\n",
    "    Print('❌ No optimal solution found.')"
   ]
  },
  {
   "cell_type": "markdown",
   "id": "814818f7",
   "metadata": {},
   "source": [
    "### Conclusion"
   ]
  },
  {
   "cell_type": "markdown",
   "id": "d7a023f2",
   "metadata": {},
   "source": [
    "* Based on the output of the linear programming model, the optimal project selection to maximize net profit includes:\n",
    "\n",
    "    * Project 1\n",
    "    * Project 2\n",
    "    * Project 4\n",
    "\n",
    "* This selection yields a total projected profit of 53 million.\n",
    "\n",
    "* The decision was made under the defined budgetary and operational constraints, ensuring an efficient allocation of available resources to maximize fiancial return"
   ]
  },
  {
   "cell_type": "markdown",
   "id": "9c835947",
   "metadata": {},
   "source": [
    "**Problem:**\n",
    "\n",
    "Company receives order to supply 1000 units\n",
    "\n",
    "|                    | Machine_1 | Machine_2 | Machine_3 |\n",
    "|--------------------|-----------|-----------|-----------|\n",
    "| Variable Cost/unit |   2.39    |   1.99    |    2.99   | \n",
    "| Fixed Cost         |   300     |   250     |    400    | \n",
    "| Capacity           |   400     |   550     |    600    | \n",
    "\n",
    "\n",
    "Xi = number of units produced on machine i\n",
    "\n",
    "Yi = 1 if machine i is used, 0 otherwise"
   ]
  },
  {
   "cell_type": "code",
   "execution_count": 37,
   "id": "40b7fe16",
   "metadata": {},
   "outputs": [
    {
     "name": "stdout",
     "output_type": "stream",
     "text": [
      "Gurobi Optimizer version 11.0.3 build v11.0.3rc0 (mac64[x86] - Darwin 19.6.0 19H2026)\n",
      "\n",
      "CPU model: Intel(R) Core(TM) i5-7360U CPU @ 2.30GHz\n",
      "Thread count: 2 physical cores, 4 logical processors, using up to 4 threads\n",
      "\n",
      "Optimize a model with 4 rows, 6 columns and 9 nonzeros\n",
      "Model fingerprint: 0xcda464c6\n",
      "Variable types: 3 continuous, 3 integer (3 binary)\n",
      "Coefficient statistics:\n",
      "  Matrix range     [1e+00, 6e+02]\n",
      "  Objective range  [2e+00, 4e+02]\n",
      "  Bounds range     [1e+00, 1e+00]\n",
      "  RHS range        [1e+03, 1e+03]\n",
      "Presolve removed 4 rows and 6 columns\n",
      "Presolve time: 0.00s\n",
      "Presolve: All rows and columns removed\n",
      "\n",
      "Explored 0 nodes (0 simplex iterations) in 0.02 seconds (0.00 work units)\n",
      "Thread count was 1 (of 4 available processors)\n",
      "\n",
      "Solution count 1: 3090 \n",
      "\n",
      "Optimal solution found (tolerance 1.00e-04)\n",
      "Best objective 3.090000000000e+03, best bound 3.090000000000e+03, gap 0.0000%\n"
     ]
    }
   ],
   "source": [
    "import gurobipy as gp\n",
    "from gurobipy import Model, GRB, quicksum\n",
    "\n",
    "# Create a new model\n",
    "model = gp.Model(\"MultiProductFixedCost\")\n",
    "\n",
    "# Set product from machines\n",
    "machines = ['Machine_1', 'Machine_2', 'Machine_3']\n",
    "\n",
    "# Set parameters\n",
    "variable_cost = {'Machine_1': 2.39, 'Machine_2': 1.99, 'Machine_3': 2.99}\n",
    "fixed_cost = {'Machine_1': 300, 'Machine_2': 250, 'Machine_3': 400}\n",
    "capacity = {'Machine_1': 400, 'Machine_2': 550, 'Machine_3': 600}\n",
    "order = 1000 # to supply 1000 units\n",
    "\n",
    "# Set decision variables: INTEGER, CONTINUOUS, BINARY\n",
    "X = model.addVars(machines,lb=0, vtype=GRB.CONTINUOUS, name='Prod')\n",
    "Y = model.addVars(machines,lb=0, vtype=GRB.BINARY, name='Setup')\n",
    "\n",
    "# Set objective function GRB.MAXIMIZE\n",
    "model.setObjective(\n",
    "    gp.quicksum(variable_cost[m]*X[m] + fixed_cost[m]*Y[m] for m in machines),\n",
    "    GRB.MINIMIZE\n",
    ")\n",
    "\n",
    "# Add constraints\n",
    "model.addConstr(gp.quicksum(X[m] for m in machines) == order, 'Order')\n",
    "for m in machines:\n",
    "    model.addConstr(X[m] <= capacity[m]*Y[m], f'{m}_Capacity')\n",
    "\n",
    "# Optimize the model\n",
    "model.optimize()"
   ]
  },
  {
   "cell_type": "code",
   "execution_count": 38,
   "id": "8b91aecd",
   "metadata": {},
   "outputs": [
    {
     "name": "stdout",
     "output_type": "stream",
     "text": [
      "ObjVal = 3090.00\n",
      "\n",
      "    Variable            X \n",
      "-------------------------\n",
      "Prod[Machine_2]          550 \n",
      "Prod[Machine_3]          450 \n",
      "Setup[Machine_2]            1 \n",
      "Setup[Machine_3]            1 \n"
     ]
    }
   ],
   "source": [
    "print(f\"ObjVal = {model.ObjVal:.2f}\")\n",
    "model.printAttr('X')"
   ]
  }
 ],
 "metadata": {
  "kernelspec": {
   "display_name": "Python 3",
   "language": "python",
   "name": "python3"
  },
  "language_info": {
   "codemirror_mode": {
    "name": "ipython",
    "version": 3
   },
   "file_extension": ".py",
   "mimetype": "text/x-python",
   "name": "python",
   "nbconvert_exporter": "python",
   "pygments_lexer": "ipython3",
   "version": "3.8.8"
  },
  "toc": {
   "base_numbering": 1,
   "nav_menu": {},
   "number_sections": true,
   "sideBar": true,
   "skip_h1_title": false,
   "title_cell": "Table of Contents",
   "title_sidebar": "Contents",
   "toc_cell": false,
   "toc_position": {},
   "toc_section_display": true,
   "toc_window_display": false
  }
 },
 "nbformat": 4,
 "nbformat_minor": 5
}
