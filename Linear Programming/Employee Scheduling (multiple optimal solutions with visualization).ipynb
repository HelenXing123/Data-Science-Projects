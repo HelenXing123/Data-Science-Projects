{
 "cells": [
  {
   "cell_type": "markdown",
   "id": "1eecec87",
   "metadata": {},
   "source": [
    "### 1. Problem"
   ]
  },
  {
   "cell_type": "markdown",
   "id": "8b7fdf92",
   "metadata": {},
   "source": [
    "\n",
    "\n",
    "* A company requires different numbers of employees on different weekdays\n",
    "* In general, Each employee is required to work up to 5 days a week\n",
    "* Each employee provides preference rating (from 0 to 10) of how much they want to work on that day\n",
    "* Formulate LP to maximize the total work preference rating\n",
    "* All data above can be find in the file ***'Employee_Schedule.xlsx'***\n"
   ]
  },
  {
   "cell_type": "code",
   "execution_count": 222,
   "id": "a181ea95",
   "metadata": {},
   "outputs": [
    {
     "data": {
      "text/html": [
       "<div>\n",
       "<style scoped>\n",
       "    .dataframe tbody tr th:only-of-type {\n",
       "        vertical-align: middle;\n",
       "    }\n",
       "\n",
       "    .dataframe tbody tr th {\n",
       "        vertical-align: top;\n",
       "    }\n",
       "\n",
       "    .dataframe thead th {\n",
       "        text-align: right;\n",
       "    }\n",
       "</style>\n",
       "<table border=\"1\" class=\"dataframe\">\n",
       "  <thead>\n",
       "    <tr style=\"text-align: right;\">\n",
       "      <th></th>\n",
       "      <th>Monday</th>\n",
       "      <th>Tuesday</th>\n",
       "      <th>Wednesday</th>\n",
       "      <th>Thursday</th>\n",
       "      <th>Friday</th>\n",
       "      <th>Saturday</th>\n",
       "      <th>Sunday</th>\n",
       "    </tr>\n",
       "  </thead>\n",
       "  <tbody>\n",
       "    <tr>\n",
       "      <th>Employee_Required</th>\n",
       "      <td>3</td>\n",
       "      <td>4</td>\n",
       "      <td>4</td>\n",
       "      <td>5</td>\n",
       "      <td>4</td>\n",
       "      <td>3</td>\n",
       "      <td>2</td>\n",
       "    </tr>\n",
       "    <tr>\n",
       "      <th>Katie</th>\n",
       "      <td>5</td>\n",
       "      <td>6</td>\n",
       "      <td>0</td>\n",
       "      <td>1</td>\n",
       "      <td>10</td>\n",
       "      <td>2</td>\n",
       "      <td>0</td>\n",
       "    </tr>\n",
       "    <tr>\n",
       "      <th>Ellie</th>\n",
       "      <td>2</td>\n",
       "      <td>8</td>\n",
       "      <td>0</td>\n",
       "      <td>4</td>\n",
       "      <td>1</td>\n",
       "      <td>2</td>\n",
       "      <td>3</td>\n",
       "    </tr>\n",
       "    <tr>\n",
       "      <th>Keith</th>\n",
       "      <td>8</td>\n",
       "      <td>4</td>\n",
       "      <td>5</td>\n",
       "      <td>6</td>\n",
       "      <td>1</td>\n",
       "      <td>2</td>\n",
       "      <td>2</td>\n",
       "    </tr>\n",
       "    <tr>\n",
       "      <th>Tylor</th>\n",
       "      <td>2</td>\n",
       "      <td>8</td>\n",
       "      <td>2</td>\n",
       "      <td>4</td>\n",
       "      <td>3</td>\n",
       "      <td>0</td>\n",
       "      <td>2</td>\n",
       "    </tr>\n",
       "    <tr>\n",
       "      <th>Mitchel</th>\n",
       "      <td>2</td>\n",
       "      <td>2</td>\n",
       "      <td>9</td>\n",
       "      <td>9</td>\n",
       "      <td>8</td>\n",
       "      <td>1</td>\n",
       "      <td>1</td>\n",
       "    </tr>\n",
       "  </tbody>\n",
       "</table>\n",
       "</div>"
      ],
      "text/plain": [
       "                   Monday  Tuesday  Wednesday  Thursday  Friday  Saturday  \\\n",
       "Employee_Required       3        4          4         5       4         3   \n",
       "Katie                   5        6          0         1      10         2   \n",
       "Ellie                   2        8          0         4       1         2   \n",
       "Keith                   8        4          5         6       1         2   \n",
       "Tylor                   2        8          2         4       3         0   \n",
       "Mitchel                 2        2          9         9       8         1   \n",
       "\n",
       "                   Sunday  \n",
       "Employee_Required       2  \n",
       "Katie                   0  \n",
       "Ellie                   3  \n",
       "Keith                   2  \n",
       "Tylor                   2  \n",
       "Mitchel                 1  "
      ]
     },
     "execution_count": 222,
     "metadata": {},
     "output_type": "execute_result"
    }
   ],
   "source": [
    "import pandas as pd\n",
    "df = pd.read_excel('Employee_Schedule.xlsx', index_col=0)\n",
    "df"
   ]
  },
  {
   "cell_type": "markdown",
   "id": "1de2deec",
   "metadata": {},
   "source": [
    "### 2. Coding "
   ]
  },
  {
   "cell_type": "code",
   "execution_count": 223,
   "id": "b5742743",
   "metadata": {},
   "outputs": [],
   "source": [
    "import pandas as pd\n",
    "import numpy as ny\n",
    "import gurobipy as gp\n",
    "from gurobipy import Model, quicksum, GRB\n",
    "import seaborn as sns\n",
    "import matplotlib.pyplot as plt\n",
    "from matplotlib.colors import ListedColormap"
   ]
  },
  {
   "cell_type": "code",
   "execution_count": 224,
   "id": "7cd1f9bd",
   "metadata": {},
   "outputs": [
    {
     "name": "stdout",
     "output_type": "stream",
     "text": [
      "['Monday', 'Tuesday', 'Wednesday', 'Thursday', 'Friday', 'Saturday', 'Sunday']\n",
      "['Katie', 'Ellie', 'Keith', 'Tylor', 'Mitchel']\n"
     ]
    }
   ],
   "source": [
    "weekdays = df.columns.tolist()\n",
    "employees = df.index.values.tolist()[1:]\n",
    "print(weekdays)\n",
    "print(employees)"
   ]
  },
  {
   "cell_type": "code",
   "execution_count": 225,
   "id": "0d2a85c4",
   "metadata": {},
   "outputs": [
    {
     "name": "stdout",
     "output_type": "stream",
     "text": [
      "Set parameter PoolSearchMode to value 2\n",
      "Set parameter PoolSolutions to value 5\n",
      "Gurobi Optimizer version 11.0.3 build v11.0.3rc0 (mac64[x86] - Darwin 19.6.0 19H2026)\n",
      "\n",
      "CPU model: Intel(R) Core(TM) i5-7360U CPU @ 2.30GHz\n",
      "Thread count: 2 physical cores, 4 logical processors, using up to 4 threads\n",
      "\n",
      "Optimize a model with 12 rows, 35 columns and 70 nonzeros\n",
      "Model fingerprint: 0x076d3bbd\n",
      "Variable types: 0 continuous, 35 integer (35 binary)\n",
      "Coefficient statistics:\n",
      "  Matrix range     [1e+00, 1e+00]\n",
      "  Objective range  [1e+00, 1e+01]\n",
      "  Bounds range     [1e+00, 1e+00]\n",
      "  RHS range        [2e+00, 5e+00]\n",
      "Found heuristic solution: objective 101.0000000\n",
      "Presolve removed 1 rows and 5 columns\n",
      "Presolve time: 0.00s\n",
      "Presolved: 11 rows, 30 columns, 60 nonzeros\n",
      "Variable types: 0 continuous, 30 integer (30 binary)\n",
      "Found heuristic solution: objective 108.0000000\n",
      "\n",
      "Root relaxation: objective 1.130000e+02, 13 iterations, 0.00 seconds (0.00 work units)\n",
      "\n",
      "    Nodes    |    Current Node    |     Objective Bounds      |     Work\n",
      " Expl Unexpl |  Obj  Depth IntInf | Incumbent    BestBd   Gap | It/Node Time\n",
      "\n",
      "*    0     0               0     113.0000000  113.00000  0.00%     -    0s\n",
      "\n",
      "Optimal solution found at node 0 - now completing solution pool...\n",
      "\n",
      "    Nodes    |    Current Node    |      Pool Obj. Bounds     |     Work\n",
      "             |                    |   Worst                   |\n",
      " Expl Unexpl |  Obj  Depth IntInf | Incumbent    BestBd   Gap | It/Node Time\n",
      "\n",
      "     0     0          -    0               -  113.00000      -     -    0s\n",
      "     0     0          -    0               -  113.00000      -     -    0s\n",
      "     0     2          -    0               -  113.00000      -     -    0s\n",
      "\n",
      "Explored 63 nodes (55 simplex iterations) in 0.06 seconds (0.00 work units)\n",
      "Thread count was 4 (of 4 available processors)\n",
      "\n",
      "Solution count 5: 113 113 113 ... 112\n",
      "No other solutions better than 112\n",
      "\n",
      "Optimal solution found (tolerance 1.00e-04)\n",
      "Best objective 1.130000000000e+02, best bound 1.130000000000e+02, gap 0.0000%\n"
     ]
    }
   ],
   "source": [
    "# create a new model\n",
    "model = Model()\n",
    "\n",
    "# set decision variables\n",
    "X = model.addVars(employees, weekdays, vtype=GRB.BINARY, name='X')\n",
    "\n",
    "# set the bojective function\n",
    "model.setObjective(quicksum(df.loc[e, d]*X[e, d] for e in employees for d in weekdays), GRB.MAXIMIZE)\n",
    "\n",
    "# Add constraints\n",
    "for e in employees:\n",
    "    model.addConstr(\n",
    "        quicksum(X[e, d] for d in weekdays) <= 5\n",
    "        , name='Work_up_to_5_days'\n",
    "    )\n",
    "for d in weekdays:\n",
    "    model.addConstr(\n",
    "        quicksum(X[e, d] for e in employees) == df.loc['Employee_Required', d]\n",
    "        , name='Required_days'\n",
    "    )\n",
    "# Set parameters for solution pool\n",
    "model.Params.PoolSearchMode = 2     # Search for multiple solutions\n",
    "model.Params.PoolSolutions = 5      # Return up to 5 solutions\n",
    "\n",
    "# Optimize the model\n",
    "model.optimize()"
   ]
  },
  {
   "cell_type": "code",
   "execution_count": 226,
   "id": "4864bc18",
   "metadata": {},
   "outputs": [
    {
     "name": "stdout",
     "output_type": "stream",
     "text": [
      "ObjVal = 113.00\n",
      "Number of solutions found: 5\n",
      "For here we only print optimal solution 1\n",
      "\n",
      "    Variable            X \n",
      "-------------------------\n",
      "X[Katie,Monday]            1 \n",
      "X[Katie,Tuesday]            1 \n",
      "X[Katie,Wednesday]            1 \n",
      "X[Katie,Thursday]            1 \n",
      "X[Katie,Friday]            1 \n",
      "X[Ellie,Tuesday]            1 \n",
      "X[Ellie,Thursday]            1 \n",
      "X[Ellie,Friday]            1 \n",
      "X[Ellie,Saturday]            1 \n",
      "X[Ellie,Sunday]            1 \n",
      "X[Keith,Monday]            1 \n",
      "X[Keith,Tuesday]            1 \n",
      "X[Keith,Wednesday]            1 \n",
      "X[Keith,Thursday]            1 \n",
      "X[Keith,Saturday]            1 \n",
      "X[Tylor,Tuesday]            1 \n",
      "X[Tylor,Wednesday]            1 \n",
      "X[Tylor,Thursday]            1 \n",
      "X[Tylor,Friday]            1 \n",
      "X[Tylor,Sunday]            1 \n",
      "X[Mitchel,Monday]            1 \n",
      "X[Mitchel,Wednesday]            1 \n",
      "X[Mitchel,Thursday]            1 \n",
      "X[Mitchel,Friday]            1 \n",
      "X[Mitchel,Saturday]            1 \n"
     ]
    }
   ],
   "source": [
    "print(f\"ObjVal = {model.ObjVal:.2f}\")\n",
    "# Number of solutions found\n",
    "print(f\"Number of solutions found: {model.SolCount}\")\n",
    "model.Params.SolutionNumber = 1 \n",
    "# 1 means the first solution out of 5 optimal solutions\n",
    "print('For here we only print optimal solution 1')\n",
    "model.printAttr('X')"
   ]
  },
  {
   "cell_type": "code",
   "execution_count": 227,
   "id": "9329c69f",
   "metadata": {},
   "outputs": [
    {
     "name": "stdout",
     "output_type": "stream",
     "text": [
      "Number of solutions found: 5\n",
      "For here we only print optimal solution 1\n",
      "\n",
      "✅ Optimal solution found:\n",
      "\n",
      "Objective value: 113.0\n",
      "\n",
      "X[Katie,Monday]: 1\n",
      "X[Katie,Tuesday]: 1\n",
      "X[Katie,Wednesday]: 1\n",
      "X[Katie,Thursday]: 1\n",
      "X[Katie,Friday]: 1\n",
      "X[Katie,Saturday]: 0\n",
      "X[Katie,Sunday]: -0\n",
      "X[Ellie,Monday]: -0\n",
      "X[Ellie,Tuesday]: 1\n",
      "X[Ellie,Wednesday]: 0\n",
      "X[Ellie,Thursday]: 1\n",
      "X[Ellie,Friday]: 1\n",
      "X[Ellie,Saturday]: 1\n",
      "X[Ellie,Sunday]: 1\n",
      "X[Keith,Monday]: 1\n",
      "X[Keith,Tuesday]: 1\n",
      "X[Keith,Wednesday]: 1\n",
      "X[Keith,Thursday]: 1\n",
      "X[Keith,Friday]: -0\n",
      "X[Keith,Saturday]: 1\n",
      "X[Keith,Sunday]: 0\n",
      "X[Tylor,Monday]: -0\n",
      "X[Tylor,Tuesday]: 1\n",
      "X[Tylor,Wednesday]: 1\n",
      "X[Tylor,Thursday]: 1\n",
      "X[Tylor,Friday]: 1\n",
      "X[Tylor,Saturday]: -0\n",
      "X[Tylor,Sunday]: 1\n",
      "X[Mitchel,Monday]: 1\n",
      "X[Mitchel,Tuesday]: 0\n",
      "X[Mitchel,Wednesday]: 1\n",
      "X[Mitchel,Thursday]: 1\n",
      "X[Mitchel,Friday]: 1\n",
      "X[Mitchel,Saturday]: 1\n",
      "X[Mitchel,Sunday]: -0\n"
     ]
    }
   ],
   "source": [
    "model.Params.SolutionNumber = 1 \n",
    "print(f\"Number of solutions found: {model.SolCount}\")\n",
    "print('For here we only print optimal solution 1')\n",
    "if model.status == GRB.OPTIMAL:\n",
    "    print(\"\\n✅ Optimal solution found:\\n\")\n",
    "    print(f'Objective value: {model.ObjVal}\\n')\n",
    "    \n",
    "    #Print all variables and their optimal values\n",
    "    for var in model.getVars():\n",
    "        print(f\"{var.VarName}: {var.X:.0f}\")\n",
    "else:\n",
    "    Print('❌ No optimal solution found.')"
   ]
  },
  {
   "cell_type": "code",
   "execution_count": 228,
   "id": "1a92065f",
   "metadata": {},
   "outputs": [
    {
     "data": {
      "text/html": [
       "<div>\n",
       "<style scoped>\n",
       "    .dataframe tbody tr th:only-of-type {\n",
       "        vertical-align: middle;\n",
       "    }\n",
       "\n",
       "    .dataframe tbody tr th {\n",
       "        vertical-align: top;\n",
       "    }\n",
       "\n",
       "    .dataframe thead th {\n",
       "        text-align: right;\n",
       "    }\n",
       "</style>\n",
       "<table border=\"1\" class=\"dataframe\">\n",
       "  <thead>\n",
       "    <tr style=\"text-align: right;\">\n",
       "      <th></th>\n",
       "      <th>Monday</th>\n",
       "      <th>Tuesday</th>\n",
       "      <th>Wednesday</th>\n",
       "      <th>Thursday</th>\n",
       "      <th>Friday</th>\n",
       "      <th>Saturday</th>\n",
       "      <th>Sunday</th>\n",
       "    </tr>\n",
       "  </thead>\n",
       "  <tbody>\n",
       "    <tr>\n",
       "      <th>Employee_Required</th>\n",
       "      <td>3</td>\n",
       "      <td>4</td>\n",
       "      <td>4</td>\n",
       "      <td>5</td>\n",
       "      <td>4</td>\n",
       "      <td>3</td>\n",
       "      <td>2</td>\n",
       "    </tr>\n",
       "    <tr>\n",
       "      <th>Katie</th>\n",
       "      <td>5</td>\n",
       "      <td>6</td>\n",
       "      <td>0</td>\n",
       "      <td>1</td>\n",
       "      <td>10</td>\n",
       "      <td>2</td>\n",
       "      <td>0</td>\n",
       "    </tr>\n",
       "    <tr>\n",
       "      <th>Ellie</th>\n",
       "      <td>2</td>\n",
       "      <td>8</td>\n",
       "      <td>0</td>\n",
       "      <td>4</td>\n",
       "      <td>1</td>\n",
       "      <td>2</td>\n",
       "      <td>3</td>\n",
       "    </tr>\n",
       "    <tr>\n",
       "      <th>Keith</th>\n",
       "      <td>8</td>\n",
       "      <td>4</td>\n",
       "      <td>5</td>\n",
       "      <td>6</td>\n",
       "      <td>1</td>\n",
       "      <td>2</td>\n",
       "      <td>2</td>\n",
       "    </tr>\n",
       "    <tr>\n",
       "      <th>Tylor</th>\n",
       "      <td>2</td>\n",
       "      <td>8</td>\n",
       "      <td>2</td>\n",
       "      <td>4</td>\n",
       "      <td>3</td>\n",
       "      <td>0</td>\n",
       "      <td>2</td>\n",
       "    </tr>\n",
       "    <tr>\n",
       "      <th>Mitchel</th>\n",
       "      <td>2</td>\n",
       "      <td>2</td>\n",
       "      <td>9</td>\n",
       "      <td>9</td>\n",
       "      <td>8</td>\n",
       "      <td>1</td>\n",
       "      <td>1</td>\n",
       "    </tr>\n",
       "  </tbody>\n",
       "</table>\n",
       "</div>"
      ],
      "text/plain": [
       "                   Monday  Tuesday  Wednesday  Thursday  Friday  Saturday  \\\n",
       "Employee_Required       3        4          4         5       4         3   \n",
       "Katie                   5        6          0         1      10         2   \n",
       "Ellie                   2        8          0         4       1         2   \n",
       "Keith                   8        4          5         6       1         2   \n",
       "Tylor                   2        8          2         4       3         0   \n",
       "Mitchel                 2        2          9         9       8         1   \n",
       "\n",
       "                   Sunday  \n",
       "Employee_Required       2  \n",
       "Katie                   0  \n",
       "Ellie                   3  \n",
       "Keith                   2  \n",
       "Tylor                   2  \n",
       "Mitchel                 1  "
      ]
     },
     "execution_count": 228,
     "metadata": {},
     "output_type": "execute_result"
    }
   ],
   "source": [
    "df_schedule = df.copy()\n",
    "df_schedule"
   ]
  },
  {
   "cell_type": "code",
   "execution_count": 229,
   "id": "ae2c9c99",
   "metadata": {},
   "outputs": [
    {
     "name": "stdout",
     "output_type": "stream",
     "text": [
      "\n",
      "Solution 1\n"
     ]
    },
    {
     "data": {
      "image/png": "[encoded data removed]",
      "text/plain": [
       "<Figure size 720x432 with 1 Axes>"
      ]
     },
     "metadata": {
      "needs_background": "light"
     },
     "output_type": "display_data"
    },
    {
     "name": "stdout",
     "output_type": "stream",
     "text": [
      "\n",
      "Solution 2\n"
     ]
    },
    {
     "data": {
      "image/png": "[encoded data removed]",
      "text/plain": [
       "<Figure size 720x432 with 1 Axes>"
      ]
     },
     "metadata": {
      "needs_background": "light"
     },
     "output_type": "display_data"
    },
    {
     "name": "stdout",
     "output_type": "stream",
     "text": [
      "\n",
      "Solution 3\n"
     ]
    },
    {
     "data": {
      "image/png": "[encoded data removed]",
      "text/plain": [
       "<Figure size 720x432 with 1 Axes>"
      ]
     },
     "metadata": {
      "needs_background": "light"
     },
     "output_type": "display_data"
    },
    {
     "name": "stdout",
     "output_type": "stream",
     "text": [
      "\n",
      "Solution 4\n"
     ]
    },
    {
     "data": {
      "image/png": "[encoded data removed]",
      "text/plain": [
       "<Figure size 720x432 with 1 Axes>"
      ]
     },
     "metadata": {
      "needs_background": "light"
     },
     "output_type": "display_data"
    },
    {
     "name": "stdout",
     "output_type": "stream",
     "text": [
      "\n",
      "Solution 5\n"
     ]
    },
    {
     "data": {
      "image/png": "[encoded data removed]",
      "text/plain": [
       "<Figure size 720x432 with 1 Axes>"
      ]
     },
     "metadata": {
      "needs_background": "light"
     },
     "output_type": "display_data"
    }
   ],
   "source": [
    "df_schedule_list = []\n",
    "\n",
    "for k in range(model.SolCount):\n",
    "    model.Params.SolutionNumber = k\n",
    "    print(f\"\\nSolution {k + 1}\")\n",
    "    df_schedule = df.copy()\n",
    "    for e in employees:\n",
    "        for d in weekdays:\n",
    "            df_schedule.loc[e, d] = X[e, d].Xn\n",
    "    df_schedule['Total'] = df_schedule.iloc[1:, :].sum(axis=1)\n",
    "    df_schedule.loc['Total'] = df_schedule.iloc[1:, :-1].sum(axis=0)\n",
    "\n",
    "    df_schedule_list.append(df_schedule)\n",
    "    \n",
    "    data = df_schedule.iloc[1:-1, :-1]\n",
    "\n",
    "    # Custom colormap: white = off (0), light green = on shift (1)\n",
    "    cmap = ListedColormap(['white', 'lightgreen'])\n",
    "\n",
    "    # Plot heatmap\n",
    "    plt.figure(figsize=(10, 6))\n",
    "    ax = sns.heatmap(data, annot=True, cmap=cmap, cbar=False, linewidths=1, linecolor='grey')\n",
    "\n",
    "    ax.xaxis.tick_top()\n",
    "    plt.yticks(rotation=0)\n",
    "    plt.title(\"Employee Scheduling Heatmap\", fontsize=20, pad=40)\n",
    "    plt.xlabel(\"Day\")\n",
    "    plt.ylabel(\"Employee\")\n",
    "\n",
    "    plt.show()"
   ]
  },
  {
   "cell_type": "code",
   "execution_count": 232,
   "id": "d37bfa51",
   "metadata": {},
   "outputs": [],
   "source": [
    "import os\n",
    "path = os.path.abspath('Employee Scheduling (multiple optimal solutions with visualization).ipynb')"
   ]
  },
  {
   "cell_type": "code",
   "execution_count": 233,
   "id": "37bc72b9",
   "metadata": {},
   "outputs": [
    {
     "data": {
      "text/plain": [
       "'/Users/hayley/Desktop/Linear Programming/Employee Scheduling (multiple optimal solutions with visualization).ipynb'"
      ]
     },
     "execution_count": 233,
     "metadata": {},
     "output_type": "execute_result"
    }
   ],
   "source": [
    "path"
   ]
  },
  {
   "cell_type": "code",
   "execution_count": null,
   "id": "5874adce",
   "metadata": {},
   "outputs": [],
   "source": []
  }
 ],
 "metadata": {
  "kernelspec": {
   "display_name": "Python 3",
   "language": "python",
   "name": "python3"
  },
  "language_info": {
   "codemirror_mode": {
    "name": "ipython",
    "version": 3
   },
   "file_extension": ".py",
   "mimetype": "text/x-python",
   "name": "python",
   "nbconvert_exporter": "python",
   "pygments_lexer": "ipython3",
   "version": "3.8.8"
  },
  "toc": {
   "base_numbering": 1,
   "nav_menu": {},
   "number_sections": true,
   "sideBar": true,
   "skip_h1_title": false,
   "title_cell": "Table of Contents",
   "title_sidebar": "Contents",
   "toc_cell": false,
   "toc_position": {},
   "toc_section_display": true,
   "toc_window_display": false
  }
 },
 "nbformat": 4,
 "nbformat_minor": 5
}
