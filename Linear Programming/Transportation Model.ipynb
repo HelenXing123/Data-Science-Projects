{
 "cells": [
  {
   "cell_type": "code",
   "execution_count": 11,
   "id": "e7399c4d",
   "metadata": {},
   "outputs": [],
   "source": [
    "import pandas as pd\n",
    "import numpy as np\n",
    "import json\n",
    "import gurobipy as gp\n",
    "from gurobipy import Model, GRB, quicksum"
   ]
  },
  {
   "cell_type": "markdown",
   "id": "de6bbc3d",
   "metadata": {},
   "source": [
    "### Read data "
   ]
  },
  {
   "cell_type": "code",
   "execution_count": 6,
   "id": "cd3afd3a",
   "metadata": {},
   "outputs": [
    {
     "data": {
      "text/plain": [
       "{'availabilities': {'S1': 14, 'S2': 26, 'S3': 11},\n",
       " 'demands': {'C1': 5, 'C2': 13, 'C3': 15, 'C4': 17},\n",
       " 'costs': [{'from': 'S1', 'to': 'C1', 'value': 10},\n",
       "  {'from': 'S1', 'to': 'C2', 'value': 5},\n",
       "  {'from': 'S1', 'to': 'C3', 'value': 20},\n",
       "  {'from': 'S1', 'to': 'C4', 'value': 12},\n",
       "  {'from': 'S2', 'to': 'C1', 'value': 12},\n",
       "  {'from': 'S2', 'to': 'C2', 'value': 7},\n",
       "  {'from': 'S2', 'to': 'C3', 'value': 12},\n",
       "  {'from': 'S2', 'to': 'C4', 'value': 19},\n",
       "  {'from': 'S3', 'to': 'C1', 'value': 6},\n",
       "  {'from': 'S3', 'to': 'C2', 'value': 12},\n",
       "  {'from': 'S3', 'to': 'C3', 'value': 16},\n",
       "  {'from': 'S3', 'to': 'C4', 'value': 17}]}"
      ]
     },
     "execution_count": 6,
     "metadata": {},
     "output_type": "execute_result"
    }
   ],
   "source": [
    "with open(\"input_transp.json\", mode=\"r\", encoding='utf8') as file:\n",
    "    input_data = json.load(file)\n",
    "input_data"
   ]
  },
  {
   "cell_type": "markdown",
   "id": "9d5e4c81",
   "metadata": {},
   "source": [
    "### Set parameters"
   ]
  },
  {
   "cell_type": "code",
   "execution_count": 9,
   "id": "b4733c44",
   "metadata": {},
   "outputs": [
    {
     "data": {
      "text/plain": [
       "{('S1', 'C1'): 10,\n",
       " ('S1', 'C2'): 5,\n",
       " ('S1', 'C3'): 20,\n",
       " ('S1', 'C4'): 12,\n",
       " ('S2', 'C1'): 12,\n",
       " ('S2', 'C2'): 7,\n",
       " ('S2', 'C3'): 12,\n",
       " ('S2', 'C4'): 19,\n",
       " ('S3', 'C1'): 6,\n",
       " ('S3', 'C2'): 12,\n",
       " ('S3', 'C3'): 16,\n",
       " ('S3', 'C4'): 17}"
      ]
     },
     "execution_count": 9,
     "metadata": {},
     "output_type": "execute_result"
    }
   ],
   "source": [
    "#create local variable to store input parameters\n",
    "availabilities = input_data['availabilities']\n",
    "demands = input_data['demands']\n",
    "#dictionary of costs indexed by tuples (origin, destination)\n",
    "costs = {(c['from'], c['to']): c['value'] for c in input_data['costs']}\n",
    "costs"
   ]
  },
  {
   "cell_type": "code",
   "execution_count": 18,
   "id": "02baa8c8",
   "metadata": {},
   "outputs": [
    {
     "data": {
      "text/plain": [
       "(dict_keys(['S1', 'S2', 'S3']), dict_keys(['C1', 'C2', 'C3', 'C4']))"
      ]
     },
     "execution_count": 18,
     "metadata": {},
     "output_type": "execute_result"
    }
   ],
   "source": [
    "availabilities.keys(), demands.keys()"
   ]
  },
  {
   "cell_type": "markdown",
   "id": "b016ac6b",
   "metadata": {},
   "source": [
    "### Create a model"
   ]
  },
  {
   "cell_type": "code",
   "execution_count": 21,
   "id": "94d99f25",
   "metadata": {},
   "outputs": [
    {
     "name": "stdout",
     "output_type": "stream",
     "text": [
      "Gurobi Optimizer version 11.0.3 build v11.0.3rc0 (mac64[x86] - Darwin 19.6.0 19H2026)\n",
      "\n",
      "CPU model: Intel(R) Core(TM) i5-7360U CPU @ 2.30GHz\n",
      "Thread count: 2 physical cores, 4 logical processors, using up to 4 threads\n",
      "\n",
      "Optimize a model with 7 rows, 12 columns and 24 nonzeros\n",
      "Model fingerprint: 0x78346a06\n",
      "Coefficient statistics:\n",
      "  Matrix range     [1e+00, 1e+00]\n",
      "  Objective range  [5e+00, 2e+01]\n",
      "  Bounds range     [0e+00, 0e+00]\n",
      "  RHS range        [5e+00, 3e+01]\n",
      "Presolve time: 0.01s\n",
      "Presolved: 7 rows, 12 columns, 24 nonzeros\n",
      "\n",
      "Iteration    Objective       Primal Inf.    Dual Inf.      Time\n",
      "       0    4.7900000e+02   1.600000e+01   0.000000e+00      0s\n",
      "       2    5.2600000e+02   0.000000e+00   0.000000e+00      0s\n",
      "\n",
      "Solved in 2 iterations and 0.03 seconds (0.00 work units)\n",
      "Optimal objective  5.260000000e+02\n"
     ]
    }
   ],
   "source": [
    "# Create a new model\n",
    "model = gp.Model(\"Tranportation Model\")\n",
    "\n",
    "# Set sources and destinations\n",
    "sources = list(availabilities.keys())\n",
    "destinations = list(demands.keys())\n",
    "\n",
    "# Set Parameters\n",
    "availabilities = input_data['availabilities']\n",
    "demands = input_data['demands']\n",
    "#dictionary of costs indexed by tuples (origin, destination)\n",
    "costs = {(c['from'], c['to']): c['value'] for c in input_data['costs']}\n",
    "\n",
    "# Set decision variables:\n",
    "X = model.addVars(sources, destinations,lb=0, name='Ship')\n",
    "\n",
    "# Set objective function\n",
    "model.setObjective(\n",
    "    quicksum(costs[i, j]*X[i, j] for i in sources for j in destinations),\n",
    "    GRB.MINIMIZE\n",
    ")\n",
    "\n",
    "# Add constraints\n",
    "\n",
    "# availabilities constraints\n",
    "for i in sources:\n",
    "    model.addConstr(quicksum(X[i, j] for j in destinations) <= availabilities[i], name=f'Availabilities_{i}')\n",
    "# demand constraints\n",
    "for j in destinations:\n",
    "    model.addConstr(quicksum(X[i, j] for i in sources) == demands[j], name=f'Demand_{j}')\n",
    "\n",
    "# Optimize the model\n",
    "model.optimize()"
   ]
  },
  {
   "cell_type": "code",
   "execution_count": 25,
   "id": "df1e0fb9",
   "metadata": {},
   "outputs": [
    {
     "name": "stdout",
     "output_type": "stream",
     "text": [
      "Objective_Value = 526.00\n",
      "\n",
      "    Variable            X \n",
      "-------------------------\n",
      " Ship[S1,C2]            2 \n",
      " Ship[S1,C4]           12 \n",
      " Ship[S2,C2]           11 \n",
      " Ship[S2,C3]           15 \n",
      " Ship[S3,C1]            5 \n",
      " Ship[S3,C4]            5 \n"
     ]
    }
   ],
   "source": [
    "\n",
    "print(f\"Objective_Value = {model.ObjVal:.2f}\")\n",
    "model.printAttr('X')"
   ]
  },
  {
   "cell_type": "code",
   "execution_count": null,
   "id": "5e91bf88",
   "metadata": {},
   "outputs": [],
   "source": []
  },
  {
   "cell_type": "code",
   "execution_count": null,
   "id": "2933de84",
   "metadata": {},
   "outputs": [],
   "source": []
  }
 ],
 "metadata": {
  "kernelspec": {
   "display_name": "Python 3",
   "language": "python",
   "name": "python3"
  },
  "language_info": {
   "codemirror_mode": {
    "name": "ipython",
    "version": 3
   },
   "file_extension": ".py",
   "mimetype": "text/x-python",
   "name": "python",
   "nbconvert_exporter": "python",
   "pygments_lexer": "ipython3",
   "version": "3.8.8"
  },
  "toc": {
   "base_numbering": 1,
   "nav_menu": {},
   "number_sections": true,
   "sideBar": true,
   "skip_h1_title": false,
   "title_cell": "Table of Contents",
   "title_sidebar": "Contents",
   "toc_cell": false,
   "toc_position": {},
   "toc_section_display": true,
   "toc_window_display": false
  }
 },
 "nbformat": 4,
 "nbformat_minor": 5
}
