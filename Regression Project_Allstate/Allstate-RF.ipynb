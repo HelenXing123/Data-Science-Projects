{
 "cells": [
  {
   "cell_type": "code",
   "execution_count": 14,
   "metadata": {},
   "outputs": [],
   "source": [
    "import pandas as pd\n",
    "import numpy as np\n",
    "import time\n",
    "import xgboost as xgb\n",
    "from sklearn.model_selection import KFold,GridSearchCV\n",
    "import seaborn as sns\n",
    "import matplotlib.pyplot as plt\n",
    "from sklearn import metrics, preprocessing\n",
    "from sklearn.ensemble import RandomForestRegressor\n",
    "from sklearn import  metrics\n",
    "%matplotlib inline"
   ]
  },
  {
   "cell_type": "code",
   "execution_count": 2,
   "metadata": {},
   "outputs": [],
   "source": [
    "full_data = pd.read_csv('full_data_freq.csv')\n",
    "train_data = pd.read_csv('train.csv')\n",
    "test_data = pd.read_csv('test.csv')\n",
    "train_size = train_data.shape[0]\n",
    "test_size = test_data.shape[0]"
   ]
  },
  {
   "cell_type": "code",
   "execution_count": 3,
   "metadata": {},
   "outputs": [
    {
     "data": {
      "text/plain": [
       "['cont1',\n",
       " 'cont10',\n",
       " 'cont11',\n",
       " 'cont12',\n",
       " 'cont13',\n",
       " 'cont14',\n",
       " 'cont2',\n",
       " 'cont3',\n",
       " 'cont4',\n",
       " 'cont5',\n",
       " 'cont6',\n",
       " 'cont7',\n",
       " 'cont8',\n",
       " 'cont9',\n",
       " 'cat109_freq',\n",
       " 'cat110_freq',\n",
       " 'cat112_freq',\n",
       " 'cat113_freq',\n",
       " 'cat116_freq',\n",
       " 'cat1_A',\n",
       " 'cat1_B',\n",
       " 'cat10_A',\n",
       " 'cat10_B',\n",
       " 'cat100_A',\n",
       " 'cat100_B',\n",
       " 'cat100_C',\n",
       " 'cat100_D',\n",
       " 'cat100_E',\n",
       " 'cat100_F',\n",
       " 'cat100_G',\n",
       " 'cat100_H',\n",
       " 'cat100_I',\n",
       " 'cat100_J',\n",
       " 'cat100_K',\n",
       " 'cat100_L',\n",
       " 'cat100_M',\n",
       " 'cat100_N',\n",
       " 'cat100_O',\n",
       " 'cat101_A',\n",
       " 'cat101_B',\n",
       " 'cat101_C',\n",
       " 'cat101_D',\n",
       " 'cat101_E',\n",
       " 'cat101_F',\n",
       " 'cat101_G',\n",
       " 'cat101_H',\n",
       " 'cat101_I',\n",
       " 'cat101_J',\n",
       " 'cat101_K',\n",
       " 'cat101_L',\n",
       " 'cat101_M',\n",
       " 'cat101_N',\n",
       " 'cat101_O',\n",
       " 'cat101_Q',\n",
       " 'cat101_R',\n",
       " 'cat101_S',\n",
       " 'cat101_U',\n",
       " 'cat102_A',\n",
       " 'cat102_B',\n",
       " 'cat102_C',\n",
       " 'cat102_D',\n",
       " 'cat102_E',\n",
       " 'cat102_F',\n",
       " 'cat102_G',\n",
       " 'cat102_H',\n",
       " 'cat102_J',\n",
       " 'cat103_A',\n",
       " 'cat103_B',\n",
       " 'cat103_C',\n",
       " 'cat103_D',\n",
       " 'cat103_E',\n",
       " 'cat103_F',\n",
       " 'cat103_G',\n",
       " 'cat103_H',\n",
       " 'cat103_I',\n",
       " 'cat103_J',\n",
       " 'cat103_K',\n",
       " 'cat103_L',\n",
       " 'cat103_M',\n",
       " 'cat103_N',\n",
       " 'cat104_A',\n",
       " 'cat104_B',\n",
       " 'cat104_C',\n",
       " 'cat104_D',\n",
       " 'cat104_E',\n",
       " 'cat104_F',\n",
       " 'cat104_G',\n",
       " 'cat104_H',\n",
       " 'cat104_I',\n",
       " 'cat104_J',\n",
       " 'cat104_K',\n",
       " 'cat104_L',\n",
       " 'cat104_M',\n",
       " 'cat104_N',\n",
       " 'cat104_O',\n",
       " 'cat104_P',\n",
       " 'cat104_Q',\n",
       " 'cat105_A',\n",
       " 'cat105_B',\n",
       " 'cat105_C',\n",
       " 'cat105_D',\n",
       " 'cat105_E',\n",
       " 'cat105_F',\n",
       " 'cat105_G',\n",
       " 'cat105_H',\n",
       " 'cat105_I',\n",
       " 'cat105_J',\n",
       " 'cat105_K',\n",
       " 'cat105_L',\n",
       " 'cat105_M',\n",
       " 'cat105_N',\n",
       " 'cat105_O',\n",
       " 'cat105_P',\n",
       " 'cat105_Q',\n",
       " 'cat105_R',\n",
       " 'cat105_S',\n",
       " 'cat105_T',\n",
       " 'cat106_A',\n",
       " 'cat106_B',\n",
       " 'cat106_C',\n",
       " 'cat106_D',\n",
       " 'cat106_E',\n",
       " 'cat106_F',\n",
       " 'cat106_G',\n",
       " 'cat106_H',\n",
       " 'cat106_I',\n",
       " 'cat106_J',\n",
       " 'cat106_K',\n",
       " 'cat106_L',\n",
       " 'cat106_M',\n",
       " 'cat106_N',\n",
       " 'cat106_O',\n",
       " 'cat106_P',\n",
       " 'cat106_Q',\n",
       " 'cat106_R',\n",
       " 'cat107_A',\n",
       " 'cat107_B',\n",
       " 'cat107_C',\n",
       " 'cat107_D',\n",
       " 'cat107_E',\n",
       " 'cat107_F',\n",
       " 'cat107_G',\n",
       " 'cat107_H',\n",
       " 'cat107_I',\n",
       " 'cat107_J',\n",
       " 'cat107_K',\n",
       " 'cat107_L',\n",
       " 'cat107_M',\n",
       " 'cat107_N',\n",
       " 'cat107_O',\n",
       " 'cat107_P',\n",
       " 'cat107_Q',\n",
       " 'cat107_R',\n",
       " 'cat107_S',\n",
       " 'cat107_U',\n",
       " 'cat108_A',\n",
       " 'cat108_B',\n",
       " 'cat108_C',\n",
       " 'cat108_D',\n",
       " 'cat108_E',\n",
       " 'cat108_F',\n",
       " 'cat108_G',\n",
       " 'cat108_H',\n",
       " 'cat108_I',\n",
       " 'cat108_J',\n",
       " 'cat108_K',\n",
       " 'cat11_A',\n",
       " 'cat11_B',\n",
       " 'cat111_A',\n",
       " 'cat111_B',\n",
       " 'cat111_C',\n",
       " 'cat111_D',\n",
       " 'cat111_E',\n",
       " 'cat111_F',\n",
       " 'cat111_G',\n",
       " 'cat111_I',\n",
       " 'cat111_K',\n",
       " 'cat111_L',\n",
       " 'cat111_M',\n",
       " 'cat111_O',\n",
       " 'cat111_Q',\n",
       " 'cat111_S',\n",
       " 'cat111_U',\n",
       " 'cat111_W',\n",
       " 'cat111_Y',\n",
       " 'cat114_A',\n",
       " 'cat114_B',\n",
       " 'cat114_C',\n",
       " 'cat114_D',\n",
       " 'cat114_E',\n",
       " 'cat114_F',\n",
       " 'cat114_G',\n",
       " 'cat114_I',\n",
       " 'cat114_J',\n",
       " 'cat114_L',\n",
       " 'cat114_N',\n",
       " 'cat114_O',\n",
       " 'cat114_Q',\n",
       " 'cat114_R',\n",
       " 'cat114_S',\n",
       " 'cat114_U',\n",
       " 'cat114_V',\n",
       " 'cat114_W',\n",
       " 'cat114_X',\n",
       " 'cat115_A',\n",
       " 'cat115_B',\n",
       " 'cat115_C',\n",
       " 'cat115_D',\n",
       " 'cat115_E',\n",
       " 'cat115_F',\n",
       " 'cat115_G',\n",
       " 'cat115_H',\n",
       " 'cat115_I',\n",
       " 'cat115_J',\n",
       " 'cat115_K',\n",
       " 'cat115_L',\n",
       " 'cat115_M',\n",
       " 'cat115_N',\n",
       " 'cat115_O',\n",
       " 'cat115_P',\n",
       " 'cat115_Q',\n",
       " 'cat115_R',\n",
       " 'cat115_S',\n",
       " 'cat115_T',\n",
       " 'cat115_U',\n",
       " 'cat115_W',\n",
       " 'cat115_X',\n",
       " 'cat12_A',\n",
       " 'cat12_B',\n",
       " 'cat13_A',\n",
       " 'cat13_B',\n",
       " 'cat14_A',\n",
       " 'cat14_B',\n",
       " 'cat15_A',\n",
       " 'cat15_B',\n",
       " 'cat16_A',\n",
       " 'cat16_B',\n",
       " 'cat17_A',\n",
       " 'cat17_B',\n",
       " 'cat18_A',\n",
       " 'cat18_B',\n",
       " 'cat19_A',\n",
       " 'cat19_B',\n",
       " 'cat2_A',\n",
       " 'cat2_B',\n",
       " 'cat20_A',\n",
       " 'cat20_B',\n",
       " 'cat21_A',\n",
       " 'cat21_B',\n",
       " 'cat22_A',\n",
       " 'cat22_B',\n",
       " 'cat23_A',\n",
       " 'cat23_B',\n",
       " 'cat24_A',\n",
       " 'cat24_B',\n",
       " 'cat25_A',\n",
       " 'cat25_B',\n",
       " 'cat26_A',\n",
       " 'cat26_B',\n",
       " 'cat27_A',\n",
       " 'cat27_B',\n",
       " 'cat28_A',\n",
       " 'cat28_B',\n",
       " 'cat29_A',\n",
       " 'cat29_B',\n",
       " 'cat3_A',\n",
       " 'cat3_B',\n",
       " 'cat30_A',\n",
       " 'cat30_B',\n",
       " 'cat31_A',\n",
       " 'cat31_B',\n",
       " 'cat32_A',\n",
       " 'cat32_B',\n",
       " 'cat33_A',\n",
       " 'cat33_B',\n",
       " 'cat34_A',\n",
       " 'cat34_B',\n",
       " 'cat35_A',\n",
       " 'cat35_B',\n",
       " 'cat36_A',\n",
       " 'cat36_B',\n",
       " 'cat37_A',\n",
       " 'cat37_B',\n",
       " 'cat38_A',\n",
       " 'cat38_B',\n",
       " 'cat39_A',\n",
       " 'cat39_B',\n",
       " 'cat4_A',\n",
       " 'cat4_B',\n",
       " 'cat40_A',\n",
       " 'cat40_B',\n",
       " 'cat41_A',\n",
       " 'cat41_B',\n",
       " 'cat42_A',\n",
       " 'cat42_B',\n",
       " 'cat43_A',\n",
       " 'cat43_B',\n",
       " 'cat44_A',\n",
       " 'cat44_B',\n",
       " 'cat45_A',\n",
       " 'cat45_B',\n",
       " 'cat46_A',\n",
       " 'cat46_B',\n",
       " 'cat47_A',\n",
       " 'cat47_B',\n",
       " 'cat48_A',\n",
       " 'cat48_B',\n",
       " 'cat49_A',\n",
       " 'cat49_B',\n",
       " 'cat5_A',\n",
       " 'cat5_B',\n",
       " 'cat50_A',\n",
       " 'cat50_B',\n",
       " 'cat51_A',\n",
       " 'cat51_B',\n",
       " 'cat52_A',\n",
       " 'cat52_B',\n",
       " 'cat53_A',\n",
       " 'cat53_B',\n",
       " 'cat54_A',\n",
       " 'cat54_B',\n",
       " 'cat55_A',\n",
       " 'cat55_B',\n",
       " 'cat56_A',\n",
       " 'cat56_B',\n",
       " 'cat57_A',\n",
       " 'cat57_B',\n",
       " 'cat58_A',\n",
       " 'cat58_B',\n",
       " 'cat59_A',\n",
       " 'cat59_B',\n",
       " 'cat6_A',\n",
       " 'cat6_B',\n",
       " 'cat60_A',\n",
       " 'cat60_B',\n",
       " 'cat61_A',\n",
       " 'cat61_B',\n",
       " 'cat62_A',\n",
       " 'cat62_B',\n",
       " 'cat63_A',\n",
       " 'cat63_B',\n",
       " 'cat64_A',\n",
       " 'cat64_B',\n",
       " 'cat65_A',\n",
       " 'cat65_B',\n",
       " 'cat66_A',\n",
       " 'cat66_B',\n",
       " 'cat67_A',\n",
       " 'cat67_B',\n",
       " 'cat68_A',\n",
       " 'cat68_B',\n",
       " 'cat69_A',\n",
       " 'cat69_B',\n",
       " 'cat7_A',\n",
       " 'cat7_B',\n",
       " 'cat70_A',\n",
       " 'cat70_B',\n",
       " 'cat71_A',\n",
       " 'cat71_B',\n",
       " 'cat72_A',\n",
       " 'cat72_B',\n",
       " 'cat73_A',\n",
       " 'cat73_B',\n",
       " 'cat73_C',\n",
       " 'cat74_A',\n",
       " 'cat74_B',\n",
       " 'cat74_C',\n",
       " 'cat75_A',\n",
       " 'cat75_B',\n",
       " 'cat75_C',\n",
       " 'cat76_A',\n",
       " 'cat76_B',\n",
       " 'cat76_C',\n",
       " 'cat77_A',\n",
       " 'cat77_B',\n",
       " 'cat77_C',\n",
       " 'cat77_D',\n",
       " 'cat78_A',\n",
       " 'cat78_B',\n",
       " 'cat78_C',\n",
       " 'cat78_D',\n",
       " 'cat79_A',\n",
       " 'cat79_B',\n",
       " 'cat79_C',\n",
       " 'cat79_D',\n",
       " 'cat8_A',\n",
       " 'cat8_B',\n",
       " 'cat80_A',\n",
       " 'cat80_B',\n",
       " 'cat80_C',\n",
       " 'cat80_D',\n",
       " 'cat81_A',\n",
       " 'cat81_B',\n",
       " 'cat81_C',\n",
       " 'cat81_D',\n",
       " 'cat82_A',\n",
       " 'cat82_B',\n",
       " 'cat82_C',\n",
       " 'cat82_D',\n",
       " 'cat83_A',\n",
       " 'cat83_B',\n",
       " 'cat83_C',\n",
       " 'cat83_D',\n",
       " 'cat84_A',\n",
       " 'cat84_B',\n",
       " 'cat84_C',\n",
       " 'cat84_D',\n",
       " 'cat85_A',\n",
       " 'cat85_B',\n",
       " 'cat85_C',\n",
       " 'cat85_D',\n",
       " 'cat86_A',\n",
       " 'cat86_B',\n",
       " 'cat86_C',\n",
       " 'cat86_D',\n",
       " 'cat87_A',\n",
       " 'cat87_B',\n",
       " 'cat87_C',\n",
       " 'cat87_D',\n",
       " 'cat88_A',\n",
       " 'cat88_B',\n",
       " 'cat88_D',\n",
       " 'cat88_E',\n",
       " 'cat89_A',\n",
       " 'cat89_B',\n",
       " 'cat89_C',\n",
       " 'cat89_D',\n",
       " 'cat89_E',\n",
       " 'cat89_F',\n",
       " 'cat89_G',\n",
       " 'cat89_H',\n",
       " 'cat89_I',\n",
       " 'cat9_A',\n",
       " 'cat9_B',\n",
       " 'cat90_A',\n",
       " 'cat90_B',\n",
       " 'cat90_C',\n",
       " 'cat90_D',\n",
       " 'cat90_E',\n",
       " 'cat90_F',\n",
       " 'cat90_G',\n",
       " 'cat91_A',\n",
       " 'cat91_B',\n",
       " 'cat91_C',\n",
       " 'cat91_D',\n",
       " 'cat91_E',\n",
       " 'cat91_F',\n",
       " 'cat91_G',\n",
       " 'cat91_H',\n",
       " 'cat92_A',\n",
       " 'cat92_B',\n",
       " 'cat92_C',\n",
       " 'cat92_D',\n",
       " 'cat92_E',\n",
       " 'cat92_F',\n",
       " 'cat92_G',\n",
       " 'cat92_H',\n",
       " 'cat92_I',\n",
       " 'cat93_A',\n",
       " 'cat93_B',\n",
       " 'cat93_C',\n",
       " 'cat93_D',\n",
       " 'cat93_E',\n",
       " 'cat94_A',\n",
       " 'cat94_B',\n",
       " 'cat94_C',\n",
       " 'cat94_D',\n",
       " 'cat94_E',\n",
       " 'cat94_F',\n",
       " 'cat94_G',\n",
       " 'cat95_A',\n",
       " 'cat95_B',\n",
       " 'cat95_C',\n",
       " 'cat95_D',\n",
       " 'cat95_E',\n",
       " 'cat96_A',\n",
       " 'cat96_B',\n",
       " 'cat96_C',\n",
       " 'cat96_D',\n",
       " 'cat96_E',\n",
       " 'cat96_F',\n",
       " 'cat96_G',\n",
       " 'cat96_H',\n",
       " 'cat96_I',\n",
       " 'cat97_A',\n",
       " 'cat97_B',\n",
       " 'cat97_C',\n",
       " 'cat97_D',\n",
       " 'cat97_E',\n",
       " 'cat97_F',\n",
       " 'cat97_G',\n",
       " 'cat98_A',\n",
       " 'cat98_B',\n",
       " 'cat98_C',\n",
       " 'cat98_D',\n",
       " 'cat98_E',\n",
       " 'cat99_C',\n",
       " 'cat99_D',\n",
       " 'cat99_E',\n",
       " 'cat99_F',\n",
       " 'cat99_G',\n",
       " 'cat99_H',\n",
       " 'cat99_I',\n",
       " 'cat99_J',\n",
       " 'cat99_K',\n",
       " 'cat99_M',\n",
       " 'cat99_N',\n",
       " 'cat99_O',\n",
       " 'cat99_P',\n",
       " 'cat99_R',\n",
       " 'cat99_S',\n",
       " 'cat99_T',\n",
       " 'cat99_U']"
      ]
     },
     "execution_count": 3,
     "metadata": {},
     "output_type": "execute_result"
    }
   ],
   "source": [
    "cols = list(full_data.columns.values)\n",
    "cols.remove('id')\n",
    "cols.remove('loss')\n",
    "cols"
   ]
  },
  {
   "cell_type": "code",
   "execution_count": 4,
   "metadata": {},
   "outputs": [],
   "source": [
    "feat = cols"
   ]
  },
  {
   "cell_type": "code",
   "execution_count": 5,
   "metadata": {},
   "outputs": [],
   "source": [
    "train_x = full_data[:train_size][feat]\n",
    "test_x = full_data[train_size:][feat]\n",
    "train_y = np.log(full_data[:train_size].loss.values+200)\n",
    "ID = full_data[train_size:].id.values"
   ]
  },
  {
   "cell_type": "code",
   "execution_count": 6,
   "metadata": {},
   "outputs": [
    {
     "data": {
      "text/plain": [
       "3.7949281496777445"
      ]
     },
     "execution_count": 6,
     "metadata": {},
     "output_type": "execute_result"
    }
   ],
   "source": [
    "from scipy.stats import skew, boxcox\n",
    "skew(full_data[:train_size].loss.values)"
   ]
  },
  {
   "cell_type": "code",
   "execution_count": 7,
   "metadata": {},
   "outputs": [
    {
     "data": {
      "text/plain": [
       "0.3014089397765396"
      ]
     },
     "execution_count": 7,
     "metadata": {},
     "output_type": "execute_result"
    }
   ],
   "source": [
    "skew(np.log(full_data[:train_size].loss.values+200))"
   ]
  },
  {
   "cell_type": "code",
   "execution_count": 8,
   "metadata": {},
   "outputs": [
    {
     "data": {
      "text/plain": [
       "(121012.25, 0.67)"
      ]
     },
     "execution_count": 8,
     "metadata": {},
     "output_type": "execute_result"
    }
   ],
   "source": [
    "full_data[:train_size].loss.max(), full_data[:train_size].loss.min()"
   ]
  },
  {
   "cell_type": "code",
   "execution_count": 9,
   "metadata": {},
   "outputs": [
    {
     "data": {
      "text/plain": [
       "(11.70529842011712, 5.301661767798426)"
      ]
     },
     "execution_count": 9,
     "metadata": {},
     "output_type": "execute_result"
    }
   ],
   "source": [
    "train_y.max(), train_y.min()"
   ]
  },
  {
   "cell_type": "code",
   "execution_count": 10,
   "metadata": {},
   "outputs": [
    {
     "data": {
      "text/plain": [
       "<matplotlib.axes._subplots.AxesSubplot at 0x1a24d1bb00>"
      ]
     },
     "execution_count": 10,
     "metadata": {},
     "output_type": "execute_result"
    },
    {
     "data": {
      "image/png": "[encoded data removed]",
      "text/plain": [
       "<Figure size 432x288 with 1 Axes>"
      ]
     },
     "metadata": {
      "needs_background": "light"
     },
     "output_type": "display_data"
    }
   ],
   "source": [
    "sns.distplot(train_y)"
   ]
  },
  {
   "cell_type": "code",
   "execution_count": 12,
   "metadata": {},
   "outputs": [],
   "source": [
    "def log_mae(y,yhat):\n",
    "    return metrics.mean_absolute_error(np.exp(y), np.exp(yhat))\n",
    "\n",
    "log_mae_scorer = metrics.make_scorer(log_mae, greater_is_better = False)"
   ]
  },
  {
   "cell_type": "code",
   "execution_count": 15,
   "metadata": {},
   "outputs": [
    {
     "name": "stdout",
     "output_type": "stream",
     "text": [
      "Fitting 4 folds for each of 5 candidates, totalling 20 fits\n"
     ]
    },
    {
     "name": "stderr",
     "output_type": "stream",
     "text": [
      "[Parallel(n_jobs=3)]: Using backend LokyBackend with 3 concurrent workers.\n",
      "[Parallel(n_jobs=3)]: Done   7 tasks      | elapsed:  2.1min\n",
      "[Parallel(n_jobs=3)]: Done  20 out of  20 | elapsed:  8.1min finished\n"
     ]
    },
    {
     "name": "stdout",
     "output_type": "stream",
     "text": [
      "Best score: -1358.116\n",
      "Best parameters set: {'n_estimators': 100}\n",
      "Scores: {'mean_fit_time': array([32.98769373, 44.32476246, 59.01732123, 78.60788643, 84.42037851]), 'std_fit_time': array([ 2.82585242,  1.55236796,  2.05229719,  1.75008842, 11.86692192]), 'mean_score_time': array([0.77704149, 1.21144331, 1.49189121, 1.93672276, 1.89464301]), 'std_score_time': array([0.06316948, 0.10892221, 0.0764414 , 0.14167967, 0.23038395]), 'param_n_estimators': masked_array(data=[50, 100, 150, 200, 250],\n",
      "             mask=[False, False, False, False, False],\n",
      "       fill_value='?',\n",
      "            dtype=object), 'params': [{'n_estimators': 50}, {'n_estimators': 100}, {'n_estimators': 150}, {'n_estimators': 200}, {'n_estimators': 250}], 'split0_test_score': array([-1355.2330884 , -1353.36028585, -1352.9577255 , -1354.34080833,\n",
      "       -1353.4685767 ]), 'split1_test_score': array([-1369.77983088, -1364.25589704, -1364.18107292, -1365.37631531,\n",
      "       -1365.13375244]), 'split2_test_score': array([-1363.31271451, -1360.57521427, -1362.0050706 , -1362.33233371,\n",
      "       -1360.5456654 ]), 'split3_test_score': array([-1356.62371171, -1354.2731043 , -1355.54132365, -1355.8828767 ,\n",
      "       -1353.53522349]), 'mean_test_score': array([-1361.23734985, -1358.11613271, -1358.67129708, -1359.4830875 ,\n",
      "       -1358.17081651]), 'std_test_score': array([5.80126751, 4.5036417 , 4.58022261, 4.53468071, 4.94273779]), 'rank_test_score': array([5, 1, 3, 4, 2], dtype=int32), 'split0_train_score': array([-1356.0396293 , -1354.40832244, -1354.35226187, -1355.67556635,\n",
      "       -1354.88558669]), 'split1_train_score': array([-1355.69229671, -1349.68673835, -1349.98779485, -1351.12563238,\n",
      "       -1350.99515964]), 'split2_train_score': array([-1356.32228395, -1353.28285535, -1354.79032253, -1355.10464735,\n",
      "       -1353.21373869]), 'split3_train_score': array([-1353.62324573, -1351.2067509 , -1352.3086027 , -1352.67231567,\n",
      "       -1350.09480935]), 'mean_train_score': array([-1355.41936392, -1352.14616676, -1352.85974549, -1353.64454044,\n",
      "       -1352.29732359]), 'std_train_score': array([1.06072223, 1.82624612, 1.90437599, 1.84031908, 1.87654086])}\n"
     ]
    }
   ],
   "source": [
    "cv_params = {'n_estimators':[50,100,150,200,250]}\n",
    "other_params = {'max_depth':8, 'min_samples_split':100,'max_features':'sqrt',\n",
    "                'random_state':1234}\n",
    "RF_model = RandomForestRegressor(**other_params)\n",
    "optimized_RF = GridSearchCV(estimator=RF_model, param_grid=cv_params, scoring=log_mae_scorer, cv=4, verbose=6, n_jobs=3)\n",
    "optimized_RF.fit(train_x, train_y)\n",
    "print(\"Best score: %0.3f\" % optimized_RF.best_score_)\n",
    "print(\"Best parameters set:\", optimized_RF.best_params_)\n",
    "print(\"Scores:\", optimized_RF.cv_results_)"
   ]
  },
  {
   "cell_type": "code",
   "execution_count": 16,
   "metadata": {},
   "outputs": [
    {
     "name": "stdout",
     "output_type": "stream",
     "text": [
      "Fitting 4 folds for each of 5 candidates, totalling 20 fits\n"
     ]
    },
    {
     "name": "stderr",
     "output_type": "stream",
     "text": [
      "[Parallel(n_jobs=3)]: Using backend LokyBackend with 3 concurrent workers.\n",
      "[Parallel(n_jobs=3)]: Done   7 tasks      | elapsed:  2.5min\n",
      "[Parallel(n_jobs=3)]: Done  20 out of  20 | elapsed:  5.8min finished\n"
     ]
    },
    {
     "name": "stdout",
     "output_type": "stream",
     "text": [
      "Best score: -1357.571\n",
      "Best parameters set: {'n_estimators': 120}\n"
     ]
    }
   ],
   "source": [
    "cv_params = {'n_estimators':[80,90,100,100,120]}\n",
    "other_params = {'max_depth':8, 'min_samples_split':100,'max_features':'sqrt',\n",
    "                'random_state':1234}\n",
    "RF_model = RandomForestRegressor(**other_params)\n",
    "optimized_RF = GridSearchCV(estimator=RF_model, param_grid=cv_params, scoring=log_mae_scorer, cv=4, verbose=6, n_jobs=3)\n",
    "optimized_RF.fit(train_x, train_y)\n",
    "print(\"Best score: %0.3f\" % optimized_RF.best_score_)\n",
    "print(\"Best parameters set:\", optimized_RF.best_params_)"
   ]
  },
  {
   "cell_type": "code",
   "execution_count": 17,
   "metadata": {},
   "outputs": [
    {
     "name": "stdout",
     "output_type": "stream",
     "text": [
      "Fitting 4 folds for each of 3 candidates, totalling 12 fits\n"
     ]
    },
    {
     "name": "stderr",
     "output_type": "stream",
     "text": [
      "[Parallel(n_jobs=3)]: Using backend LokyBackend with 3 concurrent workers.\n",
      "[Parallel(n_jobs=3)]: Done   7 tasks      | elapsed:  2.9min\n",
      "[Parallel(n_jobs=3)]: Done  10 out of  12 | elapsed:  4.0min remaining:   47.5s\n",
      "[Parallel(n_jobs=3)]: Done  12 out of  12 | elapsed:  4.0min finished\n"
     ]
    },
    {
     "name": "stdout",
     "output_type": "stream",
     "text": [
      "Best score: -1357.401\n",
      "Best parameters set: {'n_estimators': 110}\n"
     ]
    }
   ],
   "source": [
    "cv_params = {'n_estimators':[110,120,130]}\n",
    "other_params = {'max_depth':8, 'min_samples_split':100,'max_features':'sqrt',\n",
    "                'random_state':1234}\n",
    "RF_model = RandomForestRegressor(**other_params)\n",
    "optimized_RF = GridSearchCV(estimator=RF_model, param_grid=cv_params, scoring=log_mae_scorer, cv=4, verbose=6, n_jobs=3)\n",
    "optimized_RF.fit(train_x, train_y)\n",
    "print(\"Best score: %0.3f\" % optimized_RF.best_score_)\n",
    "print(\"Best parameters set:\", optimized_RF.best_params_)"
   ]
  },
  {
   "cell_type": "code",
   "execution_count": 18,
   "metadata": {},
   "outputs": [
    {
     "name": "stdout",
     "output_type": "stream",
     "text": [
      "Fitting 4 folds for each of 5 candidates, totalling 20 fits\n"
     ]
    },
    {
     "name": "stderr",
     "output_type": "stream",
     "text": [
      "[Parallel(n_jobs=3)]: Using backend LokyBackend with 3 concurrent workers.\n",
      "/Users/xingjuan/anaconda3/lib/python3.7/site-packages/sklearn/externals/joblib/externals/loky/process_executor.py:706: UserWarning: A worker stopped while some jobs were given to the executor. This can be caused by a too short worker timeout or by a memory leak.\n",
      "  \"timeout or by a memory leak.\", UserWarning\n",
      "/Users/xingjuan/anaconda3/lib/python3.7/site-packages/sklearn/externals/joblib/externals/loky/process_executor.py:706: UserWarning: A worker stopped while some jobs were given to the executor. This can be caused by a too short worker timeout or by a memory leak.\n",
      "  \"timeout or by a memory leak.\", UserWarning\n",
      "/Users/xingjuan/anaconda3/lib/python3.7/site-packages/sklearn/externals/joblib/externals/loky/process_executor.py:706: UserWarning: A worker stopped while some jobs were given to the executor. This can be caused by a too short worker timeout or by a memory leak.\n",
      "  \"timeout or by a memory leak.\", UserWarning\n",
      "[Parallel(n_jobs=3)]: Done   2 tasks      | elapsed:   39.4s\n",
      "[Parallel(n_jobs=3)]: Done   7 tasks      | elapsed:  1.7min\n",
      "[Parallel(n_jobs=3)]: Done  12 tasks      | elapsed:  3.2min\n",
      "[Parallel(n_jobs=3)]: Done  18 out of  20 | elapsed:  5.8min remaining:   38.9s\n",
      "[Parallel(n_jobs=3)]: Done  20 out of  20 | elapsed:  6.6min finished\n"
     ]
    },
    {
     "name": "stdout",
     "output_type": "stream",
     "text": [
      "Best score: -1261.327\n",
      "Best parameters set: {'max_depth': 15}\n"
     ]
    }
   ],
   "source": [
    "cv_params = {'max_depth':[3,6,9,12,15]}\n",
    "other_params = {'n_estimators':110,'min_samples_split':100,'max_features':'sqrt',\n",
    "                'random_state':1234}\n",
    "RF_model = RandomForestRegressor(**other_params)\n",
    "optimized_RF = GridSearchCV(estimator=RF_model, param_grid=cv_params, scoring=log_mae_scorer, cv=4, verbose=10, n_jobs=3)\n",
    "optimized_RF.fit(train_x, train_y)\n",
    "print(\"Best score: %0.3f\" % optimized_RF.best_score_)\n",
    "print(\"Best parameters set:\", optimized_RF.best_params_)"
   ]
  },
  {
   "cell_type": "code",
   "execution_count": 19,
   "metadata": {},
   "outputs": [
    {
     "name": "stdout",
     "output_type": "stream",
     "text": [
      "Fitting 4 folds for each of 5 candidates, totalling 20 fits\n"
     ]
    },
    {
     "name": "stderr",
     "output_type": "stream",
     "text": [
      "[Parallel(n_jobs=3)]: Using backend LokyBackend with 3 concurrent workers.\n",
      "[Parallel(n_jobs=3)]: Done   2 tasks      | elapsed:  1.6min\n",
      "[Parallel(n_jobs=3)]: Done   7 tasks      | elapsed:  4.4min\n",
      "[Parallel(n_jobs=3)]: Done  12 tasks      | elapsed:  6.1min\n",
      "[Parallel(n_jobs=3)]: Done  18 out of  20 | elapsed:  9.3min remaining:  1.0min\n",
      "[Parallel(n_jobs=3)]: Done  20 out of  20 | elapsed: 10.6min finished\n"
     ]
    },
    {
     "name": "stdout",
     "output_type": "stream",
     "text": [
      "Best score: -1250.945\n",
      "Best parameters set: {'max_depth': 17}\n"
     ]
    }
   ],
   "source": [
    "cv_params = {'max_depth':[13,14,15,16,17]}\n",
    "other_params = {'n_estimators':110,'min_samples_split':100,'max_features':'sqrt',\n",
    "                'random_state':1234}\n",
    "RF_model = RandomForestRegressor(**other_params)\n",
    "optimized_RF = GridSearchCV(estimator=RF_model, param_grid=cv_params, scoring=log_mae_scorer, cv=4, verbose=10, n_jobs=3)\n",
    "optimized_RF.fit(train_x, train_y)\n",
    "print(\"Best score: %0.3f\" % optimized_RF.best_score_)\n",
    "print(\"Best parameters set:\", optimized_RF.best_params_)"
   ]
  },
  {
   "cell_type": "code",
   "execution_count": 20,
   "metadata": {},
   "outputs": [
    {
     "name": "stdout",
     "output_type": "stream",
     "text": [
      "Fitting 4 folds for each of 4 candidates, totalling 16 fits\n"
     ]
    },
    {
     "name": "stderr",
     "output_type": "stream",
     "text": [
      "[Parallel(n_jobs=3)]: Using backend LokyBackend with 3 concurrent workers.\n",
      "[Parallel(n_jobs=3)]: Done   2 tasks      | elapsed:  1.8min\n",
      "[Parallel(n_jobs=3)]: Done   7 tasks      | elapsed:  5.2min\n",
      "[Parallel(n_jobs=3)]: Done  13 out of  16 | elapsed:  9.0min remaining:  2.1min\n",
      "[Parallel(n_jobs=3)]: Done  16 out of  16 | elapsed: 10.3min finished\n"
     ]
    },
    {
     "name": "stdout",
     "output_type": "stream",
     "text": [
      "Best score: -1238.480\n",
      "Best parameters set: {'max_depth': 22}\n"
     ]
    }
   ],
   "source": [
    "cv_params = {'max_depth':[17,19,21,22]}\n",
    "other_params = {'n_estimators':110,'min_samples_split':100,'max_features':'sqrt',\n",
    "                'random_state':1234}\n",
    "RF_model = RandomForestRegressor(**other_params)\n",
    "optimized_RF = GridSearchCV(estimator=RF_model, param_grid=cv_params, scoring=log_mae_scorer, cv=4, verbose=10, n_jobs=3)\n",
    "optimized_RF.fit(train_x, train_y)\n",
    "print(\"Best score: %0.3f\" % optimized_RF.best_score_)\n",
    "print(\"Best parameters set:\", optimized_RF.best_params_)"
   ]
  },
  {
   "cell_type": "code",
   "execution_count": 21,
   "metadata": {},
   "outputs": [
    {
     "name": "stdout",
     "output_type": "stream",
     "text": [
      "Fitting 4 folds for each of 4 candidates, totalling 16 fits\n"
     ]
    },
    {
     "name": "stderr",
     "output_type": "stream",
     "text": [
      "[Parallel(n_jobs=3)]: Using backend LokyBackend with 3 concurrent workers.\n",
      "[Parallel(n_jobs=3)]: Done   2 tasks      | elapsed:  2.2min\n",
      "[Parallel(n_jobs=3)]: Done   7 tasks      | elapsed:  6.2min\n",
      "[Parallel(n_jobs=3)]: Done  13 out of  16 | elapsed: 10.3min remaining:  2.4min\n",
      "[Parallel(n_jobs=3)]: Done  16 out of  16 | elapsed: 11.7min finished\n"
     ]
    },
    {
     "name": "stdout",
     "output_type": "stream",
     "text": [
      "Best score: -1234.724\n",
      "Best parameters set: {'max_depth': 29}\n"
     ]
    }
   ],
   "source": [
    "cv_params = {'max_depth':[23,25,27,29]}\n",
    "other_params = {'n_estimators':110,'min_samples_split':100,'max_features':'sqrt',\n",
    "                'random_state':1234}\n",
    "RF_model = RandomForestRegressor(**other_params)\n",
    "optimized_RF = GridSearchCV(estimator=RF_model, param_grid=cv_params, scoring=log_mae_scorer, cv=4, verbose=10, n_jobs=3)\n",
    "optimized_RF.fit(train_x, train_y)\n",
    "print(\"Best score: %0.3f\" % optimized_RF.best_score_)\n",
    "print(\"Best parameters set:\", optimized_RF.best_params_)"
   ]
  },
  {
   "cell_type": "code",
   "execution_count": 24,
   "metadata": {},
   "outputs": [
    {
     "name": "stdout",
     "output_type": "stream",
     "text": [
      "Fitting 4 folds for each of 4 candidates, totalling 16 fits\n"
     ]
    },
    {
     "name": "stderr",
     "output_type": "stream",
     "text": [
      "[Parallel(n_jobs=3)]: Using backend LokyBackend with 3 concurrent workers.\n",
      "[Parallel(n_jobs=3)]: Done   2 tasks      | elapsed:  2.2min\n",
      "[Parallel(n_jobs=3)]: Done   7 tasks      | elapsed:  6.3min\n",
      "[Parallel(n_jobs=3)]: Done  13 out of  16 | elapsed: 10.5min remaining:  2.4min\n",
      "[Parallel(n_jobs=3)]: Done  16 out of  16 | elapsed: 11.9min finished\n"
     ]
    },
    {
     "name": "stdout",
     "output_type": "stream",
     "text": [
      "Best score: -1233.915\n",
      "Best parameters set: {'max_depth': 33}\n"
     ]
    }
   ],
   "source": [
    "cv_params = {'max_depth':[29,31,33,35]}\n",
    "other_params = {'n_estimators':110,'min_samples_split':100,'max_features':'sqrt',\n",
    "                'random_state':1234}\n",
    "RF_model = RandomForestRegressor(**other_params)\n",
    "optimized_RF = GridSearchCV(estimator=RF_model, param_grid=cv_params, scoring=log_mae_scorer, cv=4, verbose=10, n_jobs=3)\n",
    "optimized_RF.fit(train_x, train_y)\n",
    "print(\"Best score: %0.3f\" % optimized_RF.best_score_)\n",
    "print(\"Best parameters set:\", optimized_RF.best_params_)"
   ]
  },
  {
   "cell_type": "code",
   "execution_count": 25,
   "metadata": {},
   "outputs": [
    {
     "name": "stdout",
     "output_type": "stream",
     "text": [
      "Fitting 4 folds for each of 3 candidates, totalling 12 fits\n"
     ]
    },
    {
     "name": "stderr",
     "output_type": "stream",
     "text": [
      "[Parallel(n_jobs=3)]: Using backend LokyBackend with 3 concurrent workers.\n",
      "[Parallel(n_jobs=3)]: Done   2 tasks      | elapsed:  2.3min\n",
      "[Parallel(n_jobs=3)]: Done   7 tasks      | elapsed:  6.5min\n",
      "[Parallel(n_jobs=3)]: Done   9 out of  12 | elapsed:  6.5min remaining:  2.2min\n",
      "[Parallel(n_jobs=3)]: Done  12 out of  12 | elapsed:  8.6min finished\n"
     ]
    },
    {
     "name": "stdout",
     "output_type": "stream",
     "text": [
      "Best score: -1233.592\n",
      "Best parameters set: {'max_depth': 34}\n"
     ]
    }
   ],
   "source": [
    "cv_params = {'max_depth':[32,33,34]}\n",
    "other_params = {'n_estimators':110,'min_samples_split':100,'max_features':'sqrt',\n",
    "                'random_state':1234}\n",
    "RF_model = RandomForestRegressor(**other_params)\n",
    "optimized_RF = GridSearchCV(estimator=RF_model, param_grid=cv_params, scoring=log_mae_scorer, cv=4, verbose=10, n_jobs=3)\n",
    "optimized_RF.fit(train_x, train_y)\n",
    "print(\"Best score: %0.3f\" % optimized_RF.best_score_)\n",
    "print(\"Best parameters set:\", optimized_RF.best_params_)"
   ]
  },
  {
   "cell_type": "code",
   "execution_count": 26,
   "metadata": {},
   "outputs": [
    {
     "name": "stdout",
     "output_type": "stream",
     "text": [
      "Fitting 4 folds for each of 3 candidates, totalling 12 fits\n"
     ]
    },
    {
     "name": "stderr",
     "output_type": "stream",
     "text": [
      "[Parallel(n_jobs=3)]: Using backend LokyBackend with 3 concurrent workers.\n",
      "[Parallel(n_jobs=3)]: Done   2 tasks      | elapsed:  2.2min\n",
      "[Parallel(n_jobs=3)]: Done   7 tasks      | elapsed:  6.4min\n",
      "[Parallel(n_jobs=3)]: Done   9 out of  12 | elapsed:  6.4min remaining:  2.1min\n",
      "[Parallel(n_jobs=3)]: Done  12 out of  12 | elapsed:  8.5min finished\n"
     ]
    },
    {
     "name": "stdout",
     "output_type": "stream",
     "text": [
      "Best score: -1233.418\n",
      "Best parameters set: {'max_depth': 36}\n"
     ]
    }
   ],
   "source": [
    "cv_params = {'max_depth':[34,36,38]}\n",
    "other_params = {'n_estimators':110,'min_samples_split':100,'max_features':'sqrt',\n",
    "                'random_state':1234}\n",
    "RF_model = RandomForestRegressor(**other_params)\n",
    "optimized_RF = GridSearchCV(estimator=RF_model, param_grid=cv_params, scoring=log_mae_scorer, cv=4, verbose=10, n_jobs=3)\n",
    "optimized_RF.fit(train_x, train_y)\n",
    "print(\"Best score: %0.3f\" % optimized_RF.best_score_)\n",
    "print(\"Best parameters set:\", optimized_RF.best_params_)"
   ]
  },
  {
   "cell_type": "code",
   "execution_count": 27,
   "metadata": {},
   "outputs": [
    {
     "name": "stdout",
     "output_type": "stream",
     "text": [
      "Fitting 4 folds for each of 1 candidates, totalling 4 fits\n"
     ]
    },
    {
     "name": "stderr",
     "output_type": "stream",
     "text": [
      "[Parallel(n_jobs=3)]: Using backend LokyBackend with 3 concurrent workers.\n",
      "[Parallel(n_jobs=3)]: Done   1 tasks      | elapsed:  2.3min\n",
      "[Parallel(n_jobs=3)]: Done   2 out of   4 | elapsed:  2.3min remaining:  2.3min\n",
      "[Parallel(n_jobs=3)]: Done   4 out of   4 | elapsed:  3.6min remaining:    0.0s\n",
      "[Parallel(n_jobs=3)]: Done   4 out of   4 | elapsed:  3.6min finished\n"
     ]
    },
    {
     "name": "stdout",
     "output_type": "stream",
     "text": [
      "Best score: -1233.758\n",
      "Best parameters set: {'max_depth': 40}\n"
     ]
    }
   ],
   "source": [
    "cv_params = {'max_depth':[40]}\n",
    "other_params = {'n_estimators':110,'min_samples_split':100,'max_features':'sqrt',\n",
    "                'random_state':1234}\n",
    "RF_model = RandomForestRegressor(**other_params)\n",
    "optimized_RF = GridSearchCV(estimator=RF_model, param_grid=cv_params, scoring=log_mae_scorer, cv=4, verbose=10, n_jobs=3)\n",
    "optimized_RF.fit(train_x, train_y)\n",
    "print(\"Best score: %0.3f\" % optimized_RF.best_score_)\n",
    "print(\"Best parameters set:\", optimized_RF.best_params_)"
   ]
  },
  {
   "cell_type": "code",
   "execution_count": 28,
   "metadata": {},
   "outputs": [
    {
     "name": "stdout",
     "output_type": "stream",
     "text": [
      "Fitting 4 folds for each of 4 candidates, totalling 16 fits\n"
     ]
    },
    {
     "name": "stderr",
     "output_type": "stream",
     "text": [
      "[Parallel(n_jobs=3)]: Using backend LokyBackend with 3 concurrent workers.\n",
      "[Parallel(n_jobs=3)]: Done   2 tasks      | elapsed:  2.5min\n",
      "[Parallel(n_jobs=3)]: Done   7 tasks      | elapsed:  6.7min\n",
      "[Parallel(n_jobs=3)]: Done  13 out of  16 | elapsed: 10.5min remaining:  2.4min\n",
      "[Parallel(n_jobs=3)]: Done  16 out of  16 | elapsed: 11.7min finished\n"
     ]
    },
    {
     "name": "stdout",
     "output_type": "stream",
     "text": [
      "Best score: -1220.989\n",
      "Best parameters set: {'min_samples_split': 50}\n"
     ]
    }
   ],
   "source": [
    "cv_params = {'min_samples_split':[50,100,150,200]}\n",
    "other_params = {'n_estimators':110,'max_depth':36,'max_features':'sqrt',\n",
    "                'random_state':1234}\n",
    "RF_model = RandomForestRegressor(**other_params)\n",
    "optimized_RF = GridSearchCV(estimator=RF_model, param_grid=cv_params, scoring=log_mae_scorer, cv=4, verbose=10, n_jobs=3)\n",
    "optimized_RF.fit(train_x, train_y)\n",
    "print(\"Best score: %0.3f\" % optimized_RF.best_score_)\n",
    "print(\"Best parameters set:\", optimized_RF.best_params_)"
   ]
  },
  {
   "cell_type": "code",
   "execution_count": 29,
   "metadata": {},
   "outputs": [
    {
     "name": "stdout",
     "output_type": "stream",
     "text": [
      "Fitting 4 folds for each of 3 candidates, totalling 12 fits\n"
     ]
    },
    {
     "name": "stderr",
     "output_type": "stream",
     "text": [
      "[Parallel(n_jobs=3)]: Using backend LokyBackend with 3 concurrent workers.\n",
      "[Parallel(n_jobs=3)]: Done   2 tasks      | elapsed:  2.9min\n",
      "[Parallel(n_jobs=3)]: Done   7 tasks      | elapsed:  7.9min\n",
      "[Parallel(n_jobs=3)]: Done   9 out of  12 | elapsed:  8.0min remaining:  2.7min\n",
      "[Parallel(n_jobs=3)]: Done  12 out of  12 | elapsed: 10.2min finished\n"
     ]
    },
    {
     "name": "stdout",
     "output_type": "stream",
     "text": [
      "Best score: -1211.377\n",
      "Best parameters set: {'min_samples_split': 20}\n"
     ]
    }
   ],
   "source": [
    "cv_params = {'min_samples_split':[20,40,60]}\n",
    "other_params = {'n_estimators':110,'max_depth':36,'max_features':'sqrt',\n",
    "                'random_state':1234}\n",
    "RF_model = RandomForestRegressor(**other_params)\n",
    "optimized_RF = GridSearchCV(estimator=RF_model, param_grid=cv_params, scoring=log_mae_scorer, cv=4, verbose=10, n_jobs=3)\n",
    "optimized_RF.fit(train_x, train_y)\n",
    "print(\"Best score: %0.3f\" % optimized_RF.best_score_)\n",
    "print(\"Best parameters set:\", optimized_RF.best_params_)"
   ]
  },
  {
   "cell_type": "code",
   "execution_count": 31,
   "metadata": {},
   "outputs": [],
   "source": [
    "optimal_params = {'n_estimators':110,'max_depth':36,'min_samples_split':20,'max_features':'sqrt',\n",
    "                'random_state':1234}"
   ]
  },
  {
   "cell_type": "markdown",
   "metadata": {},
   "source": [
    "### Random Forest Modeling "
   ]
  },
  {
   "cell_type": "code",
   "execution_count": 33,
   "metadata": {},
   "outputs": [],
   "source": [
    "model_RF = RandomForestRegressor(n_estimators=110,max_depth=36,min_samples_split=20,max_features='sqrt',\n",
    "                                 random_state=1234)"
   ]
  },
  {
   "cell_type": "code",
   "execution_count": 34,
   "metadata": {},
   "outputs": [
    {
     "data": {
      "text/plain": [
       "RandomForestRegressor(bootstrap=True, criterion='mse', max_depth=36,\n",
       "           max_features='sqrt', max_leaf_nodes=None,\n",
       "           min_impurity_decrease=0.0, min_impurity_split=None,\n",
       "           min_samples_leaf=1, min_samples_split=20,\n",
       "           min_weight_fraction_leaf=0.0, n_estimators=110, n_jobs=None,\n",
       "           oob_score=False, random_state=1234, verbose=0, warm_start=False)"
      ]
     },
     "execution_count": 34,
     "metadata": {},
     "output_type": "execute_result"
    }
   ],
   "source": [
    "model_RF.fit(train_x, train_y)"
   ]
  },
  {
   "cell_type": "code",
   "execution_count": 37,
   "metadata": {},
   "outputs": [
    {
     "name": "stdout",
     "output_type": "stream",
     "text": [
      "Submission created\n"
     ]
    }
   ],
   "source": [
    "pred_y = np.exp(model_RF.predict(test_x))-200\n",
    "results = pd.DataFrame()\n",
    "results['id'] = full_data[train_size:].id\n",
    "results['loss'] = pred_y\n",
    "results.to_csv('output_RF.csv', index=False)\n",
    "print('Submission created')"
   ]
  },
  {
   "cell_type": "code",
   "execution_count": null,
   "metadata": {},
   "outputs": [],
   "source": []
  }
 ],
 "metadata": {
  "kernelspec": {
   "display_name": "Python 3",
   "language": "python",
   "name": "python3"
  },
  "language_info": {
   "codemirror_mode": {
    "name": "ipython",
    "version": 3
   },
   "file_extension": ".py",
   "mimetype": "text/x-python",
   "name": "python",
   "nbconvert_exporter": "python",
   "pygments_lexer": "ipython3",
   "version": "3.6.8"
  }
 },
 "nbformat": 4,
 "nbformat_minor": 2
}
