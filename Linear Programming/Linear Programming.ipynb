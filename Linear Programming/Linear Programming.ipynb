{
 "cells": [
  {
   "cell_type": "code",
   "execution_count": 53,
   "metadata": {},
   "outputs": [],
   "source": [
    "import numpy as np\n",
    "import pandas as pd\n",
    "import pyomo.environ as pyo\n",
    "from pyomo.environ import *\n",
    "from pyomo.opt import SolverFactory"
   ]
  },
  {
   "cell_type": "markdown",
   "metadata": {},
   "source": [
    "### Example 1"
   ]
  },
  {
   "cell_type": "markdown",
   "metadata": {},
   "source": [
    "Maximize z = 5x + 4y\n",
    "\n",
    "s.t.\n",
    "\n",
    "    6x+4y <= 24\n",
    "    1x+2y <= 6\n",
    "    -1x+1y <= 1"
   ]
  },
  {
   "cell_type": "code",
   "execution_count": 58,
   "metadata": {},
   "outputs": [
    {
     "name": "stdout",
     "output_type": "stream",
     "text": [
      "x: 3.0\n",
      "y: 1.5\n",
      "z: 21.0\n",
      "2 Var Declarations\n",
      "    x : Size=1, Index=None\n",
      "        Key  : Lower : Value : Upper : Fixed : Stale : Domain\n",
      "        None :     0 :   3.0 :  None : False : False :  Reals\n",
      "    y : Size=1, Index=None\n",
      "        Key  : Lower : Value : Upper : Fixed : Stale : Domain\n",
      "        None :     0 :   1.5 :     2 : False : False :  Reals\n",
      "\n",
      "1 Objective Declarations\n",
      "    obj : Size=1, Index=None, Active=True\n",
      "        Key  : Active : Sense    : Expression\n",
      "        None :   True : maximize : 5*x + 4*y\n",
      "\n",
      "3 Constraint Declarations\n",
      "    c1 : Size=1, Index=None, Active=True\n",
      "        Key  : Lower : Body      : Upper : Active\n",
      "        None :  -Inf : 6*x + 4*y :  24.0 :   True\n",
      "    c2 : Size=1, Index=None, Active=True\n",
      "        Key  : Lower : Body    : Upper : Active\n",
      "        None :  -Inf : x + 2*y :   6.0 :   True\n",
      "    c3 : Size=1, Index=None, Active=True\n",
      "        Key  : Lower : Body    : Upper : Active\n",
      "        None :  -Inf : - x + y :   1.0 :   True\n",
      "\n",
      "6 Declarations: x y obj c1 c2 c3\n"
     ]
    }
   ],
   "source": [
    "model = pyo.ConcreteModel()\n",
    "\n",
    "model.x = pyo.Var(bounds=(0, None))\n",
    "model.y = pyo.Var(bounds=(0, 2))\n",
    "\n",
    "x = model.x\n",
    "y = model.y\n",
    "\n",
    "model.obj = pyo.Objective(expr= 5*x+4*y, sense=maximize)\n",
    "model.c1 = pyo.Constraint(expr= 6*x+4*y <= 24)\n",
    "model.c2 = pyo.Constraint(expr= 1*x+2*y <= 6)\n",
    "model.c3 = pyo.Constraint(expr= -1*x+1*y <= 1)\n",
    "\n",
    "opt = SolverFactory('glpk')\n",
    "opt.solve(model)\n",
    "\n",
    "x_value = pyo.value(x)\n",
    "y_value = pyo.value(y)\n",
    "z_value = model.obj()\n",
    "print('x:', x_value)\n",
    "print('y:', y_value)\n",
    "print('z:', z_value)\n",
    "\n",
    "model.pprint()"
   ]
  },
  {
   "cell_type": "code",
   "execution_count": null,
   "metadata": {},
   "outputs": [],
   "source": []
  },
  {
   "cell_type": "markdown",
   "metadata": {},
   "source": [
    "### Transportation Model"
   ]
  },
  {
   "cell_type": "code",
   "execution_count": 20,
   "metadata": {},
   "outputs": [
    {
     "data": {
      "text/plain": [
       "{'availabilities': {'S1': 14, 'S2': 26, 'S3': 11},\n",
       " 'demands': {'C1': 5, 'C2': 13, 'C3': 15, 'C4': 17},\n",
       " 'costs': [{'from': 'S1', 'to': 'C1', 'value': 10},\n",
       "  {'from': 'S1', 'to': 'C2', 'value': 5},\n",
       "  {'from': 'S1', 'to': 'C3', 'value': 20},\n",
       "  {'from': 'S1', 'to': 'C4', 'value': 12},\n",
       "  {'from': 'S2', 'to': 'C1', 'value': 12},\n",
       "  {'from': 'S2', 'to': 'C2', 'value': 7},\n",
       "  {'from': 'S2', 'to': 'C3', 'value': 12},\n",
       "  {'from': 'S2', 'to': 'C4', 'value': 19},\n",
       "  {'from': 'S3', 'to': 'C1', 'value': 6},\n",
       "  {'from': 'S3', 'to': 'C2', 'value': 12},\n",
       "  {'from': 'S3', 'to': 'C3', 'value': 16},\n",
       "  {'from': 'S3', 'to': 'C4', 'value': 17}]}"
      ]
     },
     "execution_count": 20,
     "metadata": {},
     "output_type": "execute_result"
    }
   ],
   "source": [
    "with open(\"input_transp.json\", mode=\"r\", encoding='utf8') as file:\n",
    "    input_data = json.load(file)\n",
    "input_data"
   ]
  },
  {
   "cell_type": "code",
   "execution_count": 30,
   "metadata": {},
   "outputs": [
    {
     "data": {
      "text/plain": [
       "{('S1', 'C1'): 10,\n",
       " ('S1', 'C2'): 5,\n",
       " ('S1', 'C3'): 20,\n",
       " ('S1', 'C4'): 12,\n",
       " ('S2', 'C1'): 12,\n",
       " ('S2', 'C2'): 7,\n",
       " ('S2', 'C3'): 12,\n",
       " ('S2', 'C4'): 19,\n",
       " ('S3', 'C1'): 6,\n",
       " ('S3', 'C2'): 12,\n",
       " ('S3', 'C3'): 16,\n",
       " ('S3', 'C4'): 17}"
      ]
     },
     "execution_count": 30,
     "metadata": {},
     "output_type": "execute_result"
    }
   ],
   "source": [
    "#create local variable to store input parameters\n",
    "availabilities = input_data['availabilities']\n",
    "demands = input_data['demands']\n",
    "\n",
    "#dictionary of costs indexed by tuples (origin, destination)\n",
    "costs = {(c['from'], c['to']): c['value'] for c in input_data['costs']}\n",
    "costs"
   ]
  },
  {
   "cell_type": "code",
   "execution_count": 31,
   "metadata": {},
   "outputs": [
    {
     "data": {
      "text/plain": [
       "(dict_keys(['S1', 'S2', 'S3']), dict_keys(['C1', 'C2', 'C3', 'C4']))"
      ]
     },
     "execution_count": 31,
     "metadata": {},
     "output_type": "execute_result"
    }
   ],
   "source": [
    "availabilities.keys(), demands.keys()"
   ]
  },
  {
   "cell_type": "code",
   "execution_count": 32,
   "metadata": {},
   "outputs": [
    {
     "name": "stdout",
     "output_type": "stream",
     "text": [
      "I : Size=1, Index=None, Ordered=Insertion\n",
      "    Key  : Dimen : Domain : Size : Members\n",
      "    None :     1 :    Any :    3 : {'S1', 'S2', 'S3'}\n"
     ]
    }
   ],
   "source": [
    "model = pyo.ConcreteModel()\n",
    "# suppliers I and customers J\n",
    "model.I = pyo.Set(initialize=availabilities.keys())\n",
    "model.J = pyo.Set(initialize=demands.keys())\n",
    "model.I.display()"
   ]
  },
  {
   "cell_type": "code",
   "execution_count": 33,
   "metadata": {},
   "outputs": [
    {
     "name": "stdout",
     "output_type": "stream",
     "text": [
      "c : Size=12, Index=I*J, Domain=Any, Default=None, Mutable=False\n",
      "    Key          : Value\n",
      "    ('S1', 'C1') :    10\n",
      "    ('S1', 'C2') :     5\n",
      "    ('S1', 'C3') :    20\n",
      "    ('S1', 'C4') :    12\n",
      "    ('S2', 'C1') :    12\n",
      "    ('S2', 'C2') :     7\n",
      "    ('S2', 'C3') :    12\n",
      "    ('S2', 'C4') :    19\n",
      "    ('S3', 'C1') :     6\n",
      "    ('S3', 'C2') :    12\n",
      "    ('S3', 'C3') :    16\n",
      "    ('S3', 'C4') :    17\n"
     ]
    }
   ],
   "source": [
    "# parameters\n",
    "model.b = pyo.Param(model.I, initialize=availabilities)\n",
    "model.d = pyo.Param(model.J, initialize=demands)\n",
    "model.c = pyo.Param(model.I, model.J, initialize=costs)\n",
    "model.c.display()"
   ]
  },
  {
   "cell_type": "code",
   "execution_count": 38,
   "metadata": {},
   "outputs": [
    {
     "name": "stdout",
     "output_type": "stream",
     "text": [
      "WARNING: Implicitly replacing the Component attribute x (type=<class\n",
      "'pyomo.core.base.var.IndexedVar'>) on block unknown with a new Component\n",
      "(type=<class 'pyomo.core.base.var.IndexedVar'>). This is usually indicative of\n",
      "a modelling error. To avoid this warning, use block.del_component() and\n",
      "block.add_component().\n",
      "x : Size=12, Index=I*J\n",
      "    Key          : Lower : Value : Upper : Fixed : Stale : Domain\n",
      "    ('S1', 'C1') :     0 :  None :  None : False :  True : NonNegativeReals\n",
      "    ('S1', 'C2') :     0 :  None :  None : False :  True : NonNegativeReals\n",
      "    ('S1', 'C3') :     0 :  None :  None : False :  True : NonNegativeReals\n",
      "    ('S1', 'C4') :     0 :  None :  None : False :  True : NonNegativeReals\n",
      "    ('S2', 'C1') :     0 :  None :  None : False :  True : NonNegativeReals\n",
      "    ('S2', 'C2') :     0 :  None :  None : False :  True : NonNegativeReals\n",
      "    ('S2', 'C3') :     0 :  None :  None : False :  True : NonNegativeReals\n",
      "    ('S2', 'C4') :     0 :  None :  None : False :  True : NonNegativeReals\n",
      "    ('S3', 'C1') :     0 :  None :  None : False :  True : NonNegativeReals\n",
      "    ('S3', 'C2') :     0 :  None :  None : False :  True : NonNegativeReals\n",
      "    ('S3', 'C3') :     0 :  None :  None : False :  True : NonNegativeReals\n",
      "    ('S3', 'C4') :     0 :  None :  None : False :  True : NonNegativeReals\n"
     ]
    }
   ],
   "source": [
    "# dicision variables\n",
    "model.x = pyo.Var(model.I, model.J, within=pyo.NonNegativeReals)\n",
    "model.x.display()"
   ]
  },
  {
   "cell_type": "code",
   "execution_count": 39,
   "metadata": {},
   "outputs": [
    {
     "name": "stdout",
     "output_type": "stream",
     "text": [
      "av_cstr : Size=3, Index=I, Active=True\n",
      "    Key : Lower : Body                                      : Upper : Active\n",
      "     S1 :  -Inf : x[S1,C1] + x[S1,C2] + x[S1,C3] + x[S1,C4] :  14.0 :   True\n",
      "     S2 :  -Inf : x[S2,C1] + x[S2,C2] + x[S2,C3] + x[S2,C4] :  26.0 :   True\n",
      "     S3 :  -Inf : x[S3,C1] + x[S3,C2] + x[S3,C3] + x[S3,C4] :  11.0 :   True\n"
     ]
    }
   ],
   "source": [
    "#supplier availability constraints\n",
    "def av_cstr(model, i):\n",
    "    return sum(model.x[i, :]) <= model.b[i]\n",
    "model.av_cstr = pyo.Constraint(model.I, rule=av_cstr)\n",
    "model.av_cstr.pprint()"
   ]
  },
  {
   "cell_type": "code",
   "execution_count": 44,
   "metadata": {},
   "outputs": [
    {
     "name": "stdout",
     "output_type": "stream",
     "text": [
      "WARNING: Implicitly replacing the Component attribute dem_cstr (type=<class\n",
      "'pyomo.core.base.constraint.IndexedConstraint'>) on block unknown with a new\n",
      "Component (type=<class 'pyomo.core.base.constraint.IndexedConstraint'>). This\n",
      "is usually indicative of a modelling error. To avoid this warning, use\n",
      "block.del_component() and block.add_component().\n",
      "dem_cstr : Size=4, Index=J, Active=True\n",
      "    Key : Lower : Body                           : Upper : Active\n",
      "     C1 :   5.0 : x[S1,C1] + x[S2,C1] + x[S3,C1] :   5.0 :   True\n",
      "     C2 :  13.0 : x[S1,C2] + x[S2,C2] + x[S3,C2] :  13.0 :   True\n",
      "     C3 :  15.0 : x[S1,C3] + x[S2,C3] + x[S3,C3] :  15.0 :   True\n",
      "     C4 :  17.0 : x[S1,C4] + x[S2,C4] + x[S3,C4] :  17.0 :   True\n"
     ]
    }
   ],
   "source": [
    "#demand equality constraints\n",
    "def dem_cstr(model, j):\n",
    "    return sum(model.x[:, j]) == model.d[j]\n",
    "model.dem_cstr = pyo.Constraint(model.J, rule=dem_cstr)\n",
    "model.dem_cstr.pprint()"
   ]
  },
  {
   "cell_type": "code",
   "execution_count": 47,
   "metadata": {},
   "outputs": [
    {
     "name": "stdout",
     "output_type": "stream",
     "text": [
      "WARNING: Implicitly replacing the Component attribute obj (type=<class\n",
      "'pyomo.core.base.objective.ScalarObjective'>) on block unknown with a new\n",
      "Component (type=<class 'pyomo.core.base.objective.ScalarObjective'>). This is\n",
      "usually indicative of a modelling error. To avoid this warning, use\n",
      "block.del_component() and block.add_component().\n"
     ]
    }
   ],
   "source": [
    "#objective function\n",
    "def obj(model):\n",
    "    total_cost = sum(model.c[i, j]*model.x[i, j] for i in model.I for j in model.J)\n",
    "    return total_cost\n",
    "model.obj = pyo.Objective(rule=obj, sense=pyo.minimize)"
   ]
  },
  {
   "cell_type": "code",
   "execution_count": 48,
   "metadata": {},
   "outputs": [
    {
     "data": {
      "text/plain": [
       "{'Problem': [{'Name': 'unknown', 'Lower bound': 526.0, 'Upper bound': 526.0, 'Number of objectives': 1, 'Number of constraints': 7, 'Number of variables': 12, 'Number of nonzeros': 24, 'Sense': 'minimize'}], 'Solver': [{'Status': 'ok', 'Termination condition': 'optimal', 'Statistics': {'Branch and bound': {'Number of bounded subproblems': 0, 'Number of created subproblems': 0}}, 'Error rc': 0, 'Time': 0.046597957611083984}], 'Solution': [OrderedDict([('number of solutions', 0), ('number of solutions displayed', 0)])]}"
      ]
     },
     "execution_count": 48,
     "metadata": {},
     "output_type": "execute_result"
    }
   ],
   "source": [
    "solver = pyo.SolverFactory('glpk')\n",
    "solver.solve(model)"
   ]
  },
  {
   "cell_type": "code",
   "execution_count": 49,
   "metadata": {},
   "outputs": [
    {
     "data": {
      "text/plain": [
       "526.0"
      ]
     },
     "execution_count": 49,
     "metadata": {},
     "output_type": "execute_result"
    }
   ],
   "source": [
    "model.obj()"
   ]
  },
  {
   "cell_type": "code",
   "execution_count": 50,
   "metadata": {},
   "outputs": [
    {
     "data": {
      "text/plain": [
       "{('S1', 'C1'): 0.0,\n",
       " ('S1', 'C2'): 2.0,\n",
       " ('S1', 'C3'): 0.0,\n",
       " ('S1', 'C4'): 12.0,\n",
       " ('S2', 'C1'): 0.0,\n",
       " ('S2', 'C2'): 11.0,\n",
       " ('S2', 'C3'): 15.0,\n",
       " ('S2', 'C4'): 0.0,\n",
       " ('S3', 'C1'): 5.0,\n",
       " ('S3', 'C2'): 0.0,\n",
       " ('S3', 'C3'): 0.0,\n",
       " ('S3', 'C4'): 5.0}"
      ]
     },
     "execution_count": 50,
     "metadata": {},
     "output_type": "execute_result"
    }
   ],
   "source": [
    "model.x.extract_values()"
   ]
  },
  {
   "cell_type": "code",
   "execution_count": 51,
   "metadata": {},
   "outputs": [
    {
     "data": {
      "text/plain": [
       "[{'from': 'S1', 'to': 'C1', 'value': 0.0},\n",
       " {'from': 'S1', 'to': 'C2', 'value': 2.0},\n",
       " {'from': 'S1', 'to': 'C3', 'value': 0.0},\n",
       " {'from': 'S1', 'to': 'C4', 'value': 12.0},\n",
       " {'from': 'S2', 'to': 'C1', 'value': 0.0},\n",
       " {'from': 'S2', 'to': 'C2', 'value': 11.0},\n",
       " {'from': 'S2', 'to': 'C3', 'value': 15.0},\n",
       " {'from': 'S2', 'to': 'C4', 'value': 0.0},\n",
       " {'from': 'S3', 'to': 'C1', 'value': 5.0},\n",
       " {'from': 'S3', 'to': 'C2', 'value': 0.0},\n",
       " {'from': 'S3', 'to': 'C3', 'value': 0.0},\n",
       " {'from': 'S3', 'to': 'C4', 'value': 5.0}]"
      ]
     },
     "execution_count": 51,
     "metadata": {},
     "output_type": "execute_result"
    }
   ],
   "source": [
    "sol = [\n",
    "    {'from': i, 'to': j, 'value': val}\n",
    "    for (i, j), val in model.x.extract_values().items()\n",
    "]\n",
    "sol"
   ]
  },
  {
   "cell_type": "code",
   "execution_count": 55,
   "metadata": {},
   "outputs": [
    {
     "data": {
      "text/html": [
       "<div>\n",
       "<style scoped>\n",
       "    .dataframe tbody tr th:only-of-type {\n",
       "        vertical-align: middle;\n",
       "    }\n",
       "\n",
       "    .dataframe tbody tr th {\n",
       "        vertical-align: top;\n",
       "    }\n",
       "\n",
       "    .dataframe thead th {\n",
       "        text-align: right;\n",
       "    }\n",
       "</style>\n",
       "<table border=\"1\" class=\"dataframe\">\n",
       "  <thead>\n",
       "    <tr style=\"text-align: right;\">\n",
       "      <th>to</th>\n",
       "      <th>C1</th>\n",
       "      <th>C2</th>\n",
       "      <th>C3</th>\n",
       "      <th>C4</th>\n",
       "    </tr>\n",
       "    <tr>\n",
       "      <th>from</th>\n",
       "      <th></th>\n",
       "      <th></th>\n",
       "      <th></th>\n",
       "      <th></th>\n",
       "    </tr>\n",
       "  </thead>\n",
       "  <tbody>\n",
       "    <tr>\n",
       "      <th>S1</th>\n",
       "      <td>0.0</td>\n",
       "      <td>2.0</td>\n",
       "      <td>0.0</td>\n",
       "      <td>12.0</td>\n",
       "    </tr>\n",
       "    <tr>\n",
       "      <th>S2</th>\n",
       "      <td>0.0</td>\n",
       "      <td>11.0</td>\n",
       "      <td>15.0</td>\n",
       "      <td>0.0</td>\n",
       "    </tr>\n",
       "    <tr>\n",
       "      <th>S3</th>\n",
       "      <td>5.0</td>\n",
       "      <td>0.0</td>\n",
       "      <td>0.0</td>\n",
       "      <td>5.0</td>\n",
       "    </tr>\n",
       "  </tbody>\n",
       "</table>\n",
       "</div>"
      ],
      "text/plain": [
       "to     C1    C2    C3    C4\n",
       "from                       \n",
       "S1    0.0   2.0   0.0  12.0\n",
       "S2    0.0  11.0  15.0   0.0\n",
       "S3    5.0   0.0   0.0   5.0"
      ]
     },
     "execution_count": 55,
     "metadata": {},
     "output_type": "execute_result"
    }
   ],
   "source": [
    "df = pd.DataFrame(sol).pivot(index='from', columns='to', values='value')\n",
    "df"
   ]
  },
  {
   "cell_type": "code",
   "execution_count": null,
   "metadata": {},
   "outputs": [],
   "source": []
  }
 ],
 "metadata": {
  "kernelspec": {
   "display_name": "Python 3",
   "language": "python",
   "name": "python3"
  },
  "language_info": {
   "codemirror_mode": {
    "name": "ipython",
    "version": 3
   },
   "file_extension": ".py",
   "mimetype": "text/x-python",
   "name": "python",
   "nbconvert_exporter": "python",
   "pygments_lexer": "ipython3",
   "version": "3.8.8"
  },
  "toc": {
   "base_numbering": 1,
   "nav_menu": {},
   "number_sections": true,
   "sideBar": true,
   "skip_h1_title": false,
   "title_cell": "Table of Contents",
   "title_sidebar": "Contents",
   "toc_cell": false,
   "toc_position": {},
   "toc_section_display": true,
   "toc_window_display": false
  }
 },
 "nbformat": 4,
 "nbformat_minor": 2
}
