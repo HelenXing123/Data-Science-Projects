{
 "cells": [
  {
   "cell_type": "markdown",
   "id": "20811706",
   "metadata": {},
   "source": [
    "### Introduction"
   ]
  },
  {
   "cell_type": "markdown",
   "id": "ee8e0f7a",
   "metadata": {},
   "source": [
    "**Capacitated Vehicle Routing Problem (CVRP)**\n",
    "* A depot must supply goods to a number of customers.\n",
    "\n",
    "* Each customer has a known demand.\n",
    "\n",
    "* A fleet of identical vehicles (with limited capacity) must deliver to all customers.\n",
    "\n",
    "* The goal is to minimize total travel cost (or distance), subject to capacity constraints and routing feasibility.\n"
   ]
  },
  {
   "cell_type": "markdown",
   "id": "54af069e",
   "metadata": {},
   "source": [
    "**Parameters**\n",
    "\n",
    "N={1,...,n}: set of client nodes (0 is the depot)\n",
    "\n",
    "V={0,1,...,n}: set of vetics (or nodes) (0 is the depot, others are client)\n",
    "\n",
    "A: set of arcs, with A={ (i, j) $\\in$ $V^2$: i !=j}  \n",
    "\n",
    "$c_ij$: cost (distance or time) from node i to j\n",
    "\n",
    "$d_i$: demand of customer i (with $d_0$=0)\n",
    "\n",
    "Q: capacity of each vehicle\n",
    "\n",
    "q: is the amount that has to be delivered to customer i $\\in$ N\n",
    "\n",
    "\n",
    "**Decision Variables**\n",
    "\n",
    "$x_{ij}$: 1 if the vehicle travels directly from i to j, 0 otherwise\n",
    "\n",
    "$u_i$: load (or cumulative load) at node i, used for subtour elimination. Without this \n",
    "variable, we cannot make circle routes\n",
    "\n",
    "\n",
    "**Objective Function**\n",
    "\n",
    "$$\n",
    "min \\sum_{i,j \\in A} x_{ij}c_{ij} \n",
    "$$\n",
    "\n",
    "\n",
    "**Constraints**\n",
    "\n",
    "Each client is visited exactly once:\n",
    "\n",
    "$$\n",
    "\\sum_{j \\in V,\\, j \\ne i} x_{ij} = 1   -----       i \\in N\n",
    "$$\n",
    "\n",
    "$$\n",
    "\\sum_{i \\in V,\\, i \\ne j} x_{ij} = 1    -----      j \\in N\n",
    "$$\n",
    "\n",
    "Subtour Elimination (MTZ formulation):\n",
    "\n",
    "                                   if xij = 1, then ui + qj = uj   i, j in A: j!=0, i!=0\n",
    "                                   \n",
    "$$\n",
    "q_i \\le u_i \\le Q  ----- i \\in N\n",
    "$$\n",
    "\n",
    "Binary decision variable:\n",
    "\n",
    "$$\n",
    "x_{ij} \\in {0,1} ----- i,j \\in A\n",
    "$$\n",
    "\n",
    "\n"
   ]
  },
  {
   "cell_type": "code",
   "execution_count": null,
   "id": "ca454353",
   "metadata": {},
   "outputs": [],
   "source": []
  },
  {
   "cell_type": "markdown",
   "id": "8b6cb574",
   "metadata": {},
   "source": [
    "**Explanation on Subtour Elimination**\n",
    "\n",
    "If arc (i, j) is used ($x_{ij}$ = 1), then enforce $u_i$ + $q_j$ = $u_j$\n",
    "\n",
    "it is equivalent to the statement as follows:\n",
    "\n",
    "$u_i$ + $q_j$ - $u_j$ <= M(1-$x_{ij}$)\n",
    "$u_i$ + $q_j$ - $u_j$ >= M(1-$x_{ij}$)"
   ]
  },
  {
   "cell_type": "code",
   "execution_count": 70,
   "id": "246dc746",
   "metadata": {},
   "outputs": [],
   "source": [
    "import numpy as np\n",
    "import matplotlib.pyplot as plt\n",
    "from gurobipy import Model, GRB, quicksum\n",
    "from collections import defaultdict\n",
    "from itertools import cycle"
   ]
  },
  {
   "cell_type": "markdown",
   "id": "cd2d67c2",
   "metadata": {},
   "source": [
    "### Create coodinators for clients"
   ]
  },
  {
   "cell_type": "code",
   "execution_count": 28,
   "id": "c47e109d",
   "metadata": {},
   "outputs": [],
   "source": [
    "rnd = np.random\n",
    "rnd.seed(0)\n",
    "n = 20  # numbre of clients\n",
    "xc = rnd.rand(n+1)*200\n",
    "yc = rnd.rand(n+1)*100"
   ]
  },
  {
   "cell_type": "code",
   "execution_count": 91,
   "id": "1c580fa9",
   "metadata": {},
   "outputs": [
    {
     "data": {
      "image/png": "[encoded data removed]",
      "text/plain": [
       "<Figure size 432x288 with 1 Axes>"
      ]
     },
     "metadata": {
      "needs_background": "light"
     },
     "output_type": "display_data"
    }
   ],
   "source": [
    "plt.plot(xc[0], yc[0], c='r', marker='s')\n",
    "plt.scatter(xc[1:], yc[1:], c='b')    \n",
    "plt.show()"
   ]
  },
  {
   "cell_type": "markdown",
   "id": "9fbb3fc1",
   "metadata": {},
   "source": [
    "### Modeling"
   ]
  },
  {
   "cell_type": "code",
   "execution_count": 30,
   "id": "9617a019",
   "metadata": {},
   "outputs": [],
   "source": [
    "N = [i for i in range(1, n+1)]\n",
    "V = [0] + N\n",
    "A = [(i, j) for i in V for j in V if i != j]\n",
    "c = {(i, j): np.hypot(xc[i]-xc[j], yc[i]-yc[j]) for i, j in A}\n",
    "Q = 20\n",
    "q = {i: rnd.randint(1, 10) for i in N}"
   ]
  },
  {
   "cell_type": "code",
   "execution_count": 31,
   "id": "98e51681",
   "metadata": {},
   "outputs": [
    {
     "data": {
      "text/plain": [
       "{1: <gurobi.Constr *Awaiting Model Update*>,\n",
       " 2: <gurobi.Constr *Awaiting Model Update*>,\n",
       " 3: <gurobi.Constr *Awaiting Model Update*>,\n",
       " 4: <gurobi.Constr *Awaiting Model Update*>,\n",
       " 5: <gurobi.Constr *Awaiting Model Update*>,\n",
       " 6: <gurobi.Constr *Awaiting Model Update*>,\n",
       " 7: <gurobi.Constr *Awaiting Model Update*>,\n",
       " 8: <gurobi.Constr *Awaiting Model Update*>,\n",
       " 9: <gurobi.Constr *Awaiting Model Update*>,\n",
       " 10: <gurobi.Constr *Awaiting Model Update*>,\n",
       " 11: <gurobi.Constr *Awaiting Model Update*>,\n",
       " 12: <gurobi.Constr *Awaiting Model Update*>,\n",
       " 13: <gurobi.Constr *Awaiting Model Update*>,\n",
       " 14: <gurobi.Constr *Awaiting Model Update*>,\n",
       " 15: <gurobi.Constr *Awaiting Model Update*>,\n",
       " 16: <gurobi.Constr *Awaiting Model Update*>,\n",
       " 17: <gurobi.Constr *Awaiting Model Update*>,\n",
       " 18: <gurobi.Constr *Awaiting Model Update*>,\n",
       " 19: <gurobi.Constr *Awaiting Model Update*>,\n",
       " 20: <gurobi.Constr *Awaiting Model Update*>}"
      ]
     },
     "execution_count": 31,
     "metadata": {},
     "output_type": "execute_result"
    }
   ],
   "source": [
    "model = Model('CVRP')\n",
    "x = model.addVars(A, vtype=GRB.BINARY, name='x')\n",
    "u = model.addVars(N, vtype=GRB.CONTINUOUS, name='u')\n",
    "\n",
    "model.setObjective(quicksum(x[i, j]*c[i, j] for i, j in A), GRB.MINIMIZE)\n",
    "\n",
    "model.addConstrs(quicksum(x[i, j] for j in V if j != i) == 1 for i in N)\n",
    "model.addConstrs(quicksum(x[i, j] for i in V if i != j) == 1 for j in N)\n",
    "model.addConstrs((x[i, j] == 1) >> (u[i]+q[j] == u[j])\n",
    "               for i, j in A if i != 0 and j != 0)\n",
    "model.addConstrs(u[i] >= q[i] for i in N)\n",
    "model.addConstrs(u[i] <= Q for i in N)"
   ]
  },
  {
   "cell_type": "markdown",
   "id": "421d618e",
   "metadata": {},
   "source": [
    "### Set parameter to allow stoping early to get good solution instead of optimal solution"
   ]
  },
  {
   "cell_type": "code",
   "execution_count": 32,
   "id": "1502a860",
   "metadata": {},
   "outputs": [
    {
     "name": "stdout",
     "output_type": "stream",
     "text": [
      "Set parameter MIPGap to value 0.1\n",
      "Set parameter TimeLimit to value 30\n",
      "Gurobi Optimizer version 11.0.3 build v11.0.3rc0 (mac64[x86] - Darwin 19.6.0 19H2026)\n",
      "\n",
      "CPU model: Intel(R) Core(TM) i5-7360U CPU @ 2.30GHz\n",
      "Thread count: 2 physical cores, 4 logical processors, using up to 4 threads\n",
      "\n",
      "Optimize a model with 80 rows, 440 columns and 840 nonzeros\n",
      "Model fingerprint: 0xb42b2df9\n",
      "Model has 380 general constraints\n",
      "Variable types: 20 continuous, 420 integer (420 binary)\n",
      "Coefficient statistics:\n",
      "  Matrix range     [1e+00, 1e+00]\n",
      "  Objective range  [3e+00, 2e+02]\n",
      "  Bounds range     [1e+00, 1e+00]\n",
      "  RHS range        [1e+00, 2e+01]\n",
      "  GenCon rhs range [1e+00, 9e+00]\n",
      "  GenCon coe range [1e+00, 1e+00]\n",
      "Presolve added 578 rows and 76 columns\n",
      "Presolve time: 0.07s\n",
      "Presolved: 658 rows, 516 columns, 2892 nonzeros\n",
      "Variable types: 96 continuous, 420 integer (420 binary)\n",
      "Found heuristic solution: objective 2540.4720602\n",
      "Found heuristic solution: objective 2454.9075993\n",
      "Found heuristic solution: objective 2392.4141498\n",
      "\n",
      "Root relaxation: objective 4.641926e+02, 111 iterations, 0.01 seconds (0.00 work units)\n",
      "\n",
      "    Nodes    |    Current Node    |     Objective Bounds      |     Work\n",
      " Expl Unexpl |  Obj  Depth IntInf | Incumbent    BestBd   Gap | It/Node Time\n",
      "\n",
      "     0     0  464.19256    0   42 2392.41415  464.19256  80.6%     -    0s\n",
      "H    0     0                    1854.4154396  464.19256  75.0%     -    0s\n",
      "H    0     0                    1094.0345285  464.19256  57.6%     -    0s\n",
      "     0     0  485.15164    0   52 1094.03453  485.15164  55.7%     -    0s\n",
      "     0     0  513.40415    0   53 1094.03453  513.40415  53.1%     -    0s\n",
      "     0     0  574.54056    0   39 1094.03453  574.54056  47.5%     -    0s\n",
      "H    0     0                    1043.7331317  576.18758  44.8%     -    0s\n",
      "     0     0  576.18758    0   40 1043.73313  576.18758  44.8%     -    0s\n",
      "H    0     0                    1028.7522925  576.92510  43.9%     -    0s\n",
      "     0     0  576.92510    0   40 1028.75229  576.92510  43.9%     -    0s\n",
      "     0     0  576.92510    0   40 1028.75229  576.92510  43.9%     -    0s\n",
      "     0     0  576.92510    0   38 1028.75229  576.92510  43.9%     -    0s\n",
      "H    0     0                    1024.5650776  577.32762  43.7%     -    0s\n",
      "     0     0  577.32762    0   40 1024.56508  577.32762  43.7%     -    0s\n",
      "     0     0  577.32762    0   40 1024.56508  577.32762  43.7%     -    0s\n",
      "     0     0  577.32762    0   48 1024.56508  577.32762  43.7%     -    0s\n",
      "     0     0  577.88669    0   50 1024.56508  577.88669  43.6%     -    0s\n",
      "     0     0  577.88669    0   50 1024.56508  577.88669  43.6%     -    0s\n",
      "     0     0  577.88669    0   50 1024.56508  577.88669  43.6%     -    0s\n",
      "     0     0  578.00776    0   50 1024.56508  578.00776  43.6%     -    0s\n",
      "     0     2  581.98576    0   50 1024.56508  581.98576  43.2%     -    0s\n",
      "H    8    10                     985.8761562  581.98576  41.0%  24.4    0s\n",
      "H   29    36                     974.3266839  581.98576  40.3%  22.5    0s\n",
      "H  200   194                     969.5270675  581.98576  40.0%  16.3    0s\n",
      "H  365   337                     969.1836236  581.98576  40.0%  14.3    0s\n",
      "H  726   631                     965.4639083  582.45849  39.7%  14.3    1s\n",
      "H  958   769                     948.4043579  603.47015  36.4%  20.5    3s\n",
      "H 1018   774                     935.4930091  603.47015  35.5%  21.9    3s\n",
      "  1416   986  653.40464   25   47  935.49301  603.50750  35.5%  25.4    5s\n",
      "H14084  9616                     926.6848170  667.86910  27.9%  21.2    9s\n",
      " 14095  9915  773.34596   34   37  926.68482  668.11305  27.9%  21.2   10s\n",
      " 20700 14234  841.32895   74   50  926.68482  677.58977  26.9%  20.8   15s\n",
      " 20768 14279  874.94046   43   90  926.68482  677.58977  26.9%  20.8   20s\n",
      " 20829 14320  909.54338   62  100  926.68482  677.58977  26.9%  20.7   25s\n",
      " 21114 14522  810.43226   59   35  926.68482  677.58977  26.9%  21.4   30s\n",
      "\n",
      "Cutting planes:\n",
      "  Gomory: 3\n",
      "  Cover: 2\n",
      "  Implied bound: 3\n",
      "  Projected implied bound: 1\n",
      "  MIR: 17\n",
      "  Mixing: 1\n",
      "  StrongCG: 3\n",
      "  Flow cover: 69\n",
      "  Zero half: 7\n",
      "  Relax-and-lift: 3\n",
      "\n",
      "Explored 21129 nodes (452677 simplex iterations) in 30.02 seconds (25.63 work units)\n",
      "Thread count was 4 (of 4 available processors)\n",
      "\n",
      "Solution count 10: 926.685 935.493 948.404 ... 1028.75\n",
      "\n",
      "Time limit reached\n",
      "Best objective 9.266848169794e+02, best bound 6.775897663083e+02, gap 26.8802%\n"
     ]
    }
   ],
   "source": [
    "# You can stop early if you're 10% away from the optimal solution.\n",
    "model.Params.MIPGap = 0.1  # Set a 1% optimality gap\n",
    "model.Params.TimeLimit = 30  # # Stop solving after 30 seconds\n",
    "model.optimize()"
   ]
  },
  {
   "cell_type": "code",
   "execution_count": 67,
   "id": "c7dcb328",
   "metadata": {},
   "outputs": [
    {
     "data": {
      "text/plain": [
       "[[(0, 2), (2, 0)],\n",
       " [(0, 6), (6, 16), (16, 14), (14, 15), (15, 0)],\n",
       " [(0, 7), (7, 20), (20, 8), (8, 13), (13, 19), (19, 0)],\n",
       " [(0, 9), (9, 3), (3, 5), (5, 1), (1, 0)],\n",
       " [(0, 12), (12, 11), (11, 4), (4, 0)],\n",
       " [(0, 17), (17, 10), (10, 18), (18, 0)]]"
      ]
     },
     "execution_count": 67,
     "metadata": {},
     "output_type": "execute_result"
    }
   ],
   "source": [
    "from collections import defaultdict\n",
    "\n",
    "active_arcs_dic = defaultdict(list)\n",
    "for i, j in active_arcs:\n",
    "    active_arcs_dic[i].append((i, j))\n",
    "\n",
    "route_circles = []\n",
    "for i, j in active_arcs_dic[0]:\n",
    "    route_circles.append([(i, j)])\n",
    "    start, end = j, active_arcs_dic[j][0][1]\n",
    "    while end != 0:\n",
    "        route_circles[-1].append((start, end))\n",
    "        start, end = end, active_arcs_dic[end][0][1]\n",
    "    else:\n",
    "        route_circles[-1].append((start, end))\n",
    "route_circles  "
   ]
  },
  {
   "cell_type": "code",
   "execution_count": 113,
   "id": "c854aabb",
   "metadata": {},
   "outputs": [
    {
     "data": {
      "image/png": "[encoded data removed]",
      "text/plain": [
       "<Figure size 864x720 with 1 Axes>"
      ]
     },
     "metadata": {
      "needs_background": "light"
     },
     "output_type": "display_data"
    }
   ],
   "source": [
    "\n",
    "colors = cycle(['green', 'blue', 'orange', 'purple', 'magenta', 'pink', 'cyan'])\n",
    "\n",
    "plt.figure(figsize=(12, 10))\n",
    "\n",
    "for circle in route_circles:\n",
    "    color = next(colors)\n",
    "    for i, j in circle:\n",
    "        plt.plot([xc[i], xc[j]], [yc[i], yc[j]], c=color, zorder=0)\n",
    "plt.plot(xc[0], yc[0], c='r', marker='s')\n",
    "plt.scatter(xc[1:], yc[1:], c='grey')\n",
    "\n",
    "for i in V:\n",
    "    plt.text(xc[i], yc[i], V[i], ha='left', va='bottom')\n",
    "    \n",
    "plt.show()"
   ]
  },
  {
   "cell_type": "code",
   "execution_count": null,
   "id": "7ac13aae",
   "metadata": {},
   "outputs": [],
   "source": []
  }
 ],
 "metadata": {
  "kernelspec": {
   "display_name": "Python 3",
   "language": "python",
   "name": "python3"
  },
  "language_info": {
   "codemirror_mode": {
    "name": "ipython",
    "version": 3
   },
   "file_extension": ".py",
   "mimetype": "text/x-python",
   "name": "python",
   "nbconvert_exporter": "python",
   "pygments_lexer": "ipython3",
   "version": "3.8.8"
  },
  "toc": {
   "base_numbering": 1,
   "nav_menu": {},
   "number_sections": true,
   "sideBar": true,
   "skip_h1_title": false,
   "title_cell": "Table of Contents",
   "title_sidebar": "Contents",
   "toc_cell": false,
   "toc_position": {},
   "toc_section_display": true,
   "toc_window_display": false
  }
 },
 "nbformat": 4,
 "nbformat_minor": 5
}
