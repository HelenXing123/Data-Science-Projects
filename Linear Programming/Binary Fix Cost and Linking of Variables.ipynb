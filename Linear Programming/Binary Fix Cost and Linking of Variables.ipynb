{
 "cells": [
  {
   "cell_type": "markdown",
   "id": "14536058",
   "metadata": {},
   "source": [
    "**Problem:**\n",
    "\n",
    "Company receives order to supply 1000 units\n",
    "\n",
    "|                    | Machine_1 | Machine_2 | Machine_3 |\n",
    "|--------------------|-----------|-----------|-----------|\n",
    "| Variable Cost/unit |   2.39    |   1.99    |    2.99   | \n",
    "| Fixed Cost         |   300     |   250     |    400    | \n",
    "| Capacity           |   400     |   550     |    600    | \n",
    "\n",
    "\n",
    "Xi = number of units produced on machine i\n",
    "\n",
    "Yi = 1 if machine i is used, 0 otherwise"
   ]
  },
  {
   "cell_type": "code",
   "execution_count": 1,
   "id": "e2bb5e1f",
   "metadata": {},
   "outputs": [
    {
     "name": "stdout",
     "output_type": "stream",
     "text": [
      "Restricted license - for non-production use only - expires 2025-11-24\n",
      "Gurobi Optimizer version 11.0.3 build v11.0.3rc0 (mac64[x86] - Darwin 19.6.0 19H2026)\n",
      "\n",
      "CPU model: Intel(R) Core(TM) i5-7360U CPU @ 2.30GHz\n",
      "Thread count: 2 physical cores, 4 logical processors, using up to 4 threads\n",
      "\n",
      "Optimize a model with 4 rows, 6 columns and 9 nonzeros\n",
      "Model fingerprint: 0xcda464c6\n",
      "Variable types: 3 continuous, 3 integer (3 binary)\n",
      "Coefficient statistics:\n",
      "  Matrix range     [1e+00, 6e+02]\n",
      "  Objective range  [2e+00, 4e+02]\n",
      "  Bounds range     [1e+00, 1e+00]\n",
      "  RHS range        [1e+03, 1e+03]\n",
      "Presolve removed 4 rows and 6 columns\n",
      "Presolve time: 0.00s\n",
      "Presolve: All rows and columns removed\n",
      "\n",
      "Explored 0 nodes (0 simplex iterations) in 0.02 seconds (0.00 work units)\n",
      "Thread count was 1 (of 4 available processors)\n",
      "\n",
      "Solution count 1: 3090 \n",
      "\n",
      "Optimal solution found (tolerance 1.00e-04)\n",
      "Best objective 3.090000000000e+03, best bound 3.090000000000e+03, gap 0.0000%\n"
     ]
    }
   ],
   "source": [
    "import gurobipy as gp\n",
    "from gurobipy import Model, GRB\n",
    "\n",
    "# Create a new model\n",
    "model = gp.Model(\"MultiProductFixedCost\")\n",
    "\n",
    "# Set product from machines\n",
    "machines = ['Machine_1', 'Machine_2', 'Machine_3']\n",
    "\n",
    "# Set parameters\n",
    "variable_cost = {'Machine_1': 2.39, 'Machine_2': 1.99, 'Machine_3': 2.99}\n",
    "fixed_cost = {'Machine_1': 300, 'Machine_2': 250, 'Machine_3': 400}\n",
    "capacity = {'Machine_1': 400, 'Machine_2': 550, 'Machine_3': 600}\n",
    "order = 1000 # to supply 1000 units\n",
    "\n",
    "# Set decision variables: INTEGER, CONTINUOUS, BINARY\n",
    "X = model.addVars(machines,lb=0, vtype=GRB.CONTINUOUS, name='Prod')\n",
    "Y = model.addVars(machines,lb=0, vtype=GRB.BINARY, name='Setup')\n",
    "\n",
    "# Set objective function GRB.MAXIMIZE\n",
    "model.setObjective(\n",
    "    gp.quicksum(variable_cost[m]*X[m] + fixed_cost[m]*Y[m] for m in machines),\n",
    "    GRB.MINIMIZE\n",
    ")\n",
    "\n",
    "# Add constraints\n",
    "model.addConstr(gp.quicksum(X[m] for m in machines) == order, 'Order')\n",
    "for m in machines:\n",
    "    model.addConstr(X[m] <= capacity[m]*Y[m], f'{m}_Capacity')\n",
    "\n",
    "# Optimize the model\n",
    "model.optimize()"
   ]
  },
  {
   "cell_type": "code",
   "execution_count": 2,
   "id": "ada5a16e",
   "metadata": {},
   "outputs": [
    {
     "name": "stdout",
     "output_type": "stream",
     "text": [
      "ObjVal = 3090.00\n",
      "\n",
      "    Variable            X \n",
      "-------------------------\n",
      "Prod[Machine_2]          550 \n",
      "Prod[Machine_3]          450 \n",
      "Setup[Machine_2]            1 \n",
      "Setup[Machine_3]            1 \n"
     ]
    }
   ],
   "source": [
    "print(f\"ObjVal = {model.ObjVal:.2f}\")\n",
    "model.printAttr('X')"
   ]
  },
  {
   "cell_type": "code",
   "execution_count": null,
   "id": "28783795",
   "metadata": {},
   "outputs": [],
   "source": []
  }
 ],
 "metadata": {
  "kernelspec": {
   "display_name": "Python 3",
   "language": "python",
   "name": "python3"
  },
  "language_info": {
   "codemirror_mode": {
    "name": "ipython",
    "version": 3
   },
   "file_extension": ".py",
   "mimetype": "text/x-python",
   "name": "python",
   "nbconvert_exporter": "python",
   "pygments_lexer": "ipython3",
   "version": "3.8.8"
  },
  "toc": {
   "base_numbering": 1,
   "nav_menu": {},
   "number_sections": true,
   "sideBar": true,
   "skip_h1_title": false,
   "title_cell": "Table of Contents",
   "title_sidebar": "Contents",
   "toc_cell": false,
   "toc_position": {},
   "toc_section_display": true,
   "toc_window_display": false
  }
 },
 "nbformat": 4,
 "nbformat_minor": 5
}
