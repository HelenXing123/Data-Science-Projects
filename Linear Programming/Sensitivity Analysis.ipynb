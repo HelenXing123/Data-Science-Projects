{
 "cells": [
  {
   "cell_type": "code",
   "execution_count": 45,
   "id": "b9d7a62f",
   "metadata": {},
   "outputs": [],
   "source": [
    "import numpy as np\n",
    "from gurobipy import Model, GRB, quicksum"
   ]
  },
  {
   "cell_type": "markdown",
   "id": "653984de",
   "metadata": {},
   "source": [
    "### Problem"
   ]
  },
  {
   "cell_type": "markdown",
   "id": "41bca64b",
   "metadata": {},
   "source": [
    "Maximize z = 35X1 + 40X2 + 43X3\n",
    "\n",
    "s.t.\n",
    "\n",
    "    2X1 + 4X2 + 5X3 <= 90  # Material A\n",
    "    2X1 + 1X2 + 3X3 <= 80  # Material B\n",
    "    4X1 + 3X2 + 4X3 <= 120 # Process A\n",
    "    1X1 + 1X2 + 2X3 >= 30  # Process B\n",
    "    X1, X2, X3, X4 >= 0"
   ]
  },
  {
   "cell_type": "markdown",
   "id": "419f5691",
   "metadata": {},
   "source": [
    "### Determin the value of a to e in sensitivity analysis"
   ]
  },
  {
   "attachments": {},
   "cell_type": "markdown",
   "id": "bdb249ca",
   "metadata": {},
   "source": [
    "Variable Cells\n",
    "\n",
    "| Name | Final Value | Reduced Cost | Objective Coefficient | Allowable Increase | Allowable Decrease | \n",
    "|------|------|------|------|------|------| \n",
    "| X1 | 21 | (b) | 35 | 18.333333 | 15 | \n",
    "| X2 | 12 | 0 | 40 | 30 | 7.0833333 | \n",
    "| X3 | (a) | -8.5 | 43 | 8.5 | 1E+30 |\n",
    "\n",
    "\n",
    "Constraints\n",
    "\n",
    "| Name | Final Value | Shadow Price | Constraint R.H. Side | Allowable Increase | Allowable Decrease | \n",
    "|------|------ |------ |------ |------ |------ | \n",
    "| Material A | 90 | 5.5 | (c) | 70 | 30 | \n",
    "| Material B | 54 | (d) | 80 | 1E+30 | 26 | \n",
    "| Process A | --- | 6 | 120 | 43.3333333 | 15 | \n",
    "| Process B | (e) | 0 | 30 | 3 | 1E+30 |"
   ]
  },
  {
   "cell_type": "markdown",
   "id": "76cb88c9",
   "metadata": {},
   "source": [
    "Answers:\n",
    "1. **a = 0** as we have non-zero reduced cost (-8.5) here. whenever there is a reduced cost that is not zero. it means that this variable is not in the optimal solution or the value of dedecsion variable is 0 at optimal solution\n",
    "2. **b = 0** as we have non-zero optimal solution for X1, variable X1 is in optimal solution, so reduced cost should be 0\n",
    "3. **c = 90** shadow price != 0 means Material A is binding constraint where LHS == RHS\n",
    "4. **d = 0** LHS =!= RHS indicates Material B is not binding constraint, so the shadow price = 0\n",
    "5. **e = 30** 1X1 + 1X2 + 2X3 = 1*21 + 1*12 + 2*0= 33"
   ]
  },
  {
   "attachments": {},
   "cell_type": "markdown",
   "id": "3a43b0ee",
   "metadata": {},
   "source": [
    "Variable Cells\n",
    "\n",
    "| Name | Final Value | Reduced Cost | Objective Coefficient | Allowable Increase | Allowable Decrease | \n",
    "|------|------|------|------|------|------| \n",
    "| X1 | 21 | 0 | 35 | 18.333333 | 15 | \n",
    "| X2 | 12 | 0 | 40 | 30 | 7.0833333 | \n",
    "| X3 | 0 | -8.5 | 43 | 8.5 | 1E+30 |\n",
    "\n",
    "\n",
    "Constraints\n",
    "\n",
    "| Name | Final Value | Shadow Price | Constraint R.H. Side | Allowable Increase | Allowable Decrease | \n",
    "|------|------ |------ |------ |------ |------ | \n",
    "| Material A | 90 | 5.5 | 90 | 70 | 30 | \n",
    "| Material B | 54 | 0 | 80 | 1E+30 | 26 | \n",
    "| Process A | 120 | 6 | 120 | 43.3333333 | 15 | \n",
    "| Process B | 33 | 0 | 30 | 3 | 1E+30 |"
   ]
  },
  {
   "cell_type": "markdown",
   "id": "9e2fa96d",
   "metadata": {},
   "source": [
    "### Generate Sensitivity report via Python Gurobi"
   ]
  },
  {
   "cell_type": "markdown",
   "id": "4b61a7b9",
   "metadata": {},
   "source": [
    "#### Code Sample 1: \n",
    "1. use loops to put in variables, constrains\n",
    "2. applicable to large number of variables, constrains"
   ]
  },
  {
   "cell_type": "code",
   "execution_count": 103,
   "id": "04aafa8b",
   "metadata": {},
   "outputs": [
    {
     "name": "stdout",
     "output_type": "stream",
     "text": [
      "Gurobi Optimizer version 11.0.3 build v11.0.3rc0 (mac64[x86] - Darwin 19.6.0 19H2026)\n",
      "\n",
      "CPU model: Intel(R) Core(TM) i5-7360U CPU @ 2.30GHz\n",
      "Thread count: 2 physical cores, 4 logical processors, using up to 4 threads\n",
      "\n",
      "Optimize a model with 4 rows, 3 columns and 12 nonzeros\n",
      "Model fingerprint: 0x9d602b89\n",
      "Coefficient statistics:\n",
      "  Matrix range     [1e+00, 5e+00]\n",
      "  Objective range  [4e+01, 4e+01]\n",
      "  Bounds range     [0e+00, 0e+00]\n",
      "  RHS range        [3e+01, 1e+02]\n",
      "Presolve time: 0.03s\n",
      "Presolved: 4 rows, 3 columns, 12 nonzeros\n",
      "\n",
      "Iteration    Objective       Primal Inf.    Dual Inf.      Time\n",
      "       0    1.1800000e+32   5.625000e+30   1.180000e+02      0s\n",
      "       2    1.2150000e+03   0.000000e+00   0.000000e+00      0s\n",
      "\n",
      "Solved in 2 iterations and 0.06 seconds (0.00 work units)\n",
      "Optimal objective  1.215000000e+03\n"
     ]
    }
   ],
   "source": [
    "import numpy as np\n",
    "from gurobipy import Model, GRB, quicksum\n",
    "\n",
    "var_names = ['X1', 'X2', 'X3']\n",
    "# resources names\n",
    "res_names = ['Material_A', 'Material_B', 'Process_A', 'Process_B']\n",
    "profit = np.array([35, 40, 43])\n",
    "res_used = np.array([[2,4,5], [2,1,3], [4,3,4], [1,1,2]])\n",
    "res_avail = np.array([90, 80, 120, 30])\n",
    "res_operater = ['<=', '<=', '<=', '>=']\n",
    "\n",
    "n = len(profit) # number of variables\n",
    "m = len(res_avail) # number of constraints\n",
    "\n",
    "# create a new model\n",
    "model = Model()\n",
    "\n",
    "# set decision variables\n",
    "X = model.addVars(n, name=var_names)\n",
    "\n",
    "# set the bojective function\n",
    "model.setObjective(quicksum(profit[j]*X[j] for j in range(n)), GRB.MAXIMIZE)\n",
    "\n",
    "# add constraints\n",
    "for i in range(m):\n",
    "    LHS = quicksum(X[j]*res_used[i, j] for j in range(n))\n",
    "    if res_operater[i] == '<=':\n",
    "        model.addConstr(LHS <= res_avail[i], name=res_names[i])\n",
    "    elif res_operater[i] == '>=':\n",
    "        model.addConstr(LHS >= res_avail[i], name=res_names[i])\n",
    "\n",
    "\n",
    "# optimize the model\n",
    "model.optimize()"
   ]
  },
  {
   "cell_type": "code",
   "execution_count": 107,
   "id": "df17b8fe",
   "metadata": {},
   "outputs": [
    {
     "name": "stdout",
     "output_type": "stream",
     "text": [
      "Sensitivity Analysis (SA)\n",
      "ObjVal = 1215.0\n",
      "\n",
      "    Variable            X           RC          Obj     SAObjLow      SAObjUp \n",
      "-----------------------------------------------------------------------------\n",
      "          X1           21            0           35           20      53.3333 \n",
      "          X2           12            0           40      32.9167           70 \n",
      "          X3            0         -8.5           43         -inf         51.5 \n",
      "\n",
      "  Constraint        Sense        Slack           Pi          RHS     SARHSLow      SARHSUp \n",
      "------------------------------------------------------------------------------------------\n",
      "  Material_A            <            0          5.5           90           60          160 \n",
      "  Material_B            <           26            0           80           54          inf \n",
      "   Process_A            <            0            6          120          105      163.333 \n",
      "   Process_B            >           -3            0           30         -inf           33 \n"
     ]
    }
   ],
   "source": [
    "# Check if the model solved optimally\n",
    "if model.status == GRB.OPTIMAL:\n",
    "    print('Sensitivity Analysis (SA)\\nObjVal =', model.ObjVal)\n",
    "    model.printAttr(['X', 'RC', 'Obj', 'SAObjLow', 'SAObjUp'])\n",
    "    model.printAttr(['Sense', 'Slack', 'Pi', 'RHS', 'SARHSLow', 'SARHSUp']) \n",
    "else:\n",
    "    print(\"Model is not optimal.\")\n",
    "\n",
    "# Pi = shadow price = dual variable value\n",
    "# NOTE: printAttr prints only rows with at least one NON-ZERO value, e.g. model.printAttr('X') prints only non-zero variable values"
   ]
  },
  {
   "cell_type": "markdown",
   "id": "141ddca4",
   "metadata": {},
   "source": [
    "#### Code Sample 1: \n",
    "1. put in variables, constrains one by one\n",
    "2. applicable to limited number of variables, constrains"
   ]
  },
  {
   "cell_type": "code",
   "execution_count": 79,
   "id": "85443bcf",
   "metadata": {},
   "outputs": [
    {
     "name": "stdout",
     "output_type": "stream",
     "text": [
      "Gurobi Optimizer version 11.0.3 build v11.0.3rc0 (mac64[x86] - Darwin 19.6.0 19H2026)\n",
      "\n",
      "CPU model: Intel(R) Core(TM) i5-7360U CPU @ 2.30GHz\n",
      "Thread count: 2 physical cores, 4 logical processors, using up to 4 threads\n",
      "\n",
      "Optimize a model with 4 rows, 3 columns and 12 nonzeros\n",
      "Model fingerprint: 0x9d602b89\n",
      "Coefficient statistics:\n",
      "  Matrix range     [1e+00, 5e+00]\n",
      "  Objective range  [4e+01, 4e+01]\n",
      "  Bounds range     [0e+00, 0e+00]\n",
      "  RHS range        [3e+01, 1e+02]\n",
      "Presolve time: 0.01s\n",
      "Presolved: 4 rows, 3 columns, 12 nonzeros\n",
      "\n",
      "Iteration    Objective       Primal Inf.    Dual Inf.      Time\n",
      "       0    1.1800000e+32   5.625000e+30   1.180000e+02      0s\n",
      "       2    1.2150000e+03   0.000000e+00   0.000000e+00      0s\n",
      "\n",
      "Solved in 2 iterations and 0.03 seconds (0.00 work units)\n",
      "Optimal objective  1.215000000e+03\n"
     ]
    }
   ],
   "source": [
    "from gurobipy import Model, GRB, quicksum\n",
    "\n",
    "# create a new model\n",
    "model = Model()\n",
    "\n",
    "# set decision variables\n",
    "X1 = model.addVar(name='X1')\n",
    "X2 = model.addVar(name='X2')\n",
    "X3 = model.addVar(name='X3')\n",
    "\n",
    "# set the bojective function\n",
    "model.setObjective(35*X1 + 40*X2 + 43*X3, GRB.MAXIMIZE)\n",
    "\n",
    "# add constraints\n",
    "model.addConstr(2*X1 + 4*X2 + 5*X3 <= 90, 'Material_A_Constraint')\n",
    "model.addConstr(2*X1 + 1*X2 + 3*X3 <= 80, 'Material_B_Constraint')\n",
    "model.addConstr(4*X1 + 3*X2 + 4*X3 <= 120, 'Process_A_Constraint')\n",
    "model.addConstr(1*X1 + 1*X2 + 2*X3 >= 30, 'Process_B_Constraint')\n",
    "\n",
    "# optimize the model\n",
    "model.optimize()"
   ]
  },
  {
   "cell_type": "code",
   "execution_count": 81,
   "id": "b6a8170e",
   "metadata": {},
   "outputs": [
    {
     "name": "stdout",
     "output_type": "stream",
     "text": [
      "Sensitivity Analysis (SA)\n",
      "ObjVal = 1215.0\n",
      "\n",
      "    Variable            X           RC          Obj     SAObjLow      SAObjUp \n",
      "-----------------------------------------------------------------------------\n",
      "          X1           21            0           35           20      53.3333 \n",
      "          X2           12            0           40      32.9167           70 \n",
      "          X3            0         -8.5           43         -inf         51.5 \n",
      "\n",
      "  Constraint        Sense        Slack           Pi          RHS     SARHSLow      SARHSUp \n",
      "------------------------------------------------------------------------------------------\n",
      "Material_A_Constraint            <            0          5.5           90           60          160 \n",
      "Material_B_Constraint            <           26            0           80           54          inf \n",
      "Process_A_Constraint            <            0            6          120          105      163.333 \n",
      "Process_B_Constraint            >           -3            0           30         -inf           33 \n"
     ]
    }
   ],
   "source": [
    "print('Sensitivity Analysis (SA)\\nObjVal =', model.ObjVal)\n",
    "model.printAttr(['X', 'RC', 'Obj', 'SAObjLow', 'SAObjUp'])\n",
    "model.printAttr(['Sense', 'Slack', 'Pi', 'RHS', 'SARHSLow', 'SARHSUp']) \n",
    "# Pi = shadow price = dual variable value\n",
    "# NOTE: printAttr prints only rows with at least one NON-ZERO value, e.g. model.printAttr('X') prints only non-zero variable values"
   ]
  },
  {
   "cell_type": "markdown",
   "id": "1a72f817",
   "metadata": {},
   "source": [
    "### Changing Objective Function Coeffients"
   ]
  },
  {
   "cell_type": "markdown",
   "id": "bee4661f",
   "metadata": {},
   "source": [
    "* if one of objective coeffient changes within the range of optimality, and all other ones stay the same, then the optimal will remain the same\n",
    "* 100% rule for multiple objective coeffient changes\n",
    "    * if some objective coeffient changes within the range of optimality, and all other ones stay the same, then the optimal will remain the same if the toal percentage of allowable changes <= 100%"
   ]
  },
  {
   "cell_type": "markdown",
   "id": "1b6c3f7c",
   "metadata": {},
   "source": [
    "**Question:**\n",
    "\n",
    "1. what if the objective coeffient of X1 increase by 5?\n",
    "\n",
    "    * since the 35+5 is within the range of optimality [20, 53.3], so the current variable optimal solution remain the same (X1, X2, X3) = (21, 12, 0)\n",
    "    * we can calculate the new optimal objective value is  40X1 + 40X2 + 43X3 = 1320\n",
    "\n",
    "2. what if the objective coeffient of X1 decrease by 20?\n",
    "    * since the 35-20=15 is lower than SAObjLow=20, so we say the current optimal solution might no longer be the optimal\n",
    "    * if we decrease it by 15 to make it equal to SAObjLow=20, at this time the optimal solution remain the same, and the new optimal objective value is  20X1 + 40X2 + 43X3 = 900\n",
    "    * when we decrease it by 20, solution (X1, X2, X3) = (21, 12, 0) might not be the optimal, but still feasible. 15X1 + 40X2 + 43X3 = 795, which is a lower bound on optimal obj function value\n",
    "    * puting above two facts together, the optimal obj function value will be betweeen 795 and 900\n",
    "\n",
    "3. what if the objective coeffient of X1 increase by 5 and X2 decrease by 5?\n",
    "    * X1 = 35+5=40 within the range of optimality [20, 53.3], X2 = 40-5=35 within the range of optimality [32.9, 70], so the optimal solution stay the same\n",
    "    * applying the 100% rule, inc/allowable.inc + dec./allowable.dec = 5/18.3 + 5/7.1 = 97.8%, so the optimal solution stay the same (X1, X2, X3) = (21, 12, 0)\n",
    "    * calculate the optimal obj function value 40X1 + 35X2 + 43X3 = 1260"
   ]
  },
  {
   "cell_type": "markdown",
   "id": "fa77d9ed",
   "metadata": {},
   "source": [
    "### Changing Right Hand Side Values"
   ]
  },
  {
   "cell_type": "markdown",
   "id": "1bc3f679",
   "metadata": {},
   "source": [
    "#### Difinition"
   ]
  },
  {
   "cell_type": "markdown",
   "id": "7b5411ed",
   "metadata": {},
   "source": [
    "\n",
    "**Slack** = |RHS - Final Value| = 'unused units of resource'\n",
    "\n",
    "    slack of a constraint tells you how much \"room\" is left before the constraint becomes binding.\n",
    "\n",
    "**Shadow Price** = Pi = dual value = margin value of having extra unit resouce = how much the objective function value change if the RHS increase by 1 unit\n",
    "\n",
    "**Range of feasibility** = [RHS-allowable Decrease, RHS+allowable Increase] = [SARHSLow, SARHSUp]\n"
   ]
  },
  {
   "cell_type": "markdown",
   "id": "433f914b",
   "metadata": {},
   "source": [
    "#### A constraint is binding or non-binding"
   ]
  },
  {
   "cell_type": "markdown",
   "id": "600f2b76",
   "metadata": {},
   "source": [
    "\n",
    "\n",
    "   * **binding** the solution lies exactly on the boundary of that constraint — the solution would not be feasible if the constraint were made any tighter.\n",
    "   * **not binding** the constrain does not strictly restrict the optimal solution, the constraint has no margin value -- changing RHS does not change the objective value\n",
    "   * if shadow price != 0 then the constraint is binding and LHS = RHS and slack = 0\n",
    "   * if Slack = RHS - Final Value != 0 then the constraint is non-binding\n",
    "   * if shadow price = 0 and Slack = RHS - Final Value = 0 then the constraint is binding or non-binding\n",
    "   * we can never have shadow price != 0 and Slack != RHS - Final Value = 0"
   ]
  },
  {
   "cell_type": "markdown",
   "id": "be645238",
   "metadata": {},
   "source": [
    "#### what if RHS value(s) change?"
   ]
  },
  {
   "cell_type": "markdown",
   "id": "891f6c10",
   "metadata": {},
   "source": [
    "* if one RHS value changes within the range of feasibility, and all other coefficients remain the same, the obj function value increase (decrease) by Shadow Price * the increase (decrease) of RHS\n",
    "\n",
    "* 100% rule for RHS values: \n",
    "    * if multiple RHS change within the Range of feasibility, and all other coeffients stay the same, then the change in optimal objective function value can be calculated using shadow price if the toal percentage of allowable changes <= 100%"
   ]
  },
  {
   "cell_type": "markdown",
   "id": "104020c1",
   "metadata": {},
   "source": [
    "Constraints\n",
    "\n",
    "| Name | Final Value | Shadow Price | Constraint R.H. Side | Allowable Increase | Allowable Decrease |\n",
    "|------|------ |------ |------ |------ |------ |\n",
    "| Material A | 90 | 5.5 | 90 | 70 | 30 |\n",
    "| Material B | 54 | 0 | 80 | 1E+30 | 26 |\n",
    "| Process A | 120 | 6 | 120 | 43.3333333 | 15 |\n",
    "| Process B | 30 | 0 | 30 | 3 | 1E+30 |"
   ]
  },
  {
   "cell_type": "markdown",
   "id": "b68867d3",
   "metadata": {},
   "source": [
    "#### Question"
   ]
  },
  {
   "cell_type": "markdown",
   "id": "0031d4f9",
   "metadata": {},
   "source": [
    "\n",
    "\n",
    "what if additional 50 Material A available?\n",
    "    \n",
    "   * +50 is within allowable increase for Material A, so the optimal objective value will increase 5.5*50 = 275\n",
    "   * since we relax a binding constraint, the optimal solution and optimal obj value might change, and the old optimal solution still feasible"
   ]
  },
  {
   "cell_type": "markdown",
   "id": "9d202352",
   "metadata": {},
   "source": [
    "###  use case 1 of shadow price"
   ]
  },
  {
   "cell_type": "markdown",
   "id": "e9849ce1",
   "metadata": {},
   "source": [
    "you are offered 10 additional minutes of process A for a total of \\$50. should you take the offer?\n"
   ]
  },
  {
   "cell_type": "markdown",
   "id": "ca2b8b85",
   "metadata": {},
   "source": [
    "* allowable increase = 43.3, actual increase = 10\n",
    "* increase in profit = 6*10 = 60\n",
    "* Net Gain = 60-50=10\n",
    "* Yes, we should take the offer"
   ]
  },
  {
   "cell_type": "markdown",
   "id": "443dadf8",
   "metadata": {},
   "source": [
    "### use case 2 of shadow price"
   ]
  },
  {
   "cell_type": "markdown",
   "id": "2635f6d7",
   "metadata": {},
   "source": [
    "A potential Product 4 is being evaluated. it requires 3 units of Material A, 4 units of Material B, 2 units of Process A and 0 unit of Process B.\n",
    "\n",
    "If product 4 is projected to generate a profit of \\$35, should it be introduced?"
   ]
  },
  {
   "cell_type": "markdown",
   "id": "22c73728",
   "metadata": {},
   "source": [
    "* suppose one X4 is produced, Gain is \\$35,cost is due to shift away from the old products t X4\n",
    "* Net gain from one unit of X4 = unit profit 35 - cost of resource (3*SP1+4*SP2+2*SP3+0*SP4) = 35 - (3*5.5+4*0+2*6+0*0) = 6.5\n",
    "* increase in profit = 6.5 per unit, so Yes, we should introduce Product 4"
   ]
  },
  {
   "cell_type": "markdown",
   "id": "c30afc08",
   "metadata": {},
   "source": [
    "### another use case of shadow price and the meaning of reduced cost"
   ]
  },
  {
   "cell_type": "markdown",
   "id": "a8081b50",
   "metadata": {},
   "source": [
    "Variable Cells\n",
    "\n",
    "| Name | Final Value | Reduced Cost | Objective Coefficient | Allowable Increase | Allowable Decrease | \n",
    "|------|------|------|------|------|------| \n",
    "| X1 | 21 | (b) | 35 | 18.333333 | 15 | \n",
    "| X2 | 12 | 0 | 40 | 30 | 7.0833333 | \n",
    "| X3 | (a) | -8.5 | 43 | 8.5 | 1E+30 |\n",
    "\n",
    "\n",
    "Constraints\n",
    "\n",
    "| Name | Final Value | Shadow Price | Constraint R.H. Side | Allowable Increase | Allowable Decrease | \n",
    "|------|------ |------ |------ |------ |------ | \n",
    "| Material A | 90 | 5.5 | (c) | 70 | 30 | \n",
    "| Material B | 54 | (d) | 80 | 1E+30 | 26 | \n",
    "| Process A | --- | 6 | 120 | 43.3333333 | 15 | \n",
    "| Process B | (e) | 0 | 30 | 3 | 1E+30 |"
   ]
  },
  {
   "cell_type": "markdown",
   "id": "9a9ecb13",
   "metadata": {},
   "source": [
    "Interpret the reduced cost for X3. How can it be calculated?\n",
    "\n",
    "* at optimal solution, we don't produce X3\n",
    "* we would lose \\$8.5 on profit for producing one X3\n",
    "* if we really want to produce X3, we have to increase unit price of X3 at least $8.5"
   ]
  },
  {
   "cell_type": "markdown",
   "id": "569c8f64",
   "metadata": {},
   "source": [
    "Maximize z = 35X1 + 40X2 + 43X3\n",
    "\n",
    "s.t.\n",
    "\n",
    "    2X1 + 4X2 + 5X3 <= 90  # Material A\n",
    "    2X1 + 1X2 + 3X3 <= 80  # Material B\n",
    "    4X1 + 3X2 + 4X3 <= 120 # Process A\n",
    "    1X1 + 1X2 + 2X3 >= 30  # Process B\n",
    "    X1, X2, X3, X4 >= 0"
   ]
  },
  {
   "cell_type": "markdown",
   "id": "6bbdc021",
   "metadata": {},
   "source": [
    "* suppose one X3 is produced, Gain is \\$43,cost is due to shift away from the old products t X3\n",
    "* Net gain from one unit of X3 = unit profit 43 - cost of resource (5*SP1+3*SP2+4*SP3+2*SP4) = 43 - (5*5.5+3*0+4*6+2*0) = -8.5\n",
    "* -8.5 is the reduced cost for X3"
   ]
  }
 ],
 "metadata": {
  "kernelspec": {
   "display_name": "Python 3",
   "language": "python",
   "name": "python3"
  },
  "language_info": {
   "codemirror_mode": {
    "name": "ipython",
    "version": 3
   },
   "file_extension": ".py",
   "mimetype": "text/x-python",
   "name": "python",
   "nbconvert_exporter": "python",
   "pygments_lexer": "ipython3",
   "version": "3.8.8"
  },
  "toc": {
   "base_numbering": 1,
   "nav_menu": {},
   "number_sections": true,
   "sideBar": true,
   "skip_h1_title": false,
   "title_cell": "Table of Contents",
   "title_sidebar": "Contents",
   "toc_cell": false,
   "toc_position": {},
   "toc_section_display": true,
   "toc_window_display": false
  }
 },
 "nbformat": 4,
 "nbformat_minor": 5
}
