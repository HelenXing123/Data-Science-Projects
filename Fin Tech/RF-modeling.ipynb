{
 "cells": [
  {
   "cell_type": "code",
   "execution_count": 149,
   "metadata": {},
   "outputs": [],
   "source": [
    "import pandas as pd\n",
    "import numpy as np\n",
    "import matplotlib.pyplot as plt\n",
    "%matplotlib inline\n",
    "import xgboost as xgb\n",
    "import seaborn as sns\n",
    "sns.set_style('darkgrid')\n",
    "from sklearn.model_selection import KFold,GridSearchCV\n",
    "from sklearn.model_selection import StratifiedKFold\n",
    "from sklearn.ensemble import RandomForestClassifier\n",
    "from sklearn import  metrics"
   ]
  },
  {
   "cell_type": "code",
   "execution_count": null,
   "metadata": {},
   "outputs": [],
   "source": [
    "#'loan_2015_ready_RF.csv'：impute missing values"
   ]
  },
  {
   "cell_type": "code",
   "execution_count": 150,
   "metadata": {},
   "outputs": [
    {
     "data": {
      "text/plain": [
       "(283165, 119)"
      ]
     },
     "execution_count": 150,
     "metadata": {},
     "output_type": "execute_result"
    }
   ],
   "source": [
    "df = pd.read_csv('loan_2015_ready.csv')\n",
    "df.shape"
   ]
  },
  {
   "cell_type": "code",
   "execution_count": 151,
   "metadata": {},
   "outputs": [
    {
     "data": {
      "text/plain": [
       "107"
      ]
     },
     "execution_count": 151,
     "metadata": {},
     "output_type": "execute_result"
    }
   ],
   "source": [
    "select_feature = ['totalilhighcreditlimit', 'allutil', 'numtl120dpd2m', 'mthssincerecentbc', 'inqlast12m', 'mortacc', 'numtl30dpd', 'openacc6m', 'pubrecbankruptcies', 'mthssincerecentinq', 'numrevaccts', 'numactvrevtl', 'dti', 'mthssincelastdelinq', 'mthssincelastmajorderog', 'openacc', 'delinqamnt', 'mthssincerecentbcdlq', 'pcttlnvrdlq', 'accopenpast24mths', 'annualincjoint', 'loanamnt', 'mosinrcnttl', 'openrv12m', 'accnowdelinq', 'totalbalil', 'mthssincercntil', 'collections12mthsexmed', 'avgcurbal', 'delinq2yrs', 'dtijoint', 'numoprevtl', 'annualinc', 'numrevtlbalgt0', 'mosinoldilacct', 'openil12m', 'mosinrcntrevtlop', 'taxliens', 'totalrevhilim', 'openactil', 'numacctsever120pd', 'percentbcgt75', 'totalbclimit', 'maxbalbc', 'openrv24m', 'totalacc', 'mthssincelastrecord', 'ficorangehigh', 'numtl90gdpd24m', 'numsats', 'revolbal', 'ficorangelow', 'totcollamt', 'totalbalexmort', 'chargeoffwithin12mths', 'totalcutl', 'inqfi', 'mosinoldrevtlop', 'numtloppast12m', 'bcutil', 'numiltl', 'installment', 'inqlast6mths', 'pubrec', 'tothicredlim', 'totcurbal', 'numbcsats', 'mthssincerecentrevoldelinq', 'ilutil', 'numactvbctl', 'openil24m', 'numbctl', 'bcopentobuy', 'earliestcrline_month', 'emplength', 'intrate', 'revolutil', 'grade', 'subgrade', 'zipcode', 'zipcode_freq', 'addrstate_freq', 'emptitle_freq', 'verificationstatusjoint_Not Verified', 'homeownership_ANY', 'homeownership_MORTGAGE', 'homeownership_OWN', 'homeownership_RENT', 'verificationstatus_Not Verified', 'verificationstatus_Source Verified', 'verificationstatus_Verified', 'purpose_car', 'purpose_credit_card', 'purpose_debt_consolidation', 'purpose_educational', 'purpose_home_improvement', 'purpose_house', 'purpose_major_purchase', 'purpose_medical', 'purpose_moving', 'purpose_other', 'purpose_renewable_energy', 'purpose_small_business', 'purpose_vacation', 'purpose_wedding', 'initialliststatus_f', 'initialliststatus_w']\n",
    "feat = select_feature\n",
    "len(feat)"
   ]
  },
  {
   "cell_type": "code",
   "execution_count": 152,
   "metadata": {},
   "outputs": [
    {
     "data": {
      "text/plain": [
       "((252828, 119), (30337, 119))"
      ]
     },
     "execution_count": 152,
     "metadata": {},
     "output_type": "execute_result"
    }
   ],
   "source": [
    "df_train = df.query(\"train_flg==1\")\n",
    "df_test = df.query(\"train_flg==0\")\n",
    "df_train.shape,df_test.shape"
   ]
  },
  {
   "cell_type": "markdown",
   "metadata": {},
   "source": [
    "### missing values handling "
   ]
  },
  {
   "cell_type": "code",
   "execution_count": 153,
   "metadata": {},
   "outputs": [
    {
     "name": "stdout",
     "output_type": "stream",
     "text": [
      "major_missing_feature:\n",
      " ['allutil', 'inqlast12m', 'openacc6m', 'mthssincerecentbcdlq', 'annualincjoint', 'openrv12m', 'totalbalil', 'mthssincercntil', 'dtijoint', 'openil12m', 'openactil', 'maxbalbc', 'openrv24m', 'mthssincelastrecord', 'totalcutl', 'inqfi', 'ilutil', 'openil24m']\n",
      "minor_missing_feature:\n",
      " ['numtl120dpd2m', 'mthssincerecentbc', 'mthssincerecentinq', 'numrevaccts', 'dti', 'mthssincelastdelinq', 'mthssincelastmajorderog', 'mosinoldilacct', 'percentbcgt75', 'bcutil', 'mthssincerecentrevoldelinq', 'bcopentobuy', 'revolutil', 'emptitle_freq']\n"
     ]
    },
    {
     "data": {
      "text/plain": [
       "89"
      ]
     },
     "execution_count": 153,
     "metadata": {},
     "output_type": "execute_result"
    }
   ],
   "source": [
    "# remove the features which has more than 70% missing value\n",
    "major_missing_feature =[]\n",
    "minor_missing_feature =[]\n",
    "for col in feat:\n",
    "    if df[col].isnull().sum() >= (df[col].shape[0])*.7:\n",
    "        major_missing_feature.append(col)\n",
    "    else:\n",
    "        if df[col].isnull().sum() > 0:\n",
    "            minor_missing_feature.append(col)\n",
    "print('major_missing_feature:\\n',major_missing_feature)\n",
    "print('minor_missing_feature:\\n',minor_missing_feature)\n",
    "feat = list(set(feat)-set(major_missing_feature))\n",
    "len(feat)"
   ]
  },
  {
   "cell_type": "code",
   "execution_count": 154,
   "metadata": {},
   "outputs": [
    {
     "data": {
      "text/plain": [
       "numtl120dpd2m                  14235\n",
       "mthssincerecentbc               2726\n",
       "mthssincerecentinq             31251\n",
       "numrevaccts                        1\n",
       "dti                                2\n",
       "mthssincelastdelinq           135888\n",
       "mthssincelastmajorderog       197636\n",
       "mosinoldilacct                  9961\n",
       "percentbcgt75                   3087\n",
       "bcutil                          3029\n",
       "mthssincerecentrevoldelinq    179660\n",
       "bcopentobuy                     2834\n",
       "revolutil                        126\n",
       "emptitle_freq                  19019\n",
       "dtype: int64"
      ]
     },
     "execution_count": 154,
     "metadata": {},
     "output_type": "execute_result"
    }
   ],
   "source": [
    "df[minor_missing_feature].isnull().sum()"
   ]
  },
  {
   "cell_type": "code",
   "execution_count": 155,
   "metadata": {},
   "outputs": [],
   "source": [
    "df['emptitle_freq'].replace(np.NaN, 0, inplace=True)"
   ]
  },
  {
   "cell_type": "code",
   "execution_count": 156,
   "metadata": {},
   "outputs": [
    {
     "data": {
      "text/plain": [
       "0"
      ]
     },
     "execution_count": 156,
     "metadata": {},
     "output_type": "execute_result"
    }
   ],
   "source": [
    "# mthssincerecentrevoldelinq: Months since most recent revolving delinquency.\n",
    "df['mthssincerecentrevoldelinq'].replace(np.NaN, 99999, inplace=True)\n",
    "df['mthssincerecentrevoldelinq'].isnull().sum()"
   ]
  },
  {
   "cell_type": "code",
   "execution_count": 157,
   "metadata": {},
   "outputs": [
    {
     "data": {
      "text/html": [
       "<div>\n",
       "<style scoped>\n",
       "    .dataframe tbody tr th:only-of-type {\n",
       "        vertical-align: middle;\n",
       "    }\n",
       "\n",
       "    .dataframe tbody tr th {\n",
       "        vertical-align: top;\n",
       "    }\n",
       "\n",
       "    .dataframe thead th {\n",
       "        text-align: right;\n",
       "    }\n",
       "</style>\n",
       "<table border=\"1\" class=\"dataframe\">\n",
       "  <thead>\n",
       "    <tr style=\"text-align: right;\">\n",
       "      <th></th>\n",
       "      <th>bcopentobuy</th>\n",
       "      <th>totalbclimit</th>\n",
       "      <th>bcutil</th>\n",
       "      <th>revolutil</th>\n",
       "      <th>revolbal</th>\n",
       "      <th>totalrevhilim</th>\n",
       "    </tr>\n",
       "  </thead>\n",
       "  <tbody>\n",
       "    <tr>\n",
       "      <th>0</th>\n",
       "      <td>57830.0</td>\n",
       "      <td>79300.0</td>\n",
       "      <td>27.1</td>\n",
       "      <td>19.2</td>\n",
       "      <td>21470.0</td>\n",
       "      <td>111800.0</td>\n",
       "    </tr>\n",
       "    <tr>\n",
       "      <th>1</th>\n",
       "      <td>1506.0</td>\n",
       "      <td>2400.0</td>\n",
       "      <td>37.2</td>\n",
       "      <td>29.7</td>\n",
       "      <td>2765.0</td>\n",
       "      <td>9300.0</td>\n",
       "    </tr>\n",
       "    <tr>\n",
       "      <th>2</th>\n",
       "      <td>844.0</td>\n",
       "      <td>9400.0</td>\n",
       "      <td>91.0</td>\n",
       "      <td>68.4</td>\n",
       "      <td>8822.0</td>\n",
       "      <td>12900.0</td>\n",
       "    </tr>\n",
       "    <tr>\n",
       "      <th>3</th>\n",
       "      <td>0.0</td>\n",
       "      <td>31500.0</td>\n",
       "      <td>102.9</td>\n",
       "      <td>84.5</td>\n",
       "      <td>87329.0</td>\n",
       "      <td>94200.0</td>\n",
       "    </tr>\n",
       "    <tr>\n",
       "      <th>4</th>\n",
       "      <td>7940.0</td>\n",
       "      <td>34500.0</td>\n",
       "      <td>77.0</td>\n",
       "      <td>67.2</td>\n",
       "      <td>37828.0</td>\n",
       "      <td>56300.0</td>\n",
       "    </tr>\n",
       "  </tbody>\n",
       "</table>\n",
       "</div>"
      ],
      "text/plain": [
       "   bcopentobuy  totalbclimit  bcutil  revolutil  revolbal  totalrevhilim\n",
       "0      57830.0       79300.0    27.1       19.2   21470.0       111800.0\n",
       "1       1506.0        2400.0    37.2       29.7    2765.0         9300.0\n",
       "2        844.0        9400.0    91.0       68.4    8822.0        12900.0\n",
       "3          0.0       31500.0   102.9       84.5   87329.0        94200.0\n",
       "4       7940.0       34500.0    77.0       67.2   37828.0        56300.0"
      ]
     },
     "execution_count": 157,
     "metadata": {},
     "output_type": "execute_result"
    }
   ],
   "source": [
    "df[['bcopentobuy','totalbclimit','bcutil','revolutil', 'revolbal','totalrevhilim']][:5]\n",
    "#revolbal:Total credit revolving balance\n",
    "#totalrevhilim: Total revolving high credit/credit limit\n",
    "#bcopentobuy: credit available,Total open to buy on revolving bankcards.\n",
    "#totalbclimit: Total bankcard high credit/credit limit\n",
    "#revolutil=100*revolbal/totalrevhilim\n",
    "#bcutil = 100-100*bcopentobuy/totalbclimit\n"
   ]
  },
  {
   "cell_type": "code",
   "execution_count": 158,
   "metadata": {},
   "outputs": [
    {
     "data": {
      "text/plain": [
       "0"
      ]
     },
     "execution_count": 158,
     "metadata": {},
     "output_type": "execute_result"
    }
   ],
   "source": [
    "#revolutil:%Revolving line utilization rate:the amount of credit the borrower is using relative to all available revolving credit.\n",
    "#102 of totalrevhilim are 0, so impute revolutil with 0\n",
    "df['revolutil'].replace(np.NaN, 0, inplace=True)\n",
    "df['revolutil'].isnull().sum()"
   ]
  },
  {
   "cell_type": "code",
   "execution_count": 159,
   "metadata": {},
   "outputs": [
    {
     "data": {
      "text/plain": [
       "0"
      ]
     },
     "execution_count": 159,
     "metadata": {},
     "output_type": "execute_result"
    }
   ],
   "source": [
    "#totalbclimit=0 lead to bcutil=nan\n",
    "df['bcutil'].replace(np.NaN, 0, inplace=True)\n",
    "df['bcutil'].isnull().sum()"
   ]
  },
  {
   "cell_type": "code",
   "execution_count": 160,
   "metadata": {},
   "outputs": [
    {
     "data": {
      "text/plain": [
       "0"
      ]
     },
     "execution_count": 160,
     "metadata": {},
     "output_type": "execute_result"
    }
   ],
   "source": [
    "#totalbclimit=0 lead to bcutil=nan, no revolving account\n",
    "df['bcopentobuy'].replace(np.NaN, 0, inplace=True)\n",
    "df['bcopentobuy'].isnull().sum()"
   ]
  },
  {
   "cell_type": "code",
   "execution_count": 161,
   "metadata": {},
   "outputs": [
    {
     "data": {
      "text/plain": [
       "0"
      ]
     },
     "execution_count": 161,
     "metadata": {},
     "output_type": "execute_result"
    }
   ],
   "source": [
    "#'totalbclimit'=0 lead to 'percentbcgt75'=nan, so impute 0, no bankcard\n",
    "df['percentbcgt75'].replace(np.NaN, 0, inplace=True)\n",
    "df['percentbcgt75'].isnull().sum()"
   ]
  },
  {
   "cell_type": "code",
   "execution_count": 162,
   "metadata": {},
   "outputs": [
    {
     "data": {
      "text/plain": [
       "0"
      ]
     },
     "execution_count": 162,
     "metadata": {},
     "output_type": "execute_result"
    }
   ],
   "source": [
    "#mthssincelastmajorderog: Months since most recent 90-day or worse rating\n",
    "df['mthssincelastmajorderog'].replace(np.NaN, 99999, inplace=True)\n",
    "df['mthssincelastmajorderog'].isnull().sum()"
   ]
  },
  {
   "cell_type": "code",
   "execution_count": 163,
   "metadata": {},
   "outputs": [
    {
     "data": {
      "text/plain": [
       "0"
      ]
     },
     "execution_count": 163,
     "metadata": {},
     "output_type": "execute_result"
    }
   ],
   "source": [
    "df['mthssincelastdelinq'].replace(np.NaN, 99999, inplace=True)\n",
    "df['mthssincelastdelinq'].isnull().sum()"
   ]
  },
  {
   "cell_type": "code",
   "execution_count": 164,
   "metadata": {},
   "outputs": [
    {
     "data": {
      "text/plain": [
       "0"
      ]
     },
     "execution_count": 164,
     "metadata": {},
     "output_type": "execute_result"
    }
   ],
   "source": [
    "df['mthssincerecentinq'].replace(np.NaN, 99999, inplace=True)\n",
    "df['mthssincerecentinq'].isnull().sum()"
   ]
  },
  {
   "cell_type": "code",
   "execution_count": 165,
   "metadata": {},
   "outputs": [
    {
     "data": {
      "text/plain": [
       "0"
      ]
     },
     "execution_count": 165,
     "metadata": {},
     "output_type": "execute_result"
    }
   ],
   "source": [
    "#mthssincerecentbc:Months since most recent bankcard account opened.\n",
    "df['mthssincerecentbc'].replace(np.NaN, 99999, inplace=True)\n",
    "df['mthssincerecentbc'].isnull().sum()"
   ]
  },
  {
   "cell_type": "code",
   "execution_count": 166,
   "metadata": {},
   "outputs": [
    {
     "data": {
      "text/plain": [
       "0"
      ]
     },
     "execution_count": 166,
     "metadata": {},
     "output_type": "execute_result"
    }
   ],
   "source": [
    "#mosinoldilacct: Months since oldest bank installment account opened\n",
    "df['mosinoldilacct'].replace(np.NaN, 99999, inplace=True)\n",
    "df['mosinoldilacct'].isnull().sum()"
   ]
  },
  {
   "cell_type": "code",
   "execution_count": 167,
   "metadata": {},
   "outputs": [
    {
     "data": {
      "text/plain": [
       "0"
      ]
     },
     "execution_count": 167,
     "metadata": {},
     "output_type": "execute_result"
    }
   ],
   "source": [
    "#numtl120dpd2m: Number of accounts currently 120 days past due (updated in past 2 months)\n",
    "#numtl120dpd2m=nan probably means no any loan account, so impute 0\n",
    "df['numtl120dpd2m'].replace(np.NaN, 0, inplace=True)\n",
    "df['numtl120dpd2m'].isnull().sum()"
   ]
  },
  {
   "cell_type": "code",
   "execution_count": 168,
   "metadata": {},
   "outputs": [
    {
     "data": {
      "text/plain": [
       "numtl120dpd2m                 0\n",
       "mthssincerecentbc             0\n",
       "mthssincerecentinq            0\n",
       "numrevaccts                   1\n",
       "dti                           2\n",
       "mthssincelastdelinq           0\n",
       "mthssincelastmajorderog       0\n",
       "mosinoldilacct                0\n",
       "percentbcgt75                 0\n",
       "bcutil                        0\n",
       "mthssincerecentrevoldelinq    0\n",
       "bcopentobuy                   0\n",
       "revolutil                     0\n",
       "emptitle_freq                 0\n",
       "dtype: int64"
      ]
     },
     "execution_count": 168,
     "metadata": {},
     "output_type": "execute_result"
    }
   ],
   "source": [
    "df[minor_missing_feature].isnull().sum()"
   ]
  },
  {
   "cell_type": "code",
   "execution_count": 169,
   "metadata": {
    "scrolled": false
   },
   "outputs": [
    {
     "name": "stdout",
     "output_type": "stream",
     "text": [
      "['mosinrcntrevtlop', 'purpose_other', 'emplength', 'numtl30dpd', 'initialliststatus_f', 'installment', 'addrstate_freq', 'numrevtlbalgt0', 'revolbal', 'delinq2yrs', 'grade', 'purpose_vacation', 'purpose_educational', 'mosinoldrevtlop', 'purpose_car', 'verificationstatus_Not Verified', 'dti', 'accnowdelinq', 'totalbclimit', 'annualinc', 'ficorangehigh', 'earliestcrline_month', 'pcttlnvrdlq', 'percentbcgt75', 'mosinoldilacct', 'subgrade', 'totcollamt', 'mthssincerecentbc', 'mthssincelastmajorderog', 'homeownership_OWN', 'purpose_debt_consolidation', 'openacc', 'numsats', 'purpose_major_purchase', 'numactvrevtl', 'mthssincelastdelinq', 'purpose_credit_card', 'numiltl', 'numactvbctl', 'tothicredlim', 'totalrevhilim', 'numtloppast12m', 'totalacc', 'mortacc', 'mosinrcnttl', 'inqlast6mths', 'totcurbal', 'avgcurbal', 'homeownership_RENT', 'chargeoffwithin12mths', 'purpose_wedding', 'purpose_home_improvement', 'homeownership_ANY', 'intrate', 'revolutil', 'initialliststatus_w', 'loanamnt', 'pubrecbankruptcies', 'zipcode_freq', 'ficorangelow', 'verificationstatusjoint_Not Verified', 'purpose_small_business', 'homeownership_MORTGAGE', 'numoprevtl', 'purpose_renewable_energy', 'numbcsats', 'emptitle_freq', 'collections12mthsexmed', 'bcopentobuy', 'numtl90gdpd24m', 'verificationstatus_Verified', 'numacctsever120pd', 'totalilhighcreditlimit', 'delinqamnt', 'mthssincerecentinq', 'purpose_house', 'pubrec', 'accopenpast24mths', 'numbctl', 'numrevaccts', 'numtl120dpd2m', 'totalbalexmort', 'mthssincerecentrevoldelinq', 'purpose_moving', 'bcutil', 'verificationstatus_Source Verified', 'purpose_medical', 'zipcode', 'taxliens']\n"
     ]
    }
   ],
   "source": [
    "print(feat)"
   ]
  },
  {
   "cell_type": "code",
   "execution_count": 170,
   "metadata": {},
   "outputs": [],
   "source": [
    "# update feat for random forest\n",
    "feat = ['mosinrcntrevtlop', 'purpose_other', 'emplength', 'numtl30dpd', 'initialliststatus_f', 'installment', 'addrstate_freq', 'numrevtlbalgt0', 'revolbal', 'delinq2yrs', 'grade', 'purpose_vacation', 'purpose_educational', 'mosinoldrevtlop', 'purpose_car', 'verificationstatus_Not Verified', 'dti', 'accnowdelinq', 'totalbclimit', 'annualinc', 'ficorangehigh', 'earliestcrline_month', 'pcttlnvrdlq', 'percentbcgt75', 'mosinoldilacct', 'subgrade', 'totcollamt', 'mthssincerecentbc', 'mthssincelastmajorderog', 'homeownership_OWN', 'purpose_debt_consolidation', 'openacc', 'numsats', 'purpose_major_purchase', 'numactvrevtl', 'mthssincelastdelinq', 'purpose_credit_card', 'numiltl', 'numactvbctl', 'tothicredlim', 'totalrevhilim', 'numtloppast12m', 'totalacc', 'mortacc', 'mosinrcnttl', 'inqlast6mths', 'totcurbal', 'avgcurbal', 'homeownership_RENT', 'chargeoffwithin12mths', 'purpose_wedding', 'purpose_home_improvement', 'homeownership_ANY', 'intrate', 'revolutil', 'initialliststatus_w', 'loanamnt', 'pubrecbankruptcies', 'zipcode_freq', 'ficorangelow', 'verificationstatusjoint_Not Verified', 'purpose_small_business', 'homeownership_MORTGAGE', 'numoprevtl', 'purpose_renewable_energy', 'numbcsats', 'emptitle_freq', 'collections12mthsexmed', 'bcopentobuy', 'numtl90gdpd24m', 'verificationstatus_Verified', 'numacctsever120pd', 'totalilhighcreditlimit', 'delinqamnt', 'mthssincerecentinq', 'purpose_house', 'pubrec', 'accopenpast24mths', 'numbctl', 'numrevaccts', 'numtl120dpd2m', 'totalbalexmort', 'mthssincerecentrevoldelinq', 'purpose_moving', 'bcutil', 'verificationstatus_Source Verified', 'purpose_medical', 'zipcode', 'taxliens']"
   ]
  },
  {
   "cell_type": "code",
   "execution_count": 171,
   "metadata": {},
   "outputs": [
    {
     "data": {
      "text/plain": [
       "array([12715, 44600, 58427])"
      ]
     },
     "execution_count": 171,
     "metadata": {},
     "output_type": "execute_result"
    }
   ],
   "source": [
    "np.where(np.isnan(df[feat]))[0]"
   ]
  },
  {
   "cell_type": "code",
   "execution_count": 172,
   "metadata": {
    "scrolled": true
   },
   "outputs": [
    {
     "data": {
      "text/plain": [
       "Int64Index([12715, 44600, 58427], dtype='int64')"
      ]
     },
     "execution_count": 172,
     "metadata": {},
     "output_type": "execute_result"
    }
   ],
   "source": [
    "df.index[np.where(np.isnan(df[feat]))[0]]"
   ]
  },
  {
   "cell_type": "code",
   "execution_count": 173,
   "metadata": {},
   "outputs": [
    {
     "data": {
      "text/plain": [
       "[12715, 44600, 58427]"
      ]
     },
     "execution_count": 173,
     "metadata": {},
     "output_type": "execute_result"
    }
   ],
   "source": [
    "index_missing = list(df.index[np.where(np.isnan(df[feat]))[0]])\n",
    "index_missing"
   ]
  },
  {
   "cell_type": "code",
   "execution_count": 174,
   "metadata": {},
   "outputs": [],
   "source": [
    "df = df.drop(index_missing)"
   ]
  },
  {
   "cell_type": "code",
   "execution_count": 175,
   "metadata": {},
   "outputs": [
    {
     "data": {
      "text/plain": [
       "array([0])"
      ]
     },
     "execution_count": 175,
     "metadata": {},
     "output_type": "execute_result"
    }
   ],
   "source": [
    "df[feat].isnull().sum().unique()"
   ]
  },
  {
   "cell_type": "code",
   "execution_count": 177,
   "metadata": {},
   "outputs": [],
   "source": [
    "df.to_csv('loan_2015_ready_RF.csv',index=False)"
   ]
  },
  {
   "cell_type": "code",
   "execution_count": 178,
   "metadata": {},
   "outputs": [
    {
     "data": {
      "text/plain": [
       "(283162, 119)"
      ]
     },
     "execution_count": 178,
     "metadata": {},
     "output_type": "execute_result"
    }
   ],
   "source": [
    "df.shape"
   ]
  },
  {
   "cell_type": "markdown",
   "metadata": {},
   "source": [
    "# Random Forest Modeling "
   ]
  },
  {
   "cell_type": "code",
   "execution_count": 179,
   "metadata": {},
   "outputs": [
    {
     "data": {
      "text/plain": [
       "(283162, 119)"
      ]
     },
     "execution_count": 179,
     "metadata": {},
     "output_type": "execute_result"
    }
   ],
   "source": [
    "df = pd.read_csv('loan_2015_ready_RF.csv')\n",
    "df.shape"
   ]
  },
  {
   "cell_type": "code",
   "execution_count": 182,
   "metadata": {},
   "outputs": [],
   "source": [
    "feat = ['mosinrcntrevtlop', 'purpose_other', 'emplength', 'numtl30dpd', 'initialliststatus_f', 'installment', 'addrstate_freq', 'numrevtlbalgt0', 'revolbal', 'delinq2yrs', 'grade', 'purpose_vacation', 'purpose_educational', 'mosinoldrevtlop', 'purpose_car', 'verificationstatus_Not Verified', 'dti', 'accnowdelinq', 'totalbclimit', 'annualinc', 'ficorangehigh', 'earliestcrline_month', 'pcttlnvrdlq', 'percentbcgt75', 'mosinoldilacct', 'subgrade', 'totcollamt', 'mthssincerecentbc', 'mthssincelastmajorderog', 'homeownership_OWN', 'purpose_debt_consolidation', 'openacc', 'numsats', 'purpose_major_purchase', 'numactvrevtl', 'mthssincelastdelinq', 'purpose_credit_card', 'numiltl', 'numactvbctl', 'tothicredlim', 'totalrevhilim', 'numtloppast12m', 'totalacc', 'mortacc', 'mosinrcnttl', 'inqlast6mths', 'totcurbal', 'avgcurbal', 'homeownership_RENT', 'chargeoffwithin12mths', 'purpose_wedding', 'purpose_home_improvement', 'homeownership_ANY', 'intrate', 'revolutil', 'initialliststatus_w', 'loanamnt', 'pubrecbankruptcies', 'zipcode_freq', 'ficorangelow', 'verificationstatusjoint_Not Verified', 'purpose_small_business', 'homeownership_MORTGAGE', 'numoprevtl', 'purpose_renewable_energy', 'numbcsats', 'emptitle_freq', 'collections12mthsexmed', 'bcopentobuy', 'numtl90gdpd24m', 'verificationstatus_Verified', 'numacctsever120pd', 'totalilhighcreditlimit', 'delinqamnt', 'mthssincerecentinq', 'purpose_house', 'pubrec', 'accopenpast24mths', 'numbctl', 'numrevaccts', 'numtl120dpd2m', 'totalbalexmort', 'mthssincerecentrevoldelinq', 'purpose_moving', 'bcutil', 'verificationstatus_Source Verified', 'purpose_medical', 'zipcode', 'taxliens']"
   ]
  },
  {
   "cell_type": "code",
   "execution_count": 183,
   "metadata": {},
   "outputs": [
    {
     "data": {
      "text/plain": [
       "((252826, 119), (30336, 119))"
      ]
     },
     "execution_count": 183,
     "metadata": {},
     "output_type": "execute_result"
    }
   ],
   "source": [
    "df_train = df.query(\"train_flg==1\")\n",
    "df_test = df.query(\"train_flg==0\")\n",
    "df_train.shape,df_test.shape"
   ]
  },
  {
   "cell_type": "code",
   "execution_count": 184,
   "metadata": {},
   "outputs": [],
   "source": [
    "x_train, y_train = df_train[feat], df_train.loanstatus\n",
    "x_test, y_test = df_test[feat], df_test.loanstatus"
   ]
  },
  {
   "cell_type": "code",
   "execution_count": 185,
   "metadata": {},
   "outputs": [
    {
     "name": "stderr",
     "output_type": "stream",
     "text": [
      "/anaconda3/lib/python3.6/site-packages/sklearn/ensemble/forest.py:246: FutureWarning: The default value of n_estimators will change from 10 in version 0.20 to 100 in 0.22.\n",
      "  \"10 in version 0.20 to 100 in 0.22.\", FutureWarning)\n"
     ]
    },
    {
     "name": "stdout",
     "output_type": "stream",
     "text": [
      "0.8219091390917074\n",
      "AUC score of train: 0.623\n"
     ]
    },
    {
     "name": "stderr",
     "output_type": "stream",
     "text": [
      "/anaconda3/lib/python3.6/site-packages/sklearn/ensemble/forest.py:458: UserWarning: Some inputs do not have OOB scores. This probably means too few trees were used to compute any reliable oob estimates.\n",
      "  warn(\"Some inputs do not have OOB scores. \"\n",
      "/anaconda3/lib/python3.6/site-packages/sklearn/ensemble/forest.py:463: RuntimeWarning: divide by zero encountered in true_divide\n",
      "  predictions[k].sum(axis=1)[:, np.newaxis])\n",
      "/anaconda3/lib/python3.6/site-packages/sklearn/ensemble/forest.py:463: RuntimeWarning: invalid value encountered in true_divide\n",
      "  predictions[k].sum(axis=1)[:, np.newaxis])\n"
     ]
    }
   ],
   "source": [
    "rf_model_0 = RandomForestClassifier(oob_score=True, random_state=1234)\n",
    "rf_model_0.fit(x_train, y_train)\n",
    "print(rf_model_0.oob_score_)\n",
    "Y_pred_proba = rf_model_0.predict_proba(x_test)[:,1]\n",
    "print('AUC score of train: %.3f' %metrics.roc_auc_score(y_test,Y_pred_proba))"
   ]
  },
  {
   "cell_type": "code",
   "execution_count": 186,
   "metadata": {},
   "outputs": [
    {
     "name": "stdout",
     "output_type": "stream",
     "text": [
      "Fitting 4 folds for each of 5 candidates, totalling 20 fits\n"
     ]
    },
    {
     "name": "stderr",
     "output_type": "stream",
     "text": [
      "[Parallel(n_jobs=3)]: Using backend LokyBackend with 3 concurrent workers.\n",
      "[Parallel(n_jobs=3)]: Done   2 tasks      | elapsed:   15.9s\n",
      "[Parallel(n_jobs=3)]: Done   7 tasks      | elapsed:   44.6s\n",
      "[Parallel(n_jobs=3)]: Done  12 tasks      | elapsed:  1.8min\n",
      "[Parallel(n_jobs=3)]: Done  18 out of  20 | elapsed:  3.6min remaining:   23.9s\n",
      "[Parallel(n_jobs=3)]: Done  20 out of  20 | elapsed:  4.0min finished\n"
     ]
    },
    {
     "name": "stdout",
     "output_type": "stream",
     "text": [
      "Best score: 0.697\n",
      "Best parameters set: {'n_estimators': 120}\n"
     ]
    },
    {
     "ename": "AttributeError",
     "evalue": "'GridSearchCV' object has no attribute 'grid_scores_'",
     "output_type": "error",
     "traceback": [
      "\u001b[0;31m---------------------------------------------------------------------------\u001b[0m",
      "\u001b[0;31mAttributeError\u001b[0m                            Traceback (most recent call last)",
      "\u001b[0;32m<ipython-input-186-b673a32f2205>\u001b[0m in \u001b[0;36m<module>\u001b[0;34m\u001b[0m\n\u001b[1;32m      7\u001b[0m \u001b[0mprint\u001b[0m\u001b[0;34m(\u001b[0m\u001b[0;34m\"Best score: %0.3f\"\u001b[0m \u001b[0;34m%\u001b[0m \u001b[0moptimized_RF\u001b[0m\u001b[0;34m.\u001b[0m\u001b[0mbest_score_\u001b[0m\u001b[0;34m)\u001b[0m\u001b[0;34m\u001b[0m\u001b[0;34m\u001b[0m\u001b[0m\n\u001b[1;32m      8\u001b[0m \u001b[0mprint\u001b[0m\u001b[0;34m(\u001b[0m\u001b[0;34m\"Best parameters set:\"\u001b[0m\u001b[0;34m,\u001b[0m \u001b[0moptimized_RF\u001b[0m\u001b[0;34m.\u001b[0m\u001b[0mbest_params_\u001b[0m\u001b[0;34m)\u001b[0m\u001b[0;34m\u001b[0m\u001b[0;34m\u001b[0m\u001b[0m\n\u001b[0;32m----> 9\u001b[0;31m \u001b[0mprint\u001b[0m\u001b[0;34m(\u001b[0m\u001b[0;34m\"Scores:\"\u001b[0m\u001b[0;34m,\u001b[0m \u001b[0moptimized_RF\u001b[0m\u001b[0;34m.\u001b[0m\u001b[0mgrid_scores_\u001b[0m\u001b[0;34m)\u001b[0m\u001b[0;34m\u001b[0m\u001b[0;34m\u001b[0m\u001b[0m\n\u001b[0m",
      "\u001b[0;31mAttributeError\u001b[0m: 'GridSearchCV' object has no attribute 'grid_scores_'"
     ]
    }
   ],
   "source": [
    "cv_params = {'n_estimators':[20,40,80,100,120]}\n",
    "other_params = {'max_depth':8, 'min_samples_split':100,'max_features':'sqrt',\n",
    "                'random_state':1234}\n",
    "RF_model = RandomForestClassifier(**other_params)\n",
    "optimized_RF = GridSearchCV(estimator=RF_model, param_grid=cv_params, scoring='roc_auc', cv=4, verbose=10, n_jobs=3)\n",
    "optimized_RF.fit(x_train, y_train)\n",
    "print(\"Best score: %0.3f\" % optimized_RF.best_score_)\n",
    "print(\"Best parameters set:\", optimized_RF.best_params_)\n",
    "print(\"Scores:\", optimized_RF.grid_scores_)"
   ]
  },
  {
   "cell_type": "code",
   "execution_count": 187,
   "metadata": {},
   "outputs": [
    {
     "name": "stdout",
     "output_type": "stream",
     "text": [
      "Fitting 4 folds for each of 5 candidates, totalling 20 fits\n"
     ]
    },
    {
     "name": "stderr",
     "output_type": "stream",
     "text": [
      "[Parallel(n_jobs=3)]: Using backend LokyBackend with 3 concurrent workers.\n",
      "[Parallel(n_jobs=3)]: Done   2 tasks      | elapsed:   55.7s\n",
      "[Parallel(n_jobs=3)]: Done   7 tasks      | elapsed:  3.1min\n",
      "[Parallel(n_jobs=3)]: Done  12 tasks      | elapsed:  5.0min\n",
      "[Parallel(n_jobs=3)]: Done  18 out of  20 | elapsed:  8.5min remaining:   56.8s\n",
      "[Parallel(n_jobs=3)]: Done  20 out of  20 | elapsed:  9.7min finished\n"
     ]
    },
    {
     "name": "stdout",
     "output_type": "stream",
     "text": [
      "Best score: 0.697\n",
      "Best parameters set: {'n_estimators': 240}\n"
     ]
    },
    {
     "ename": "AttributeError",
     "evalue": "'GridSearchCV' object has no attribute 'grid_scores_'",
     "output_type": "error",
     "traceback": [
      "\u001b[0;31m---------------------------------------------------------------------------\u001b[0m",
      "\u001b[0;31mAttributeError\u001b[0m                            Traceback (most recent call last)",
      "\u001b[0;32m<ipython-input-187-cb40b4dfc474>\u001b[0m in \u001b[0;36m<module>\u001b[0;34m\u001b[0m\n\u001b[1;32m      7\u001b[0m \u001b[0mprint\u001b[0m\u001b[0;34m(\u001b[0m\u001b[0;34m\"Best score: %0.3f\"\u001b[0m \u001b[0;34m%\u001b[0m \u001b[0moptimized_RF\u001b[0m\u001b[0;34m.\u001b[0m\u001b[0mbest_score_\u001b[0m\u001b[0;34m)\u001b[0m\u001b[0;34m\u001b[0m\u001b[0;34m\u001b[0m\u001b[0m\n\u001b[1;32m      8\u001b[0m \u001b[0mprint\u001b[0m\u001b[0;34m(\u001b[0m\u001b[0;34m\"Best parameters set:\"\u001b[0m\u001b[0;34m,\u001b[0m \u001b[0moptimized_RF\u001b[0m\u001b[0;34m.\u001b[0m\u001b[0mbest_params_\u001b[0m\u001b[0;34m)\u001b[0m\u001b[0;34m\u001b[0m\u001b[0;34m\u001b[0m\u001b[0m\n\u001b[0;32m----> 9\u001b[0;31m \u001b[0mprint\u001b[0m\u001b[0;34m(\u001b[0m\u001b[0;34m\"Scores:\"\u001b[0m\u001b[0;34m,\u001b[0m \u001b[0moptimized_RF\u001b[0m\u001b[0;34m.\u001b[0m\u001b[0mgrid_scores_\u001b[0m\u001b[0;34m)\u001b[0m\u001b[0;34m\u001b[0m\u001b[0;34m\u001b[0m\u001b[0m\n\u001b[0m",
      "\u001b[0;31mAttributeError\u001b[0m: 'GridSearchCV' object has no attribute 'grid_scores_'"
     ]
    }
   ],
   "source": [
    "cv_params = {'n_estimators':[120,150,180,210,240]}\n",
    "other_params = {'max_depth':8, 'min_samples_split':100,'max_features':'sqrt',\n",
    "                'random_state':1234}\n",
    "RF_model = RandomForestClassifier(**other_params)\n",
    "optimized_RF = GridSearchCV(estimator=RF_model, param_grid=cv_params, scoring='roc_auc', cv=4, verbose=10, n_jobs=3)\n",
    "optimized_RF.fit(x_train, y_train)\n",
    "print(\"Best score: %0.3f\" % optimized_RF.best_score_)\n",
    "print(\"Best parameters set:\", optimized_RF.best_params_)\n",
    "print(\"Scores:\", optimized_RF.grid_scores_)"
   ]
  },
  {
   "cell_type": "code",
   "execution_count": 188,
   "metadata": {},
   "outputs": [
    {
     "name": "stdout",
     "output_type": "stream",
     "text": [
      "Fitting 4 folds for each of 5 candidates, totalling 20 fits\n"
     ]
    },
    {
     "name": "stderr",
     "output_type": "stream",
     "text": [
      "[Parallel(n_jobs=3)]: Using backend LokyBackend with 3 concurrent workers.\n",
      "[Parallel(n_jobs=3)]: Done   2 tasks      | elapsed:   51.5s\n",
      "[Parallel(n_jobs=3)]: Done   7 tasks      | elapsed:  2.6min\n",
      "[Parallel(n_jobs=3)]: Done  12 tasks      | elapsed:  3.7min\n",
      "[Parallel(n_jobs=3)]: Done  18 out of  20 | elapsed:  5.8min remaining:   38.8s\n",
      "[Parallel(n_jobs=3)]: Done  20 out of  20 | elapsed:  6.6min finished\n"
     ]
    },
    {
     "name": "stdout",
     "output_type": "stream",
     "text": [
      "Best score: 0.697\n",
      "Best parameters set: {'n_estimators': 130}\n"
     ]
    }
   ],
   "source": [
    "cv_params = {'n_estimators':[100,110,120,130,140]}\n",
    "other_params = {'max_depth':8, 'min_samples_split':100,'max_features':'sqrt',\n",
    "                'random_state':1234}\n",
    "RF_model = RandomForestClassifier(**other_params)\n",
    "optimized_RF = GridSearchCV(estimator=RF_model, param_grid=cv_params, scoring='roc_auc', cv=4, verbose=10, n_jobs=3)\n",
    "optimized_RF.fit(x_train, y_train)\n",
    "print(\"Best score: %0.3f\" % optimized_RF.best_score_)\n",
    "print(\"Best parameters set:\", optimized_RF.best_params_)"
   ]
  },
  {
   "cell_type": "code",
   "execution_count": 190,
   "metadata": {},
   "outputs": [
    {
     "name": "stdout",
     "output_type": "stream",
     "text": [
      "Fitting 4 folds for each of 5 candidates, totalling 20 fits\n"
     ]
    },
    {
     "name": "stderr",
     "output_type": "stream",
     "text": [
      "[Parallel(n_jobs=3)]: Using backend LokyBackend with 3 concurrent workers.\n",
      "[Parallel(n_jobs=3)]: Done   2 tasks      | elapsed:   26.8s\n",
      "[Parallel(n_jobs=3)]: Done   7 tasks      | elapsed:  1.6min\n",
      "[Parallel(n_jobs=3)]: Done  12 tasks      | elapsed:  3.4min\n",
      "[Parallel(n_jobs=3)]: Done  18 out of  20 | elapsed:  6.6min remaining:   44.3s\n",
      "[Parallel(n_jobs=3)]: Done  20 out of  20 | elapsed:  7.7min finished\n"
     ]
    },
    {
     "name": "stdout",
     "output_type": "stream",
     "text": [
      "Best score: 0.699\n",
      "Best parameters set: {'max_depth': 12}\n"
     ]
    }
   ],
   "source": [
    "cv_params = {'max_depth':[3,6,9,12,15]}\n",
    "other_params = {'n_estimators':130,'min_samples_split':100,'max_features':'sqrt',\n",
    "                'random_state':1234}\n",
    "RF_model = RandomForestClassifier(**other_params)\n",
    "optimized_RF = GridSearchCV(estimator=RF_model, param_grid=cv_params, scoring='roc_auc', cv=4, verbose=10, n_jobs=3)\n",
    "optimized_RF.fit(x_train, y_train)\n",
    "print(\"Best score: %0.3f\" % optimized_RF.best_score_)\n",
    "print(\"Best parameters set:\", optimized_RF.best_params_)"
   ]
  },
  {
   "cell_type": "code",
   "execution_count": 191,
   "metadata": {},
   "outputs": [
    {
     "name": "stdout",
     "output_type": "stream",
     "text": [
      "Fitting 4 folds for each of 5 candidates, totalling 20 fits\n"
     ]
    },
    {
     "name": "stderr",
     "output_type": "stream",
     "text": [
      "[Parallel(n_jobs=3)]: Using backend LokyBackend with 3 concurrent workers.\n",
      "[Parallel(n_jobs=3)]: Done   2 tasks      | elapsed:  1.3min\n",
      "[Parallel(n_jobs=3)]: Done   7 tasks      | elapsed:  3.9min\n",
      "[Parallel(n_jobs=3)]: Done  12 tasks      | elapsed:  5.6min\n",
      "[Parallel(n_jobs=3)]: Done  18 out of  20 | elapsed:  8.8min remaining:   58.5s\n",
      "[Parallel(n_jobs=3)]: Done  20 out of  20 | elapsed:  9.9min finished\n"
     ]
    },
    {
     "name": "stdout",
     "output_type": "stream",
     "text": [
      "Best score: 0.700\n",
      "Best parameters set: {'max_depth': 13}\n"
     ]
    }
   ],
   "source": [
    "cv_params = {'max_depth':[10,11,12,13,14]}\n",
    "other_params = {'n_estimators':130,'min_samples_split':100,'max_features':'sqrt',\n",
    "                'random_state':1234}\n",
    "RF_model = RandomForestClassifier(**other_params)\n",
    "optimized_RF = GridSearchCV(estimator=RF_model, param_grid=cv_params, scoring='roc_auc', cv=4, verbose=10, n_jobs=3)\n",
    "optimized_RF.fit(x_train, y_train)\n",
    "print(\"Best score: %0.3f\" % optimized_RF.best_score_)\n",
    "print(\"Best parameters set:\", optimized_RF.best_params_)"
   ]
  },
  {
   "cell_type": "code",
   "execution_count": 193,
   "metadata": {},
   "outputs": [
    {
     "name": "stdout",
     "output_type": "stream",
     "text": [
      "Fitting 4 folds for each of 5 candidates, totalling 20 fits\n"
     ]
    },
    {
     "name": "stderr",
     "output_type": "stream",
     "text": [
      "[Parallel(n_jobs=3)]: Using backend LokyBackend with 3 concurrent workers.\n",
      "[Parallel(n_jobs=3)]: Done   2 tasks      | elapsed:  1.6min\n",
      "[Parallel(n_jobs=3)]: Done   7 tasks      | elapsed:  4.7min\n",
      "[Parallel(n_jobs=3)]: Done  12 tasks      | elapsed:  6.2min\n",
      "[Parallel(n_jobs=3)]: Done  18 out of  20 | elapsed:  9.2min remaining:  1.0min\n",
      "[Parallel(n_jobs=3)]: Done  20 out of  20 | elapsed: 10.4min finished\n"
     ]
    },
    {
     "name": "stdout",
     "output_type": "stream",
     "text": [
      "Best score: 0.700\n",
      "Best parameters set: {'min_samples_split': 250}\n"
     ]
    }
   ],
   "source": [
    "cv_params = {'min_samples_split':[50,100,150,200,250]}\n",
    "other_params = {'n_estimators':130,'max_depth':13,'max_features':'sqrt',\n",
    "                'random_state':1234}\n",
    "RF_model = RandomForestClassifier(**other_params)\n",
    "optimized_RF = GridSearchCV(estimator=RF_model, param_grid=cv_params, scoring='roc_auc', cv=4, verbose=10, n_jobs=3)\n",
    "optimized_RF.fit(x_train, y_train)\n",
    "print(\"Best score: %0.3f\" % optimized_RF.best_score_)\n",
    "print(\"Best parameters set:\", optimized_RF.best_params_)"
   ]
  },
  {
   "cell_type": "code",
   "execution_count": 194,
   "metadata": {},
   "outputs": [
    {
     "name": "stdout",
     "output_type": "stream",
     "text": [
      "Fitting 4 folds for each of 6 candidates, totalling 24 fits\n"
     ]
    },
    {
     "name": "stderr",
     "output_type": "stream",
     "text": [
      "[Parallel(n_jobs=3)]: Using backend LokyBackend with 3 concurrent workers.\n",
      "[Parallel(n_jobs=3)]: Done   2 tasks      | elapsed:  1.6min\n",
      "[Parallel(n_jobs=3)]: Done   7 tasks      | elapsed:  4.7min\n",
      "[Parallel(n_jobs=3)]: Done  12 tasks      | elapsed:  6.3min\n",
      "[Parallel(n_jobs=3)]: Done  19 tasks      | elapsed: 10.8min\n",
      "[Parallel(n_jobs=3)]: Done  22 out of  24 | elapsed: 12.4min remaining:  1.1min\n",
      "[Parallel(n_jobs=3)]: Done  24 out of  24 | elapsed: 12.4min finished\n"
     ]
    },
    {
     "name": "stdout",
     "output_type": "stream",
     "text": [
      "Best score: 0.700\n",
      "Best parameters set: {'min_samples_split': 90}\n"
     ]
    }
   ],
   "source": [
    "cv_params = {'min_samples_split':[50,60,70,80,90,100]}\n",
    "other_params = {'n_estimators':130,'max_depth':13,'max_features':'sqrt',\n",
    "                'random_state':1234}\n",
    "RF_model = RandomForestClassifier(**other_params)\n",
    "optimized_RF = GridSearchCV(estimator=RF_model, param_grid=cv_params, scoring='roc_auc', cv=4, verbose=10, n_jobs=3)\n",
    "optimized_RF.fit(x_train, y_train)\n",
    "print(\"Best score: %0.3f\" % optimized_RF.best_score_)\n",
    "print(\"Best parameters set:\", optimized_RF.best_params_)"
   ]
  },
  {
   "cell_type": "code",
   "execution_count": 195,
   "metadata": {},
   "outputs": [
    {
     "name": "stdout",
     "output_type": "stream",
     "text": [
      "Fitting 4 folds for each of 3 candidates, totalling 12 fits\n"
     ]
    },
    {
     "name": "stderr",
     "output_type": "stream",
     "text": [
      "[Parallel(n_jobs=3)]: Using backend LokyBackend with 3 concurrent workers.\n",
      "[Parallel(n_jobs=3)]: Done   2 tasks      | elapsed:  1.6min\n",
      "[Parallel(n_jobs=3)]: Done   7 tasks      | elapsed:  4.7min\n",
      "[Parallel(n_jobs=3)]: Done   9 out of  12 | elapsed:  4.8min remaining:  1.6min\n",
      "[Parallel(n_jobs=3)]: Done  12 out of  12 | elapsed:  6.3min finished\n"
     ]
    },
    {
     "name": "stdout",
     "output_type": "stream",
     "text": [
      "Best score: 0.699\n",
      "Best parameters set: {'min_samples_split': 40}\n"
     ]
    }
   ],
   "source": [
    "cv_params = {'min_samples_split':[20,30,40]}\n",
    "other_params = {'n_estimators':130,'max_depth':13,'max_features':'sqrt',\n",
    "                'random_state':1234}\n",
    "RF_model = RandomForestClassifier(**other_params)\n",
    "optimized_RF = GridSearchCV(estimator=RF_model, param_grid=cv_params, scoring='roc_auc', cv=4, verbose=10, n_jobs=3)\n",
    "optimized_RF.fit(x_train, y_train)\n",
    "print(\"Best score: %0.3f\" % optimized_RF.best_score_)\n",
    "print(\"Best parameters set:\", optimized_RF.best_params_)"
   ]
  },
  {
   "cell_type": "code",
   "execution_count": null,
   "metadata": {},
   "outputs": [],
   "source": [
    "optimal_params = {'n_estimators':130,'max_depth':13,'min_samples_split':90,'max_features':'sqrt',\n",
    "                'random_state':1234}"
   ]
  },
  {
   "cell_type": "markdown",
   "metadata": {},
   "source": [
    "# Random Forest Modeling "
   ]
  },
  {
   "cell_type": "code",
   "execution_count": 199,
   "metadata": {},
   "outputs": [],
   "source": [
    "model_RF = RandomForestClassifier(n_estimators=130,max_depth=13,min_samples_split=90,max_features='sqrt',\n",
    "                                 random_state=1234)"
   ]
  },
  {
   "cell_type": "code",
   "execution_count": 200,
   "metadata": {},
   "outputs": [
    {
     "data": {
      "text/plain": [
       "RandomForestClassifier(bootstrap=True, class_weight=None, criterion='gini',\n",
       "            max_depth=13, max_features='sqrt', max_leaf_nodes=None,\n",
       "            min_impurity_decrease=0.0, min_impurity_split=None,\n",
       "            min_samples_leaf=1, min_samples_split=90,\n",
       "            min_weight_fraction_leaf=0.0, n_estimators=130, n_jobs=None,\n",
       "            oob_score=False, random_state=1234, verbose=0,\n",
       "            warm_start=False)"
      ]
     },
     "execution_count": 200,
     "metadata": {},
     "output_type": "execute_result"
    }
   ],
   "source": [
    "model_RF.fit(x_train, y_train)"
   ]
  },
  {
   "cell_type": "code",
   "execution_count": 201,
   "metadata": {},
   "outputs": [
    {
     "data": {
      "text/plain": [
       "array([0, 0, 0, 0, 0])"
      ]
     },
     "execution_count": 201,
     "metadata": {},
     "output_type": "execute_result"
    }
   ],
   "source": [
    "y_pred = model_RF.predict(x_test)\n",
    "y_pred[:5]"
   ]
  },
  {
   "cell_type": "code",
   "execution_count": 202,
   "metadata": {},
   "outputs": [
    {
     "data": {
      "text/plain": [
       "array([[0.80827174, 0.19172826],\n",
       "       [0.86123198, 0.13876802],\n",
       "       [0.84202432, 0.15797568],\n",
       "       [0.8964904 , 0.1035096 ],\n",
       "       [0.84113375, 0.15886625]])"
      ]
     },
     "execution_count": 202,
     "metadata": {},
     "output_type": "execute_result"
    }
   ],
   "source": [
    "y_pred_proba = model_RF.predict_proba(x_test)\n",
    "y_pred_proba[:5]"
   ]
  },
  {
   "cell_type": "code",
   "execution_count": 203,
   "metadata": {},
   "outputs": [],
   "source": [
    "from sklearn.metrics import roc_curve, auc"
   ]
  },
  {
   "cell_type": "code",
   "execution_count": 204,
   "metadata": {},
   "outputs": [
    {
     "data": {
      "text/plain": [
       "0.707026236456314"
      ]
     },
     "execution_count": 204,
     "metadata": {},
     "output_type": "execute_result"
    }
   ],
   "source": [
    "fpr_test, tpr_test, thresholds_test = roc_curve(y_test, y_pred_proba[:,1])\n",
    "roc_auc_test = auc(fpr_test, tpr_test)\n",
    "roc_auc_test"
   ]
  },
  {
   "cell_type": "code",
   "execution_count": 207,
   "metadata": {},
   "outputs": [
    {
     "name": "stdout",
     "output_type": "stream",
     "text": [
      "AUC--train: 0.789\n",
      "AUC--test: 0.707\n"
     ]
    },
    {
     "data": {
      "text/plain": [
       "<matplotlib.legend.Legend at 0x1a42b331d0>"
      ]
     },
     "execution_count": 207,
     "metadata": {},
     "output_type": "execute_result"
    },
    {
     "data": {
      "image/png": "[encoded data removed]",
      "text/plain": [
       "<Figure size 576x576 with 1 Axes>"
      ]
     },
     "metadata": {},
     "output_type": "display_data"
    }
   ],
   "source": [
    "y_train_proba = model_RF.predict_proba(x_train)\n",
    "y_test_proba = model_RF.predict_proba(x_test)\n",
    "fpr_train, tpr_train, thresholds_train = roc_curve(y_train, y_train_proba[:,1])\n",
    "fpr_test, tpr_test, thresholds_test = roc_curve(y_test, y_test_proba[:,1])\n",
    "roc_auc_train = auc(fpr_train, tpr_train)\n",
    "roc_auc_test = auc(fpr_test, tpr_test)\n",
    "print('AUC--train: %.3f' %roc_auc_train)\n",
    "print('AUC--test: %.3f' %roc_auc_test)\n",
    "#plot ROC curve\n",
    "plt.figure(figsize=(8,8))\n",
    "plt.plot(fpr_train, tpr_train,label='AUC--train: %.3f' %roc_auc_train, color='r')\n",
    "plt.plot(fpr_test, tpr_test,label='AUC--test: %.3f' %roc_auc_test, color='b')\n",
    "plt.plot([0,1],[0,1],'k--')#k: black\n",
    "plt.xlim([0.0,1.0])\n",
    "plt.ylim([0.0,1.0])\n",
    "plt.xlabel('False Positive Rate')\n",
    "plt.ylabel('True Positive Rate')\n",
    "plt.title('ROC for Random Forest model')\n",
    "plt.legend(loc='lower right')"
   ]
  },
  {
   "cell_type": "code",
   "execution_count": 215,
   "metadata": {},
   "outputs": [
    {
     "data": {
      "text/plain": [
       "array([0.00885038, 0.00055274, 0.00935374, 0.00046127, 0.00110719,\n",
       "       0.01903993, 0.00731278, 0.0089484 , 0.01484505, 0.00365534,\n",
       "       0.07905314, 0.0006329 , 0.        , 0.01935483, 0.00055633,\n",
       "       0.00230777, 0.03055434, 0.00055725, 0.0177701 , 0.01804741,\n",
       "       0.02019547, 0.01598069, 0.0074922 , 0.00540418, 0.01306396,\n",
       "       0.10216731, 0.00570083, 0.01319022, 0.00670269, 0.00075595,\n",
       "       0.00068014, 0.0070229 , 0.0076542 , 0.00053659, 0.00899798,\n",
       "       0.00670965, 0.00076619, 0.00812022, 0.00644515, 0.0259541 ,\n",
       "       0.01674141, 0.01549409, 0.00935201, 0.00829467, 0.0095824 ,\n",
       "       0.00732755, 0.01861937, 0.02292513, 0.00345687, 0.00102851,\n",
       "       0.        , 0.00056351, 0.        , 0.12618702, 0.01514194,\n",
       "       0.00106689, 0.01366732, 0.00231942, 0.01226004, 0.02004844,\n",
       "       0.00017437, 0.0009597 , 0.00545691, 0.00745963, 0.00021555,\n",
       "       0.00663264, 0.01125766, 0.00174974, 0.02019183, 0.00234856,\n",
       "       0.00284705, 0.00367037, 0.01114956, 0.00155521, 0.00878193,\n",
       "       0.00059069, 0.00308709, 0.03194476, 0.00841381, 0.0087651 ,\n",
       "       0.00020424, 0.01340884, 0.00592432, 0.00066501, 0.01500626,\n",
       "       0.00063314, 0.00070708, 0.01323839, 0.00238244])"
      ]
     },
     "execution_count": 215,
     "metadata": {},
     "output_type": "execute_result"
    }
   ],
   "source": [
    "model_RF.feature_importances_"
   ]
  },
  {
   "cell_type": "code",
   "execution_count": 219,
   "metadata": {},
   "outputs": [
    {
     "data": {
      "text/plain": [
       "Index(['mosinrcntrevtlop', 'purpose_other', 'emplength', 'numtl30dpd',\n",
       "       'initialliststatus_f', 'installment', 'addrstate_freq',\n",
       "       'numrevtlbalgt0', 'revolbal', 'delinq2yrs', 'grade', 'purpose_vacation',\n",
       "       'purpose_educational', 'mosinoldrevtlop', 'purpose_car',\n",
       "       'verificationstatus_Not Verified', 'dti', 'accnowdelinq',\n",
       "       'totalbclimit', 'annualinc', 'ficorangehigh', 'earliestcrline_month',\n",
       "       'pcttlnvrdlq', 'percentbcgt75', 'mosinoldilacct', 'subgrade',\n",
       "       'totcollamt', 'mthssincerecentbc', 'mthssincelastmajorderog',\n",
       "       'homeownership_OWN', 'purpose_debt_consolidation', 'openacc', 'numsats',\n",
       "       'purpose_major_purchase', 'numactvrevtl', 'mthssincelastdelinq',\n",
       "       'purpose_credit_card', 'numiltl', 'numactvbctl', 'tothicredlim',\n",
       "       'totalrevhilim', 'numtloppast12m', 'totalacc', 'mortacc', 'mosinrcnttl',\n",
       "       'inqlast6mths', 'totcurbal', 'avgcurbal', 'homeownership_RENT',\n",
       "       'chargeoffwithin12mths', 'purpose_wedding', 'purpose_home_improvement',\n",
       "       'homeownership_ANY', 'intrate', 'revolutil', 'initialliststatus_w',\n",
       "       'loanamnt', 'pubrecbankruptcies', 'zipcode_freq', 'ficorangelow',\n",
       "       'verificationstatusjoint_Not Verified', 'purpose_small_business',\n",
       "       'homeownership_MORTGAGE', 'numoprevtl', 'purpose_renewable_energy',\n",
       "       'numbcsats', 'emptitle_freq', 'collections12mthsexmed', 'bcopentobuy',\n",
       "       'numtl90gdpd24m', 'verificationstatus_Verified', 'numacctsever120pd',\n",
       "       'totalilhighcreditlimit', 'delinqamnt', 'mthssincerecentinq',\n",
       "       'purpose_house', 'pubrec', 'accopenpast24mths', 'numbctl',\n",
       "       'numrevaccts', 'numtl120dpd2m', 'totalbalexmort',\n",
       "       'mthssincerecentrevoldelinq', 'purpose_moving', 'bcutil',\n",
       "       'verificationstatus_Source Verified', 'purpose_medical', 'zipcode',\n",
       "       'taxliens'],\n",
       "      dtype='object')"
      ]
     },
     "execution_count": 219,
     "metadata": {},
     "output_type": "execute_result"
    }
   ],
   "source": [
    "df[feat].columns"
   ]
  },
  {
   "cell_type": "code",
   "execution_count": 221,
   "metadata": {
    "scrolled": true
   },
   "outputs": [
    {
     "data": {
      "text/plain": [
       "homeownership_ANY                       0.0000\n",
       "purpose_educational                     0.0000\n",
       "purpose_wedding                         0.0000\n",
       "verificationstatusjoint_Not Verified    0.0002\n",
       "purpose_renewable_energy                0.0002\n",
       "numtl120dpd2m                           0.0002\n",
       "numtl30dpd                              0.0005\n",
       "purpose_major_purchase                  0.0005\n",
       "purpose_car                             0.0006\n",
       "purpose_vacation                        0.0006\n",
       "purpose_house                           0.0006\n",
       "purpose_home_improvement                0.0006\n",
       "verificationstatus_Source Verified      0.0006\n",
       "purpose_other                           0.0006\n",
       "accnowdelinq                            0.0006\n",
       "purpose_moving                          0.0007\n",
       "purpose_medical                         0.0007\n",
       "purpose_debt_consolidation              0.0007\n",
       "purpose_credit_card                     0.0008\n",
       "homeownership_OWN                       0.0008\n",
       "chargeoffwithin12mths                   0.0010\n",
       "purpose_small_business                  0.0010\n",
       "initialliststatus_f                     0.0011\n",
       "initialliststatus_w                     0.0011\n",
       "delinqamnt                              0.0016\n",
       "collections12mthsexmed                  0.0017\n",
       "verificationstatus_Not Verified         0.0023\n",
       "numtl90gdpd24m                          0.0023\n",
       "pubrecbankruptcies                      0.0023\n",
       "taxliens                                0.0024\n",
       "                                         ...  \n",
       "mosinrcnttl                             0.0096\n",
       "totalilhighcreditlimit                  0.0111\n",
       "emptitle_freq                           0.0113\n",
       "zipcode_freq                            0.0123\n",
       "mosinoldilacct                          0.0131\n",
       "zipcode                                 0.0132\n",
       "mthssincerecentbc                       0.0132\n",
       "totalbalexmort                          0.0134\n",
       "loanamnt                                0.0137\n",
       "revolbal                                0.0148\n",
       "bcutil                                  0.0150\n",
       "revolutil                               0.0151\n",
       "numtloppast12m                          0.0155\n",
       "earliestcrline_month                    0.0160\n",
       "totalrevhilim                           0.0167\n",
       "totalbclimit                            0.0178\n",
       "annualinc                               0.0180\n",
       "totcurbal                               0.0186\n",
       "installment                             0.0190\n",
       "mosinoldrevtlop                         0.0194\n",
       "ficorangelow                            0.0200\n",
       "bcopentobuy                             0.0202\n",
       "ficorangehigh                           0.0202\n",
       "avgcurbal                               0.0229\n",
       "tothicredlim                            0.0260\n",
       "dti                                     0.0306\n",
       "accopenpast24mths                       0.0319\n",
       "grade                                   0.0791\n",
       "subgrade                                0.1022\n",
       "intrate                                 0.1262\n",
       "Length: 89, dtype: float64"
      ]
     },
     "execution_count": 221,
     "metadata": {},
     "output_type": "execute_result"
    }
   ],
   "source": [
    "feature_importances_ = [round(x,4) for x in model_RF.feature_importances_]\n",
    "feature_importances_ = pd.Series(feature_importances_, index=df[feat].columns)\n",
    "feature_importances_ = feature_importances_.sort_values(ascending=True)\n",
    "feature_importances_"
   ]
  },
  {
   "cell_type": "code",
   "execution_count": 222,
   "metadata": {},
   "outputs": [
    {
     "data": {
      "text/plain": [
       "Text(0, 0.5, 'Features')"
      ]
     },
     "execution_count": 222,
     "metadata": {},
     "output_type": "execute_result"
    },
    {
     "data": {
      "image/png": "[encoded data removed]",
      "text/plain": [
       "<Figure size 432x432 with 1 Axes>"
      ]
     },
     "metadata": {},
     "output_type": "display_data"
    }
   ],
   "source": [
    "feature_importances_[-15:].plot(kind='barh',title='Feature Importances', figsize=(6, 6))\n",
    "plt.xlabel('Feature Importance Score')\n",
    "plt.ylabel('Features')"
   ]
  },
  {
   "cell_type": "code",
   "execution_count": 214,
   "metadata": {},
   "outputs": [],
   "source": [
    "import pickle\n",
    "\n",
    "with open('model_RF.pkl', 'wb') as outfile:\n",
    "    pickle.dump(model_RF, outfile)"
   ]
  },
  {
   "cell_type": "code",
   "execution_count": null,
   "metadata": {},
   "outputs": [],
   "source": []
  },
  {
   "cell_type": "markdown",
   "metadata": {},
   "source": [
    "## XGBoost Modeling "
   ]
  },
  {
   "cell_type": "code",
   "execution_count": 209,
   "metadata": {},
   "outputs": [],
   "source": [
    "model_xgb = xgb.XGBClassifier(objective='binary:logistic',booster='gbtree',n_estimators=400, learning_rate= 0.04, \n",
    "                              max_depth=6, min_child_weight=75, gamma=0.8, seed=1234,\n",
    "                              subsample=0.78, colsample_bytree=0.67)"
   ]
  },
  {
   "cell_type": "code",
   "execution_count": 210,
   "metadata": {},
   "outputs": [
    {
     "data": {
      "text/plain": [
       "XGBClassifier(base_score=0.5, booster='gbtree', colsample_bylevel=1,\n",
       "       colsample_bytree=0.67, gamma=0.8, learning_rate=0.04,\n",
       "       max_delta_step=0, max_depth=6, min_child_weight=75, missing=None,\n",
       "       n_estimators=400, n_jobs=1, nthread=None,\n",
       "       objective='binary:logistic', random_state=0, reg_alpha=0,\n",
       "       reg_lambda=1, scale_pos_weight=1, seed=1234, silent=True,\n",
       "       subsample=0.78)"
      ]
     },
     "execution_count": 210,
     "metadata": {},
     "output_type": "execute_result"
    }
   ],
   "source": [
    "model_xgb.fit(x_train, y_train)"
   ]
  },
  {
   "cell_type": "code",
   "execution_count": 212,
   "metadata": {},
   "outputs": [
    {
     "name": "stdout",
     "output_type": "stream",
     "text": [
      "AUC--train: 0.749\n",
      "AUC--test: 0.719\n"
     ]
    },
    {
     "data": {
      "text/plain": [
       "<matplotlib.legend.Legend at 0x1a40dddef0>"
      ]
     },
     "execution_count": 212,
     "metadata": {},
     "output_type": "execute_result"
    },
    {
     "data": {
      "image/png": "[encoded data removed]",
      "text/plain": [
       "<Figure size 576x576 with 1 Axes>"
      ]
     },
     "metadata": {},
     "output_type": "display_data"
    }
   ],
   "source": [
    "y_train_proba = model_xgb.predict_proba(x_train)\n",
    "y_test_proba = model_xgb.predict_proba(x_test)\n",
    "fpr_train, tpr_train, thresholds_train = roc_curve(y_train, y_train_proba[:,1])\n",
    "fpr_test, tpr_test, thresholds_test = roc_curve(y_test, y_test_proba[:,1])\n",
    "roc_auc_train = auc(fpr_train, tpr_train)\n",
    "roc_auc_test = auc(fpr_test, tpr_test)\n",
    "print('AUC--train: %.3f' %roc_auc_train)\n",
    "print('AUC--test: %.3f' %roc_auc_test)\n",
    "#plot ROC curve\n",
    "plt.figure(figsize=(8,8))\n",
    "plt.plot(fpr_train, tpr_train,label='AUC--train: %.3f' %roc_auc_train, color='r')\n",
    "plt.plot(fpr_test, tpr_test,label='AUC--test: %.3f' %roc_auc_test, color='b')\n",
    "plt.plot([0,1],[0,1],'k--')#k: black\n",
    "plt.xlim([0.0,1.0])\n",
    "plt.ylim([0.0,1.0])\n",
    "plt.xlabel('False Positive Rate')\n",
    "plt.ylabel('True Positive Rate')\n",
    "plt.title('ROC for XGBoost model')\n",
    "plt.legend(loc='lower right')"
   ]
  },
  {
   "cell_type": "code",
   "execution_count": null,
   "metadata": {},
   "outputs": [],
   "source": [
    "# imputing missing values does not help improve performance"
   ]
  }
 ],
 "metadata": {
  "kernelspec": {
   "display_name": "Python 3",
   "language": "python",
   "name": "python3"
  },
  "language_info": {
   "codemirror_mode": {
    "name": "ipython",
    "version": 3
   },
   "file_extension": ".py",
   "mimetype": "text/x-python",
   "name": "python",
   "nbconvert_exporter": "python",
   "pygments_lexer": "ipython3",
   "version": "3.6.8"
  }
 },
 "nbformat": 4,
 "nbformat_minor": 2
}
