{
 "cells": [
  {
   "cell_type": "markdown",
   "metadata": {},
   "source": [
    "## Get familiar with dataset"
   ]
  },
  {
   "cell_type": "code",
   "execution_count": 35,
   "metadata": {},
   "outputs": [],
   "source": [
    "import pandas as pd\n",
    "import nltk\n",
    "import string\n",
    "import time"
   ]
  },
  {
   "cell_type": "code",
   "execution_count": 36,
   "metadata": {},
   "outputs": [
    {
     "data": {
      "text/html": [
       "<div>\n",
       "<style scoped>\n",
       "    .dataframe tbody tr th:only-of-type {\n",
       "        vertical-align: middle;\n",
       "    }\n",
       "\n",
       "    .dataframe tbody tr th {\n",
       "        vertical-align: top;\n",
       "    }\n",
       "\n",
       "    .dataframe thead th {\n",
       "        text-align: right;\n",
       "    }\n",
       "</style>\n",
       "<table border=\"1\" class=\"dataframe\">\n",
       "  <thead>\n",
       "    <tr style=\"text-align: right;\">\n",
       "      <th></th>\n",
       "      <th>reviewText</th>\n",
       "      <th>sentiment</th>\n",
       "    </tr>\n",
       "  </thead>\n",
       "  <tbody>\n",
       "    <tr>\n",
       "      <th>0</th>\n",
       "      <td>For a movie that gets no respect there sure ar...</td>\n",
       "      <td>pos</td>\n",
       "    </tr>\n",
       "    <tr>\n",
       "      <th>1</th>\n",
       "      <td>Bizarre horror movie filled with famous faces ...</td>\n",
       "      <td>pos</td>\n",
       "    </tr>\n",
       "    <tr>\n",
       "      <th>2</th>\n",
       "      <td>A solid, if unremarkable film. Matthau, as Ein...</td>\n",
       "      <td>pos</td>\n",
       "    </tr>\n",
       "    <tr>\n",
       "      <th>3</th>\n",
       "      <td>It's a strange feeling to sit alone in a theat...</td>\n",
       "      <td>pos</td>\n",
       "    </tr>\n",
       "    <tr>\n",
       "      <th>4</th>\n",
       "      <td>You probably all already know this by now, but...</td>\n",
       "      <td>pos</td>\n",
       "    </tr>\n",
       "  </tbody>\n",
       "</table>\n",
       "</div>"
      ],
      "text/plain": [
       "                                          reviewText sentiment\n",
       "0  For a movie that gets no respect there sure ar...       pos\n",
       "1  Bizarre horror movie filled with famous faces ...       pos\n",
       "2  A solid, if unremarkable film. Matthau, as Ein...       pos\n",
       "3  It's a strange feeling to sit alone in a theat...       pos\n",
       "4  You probably all already know this by now, but...       pos"
      ]
     },
     "execution_count": 36,
     "metadata": {},
     "output_type": "execute_result"
    }
   ],
   "source": [
    "train = pd.read_csv('train.csv')\n",
    "train.head()"
   ]
  },
  {
   "cell_type": "code",
   "execution_count": 37,
   "metadata": {},
   "outputs": [
    {
     "name": "stdout",
     "output_type": "stream",
     "text": [
      "sentiment: pos\n",
      "reviewText: For a movie that gets no respect there sure are a lot of memorable quotes listed for this gem. Imagine a movie where Joe Piscopo is actually funny! Maureen Stapleton is a scene stealer. The Moroni character is an absolute scream. Watch for Alan \"The Skipper\" Hale jr. as a police Sgt.\n"
     ]
    }
   ],
   "source": [
    "print('sentiment:', train.sentiment[0])\n",
    "print('reviewText:', train.reviewText[0])"
   ]
  },
  {
   "cell_type": "code",
   "execution_count": 38,
   "metadata": {},
   "outputs": [
    {
     "data": {
      "text/plain": [
       "pos    12500\n",
       "neg    12500\n",
       "Name: sentiment, dtype: int64"
      ]
     },
     "execution_count": 38,
     "metadata": {},
     "output_type": "execute_result"
    }
   ],
   "source": [
    "train.sentiment.value_counts()"
   ]
  },
  {
   "cell_type": "markdown",
   "metadata": {},
   "source": [
    "## Load data"
   ]
  },
  {
   "cell_type": "code",
   "execution_count": 39,
   "metadata": {},
   "outputs": [],
   "source": [
    "def load_data(path):\n",
    "    data = pd.read_csv(path)\n",
    "    x = data.reviewText.tolist()\n",
    "    y = data.sentiment.tolist()\n",
    "    return x, y"
   ]
  },
  {
   "cell_type": "code",
   "execution_count": 40,
   "metadata": {},
   "outputs": [],
   "source": [
    "train_x, train_y = load_data('train.csv')\n",
    "test_x, test_y = load_data('test.csv')"
   ]
  },
  {
   "cell_type": "code",
   "execution_count": 41,
   "metadata": {},
   "outputs": [
    {
     "name": "stdout",
     "output_type": "stream",
     "text": [
      "training data size: 25000\n",
      "testing data size: 25000\n"
     ]
    }
   ],
   "source": [
    "print('training data size:', len(train_x))\n",
    "print('testing data size:', len(test_x))"
   ]
  },
  {
   "cell_type": "code",
   "execution_count": 42,
   "metadata": {},
   "outputs": [
    {
     "data": {
      "text/plain": [
       "[\"You probably all already know this by now, but 5 additional episodes never aired can be viewed on ABC.com I've watched a lot of television over the years and this is possibly my favorite show, ever. It's a crime that this beautifully written and acted show was canceled. The actors that played Laura, Whit, Carlos, Mae, Damian, Anya and omg, Steven Caseman - are all incredible and so natural in those roles. Even the kids are great. Wonderful show. So sad that it's gone. Of course I wonder about the reasons it was canceled. There is no way I'll let myself believe that Ms. Moynahan's pregnancy had anything to do with it. It was in the perfect time slot in this market. I've watched all the episodes again on ABC.com - I hope they all come out on DVD some day. Thanks for reading.\",\n",
       " 'I saw the movie with two grown children. Although it was not as clever as Shrek, I thought it was rather good. In a movie theatre surrounded by children who were on spring break, there was not a sound so I know the children all liked it. There parents also seemed engaged. The death and apparent death of characters brought about the appropriate gasps and comments. Hopefully people realize this movie was made for kids. As such, it was successful although I liked it too. Personally I liked the Scrat!!',\n",
       " \"You're using the IMDb.<br /><br />You've given some hefty votes to some of your favourite films.<br /><br />It's something you enjoy doing.<br /><br />And it's all because of this. Fifty seconds. One world ends, another begins.<br /><br />How can it not be given a ten? I wonder at those who give this a seven or an eight... exactly how could THE FIRST FILM EVER MADE be better? For the record, the long, still opening shot is great showmanship, a superb innovation, perfectly suited to the situation. And the dog on the bike is a lovely touch. All this within fifty seconds.<br /><br />The word genius is often overused.<br /><br />THIS is genius.\",\n",
       " \"This was a good film with a powerful message of love and redemption. I loved the transformation of the brother and the repercussions of the horrible disease on the family. Well-acted and well-directed. If there were any flaws, I'd have to say that the story showed the typical suburban family and their difficulties again. What about all people of all cultural backgrounds? I would love to see a movie where all of these cultures are shown - like in real life. Nevertheless, the film soared in terms of its values and its understanding of the how a disease can bring someone closer to his or her maker. Loved the film and it brought tears to my eyes\"]"
      ]
     },
     "execution_count": 42,
     "metadata": {},
     "output_type": "execute_result"
    }
   ],
   "source": [
    "train_x[4:8]"
   ]
  },
  {
   "cell_type": "markdown",
   "metadata": {},
   "source": [
    "## Preprocessing"
   ]
  },
  {
   "cell_type": "code",
   "execution_count": 43,
   "metadata": {},
   "outputs": [],
   "source": [
    "#stopwords include preposition(in,on,at), article(a,an,the), pronoun(he,she,it)\n",
    "#stopwords don't add meaning to a sentence, so they are filtered out to save space and time.\n",
    "#nltk (natural language toolkit)\n",
    "lemmatizer = nltk.WordNetLemmatizer()\n",
    "stopwords = nltk.corpus.stopwords.words('english')\n",
    "transtbl = str.maketrans(string.punctuation, ' '*len(string.punctuation))"
   ]
  },
  {
   "cell_type": "code",
   "execution_count": 44,
   "metadata": {},
   "outputs": [
    {
     "name": "stdout",
     "output_type": "stream",
     "text": [
      "['i', 'me', 'my', 'myself', 'we', 'our', 'ours', 'ourselves', 'you', \"you're\", \"you've\", \"you'll\", \"you'd\", 'your', 'yours', 'yourself', 'yourselves', 'he', 'him', 'his', 'himself', 'she', \"she's\", 'her', 'hers', 'herself', 'it', \"it's\", 'its', 'itself', 'they', 'them', 'their', 'theirs', 'themselves', 'what', 'which', 'who', 'whom', 'this', 'that', \"that'll\", 'these', 'those', 'am', 'is', 'are', 'was', 'were', 'be', 'been', 'being', 'have', 'has', 'had', 'having', 'do', 'does', 'did', 'doing', 'a', 'an', 'the', 'and', 'but', 'if', 'or', 'because', 'as', 'until', 'while', 'of', 'at', 'by', 'for', 'with', 'about', 'against', 'between', 'into', 'through', 'during', 'before', 'after', 'above', 'below', 'to', 'from', 'up', 'down', 'in', 'out', 'on', 'off', 'over', 'under', 'again', 'further', 'then', 'once', 'here', 'there', 'when', 'where', 'why', 'how', 'all', 'any', 'both', 'each', 'few', 'more', 'most', 'other', 'some', 'such', 'no', 'nor', 'not', 'only', 'own', 'same', 'so', 'than', 'too', 'very', 's', 't', 'can', 'will', 'just', 'don', \"don't\", 'should', \"should've\", 'now', 'd', 'll', 'm', 'o', 're', 've', 'y', 'ain', 'aren', \"aren't\", 'couldn', \"couldn't\", 'didn', \"didn't\", 'doesn', \"doesn't\", 'hadn', \"hadn't\", 'hasn', \"hasn't\", 'haven', \"haven't\", 'isn', \"isn't\", 'ma', 'mightn', \"mightn't\", 'mustn', \"mustn't\", 'needn', \"needn't\", 'shan', \"shan't\", 'shouldn', \"shouldn't\", 'wasn', \"wasn't\", 'weren', \"weren't\", 'won', \"won't\", 'wouldn', \"wouldn't\"]\n"
     ]
    }
   ],
   "source": [
    "print(stopwords)"
   ]
  },
  {
   "cell_type": "code",
   "execution_count": 45,
   "metadata": {},
   "outputs": [],
   "source": [
    "neg_words= ['no', 'nor', 'not',\"don't\",'ain', 'aren',\"aren't\", 'couldn',\"couldn't\", 'didn',\"didn't\", 'doesn', \"doesn't\", 'hadn', \"hadn't\", 'hasn',\"hasn't\",'haven', \"haven't\", 'isn', \"isn't\",'mightn',\"mightn't\", 'mustn',\"mustn't\", 'needn', \"needn't\", 'shan', \"shan't\", 'shouldn', \"shouldn't\", 'wasn', \"wasn't\", 'weren', \"weren't\",'won', \"won't\", \"wouldn't\", 'wouldn']"
   ]
  },
  {
   "cell_type": "code",
   "execution_count": 52,
   "metadata": {},
   "outputs": [
    {
     "name": "stdout",
     "output_type": "stream",
     "text": [
      "['i', 'me', 'my', 'myself', 'we', 'our', 'ours', 'ourselves', 'you', \"you're\", \"you've\", \"you'll\", \"you'd\", 'your', 'yours', 'yourself', 'yourselves', 'he', 'him', 'his', 'himself', 'she', \"she's\", 'her', 'hers', 'herself', 'it', \"it's\", 'its', 'itself', 'they', 'them', 'their', 'theirs', 'themselves', 'what', 'which', 'who', 'whom', 'this', 'that', \"that'll\", 'these', 'those', 'am', 'is', 'are', 'was', 'were', 'be', 'been', 'being', 'have', 'has', 'had', 'having', 'do', 'does', 'did', 'doing', 'a', 'an', 'the', 'and', 'but', 'if', 'or', 'because', 'as', 'until', 'while', 'of', 'at', 'by', 'for', 'with', 'about', 'against', 'between', 'into', 'through', 'during', 'before', 'after', 'above', 'below', 'to', 'from', 'up', 'down', 'in', 'out', 'on', 'off', 'over', 'under', 'again', 'further', 'then', 'once', 'here', 'there', 'when', 'where', 'why', 'how', 'all', 'any', 'both', 'each', 'few', 'more', 'most', 'other', 'some', 'such', 'only', 'own', 'same', 'so', 'than', 'too', 'very', 's', 't', 'can', 'will', 'just', 'don', 'should', \"should've\", 'now', 'd', 'll', 'm', 'o', 're', 've', 'y', 'ma']\n"
     ]
    }
   ],
   "source": [
    "#stopwords_b does not include negative words, like not, nor, doesn't\n",
    "stopwords_b = [i for i in stopwords if i not in neg_words]\n",
    "print(stopwords_b)"
   ]
  },
  {
   "cell_type": "code",
   "execution_count": 53,
   "metadata": {},
   "outputs": [
    {
     "data": {
      "text/plain": [
       "True"
      ]
     },
     "execution_count": 53,
     "metadata": {},
     "output_type": "execute_result"
    }
   ],
   "source": [
    "'not' in stopwords"
   ]
  },
  {
   "cell_type": "code",
   "execution_count": 54,
   "metadata": {},
   "outputs": [
    {
     "data": {
      "text/plain": [
       "'!\"#$%&\\'()*+,-./:;<=>?@[\\\\]^_`{|}~'"
      ]
     },
     "execution_count": 54,
     "metadata": {},
     "output_type": "execute_result"
    }
   ],
   "source": [
    "string.punctuation"
   ]
  },
  {
   "cell_type": "code",
   "execution_count": 55,
   "metadata": {},
   "outputs": [
    {
     "data": {
      "text/plain": [
       "'decddecc'"
      ]
     },
     "execution_count": 55,
     "metadata": {},
     "output_type": "execute_result"
    }
   ],
   "source": [
    "'abcaabcc'.translate(str.maketrans('ab','de'))"
   ]
  },
  {
   "cell_type": "code",
   "execution_count": 56,
   "metadata": {},
   "outputs": [
    {
     "data": {
      "text/plain": [
       "'decadecc'"
      ]
     },
     "execution_count": 56,
     "metadata": {},
     "output_type": "execute_result"
    }
   ],
   "source": [
    "'abcaabcc'.replace('ab','de')"
   ]
  },
  {
   "cell_type": "code",
   "execution_count": 57,
   "metadata": {},
   "outputs": [],
   "source": [
    "def preprocessing(line):\n",
    "    line = line.replace('<br />', '')\n",
    "    line = line.translate(transtbl)\n",
    "    \n",
    "    tokens = [lemmatizer.lemmatize(t.lower(), 'v')\n",
    "              for t in nltk.word_tokenize(line)\n",
    "              if t.lower() not in stopwords]\n",
    "    return ' '.join(tokens)"
   ]
  },
  {
   "cell_type": "code",
   "execution_count": 58,
   "metadata": {},
   "outputs": [],
   "source": [
    "#stopwords_b does not include negative words, like not, nor, doesn't\n",
    "def preprocessing_b(line):\n",
    "    line = line.replace('<br />', '')\n",
    "    line = line.translate(transtbl)\n",
    "    \n",
    "    tokens = [lemmatizer.lemmatize(t.lower(), 'v')\n",
    "              for t in nltk.word_tokenize(line)\n",
    "              if t.lower() not in stopwords_b]\n",
    "    return ' '.join(tokens)"
   ]
  },
  {
   "cell_type": "code",
   "execution_count": 59,
   "metadata": {},
   "outputs": [
    {
     "data": {
      "text/plain": [
       "'buy several book yesterday really love better'"
      ]
     },
     "execution_count": 59,
     "metadata": {},
     "output_type": "execute_result"
    }
   ],
   "source": [
    "test_str = \"I bought several books yesterday<br /> and I really love them better!\"\n",
    "preprocessing(test_str)"
   ]
  },
  {
   "cell_type": "code",
   "execution_count": 60,
   "metadata": {},
   "outputs": [
    {
     "name": "stdout",
     "output_type": "stream",
     "text": [
      "Processing time: 189.7221279144287\n"
     ]
    }
   ],
   "source": [
    "start = time.time()\n",
    "train_x = [preprocessing(x) for x in train_x]\n",
    "test_x = [preprocessing(x) for x in test_x]\n",
    "print('Processing time:', time.time()-start)"
   ]
  },
  {
   "cell_type": "code",
   "execution_count": 61,
   "metadata": {},
   "outputs": [],
   "source": [
    "import numpy as np"
   ]
  },
  {
   "cell_type": "code",
   "execution_count": 62,
   "metadata": {},
   "outputs": [],
   "source": [
    "ptrain = pd.DataFrame(np.column_stack((train_x,train_y)), columns=['reviewText','sentiment'])\n",
    "ptest = pd.DataFrame(np.column_stack((test_x,test_y)), columns=['reviewText','sentiment'])\n",
    "ptrain.to_csv('ptrain.csv', index=False)\n",
    "ptest.to_csv('ptest.csv', index=False)"
   ]
  },
  {
   "cell_type": "code",
   "execution_count": 63,
   "metadata": {},
   "outputs": [
    {
     "data": {
      "text/html": [
       "<div>\n",
       "<style scoped>\n",
       "    .dataframe tbody tr th:only-of-type {\n",
       "        vertical-align: middle;\n",
       "    }\n",
       "\n",
       "    .dataframe tbody tr th {\n",
       "        vertical-align: top;\n",
       "    }\n",
       "\n",
       "    .dataframe thead th {\n",
       "        text-align: right;\n",
       "    }\n",
       "</style>\n",
       "<table border=\"1\" class=\"dataframe\">\n",
       "  <thead>\n",
       "    <tr style=\"text-align: right;\">\n",
       "      <th></th>\n",
       "      <th>reviewText</th>\n",
       "      <th>sentiment</th>\n",
       "    </tr>\n",
       "  </thead>\n",
       "  <tbody>\n",
       "    <tr>\n",
       "      <th>0</th>\n",
       "      <td>movie get respect sure lot memorable quote lis...</td>\n",
       "      <td>pos</td>\n",
       "    </tr>\n",
       "    <tr>\n",
       "      <th>1</th>\n",
       "      <td>bizarre horror movie fill famous face steal cr...</td>\n",
       "      <td>pos</td>\n",
       "    </tr>\n",
       "    <tr>\n",
       "      <th>2</th>\n",
       "      <td>solid unremarkable film matthau einstein wonde...</td>\n",
       "      <td>pos</td>\n",
       "    </tr>\n",
       "    <tr>\n",
       "      <th>3</th>\n",
       "      <td>strange feel sit alone theater occupy parent r...</td>\n",
       "      <td>pos</td>\n",
       "    </tr>\n",
       "    <tr>\n",
       "      <th>4</th>\n",
       "      <td>probably already know 5 additional episodes ne...</td>\n",
       "      <td>pos</td>\n",
       "    </tr>\n",
       "  </tbody>\n",
       "</table>\n",
       "</div>"
      ],
      "text/plain": [
       "                                          reviewText sentiment\n",
       "0  movie get respect sure lot memorable quote lis...       pos\n",
       "1  bizarre horror movie fill famous face steal cr...       pos\n",
       "2  solid unremarkable film matthau einstein wonde...       pos\n",
       "3  strange feel sit alone theater occupy parent r...       pos\n",
       "4  probably already know 5 additional episodes ne...       pos"
      ]
     },
     "execution_count": 63,
     "metadata": {},
     "output_type": "execute_result"
    }
   ],
   "source": [
    "ptrain = pd.read_csv('ptrain.csv')\n",
    "ptrain.head()"
   ]
  },
  {
   "cell_type": "code",
   "execution_count": 65,
   "metadata": {},
   "outputs": [
    {
     "data": {
      "text/plain": [
       "'Wed Oct 23 23:49:59 2019'"
      ]
     },
     "execution_count": 65,
     "metadata": {},
     "output_type": "execute_result"
    }
   ],
   "source": [
    "time.ctime()"
   ]
  },
  {
   "cell_type": "code",
   "execution_count": 145,
   "metadata": {},
   "outputs": [
    {
     "name": "stdout",
     "output_type": "stream",
     "text": [
      "['I', 'bought', 'Several', 'books', 'yesterday', 'and', 'I', 'really', 'love', 'them', 'better', '!']\n"
     ]
    }
   ],
   "source": [
    "test_str = \"I bought    Several books yesterday and I really love them better!\"\n",
    "print(nltk.word_tokenize(test_str))"
   ]
  },
  {
   "cell_type": "code",
   "execution_count": 146,
   "metadata": {},
   "outputs": [
    {
     "name": "stdout",
     "output_type": "stream",
     "text": [
      "['I', 'bought', 'several', ',', 'books', 'yesterday', 'and', 'I', 'really', 'love', 'them', 'better!']\n"
     ]
    }
   ],
   "source": [
    "test_str = \"I bought    several ,    books yesterday and I really love them better!\"\n",
    "print(test_str.split())"
   ]
  },
  {
   "cell_type": "code",
   "execution_count": 66,
   "metadata": {},
   "outputs": [],
   "source": [
    "all_words = [w for line in train_x for w in line.split()]"
   ]
  },
  {
   "cell_type": "code",
   "execution_count": 67,
   "metadata": {},
   "outputs": [],
   "source": [
    "voca = nltk.FreqDist(all_words)"
   ]
  },
  {
   "cell_type": "code",
   "execution_count": 68,
   "metadata": {},
   "outputs": [
    {
     "data": {
      "text/plain": [
       "FreqDist({'film': 48170, 'movie': 43912, 'one': 26747, 'make': 23538, 'like': 22335, 'see': 20773, 'get': 18108, 'time': 16143, 'good': 15124, 'character': 14153, ...})"
      ]
     },
     "execution_count": 68,
     "metadata": {},
     "output_type": "execute_result"
    }
   ],
   "source": [
    "voca"
   ]
  },
  {
   "cell_type": "code",
   "execution_count": 69,
   "metadata": {},
   "outputs": [
    {
     "data": {
      "text/plain": [
       "65081"
      ]
     },
     "execution_count": 69,
     "metadata": {},
     "output_type": "execute_result"
    }
   ],
   "source": [
    "len(voca)"
   ]
  },
  {
   "cell_type": "code",
   "execution_count": 70,
   "metadata": {},
   "outputs": [
    {
     "data": {
      "text/plain": [
       "[('film', 48170),\n",
       " ('movie', 43912),\n",
       " ('one', 26747),\n",
       " ('make', 23538),\n",
       " ('like', 22335),\n",
       " ('see', 20773),\n",
       " ('get', 18108),\n",
       " ('time', 16143),\n",
       " ('good', 15124),\n",
       " ('character', 14153)]"
      ]
     },
     "execution_count": 70,
     "metadata": {},
     "output_type": "execute_result"
    }
   ],
   "source": [
    "voca.most_common(10)"
   ]
  },
  {
   "cell_type": "code",
   "execution_count": 71,
   "metadata": {},
   "outputs": [],
   "source": [
    "topwords = [fpair[0] for fpair in voca.most_common(10000)]"
   ]
  },
  {
   "cell_type": "code",
   "execution_count": 72,
   "metadata": {},
   "outputs": [
    {
     "name": "stdout",
     "output_type": "stream",
     "text": [
      "['film', 'movie', 'one', 'make', 'like', 'see', 'get', 'time', 'good', 'character', 'go', 'watch', 'even', 'would', 'think', 'story', 'really', 'well', 'show', 'look', 'much', 'say', 'end', 'know', 'people', 'bad', 'also', 'first', 'great', 'give', 'act', 'take', 'play', 'love', 'come', 'way', 'find', 'could', 'movies', 'seem', 'work', 'plot', 'two', 'many', 'want', 'life', 'never', 'little', 'best', 'try', 'man', 'ever', 'better', 'still', 'scene', 'feel', 'part', 'scenes', 'back', 'something', 'use', 'interest', 'lot', 'real', 'star', 'though', 'cast', 'old', 'thing', 'years', 'actors', 'director', 'leave', 'live', 'guy', 'another', 'new', 'nothing', 'funny', 'write', '10', 'tell', 'actually', 'point', 'start', 'every', 'become', 'set', 'turn', 'world', 'us', 'quite', 'kill', 'things', 'young', 'pretty', 'action', 'happen', 'around', 'horror', 'mean', 'long', 'however', 'fact', 'right', 'big', 'line', 'enough', 'series', 'may', 'original', 'need', 'fan', 'script', 'bite', 'enjoy', 'keep', 'without', 'must', 'begin', 'comedy', 'always', 'family', 'role', 'saw', 'shoot', 'last', 'kid', 'almost', 'put', 'least', 'do', 'believe', 'whole', 'music', 'place', 'lead', 'far', 'reason', 'run', 'anything', 'minutes', 'laugh', 'book', 'might', 'since', 'performance', '2', 'effect', 'girl', 'probably', 'name', 'let', 'screen', 'woman', 'call', 'kind', 'tv', 'away', 'read', 'help', 'yet', 'day', 'rather', 'worst', 'fun', 'sure', 'hard', 'anyone', 'bore', 'especially', 'although', 'expect', 'course', 'job', 'bring', 'move', 'sense', 'war', 'actor', 'different', 'lose', 'money', 'year', 'mind', 'dvd', 'maybe', 'someone', 'true', 'house', 'direct', 'everything', 'second', 'three', 'face', 'worth', 'main', 'together', 'american', 'sound', 'follow', 'everyone', 'waste', 'john', 'father', 'audience', 'later', 'view', 'eye', '1', 'recommend', 'instead', 'beautiful', 'understand', 'fall', 'night', 'miss', 'high', 'hear', 'version', 'talk', 'wife', 'fight', 'black', 'special', 'half', 'hand', 'head', 'excellent', 'remember', 'open', 'idea', 'change', 'surprise', 'include', 'short', 'die', 'nice', 'less', 'else', 'piece', 'appear', 'simply', 'picture', 'top', 'home', 'attempt', 'budget', 'release', 'suppose', 'hollywood', 'men', 'death', 'feature', 'care', 'couple', 'poor', 'meet', '3', 'completely', 'entertain', 'dead', 'rat', 'involve', 'either', 'wrong', 'rest', 'classic', 'performances', 'lack', 'word', 'low', 'women', 'title', 'production', 'friends', 'decide', 'full', 'camera', 'along', 'murder', 'style', 'add', 'truly', 'save', 'video', 'school', 'sex', 'age', 'awful', 'next', 'case', 'stupid', 'create', 'sort', 'perhaps', 'review', 'episode', 'wonderful', 'moments', 'joke', 'light', 'wonder', 'small', 'game', 'base', 'terrible', 'perfect', 'flick', 'early', 'sequence', 'often', 'comment', 'mother', 'human', 'person', 'others', 'stand', 'close', 'sit', 'consider', 'definitely', 'guess', 'boy', 'white', 'amaze', 'stop', 'dialogue', 'mention', 'yes', 'finally', 'break', 'felt', 'cut', 'force', 'fail', 'children', 'experience', 'ask', 'hit', 'side', 'cinema', 'absolutely', 'voice', 'disappoint', 'worse', 'buy', 'certainly', 'entire', 'oh', 'killer', 'problem', 'evil', 'mr', 'hope', 'hold', 'friend', 'overall', 'several', 'number', 'drama', 'support', 'type', 'dance', 'learn', 'wait', 'deal', 'speak', 'already', 'dark', '5', 'direction', 'example', 'matter', '4', 'despite', 'spend', 'throughout', 'son', 'walk', 'unfortunately', 'forget', '\\x96', 'michael', 'history', 'final', 'heart', 'fine', 'manage', 'child', 'portray', 'humor', 'present', 'power', 'totally', 'quality', 'theme', 'art', 'wish', 'b', 'touch', 'credit', 'pay', 'behind', 'town', 'twist', 'realize', 'days', 'viewer', 'throw', 'past', 'able', 'stay', 'rent', 'genre', 'please', 'blood', 'today', 'question', 'deserve', 'stuff', 'favorite', 'car', 'soon', 'actress', 'sometimes', 'etc', 'late', 'annoy', 'level', 'chance', 'god', 'girls', 'score', 'catch', 'horrible', 'body', 'slow', 'city', 'brilliant', 'self', 'dream', 'hour', 'drive', 'stories', 'return', 'figure', 'obviously', 'grow', 'order', 'decent', 'pace', 'build', 'writer', 'except', 'highly', 'draw', 'group', 'edit', 'daughter', 'complete', 'jam', 'anyway', 'career', 'moment', 'roles', 'police', 'husband', 'brother', 'strong', 'violence', 'particularly', 'pick', 'extremely', 'sing', 'obvious', 'season', 'alone', 'rock', 'offer', 'hero', 'gore', 'state', 'crap', 'room', 'result', 'cause', 'explain', 'ago', 'none', 'note', 'hell', 'deliver', 'simple', 'ok', 'allow', 'class', 'david', 'convince', 'check', 'focus', 'song', 'value', 'win', 'seriously', 'possible', 'king', 'sad', 'stick', 'exactly', 'musical', 'compare', 'serious', 'reality', 'scary', 'english', 'whose', 'cinematography', 'hours', 'shock', 'usually', 'provide', 'cool', 'hilarious', 'avoid', 'middle', 'across', 'cop', 'message', 'charm', 'usual', 'somewhat', 'happy', 'relationship', 'ridiculous', 'pass', 'novel', 'opinion', 'documentary', 'form', 'robert', 'prove', 'ones', 'single', 'hop', 'major', 'shots', 'produce', 'female', 'jack', 'mostly', 'huge', 'episodes', 'country', 'team', 'talent', 'imagine', 'thank', 'five', 'important', 'modern', 'earth', 'cover', 'strange', 'marry', 'pull', 'apparently', 'fill', 'four', 'events', 'steal', 'songs', 'plan', 'basically', 'attention', 'due', 'television', 'subject', '7', 'clearly', 'future', 'develop', 'comic', 'british', 'dog', 'paul', 'fast', 'parent', 'non', '8', 'thriller', 'cheap', 'easily', 'silly', 'problems', 'detail', 'escape', 'date', 'fire', 'local', 'entertainment', 'gun', 'beyond', 'straight', 'george', 'wear', 'doubt', 'oscar', 'image', 'upon', 'whether', 'fit', 'romantic', 'capture', 'similar', 'predictable', 'mystery', 'discover', 'lady', 'richard', 'remain', 'remind', 'bear', 'air', 'enjoyable', 'near', 'mark', 'send', 'within', 'ten', 'theater', 'animation', 'attack', 'chase', 'dull', 'carry', 'sequel', 'clear', 'sister', 'red', 'bunch', 'nearly', 'lee', 'box', 'choose', 'match', 'york', 'mess', 'ways', 'storyline', 'easy', 'finish', 'space', 'fantastic', 'list', 'battle', 'actual', 'effort', 'bill', 'confuse', 'french', 'tale', 'minute', 'suffer', 'hate', '9', 'viewers', 'general', 'tom', 'elements', 'among', 'agree', 'train', 'typical', 'hide', 'spirit', 'famous', 'soldier', 'drug', 'peter', 'baby', 'dialog', 'sorry', 'period', 'excite', 'trouble', 'certain', 'soundtrack', 'cry', 'weak', 'romance', 'material', 'crime', 'continue', 'remake', 'somehow', 'realistic', 'free', 'mix', 'cartoon', 'disney', 'reveal', 'suck', 'appeal', 'premise', 'greatest', 'contain', 'beat', 'fly', 'mistake', 'eat', 'copy', 'lame', 'zombie', 'third', 'admit', 'appreciate', 'suspense', 'atmosphere', 'whatever', 'particular', 'describe', 'america', 'de', 'treat', 'fear', 'average', 'issue', 'hat', 'indeed', 'warn', 'fantasy', 'eventually', 'background', 'forward', 'blow', 'adventure', 'stage', 'japanese', 'poorly', 'believable', 'nature', 'sexual', 'award', 'possibly', 'struggle', 'notice', 'okay', 'accent', 'water', 'dr', 'imdb', 'street', 'doctor', 'truth', 'difficult', 'screenplay', '20', 'joe', 'hot', 'scream', 'drink', 'costume', 'control', 'project', 'jump', 'directors', 'unless', 'society', 'superb', 'shame', 'situation', 'otherwise', 'dramatic', 'memorable', 'male', 'color', 'ghost', 'party', 'weird', 'earlier', 'tear', 'badly', 'cat', 'writers', 'fi', 'flaw', 'rise', 'sci', 'emotional', 'respect', 'crazy', 'suggest', 'jane', 'older', 'monster', 'beauty', 'bother', 'deep', 'roll', 'footage', 'plus', 'development', 'e', 'design', 'creepy', 'lie', 'perfectly', 'quickly', 'towards', 'dress', 'total', 'girlfriend', 'unique', 'amuse', 'plenty', 'cheesy', 'personal', 'previous', 'band', 'disturb', 'answer', 'rate', 'business', 'front', 'incredibly', 'exist', 'christmas', 'apart', 'concern', 'powerful', '30', 'burn', 'ben', 'boys', 'term', 'serve', 'era', 'hardly', 'potential', 'secret', 'masterpiece', 'dumb', 'gay', 'political', 'promise', 'sleep', 'various', 'western', 'co', 'villain', 'tone', 'brain', 'inside', 'post', '80', 'amount', 'nudity', 'track', 'william', 'ideas', 'outside', 'company', 'claim', 'store', 'land', 'scar', 'kick', 'rich', 'talented', 'fairly', 'success', 'step', 'unlike', 'social', 'listen', 'plain', 'c', 'cute', 'odd', 'scott', 'crew', 'share', 'master', 'rip', 'inspire', 'recently', 'sadly', 'accept', 'sell', 'flat', 'spot', 'alien', 'sweet', 'cold', 'spoilers', 'mary', 'office', 'culture', 'filmmakers', 'ruin', 'public', 'incredible', 'pure', 'record', 'reach', 'ring', 'brothers', 'perform', 'large', 'trash', 'destroy', 'trip', 'revenge', 'members', 'la', 'popular', 'intrigue', 'suit', 'introduce', 'paint', 'science', 'approach', 'channel', 'camp', 'hang', 'hole', 'slightly', 'tension', 'animate', 'engage', '6', 'familiar', 'suddenly', 'neither', 'island', 'intelligent', 'clever', 'travel', 'entirely', 'blue', 'strike', 'count', 'language', 'taste', 'fake', 'century', 'choice', 'receive', '90', 'italian', 'clothe', 'fashion', 'successful', 'relate', 'drag', 'violent', 'visual', 'pop', 'purpose', 'drop', 'haunt', 'ultimately', '15', 'basic', 'suspect', 'concept', 'survive', 'wind', 'positive', 'zombies', 'search', 'ride', 'studio', 'edge', 'handle', 'german', 'tony', 'biggest', 'hurt', 'effective', 'depth', 'adult', 'recent', 'law', 'common', 'portrayal', 'former', 'hair', 'solid', 'raise', 'younger', 'pointless', 'wall', 'visit', 'bar', 'planet', 'impressive', 'motion', 'bizarre', 'super', 'stun', 'key', 'mad', 'impress', 'excuse', 'fascinate', 'van', 'cross', 'race', 'smith', 'prison', 'f', 'college', 'sign', 'heavy', 'producers', 'impossible', 'dad', 'compel', 'slasher', 'chemistry', 'conclusion', 'makers', 'sick', 'park', 'grade', 'jim', 'awesome', 'situations', 'steve', 'barely', 'seek', 'somewhere', 'cult', 'rule', 'honest', '50', 'anti', 'dub', 'tough', 'desire', 'u', 'grant', 'intend', 'regard', 'frank', 'longer', 'fiction', 'audiences', 'judge', 'limit', 'west', 'torture', 'aside', 'harry', 'south', 'stewart', 'generally', 'pathetic', 'ex', 'magic', 'literally', 'surprisingly', 'computer', 'club', 'page', 'gang', 'natural', 'alive', 'display', 'thrill', 'boss', 'repeat', 'yeah', 'military', 'immediately', 'london', 'detective', 'tire', 'journey', 'smile', '100', 'garbage', 'fair', 'week', 'stone', 'sam', 'normal', 'aspect', 'cost', 'army', 'adaptation', 'honestly', 'utterly', 'genius', 'ability', 'nobody', 'glad', 'appearance', 'succeed', 'mouth', 'enter', 'redeem', 'climax', 'standard', 'personally', 'ship', 'sexy', 'humour', 'center', 'reference', 'nowhere', 'wow', 'rare', 'horse', 'depict', 'pain', 'comedies', 'charlie', 'study', 'silent', 'machine', 'naked', 'beautifully', 'loud', 'road', 'producer', 'bottom', 'subtle', 'unbelievable', 'insult', 'terrific', 'witness', 'mood', '70', 'wild', 'door', 'double', 'equally', 'damn', 'batman', 'frame', 'kelly', 'embarrass', 'church', 'complex', 'g', 'arm', 'fully', 'lovely', 'government', 'narrative', 'stereotype', 'conflict', 'witch', 'arrive', 'assume', 'spoil', 'likely', 'laughable', 'hunt', 'commit', 'soul', 'push', 'chris', 'noir', 'vampire', 'painful', 'outstanding', 'bond', 'marriage', 'smart', 'surely', 'justice', 'innocent', 'satisfy', 'thus', 'christopher', 'constantly', 'bed', 'victim', 'require', 'gag', 'green', 'slowly', 'everybody', 'central', 'cinematic', 'besides', 'animals', 'hire', 'presence', 'manner', 'na', 'teach', 'hey', 'charles', 'spoiler', 'scenery', 'henry', 'allen', 'historical', 'jones', 'grind', 'photography', 'interview', 'indian', 'achieve', 'mysterious', 'expectations', 'paris', 'disappointment', 'challenge', 'impression', 'brief', 'minor', 'phone', 'woods', 'exception', 'model', 'festival', 'angle', 'boyfriend', 'critics', 'lover', 'aspects', 'ahead', 'program', 'opera', 'sight', 'hotel', 'occur', 'emotion', 'hill', 'blame', 'r', 'serial', 'ignore', 'content', 'bruce', 'ray', 'mainly', 'opportunity', 'element', 'forever', 'skip', 'surround', 'segment', 'impact', 'student', 'million', 'emotions', 'zero', 'queen', 'summer', 'combine', 'ball', 'officer', 'twice', 'j', 'available', 'fool', 'six', 'pack', 'sub', 'bomb', '40', 'sport', 'vote', 'likable', 'trust', 'jerry', 'giant', 'encounter', 'station', 'join', 'victims', 'negative', 'grace', 'difference', 'field', 'lord', 'trailer', 'billy', 'fresh', 'round', 'adults', 'tie', 'event', 'arthur', 'al', 'christian', 'fellow', 'represent', 'l', 'actresses', '11', 'system', 'highlight', 'gorgeous', 'fox', 'influence', 'martin', 'will', 'rape', 'porn', 'moral', 'mom', 'trap', 'thin', 'warm', 'supposedly', 'mediocre', 'americans', 'ii', 'rob', 'latter', 'creative', 'gem', 'agent', 'tragedy', 'worthy', 'relationships', 'crash', 'shop', 'explore', 'students', 'wise', 'merely', 'disgust', 'cliché', 'funniest', 'pilot', 'fell', 'castle', 'trick', 'random', 'seven', 'childhood', 'imagination', 'hospital', 'ugly', 'davis', 'standards', 'mask', 'tend', 'absolute', 'jean', 'attractive', 'partner', 'alan', 'mine', 'recognize', 'brian', 'ms', 'clue', 'thoroughly', 'extreme', 'desert', 'sky', 'tragic', 'addition', 'folks', 'affair', 'seemingly', 'express', 'thats', 'pair', 'industry', 'fault', 'intense', 'collection', 'afraid', 'williams', 'nasty', 'clean', 'animal', 'devil', 'convey', 'rap', 'captain', 'creature', 'jackson', 'test', 'ed', 'instance', 'teen', 'apartment', 'ready', 'artistic', 'lay', 'rid', 'personality', 'rescue', 'location', 'chinese', 'area', 'quick', 'shin', 'information', 'dirty', 'scientist', 'therefore', 'tune', 'length', 'depress', 'uncle', 'angry', 'professional', 'price', 'market', 'cage', 'anymore', 'food', 'filmmaker', 'news', 'artist', 'rush', 'danny', 'jason', 'worry', 'wooden', 'board', 'favourite', 'prepare', 'martial', 'x', 'connect', 'stephen', 'onto', 'loose', 'intelligence', '12', 'member', 'fat', 'teenage', 'floor', 'wonderfully', 'p', 'author', 'refuse', 'desperate', 'cgi', 'criminal', 'necessary', 'wed', 'process', 'joy', 'plane', 'deeply', 'target', 'theatre', 'heaven', 'speed', 'disaster', 'humans', 'whatsoever', 'rain', 'bank', 'nightmare', 'epic', 'andy', 'commentary', 'shadow', 'energy', 'accident', 'parody', 'mid', 'heroes', 'suicide', 'taylor', 'comedic', 'extra', 'rarely', 'flesh', 'independent', 'teacher', 'hint', 'bloody', 'affect', 'johnny', 'douglas', 'superior', 'load', 'wake', 'arts', 'eddie', 'religious', 'unusual', 'apparent', 'remarkable', 'anybody', 'tim', 'mental', 'pre', 'pleasure', 'range', 'charge', 'seat', 'knock', 'superman', 'blind', 'watchable', 'physical', 'grand', 'unnecessary', 'accord', 'disappear', 'dare', 'craft', 'wave', 'tap', 'keaton', 'memory', 'technical', 'england', 'contrast', 'ford', 'hitler', 'absurd', 'media', 'soap', 'vision', 'irritate', 'brutal', 'chill', 'buck', 'normally', 'ice', 'fred', 'jr', 'adam', 'kiss', 'anywhere', 'joan', 'moon', '80s', 'crowd', 'jeff', 'legend', 'player', 'frighten', 'twenty', 'nick', 'utter', '000', 'abuse', 'somebody', 'russian', 'nicely', '70s', '60', 'radio', 'prince', 'quote', 'faith', 'kate', 'root', 'soft', 'academy', 'passion', 'establish', 'replace', 'shakespeare', 'dick', 'ladies', 'bits', 'clichés', 'demand', 'sum', 'gold', 'favor', 'japan', 'execute', 'brown', 'lynch', 'candy', 'lovers', 'praise', 'stretch', 'prefer', 'heroine', 'constant', 'spy', 'threaten', 'explanation', 'ill', 'dangerous', 'originally', 'bat', 'tarzan', 'punch', 'debut', 'higher', 'kevin', 'lock', 'community', 'jesus', 'experiment', 'river', 'toy', 'ann', 'bet', 'freddy', 'unknown', 'players', 'belong', 'recall', 'nonsense', 'quiet', 'cable', 'bug', 'toward', 'stunt', 'foot', 'freak', 'accurate', 'stock', 'fu', 'knowledge', 'friendship', 'european', 'vhs', 'humanity', 'boat', 'spanish', 'mike', 'wide', 'research', 'paper', 'whilst', 'tree', 'bob', 'realism', 'factor', 'empty', 'memories', 'finest', 'cars', 'villains', 'aim', 'n', 'up', 'proceed', 'smoke', 'gene', 'monsters', 'aware', 'rubbish', 'youth', 'kinda', 'hook', 'lewis', 'santa', 'delightful', 'rank', 'singer', 'morgan', 'terribly', 'jimmy', 'responsible', 'vs', 'aid', 'bright', 'witty', 'bland', 'months', 'abandon', 'kidnap', 'simon', 'gary', 'werewolf', 'loss', 'refer', 'wood', 'kong', 'fate', 'grab', 'whenever', 'washington', 'blonde', 'numerous', 'resemble', 'private', 'pretentious', 'welcome', 'bigger', 'streets', 'skills', 'reviewers', 'progress', 'finale', 'trek', 'talents', 'ass', 'v', 'naturally', 'perspective', 'regular', 'con', 'dry', 'opposite', 'flash', 'ordinary', 'morning', 'unfunny', 'guard', 'international', 'eric', 'psychological', 'sink', 'mission', 'realise', 'complain', 'albert', 'source', 'sea', 'sean', 'humorous', 'locations', 'shape', 'account', 'luck', 'w', 'anthony', 'rely', 'h', 'grip', 'owner', 'behavior', 'dan', '13', 'magnificent', 'flow', 'gain', 'satire', 'consist', 'curious', 'mrs', 'howard', 'context', 'miles', 'skin', 'jennifer', 'structure', 'golden', 'cameo', 'visually', 'gangster', 'improve', 'advice', 'service', 'clip', 'shallow', 'core', 'pretend', 'existence', 'luke', 'cheat', 'buddy', 'cash', 'lucky', 'connection', 'current', 'window', 'traditional', 'corny', 'spell', 'essentially', 'lesson', 'harris', 'lower', 'wing', 'balance', 'frankly', 'genuine', 'decade', 'african', 'occasionally', 'dimensional', 'national', 'identity', 'print', 'thomas', 'efforts', 'anne', 'village', 'marie', 'versions', 'formula', 'unfold', 'crack', 'visuals', 'genuinely', 'anna', 'unexpected', 'lake', 'mirror', 'comparison', 'reaction', 'overly', 'meanwhile', 'gift', 'card', 'section', 'vampires', 'dislike', 'president', 'condition', 'spectacular', 'awkward', 'leader', 'ultimate', 'robin', 'logic', 'brilliantly', 'subtitle', 'advance', 'unable', 'failure', 'sake', 'revolve', 'pile', 'strength', 'sheer', 'sudden', 'pity', 'technology', 'shake', 'gordon', 'sinatra', 'psycho', 'evidence', 'mass', 'halloween', 'laughter', 'discuss', 'killers', 'barbara', 'obsess', 'site', 'kung', 'parker', 'regret', 'freedom', 'sheriff', 'wander', 'dig', 'spoof', 'broadway', 'steven', 'fish', 'code', 'fare', 'string', 'insane', 'emotionally', 'gon', 'cook', 'crappy', 'dreadful', 'contrive', 'anime', 'forgive', 'reviewer', 'flashbacks', 'correct', 'strip', 'decision', 'neighbor', 'families', 'unite', 'graphic', 'nominate', 'woody', 'commercial', 'relief', 'hunter', 'painfully', 'majority', 'native', 'winter', 'glass', 'protagonist', 'delight', 'attitude', 'gratuitous', 'menace', 'individual', 'treasure', 'daniel', 'par', 'overlook', 'asian', 'photograph', 'expose', 'foreign', 'possess', 'religion', 'feet', 'nevertheless', 'vehicle', 'victor', 'network', 'distract', 'reflect', 'spin', 'wayne', 'treatment', 'endless', 'underrate', 'earn', 'generation', 'letter', 'adapt', 'tape', 'solve', 'gory', 'separate', 'practically', 'wit', 'france', 'pleasant', 'switch', 'classics', 'k', 'ancient', 'chick', 'victoria', 'cinderella', 'winner', 'exploitation', 'scale', 'stag', 'host', 'jackie', 'joseph', 'combination', '0', 'product', 'alex', 'monkey', 'curse', 'fame', 'sacrifice', 'wrap', 'angel', 'attract', 'proper', 'chief', 'uk', 'bird', 'extras', 'sympathetic', 'theatrical', 'theaters', 'handsome', 'court', 'roy', 'appropriate', 'nancy', 'bridge', 'largely', 'germany', 'moore', 'anger', 'canadian', 'investigate', 'unrealistic', 'matt', 'slap', 'priest', 'hearted', 'safe', 'louis', 'invite', 'provoke', 'stumble', 'sequels', 'capable', 'ryan', 'facts', 'determine', 'patrick', 'anderson', 'grave', 'accomplish', 'ape', 'protect', 'heck', 'eight', 'strongly', 'hall', 'position', 'football', 'walter', 'teenager', 'saturday', 'oliver', 'object', 'lousy', 'scare', 'terrify', 'substance', 'excitement', 'com', 'circumstances', 'table', 'naive', 'tedious', 'frustrate', 'report', 'refresh', 'thoughts', 'defeat', 'task', 'universal', 'trilogy', 'europe', 'weekend', 'wan', 'define', 'robot', 'colour', 'rival', 'pitch', 'teenagers', 'max', 'baseball', 'amateurish', 'beach', 'che', 'amateur', 'hopefully', 'gut', 'virtually', 'glimpse', 'noise', 'rental', 'fairy', 'risk', 'hype', 'horribly', 'tiny', 'purchase', 'north', 'reporter', 'relatively', 'mini', 'honor', 'asleep', 'danger', 'complicate', 'cowboy', 'admire', 'africa', 'remove', 'till', 'murphy', 'continuity', 'prevent', 'powell', 'category', 'unlikely', 'associate', 'contemporary', 'surface', 'gross', 'arrest', 'initial', 'twin', 'creatures', 'offensive', 'semi', 'texas', 'maintain', 'inner', 'lawyer', 'hitchcock', 'overcome', 'brave', 'kim', 'sin', 'mature', 'gas', 'unfortunate', 'professor', 'russell', 'surreal', 'politics', 'press', 'nail', 'argue', 'sisters', 'notch', 'attend', '14', 'forest', 'closer', 'qualities', 'sharp', 'liners', 'australian', 'cant', 'columbo', 'plague', 'lesbian', 'chan', 'bind', 'movement', 'makeup', 'border', 'foster', 'forgettable', 'swear', 'deaths', 'bus', 'landscape', 'clark', 'degree', 'damage', 'previously', 'edward', 'caine', 'roger', 'demonstrate', 'guide', 'peace', 'buff', 'enemy', 'birth', 'stink', 'propaganda', 'emma', 'mainstream', 'weeks', 'pacino', 'prime', 'pet', 'erotic', 'supernatural', 'size', 'veteran', 'routine', 'upset', 'merit', '25', 'deadly', 'latest', 'exact', 'settle', 'accidentally', 'wilson', 'invisible', 'blend', 'harsh', 'sun', 'whoever', 'speech', 'alice', 'rough', 'dollars', 'sympathy', 'mgm', 'contact', 'teens', 'needle', 'lift', 'friday', 'uninteresting', 'nude', 'link', 'guilty', 'ted', 'universe', 'terror', 'matrix', 'exploit', 'hood', 'path', 'gritty', 'doom', 'justify', 'mountain', 'league', 'irish', 'dozen', 'technically', 'corner', 'driver', 'blah', 'sword', 'aka', 'swim', 'department', 'atrocious', 'magical', 'princess', 'format', 'lugosi', 'junk', 'security', 'friendly', 'jaw', 'darkness', 'occasional', 'identify', 'pitt', 'false', 'legendary', 'emerge', 'sullivan', 'truck', 'shut', 'pan', 'prior', 'sarah', 'theory', 'confront', 'suspenseful', 'endure', 'variety', 'split', 'breast', 'directly', 'narration', 'sentence', 'johnson', 'hong', 'kinds', 'demons', 'reputation', 'donald', 'massive', 'everywhere', 'statement', 'sunday', 'forth', 'crush', 'metal', 'bury', 'bourne', 'equal', 'yell', 'behave', 'titanic', 'nose', 'nazi', 'gather', 'depend', 'urban', 'multiple', 'jerk', 'un', 'california', 'remotely', 'china', 'fictional', 'jar', 'reward', 'dean', 'melodrama', 'revolution', 'proud', 'vietnam', 'freeman', 'quest', 'execution', 'julia', 'jungle', 'borrow', 'grim', 'hoffman', 'rachel', 'belief', 'downright', 'effectively', 'worthwhile', 'insight', 'fade', 'afternoon', 'lifetime', 'blockbuster', 'lonely', 'crude', 'jon', 'favorites', 'conversation', 'susan', 'happiness', 'san', 'unconvincing', 'beast', 'dragon', 'flight', 'jail', 'nation', 'storm', 'branagh', 'trade', 'finger', 'imagery', 'lisa', 'accompany', 'captivate', 'brook', 'shower', 'idiot', 'alright', 'bag', 'cultural', 'ha', 'delivery', 'pose', 'von', 'bone', '60s', 'scheme', 'ron', 'address', 'sir', 'mexico', 'dude', 'demon', 'larry', 'scenario', 'productions', 'pursue', 'mexican', 'status', 'snake', 'screw', 'thumb', 'thankfully', 'tour', 'christ', '1950', 'tight', 'beg', 'ned', 'artists', 'significant', 'occasion', 'cruel', 'teeth', 'encourage', 'examples', 'retard', 'mere', 'device', 'hip', 'skill', 'sensitive', 'stomach', 'chain', 'heavily', 'render', 'indie', 'cabin', 'sidney', 'chair', 'necessarily', 'command', 'practice', 'holiday', 'studios', 'spite', 'shark', 'clichéd', 'india', 'reject', 'desperately', 'campy', 'outfit', 'fabulous', 'cheer', 'beloved', 'summary', 'initially', 'offend', 'tongue', 'murderer', 'midnight', 'stalk', 'faithful', 'stab', 'ticket', 'breath', 'pregnant', 'warner', 'facial', 'hardy', 'deeper', 'shoe', 'feed', 'stereotypical', 'promote', 'intellectual', 'raw', 'decades', 'fourth', 'racist', 'flashback', 'dennis', 'cell', '17', 'brad', 'ludicrous', 'spring', 'insist', 'disbelief', 'inept', 'elizabeth', 'environment', 'musicals', 'settings', 'critical', 'guarantee', 'expert', 'benefit', 'slapstick', 'maria', 'description', 'quirky', '1980', 'amazingly', 'reminiscent', 'daughters', 'mildly', 'explode', 'lincoln', 'underground', 'greater', 'slave', 'criminals', 'julie', 'bbc', 'sandler', 'cringe', 'storytelling', 'halfway', 'claire', 'criticism', 'extraordinary', 'turkey', 'leslie', 'aunt', 'funnier', 'wreck', 'overwhelm', 'depiction', 'melt', 'generate', 'notorious', 'michelle', 'choices', 'advantage', 'extent', 'originality', 'jessica', 'advertise', 'preview', 'east', 'defend', 'lane', 'ensue', 'comical', 'miscast', 'divorce', 'rogers', 'plant', 'apply', 'creep', 'basis', 'via', 'dollar', 'bollywood', 'graphics', 'expression', 'miller', 'notable', 'breathtaking', 'extend', 'novels', 'mouse', 'contribute', 'purely', 'introduction', 'stanley', 'inspiration', 'fix', 'lazy', 'maker', 'properly', 'cooper', 'oppose', 'measure', 'vacation', 'blair', 'weapons', 'carpenter', 'burt', 'laura', 'block', 'everyday', 'nowadays', 'lion', 'authentic', 'strangely', 'out', 'sitcom', 'circle', 'neck', 'tales', 'massacre', 'advise', 'workers', 'concert', 'tracy', 'lesser', 'grey', 'bitter', '1970', 'cheese', 'obnoxious', 'corrupt', '2000', 'react', 'westerns', 'sleazy', 'southern', 'overact', 'jewish', 'usa', 'nonetheless', 'addict', 'daily', 'bend', 'gruesome', '2006', 'bettie', 'confusion', 'remote', 'reed', 'sinister', 'alas', 'holmes', 'shirt', 'ironic', 'essential', 'obsession', 'interpretation', 'accuse', 'chop', 'inspector', 'tradition', 'navy', 'nut', 'busy', 'franchise', 'reduce', 'transform', 'bully', 'successfully', 'mansion', 'transfer', 'nurse', 'nine', 'stanwyck', 'philip', 'angels', 'goofy', 'screenwriter', 'intentions', 'appal', 'mob', 'lucy', '2001', 'pool', 'widow', 'oddly', 'amongst', 'marvelous', 'mentally', 'em', 'topic', 'madness', 'jake', 'legs', 'sutherland', 'manager', 'horrific', 'fortunately', 'disguise', 'comedian', 'relax', 'presentation', 'existent', 'zone', 'patient', 'pound', 'thief', 'intensity', 'upper', 'text', 'brando', 'imply', 'stylish', 'attach', 'stupidity', 'shoulder', 'albeit', 'frequently', 'jay', 'shift', 'dawn', 'wwii', 'ashamed', 'matthau', 'alter', 'snow', 'wash', 'surf', 'forbid', 'remark', 'bo', 'poignant', '1950s', 'prop', 'shout', 'personalities', 'rebel', 'prostitute', 'sneak', 'seagal', 'heat', 'expressions', 'chuck', 'tense', 'rochester', '18', 'hence', 'stranger', 'silver', 'proof', 'bette', 'internet', 'baker', 'enhance', 'pride', 'widmark', 'exaggerate', 'mindless', 'glory', 'dinner', 'greatly', 'innocence', 'bath', 'elvis', 'spielberg', 'credible', 'italy', 'horrify', 'hammer', 'cynical', 'racism', 'bang', 'wealthy', 'credibility', 'elvira', 'knife', 'thousands', 'sole', 'butt', 'absorb', 'fbi', 'endear', 'streisand', 'silence', 'crisis', 'controversial', 'dentist', 'contract', 'happily', 'noble', 'swing', 'deny', 'translate', 'blank', 'burton', 'flop', 'nelson', 'trite', 'pat', 'catholic', 'andrews', 'triumph', 'alike', 'medical', 'carter', 'conclude', 'broadcast', 'countries', 'lend', 'reunion', 'hundreds', 'physically', 'derek', 'thrillers', 'lessons', 'oil', 'savage', 'weight', 'technique', 'enjoyment', 'own', 'sexuality', 'trial', 'climb', 'performers', 'chaplin', 'bush', 'per', 'chuckle', 'celebrate', 'kurt', 'parallel', 'ensemble', 'virgin', 'dump', 'boot', 'whereas', 'britain', 'inform', 'wound', 'neat', 'hundred', 'sons', 'millions', 'ta', 'employ', 'dancer', 'weapon', 'irony', 'exceptional', 'month', 'uncomfortable', 'atmospheric', 'overdo', 'concentrate', 'march', 'plastic', 'infamous', 'courage', 'karloff', 'conceive', 'assistant', 'arnold', 'garden', 'polish', 'mar', 'caricature', 'mill', 'disagree', 'brand', 'andrew', 'ralph', 'flynn', 'cube', 'pal', 'helen', 'cousin', 'float', 'protagonists', 'resort', 'restore', 'be', 'oscars', 'induce', 'dear', 'spike', 'sweep', 'cameos', 'sentimental', 'cruise', 'pig', 'entry', 'vincent', 'row', 'exercise', 'portrait', 'hamlet', 'meaningful', 'colorful', 'slip', 'freeze', 'puzzle', 'thousand', 'perfection', 'lovable', 'layer', 'fortune', 'file', 'ward', 'stan', 'redemption', 'portion', 'idiotic', 'unforgettable', 'spark', '24', 'neighborhood', 'pin', 'dominate', 'worlds', 'slaughter', 'basement', 'lucas', 'attraction', 'mst3k', 'ham', 'boll', 'curtis', 'pro', 'glover', 'larger', 'convict', 'guilt', 'dorothy', '16', 'catherine', 'destruction', 'roberts', 'dialogs', 'tower', 'rocket', 'owe', 'pg', 'pie', 'factory', 'cancel', 'hudson', 'walken', 'eerie', 'st', 'bell', 'carol', 'ad', 'thirty', 'whale', 'invent', 'boredom', 'library', '2005', 'ban', 'hanks', 'expensive', 'closely', 'dramas', 'compose', 'denzel', 'imaginative', 'homeless', 'multi', 'civil', 'competent', 'ultra', 'eva', '1st', 'appearances', 'urge', 'jet', 'slight', 'lloyd', 'crimes', 'pad', 'virus', 'profound', 'distance', 'canada', 'loser', 'elsewhere', 'scientists', 'hack', 'secretary', 'huh', 'essence', 'complaint', 'devote', 'elaborate', 'button', 'jeremy', 'adopt', 'tribute', 'drown', 'cure', 'rave', 'eastwood', 'bobby', 'incoherent', 'charisma', 'spread', 'health', 'companion', 'doc', 'fest', 'birthday', 'goal', 'fetch', 'magazine', 'gothic', 'peak', 'construct', 'videos', 'panic', 'techniques', 'bride', 'countless', 'cusack', 'scooby', 'heston', 'observe', 'cup', 'specific', 'lust', 'tea', 'briefly', 'stress', 'hearts', 'reactions', 'unintentionally', 'charismatic', 'iii', 'ritter', 'sexually', 'carefully', 'admittedly', 'importance', 'reel', 'sally', 'shy', 'obscure', '1990', 'bible', 'neil', 'bud', 'godfather', 'kane', 'barry', 'horrendous', 'toss', 'guest', 'poverty', 'pit', 'ally', 'label', 'tons', 'shall', 'mild', 'revelation', 'stronger', 'comics', 'homage', 'stiff', 'reeve', '1970s', 'smash', 'burst', 'cole', 'lily', 'intention', 'duke', 'executive', 'ian', 'tag', 'relevant', 'function', 'medium', 'update', 'astaire', 'gate', 'miike', 'fancy', 'lab', 'exchange', 'inevitable', 'sophisticate', '2002', 'document', 'increasingly', 'le', 'cox', 'sketch', 'vary', 'korean', 'mafia', 'carrey', 'cardboard', 'university', 'transition', 'typically', 'afford', 'dawson', 'easier', 'resolve', 'kubrick', 'assault', 'resolution', 'scratch', 'acceptable', 'toilet', 'jesse', 'bakshi', 'blast', 'comfort', 'tame', 'farm', 'nights', 'worker', 'strictly', 'smooth', 'brilliance', 'vague', 'davies', 'depression', 'fisher', 'nuclear', 'criticize', 'luckily', '1980s', 'creation', 'disease', 'ego', 'qualify', 'instantly', 'brosnan', 'investigation', 'satan', 'grasp', 'assure', 'afterwards', 'union', 'jamie', 'confess', 'cave', 'reynolds', 'closet', 'rex', 'coach', 'suspend', 'joey', 'estate', 'useless', 'handful', 'partly', 'competition', 'bias', 'gray', 'meat', 'importantly', 'grandmother', 'kudos', 'clock', 'evident', 'norman', 'tremendous', 'butcher', 'wipe', 'evoke', 'clown', 'presumably', 'fifteen', 'relative', 'australia', 'persona', 'aforementioned', 'superbly', 'farce', 'creators', 'individuals', 'collect', 'corpse', 'chew', 'ho', 'ambitious', 'awake', 'conspiracy', 'stooge', 'worthless', 'seed', 'abc', 'flawless', 'digital', 'wrestle', 'cheek', 'dash', '45', 'narrator', 'slice', 'spiritual', 'splatter', 'doors', 'regardless', 'diamond', '’', 'drivel', 'spooky', 'boil', 'critic', 'distant', 'glow', 'mitchell', 'curiosity', 'cagney', 'supply', 'achievement', 'lyric', 'recover', 'samurai', 'pleasantly', 'piano', 'horrors', 'miserably', 'bullets', 'fatal', 'prize', 'increase', 'flower', 'lou', 'mann', 'citizen', 'blob', 'empire', 'predict', 'generous', 'iron', 'ken', 'pressure', 'shine', 'francisco', 'convolute', 'gap', 'perry', 'territory', 'nod', 'consequences', 'goldberg', 'characterization', 'los', 'cia', 'web', 'ironically', 'repetitive', 'splendid', 'beer', 'doo', 'mile', 'outrageous', 'uninspired', 'mate', 'response', 'falk', 'logical', 'psychiatrist', 'ellen', '20th', 'turner', 'souls', 'dire', 'prejudice', 'craig', 'emily', 'flip', 'slightest', 'motivation', 'modesty', 'morality', 'throat', 'temple', 'melodramatic', 'shortly', 'felix', 'directorial', 'breathe', 'wolf', 'fay', 'installment', 'bash', 'tall', 'liberal', 'cameron', 'ruth', 'precious', 'documentaries', 'laurel', 'hatred', 'jealous', 'indians', 'subsequent', 'retire', 'timeless', 'knight', 'duo', 'fx', 'fund', 'manhattan', 'alexander', 'dracula', 'insert', 'gandhi', 'alternate', 'dive', 'tank', 'futuristic', 'warrior', 'poster', 'mock', 'bless', 'wes', 'seduce', 'subplot', 'restaurant', 'scientific', 'awaken', 'repeatedly', 'disc', 'torment', 'mel', 'drunken', 'explicit', 'elderly', 'manipulate', 'thread', 'paulie', 'nerve', 'indicate', 'notably', 'reasonably', 'psychotic', 'superhero', 'bleak', 'wicked', 'photographer', 'glenn', 'rivet', 'outcome', 'argument', 'ah', 'timothy', 'minimal', 'editor', 'gradually', 'acclaim', '2004', 'kitchen', 'pirate', 'soviet', 'discussion', 'lean', 'illustrate', 'loosely', 'launch', 'dignity', 'idiots', 'verhoeven', 'giallo', 'poison', 'antic', 'romero', 'pierce', 'definite', 'darker', 'eve', 'annie', 'ease', 'reasonable', 'ambition', 'phrase', 'translation', 'uniform', 'carrie', 'warren', '99', 'dave', 'purple', 'craven', 'intent', 'breed', 'square', 'stiller', 'childish', 'hysterical', 'walker', 'pulp', 'wannabe', 'bin', 'package', 'absence', 'resist', 'fever', 'areas', 'crook', 'gentle', 'awe', 'danes', 'weave', 'threat', 'sloppy', 'contrary', 'dancers', 'q', 'wallace', 'vicious', 'brazil', 'commercials', 'folk', 'kenneth', 'saint', '2003', 'sunshine', 'unbelievably', 'pray', 'leap', 'thick', 'yesterday', 'unbearable', 'foul', 'eyre', 'discovery', '1930s', 'karen', 'choreography', 'mildred', 'heroic', 'movements', 'dose', 'twelve', 'differences', 'horrid', 'defy', 'overrate', 'incident', 'hollow', 'matthew', 'donna', 'prom', 'involvement', 'kapoor', 'kirk', 'nazis', 'jazz', 'ireland', 'margaret', 'evolve', 'combat', 'broad', 'flame', 'symbolism', 'altman', 'fee', 'ought', 'bare', 'bathroom', 'aspire', 'bull', 'hamilton', 'bottle', 'tommy', 'anyways', 'shade', 'communicate', 'spit', 'newspaper', 'greek', 'boast', 'currently', 'beatty', 'audio', 'nicholson', 'holy', 'genres', 'fulci', 'whip', 'mat', 'population', 'rambo', 'trio', 'website', 'flee', 'sadistic', '50s', 'journalist', 'sadness', 'superficial', 'dedicate', 'todd', 'adequate', 'terry', 'harder', 'secrets', 'reunite', 'seventies', 'leg', 'dynamic', 'staff', 'swedish', 'yellow', 'altogether', 'explosion', 'cliff', 'neo', 'pseudo', 'ridiculously', 'fighter', 'bust', 'hugh', 'robots', 'sue', 'popcorn', 'lawrence', 'befriend', 'await', 'fonda', 'li', 'voight', 'synopsis', 'pen', 'dinosaurs', 'leonard', 'selfish', 'thugs', 'madonna', 'misunderstand', 'rage', 'atlantis', 'tip', 'astonish', 'wire', 'innovative', 'unsettle', 'centre', 'blake', 'rural', 'detract', 'bargain', 'gadget', 'clint', 'mountains', 'juvenile', 'dimension', 'garner', 'cameras', 'dialogues', 'unpleasant', 'coherent', 'explosions', 'comfortable', 'versus', 'cuba', '2nd', 'locate', 'vivid', 'brady', 'adore', 'venture', 'troop', 'philosophy', '2007', 'harm', 'bullet', 'favour', 'trail', 'conventional', 'examine', 'echo', 'operate', 'buddies', 'eccentric', 'wealth', 'lemmon', 'murderous', 'carl', 'nearby', 'lips', 'unintentional', 'errors', 'meaningless', '1930', 'cary', 'mislead', 'kennedy', 'odds', 'palma', 'abilities', 'nightmares', 'solo', 'pause', 'mummy', 'deliberately', 'pun', 'collapse', 'implausible', 'jeffrey', 'celluloid', 'announce', 'edie', 'neglect', 'milk', 'mickey', 'choreograph', 'roman', 'ingredients', 'cake', 'olivier', 'possibility', 'uneven', 'holly', 'coat', '1996', 'betray', 'undoubtedly', 'pant', 'spare', 'confirm', 'hbo', 'conversations', 'harvey', 'ginger', 'bleed', 'resemblance', 'daddy', 'furthermore', 'duty', 'funeral', 'tool', 'pot', 'gear', 'ground', 'florida', 'official', 'highest', 'bedroom', 'polanski', 'debate', '90s', 'colonel', 'survival', 'cue', 'primary', 'hart', 'din', 'politically', 'goodness', 'brooklyn', 'godzilla', '1960', 'chaos', '1999', 'coffee', 'mysteries', 'hank', 'rick', 'generic', 'backdrop', 'poke', 'maggie', 'slide', 'linda', 'respond', 'strain', 'bowl', 'remarkably', 'isolate', 'smaller', 'wive', 'financial', 'punk', 'clumsy', 'unwatchable', 'exotic', 'notion', 'glorious', 'lol', 'embrace', 'enchant', 'primarily', 'desperation', 'lifestyle', 'retain', 'consistently', 'outer', 'secondly', 'trace', 'instant', 'principal', 'enterprise', 'beneath', 'blatant', 'amy', 'hal', 'decisions', 'devoid', 'destiny', 'sidekick', 'dutch', 'doll', 'enemies', 'motives', 'streep', 'performer', 'rabbit', 'pearl', 'diane', 'ideal', 'forty', 'trademark', 'mixture', 'et', 'disjoint', 'enormous', 'audition', 'countryside', 'alert', 'frustration', 'revolutionary', 'terrorist', 'dozens', 'interact', 'declare', 'homer', 'ocean', 'grinch', 'communist', 'ya', 'anticipate', 'shirley', 'garbo', 'hideous', 'shelf', 'montage', 'immensely', 'tender', 'bold', 'celebrity', 'relations', 'vanish', 'compete', '3rd', 'method', 'mail', 'macy', 'z', 'applaud', 'griffith', 'hardcore', 'stellar', 'stack', 'boom', 'quit', 'subtlety', 'fond', 'trailers', 'uwe', 'inhabit', 'fry', 'rifle', 'emphasis', 'stir', 'eighties', 'senseless', 'adorable', 'april', 'decline', 'participate', 'soccer', 'obtain', 'user', 'contest', 'angeles', 'tenant', 'span', 'specifically', 'diana', 'imitate', 'saga', 'craze', 'survivors', 'counter', 'oz', 'tempt', 'hartley', 'authority', 'simplistic', 'sh', 'stinker', 'ruthless', 'topless', 'amanda', 'transformation', 'shed', 'cinematographer', 'babe', 'miserable', 'revolt', 'akshay', '1940', 'parade', 'corruption', 'woo', 'vast', 'riot', 'bitch', 'wont', 'niro', 'faster', 'rag', 'lumet', 'judy', 'loyal', 'shaw', 'worm', 'jonathan', 'wheel', 'mario', 'wet', 'transport', 'ensure', 'frequent', 'lena', 'interaction', 'humble', 'racial', 'steam', 'khan', 'graduate', 'arrogant', 'elephant', 'weakest', 'honesty', 'philosophical', 'ears', 'sellers', 'chorus', 'trashy', 'wendy', 'charlotte', 'safety', 'moody', 'steel', 'berlin', 'adams', 'dinosaur', 'franco', 'passionate', 'thoughtful', 'possibilities', 'similarities', 'sandra', 'similarly', 'grandfather', 'morris', 'arrange', 'dread', 'formulaic', 'hopper', 'nomination', 'severe', 'scarecrow', 'macarthur', 'porno', '1972', 'reply', 'solely', 'dalton', 'assign', 'tail', 'bumble', 'narrate', 'nostalgic', 'campbell', 'snap', 'scope', 'christy', 'considerable', 'understandable', 'acquire', 'emperor', 'thru', 'inventive', 'nervous', 'abysmal', 'pattern', 'domino', 'education', 'myers', 'snl', 'drum', 'ramble', 'strand', 'blond', 'dust', 'bonus', 'illogical', 'hyde', 'dolls', 'romp', 'rotten', 'slick', 'del', 'despair', 'consistent', 'poetic', 'kyle', 'corporate', 'reverse', '35', 'helicopter', 'tonight', 'drain', 'infect', 'leo', 'bow', 'rope', 'educate', 'laws', 'species', 'cliche', 'orson', 'bergman', 'blunt', 'chess', 'exit', 'ignorant', 'pour', 'select', 'unhappy', 'cg', 'museum', 'tad', 'embarrassment', 'mayor', 'slug', 'downhill', 'edgar', 'lately', 'dazzle', 'montana', 'tackle', 'preach', 'vegas', 'shelley', 'pervert', 'kingdom', 'confidence', 'motivations', 'photos', 'arc', 'acknowledge', 'champion', 'belt', 'simpson', 'eliminate', 'roth', 'blade', 'namely', 'ollie', 'heal', 'inane', 'slash', 'global', 'ruby', '1983', 'vengeance', 'dixon', 'cleverly', 'connery', 'carradine', 'gamble', 'virginia', 'gangsters', 'plight', 'latin', 'dickens', 'eager', 'inferior', 'miracle', 'closest', 'paltrow', 'useful', 'timon', 'suitable', 'stevens', 'relation', 'conservative', 'recruit', 'bela', 'recycle', 'ballet', 'wizard', 'jenny', 'artificial', 'agents', 'sappy', 'crocodile', 'whine', 'valuable', '1968', 'convincingly', 'swallow', 'alcoholic', 'quarter', 'paranoia', '00', 'mall', 'access', 'scottish', 'iran', 'bay', 'uplift', 'climactic', 'clone', 'suffice', 'elegant', 'robinson', 'civilization', 'airport', 'tube', 'gundam', 'chest', 'giggle', 'scrooge', 'sirk', 'mute', 'yawn', 'pokemon', 'raymond', 'understate', 'expand', 'im', 'surpass', 'chicago', 'mesmerize', 'richardson', 'engross', 'spock', 'creator', 'vice', 'poetry', 'beliefs', 'devastate', 'secretly', 'stilted', 'exploration', 'plod', 'amitabh', 'willis', 'trend', 'intimate', 'lowest', 'tiresome', 'robbery', 'nicholas', 'ethan', 'september', 'misery', 'frankenstein', 'meander', '1960s', 'linger', 'lundgren', 'calm', 'christians', 'simplicity', 'catchy', 'potentially', 'hum', 'rant', 'compliment', 'waitress', 'numb', 'taxi', 'vulnerable', 'invest', 'abusive', 'nostalgia', 'junior', 'literature', 'germans', 'map', 'questionable', 'lure', 'cannon', 'francis', 'construction', 'gerard', 'muddle', 'rubber', 'hello', 'vaguely', 'complexity', 'acid', 'greedy', 'recognition', 'kay', 'showcase', 'coast', 'gender', 'persons', 'careful', 'airplane', 'illegal', 'operation', 'richards', 'firstly', 'cd', 'june', 'louise', 'duck', 'attitudes', 'alongside', 'omen', 'homosexual', 'publish', 'elevate', 'rendition', 'bacall', 'stallone', 'gabriel', 'frankie', 'brutally', 'hunters', 'marty', 'bike', 'illness', 'chicks', 'online', 'organize', 'justin', 'prisoner', 'capital', 'intentionally', 'patients', 'farrell', 'betty', 'arguably', 'damon', 'likewise', 'grayson', 'ashley', 'lengthy', 'confine', 'biko', 'wisdom', 'off', 'attorney', 'drake', 'newly', 'prisoners', 'inappropriate', 'opinions', 'bump', 'terrorists', 'visible', '1973', 'incomprehensible', 'mankind', 'phantom', 'resources', 'descent', 'relatives', 'unit', 'buffalo', 'lively', 'emphasize', 'startle', 'chapter', 'tomatoes', 'habit', 'molly', 'basketball', 'chronicle', 'invasion', 'classical', 'tunnel', 'solution', 'suspicious', 'prey', 'edition', 'antwone', 'austen', 'responsibility', 'reign', 'appreciation', 'stale', 'vein', 'keith', 'mistress', 'cities', 'twilight', 'demented', 'manipulative', 'heel', 'barrymore', 'analysis', 'occupy', 'rooney', 'property', 'lone', 'royal', 'randy', 'masterful', 'exhibit', 'drift', 'owen', 'widely', 'excessive', 'dismiss', 'arrival', 'subplots', 'legal', 'equivalent', 'belushi', 'dreary', 'fleet', 'pink', 'losers', 'tiger', 'incompetent', 'barrel', 'othello', 'mundane', 'hilariously', 'mighty', 'plausible', 'enthusiasm', 'walsh', 'sincere', 'rocky', 'priceless', 'greed', 'warmth', 'nyc', 'alison', 'carell', 'historically', 'marvel', 'disorder', 'crucial', 'engineer', 'roof', 'julian', 'ear', 'exceptionally', 'der', 'graham', 'underlie', 'butler', 'novak', 'spider', 'mtv', 'defense', 'traffic', 'reid', '3d', 'photo', 'marion', 'tooth', 'instinct', 'ninja', 'lampoon', 'rukh', 'domestic', 'earl', 'alarm', 'rangers', 'shove', 'heights', 'unleash', 'cassidy', 'orleans', 'assassin', 'mechanical', 'glance', 'monk', 'watson', 'methods', 'icon', 'resident', 'masterpieces', 'interrupt', 'angela', '1933', 'imitation', 'specially', 'irrelevant', 'willie', 'bubble', 'spain', 'psychic', 'muslim', 'pursuit', 'peck', 'alfred', 'glue', 'pamela', 'gesture', 'drip', 'orange', 'thompson', 'prequel', 'distinguish', 'israel', '13th', 'iraq', 'poem', 'whats', 'dolph', 'carla', 'incorporate', 'randomly', 'creativity', 'opportunities', 'zizek', 'stake', 'register', 'simmons', 'feminist', 'firm', '1984', 'wacky', 'recreate', 'showdown', 'caliber', 'minimum', 'household', 'abraham', 'campaign', 'album', 'whoopi', 'scotland', 'fido', 'hay', 'gentleman', 'awfully', 'alcohol', 'improvement', 'brenda', 'punishment', 'sabrina', 'attribute', 'empathy', 'unreal', 'cannibal', 'survivor', 'elm', 'nephew', 'stroke', 'fiancé', 'sympathize', 'equipment', 'phony', 'distinct', 'tribe', 'cap', 'hippie', 'crawl', 'damme', '1987', 'ramones', 'greg', 'dana', 'restrain', 'meryl', 'distress', 'sixties', 'alienate', 'unaware', 'spacey', 'kurosawa', 'wax', 'demise', 'activities', 'compromise', 'miyazaki', 'labor', 'fuller', 'perceive', 'quinn', 'businessman', 'absent', 'warrant', 'unseen', 'maid', 'eastern', 'dud', 'ustinov', 'palace', '1997', 'cream', 'eugene', 'definition', 'petty', 'travesty', 'crown', 'darren', 'stargate', 'fury', 'maniac', 'crystal', 'soderbergh', 'censor', 'pole', 'peters', 'mclaglen', 'popularity', 'unoriginal', 'josh', 'nerd', '30s', 'moronic', 'valley', 'testament', '1993', 'decease', 'biography', 'uncover', 'wholly', 'nonsensical', 'deniro', 'composer', 'furious', 'laughably', 'click', 'unpredictable', 'unravel', 'antonioni', 'fog', 'nicole', 'dee', 'ross', 'austin', 'exposure', 'hopeless', 'egg', 'integrity', 'crawford', 'nathan', 'yard', 'tarantino', 'distribution', 'warriors', 'tech', 'inevitably', 'substitute', 'cloud', 'fence', 'seal', 'correctly', 'edgy', 'anchor', 'educational', 'sissy', 'sid', 'accuracy', 'cripple', '2008', 'buster', 'leon', 'sand', 'clerk', 'compensate', 'fuel', 'conduct', 'clash', 'joel', 'greatness', 'strangers', 'deaf', 'reflection', '1995', 'alec', 'metaphor', 'utilize', 'brutality', 'les', 'slam', 'shanghai', 'bake', 'puppet', 'expedition', 'patience', 'wang', 'darn', '1971', '3000', 'compassion', '–', 'fart', 'murray', 'championship', 'dreck', 'robbins', 'significance', 'loyalty', 'technicolor', 'shell', 'phil', 'outline', 'derange', 'stuart', 'victory', 'unfair', 'valentine', 'sheet', 'duel', 'critique', 'tax', 'wilderness', 'sustain', 'despise', 'femme', 'rita', 'chicken', 'reader', 'generations', 'legacy', 'seldom', 'pete', 'immediate', 'adaptations', 'claus', 'directions', 'malone', 'passable', 'temper', 'kumar', 'baldwin', 'indulgent', 'pocket', 'marshall', 'preston', 'respectively', 'experimental', 'newman', 'shaky', 'inability', 'objective', 'da', 'singers', 'confrontation', 'downey', 'millionaire', 'soup', 'jacket', 'unexpectedly', 'kansas', 'examination', 'presume', 'jewel', 'divide', 'inherit', 'rehash', 'delve', 'logan', 'ambiguous', 'tacky', 'sugar', 'lackluster', 'boyle', 'hawke', 'andre', 'alicia', 'schedule', 'gregory', 'conscious', 'grief', 'christianity', 'bloom', 'rear', 'russia', 'wretched', 'sentinel', 'difficulties', 'rampage', 'alternative', 'bunny', 'protest', 'fascination', 'vulgar', 'wrench', 'flair', 'humiliate', 'karl', '22', 'tripe', 'vance', 'sopranos', 'ladder', 'simultaneously', 'kolchak', 'awhile', 'premiere', 'dysfunctional', 'marc', 'sentiment', 'foxx', '1936', 'disgrace', 'sharon', 'females', 'vomit', 'bridget', 'fifty', 'paradise', 'rub', '19th', 'spice', 'paramount', 'wagner', 'appropriately', 'condemn', 'palance', 'prank', 'bacon', 'finance', 'primitive', 'items', 'comedians', 'basinger', 'wildly', 'musicians', 'interactions', 'stream', 'underneath', 'exposition', '1978', 'teachers', 'hulk', 'lurk', 'minus', 'rude', 'musician', 'silliness', 'amusement', 'scoop', 'delete', 'precisely', 'sunny', 'vet', 'inject', 'rumor', 'consume', 'duvall', '1989', 'penn', 'arise', 'heist', 'clarke', '75', 'loneliness', 'unlikable', 'tease', 'derive', 'stark', 'absurdity', 'smell', '1988', '1939', 'fulfil', 'conscience', 'dirt', 'complaints', 'designer', 'assemble', 'tomorrow', 'leigh', 'celebration', 'motivate', 'quietly', 'minister', 'behold', 'posey', 'straightforward', 'bread', 'couch', 'grudge', 'servant', 'rewrite', 'region', 'coincidence', 'entrance', 'roommate', 'choppy', 'hopkins', 'premier', 'adolescent', 'curly', 'literary', 'chavez', 'electric', 'pitiful', 'weakness', 'posters', 'hackneyed', 'skull', 'agenda', 'iv', 'hungry', 'wwe', 'springer', 'beverly', 'strive', 'nemesis', 'cancer', 'tierney', 'el', '40s', 'lindsay', 'mccoy', 'grotesque', 'interpret', 'ratso', '1986', 'penny', 'laurence', 'ethnic', 'policeman', 'boxer', 'devices', 'industrial', 'citizens', 'yearn', 'moreover', 'haired', 'impose', 'provocative', 'roller', 'grin', 'esther', 'en', 'profanity', 'net', 'misguide', 'cattle', 'ace', 'preposterous', 'attenborough', 'asylum', 'active', 'bernard', 'heartfelt', 'amazon', 'behaviour', 'quaid', 'nolan', 'mode', 'inexplicably', 'rosemary', 'additional', '1979', 'yeti', 'vader', 'option', 'tyler', 'hk', 'poe', 'spiral', 'conviction', 'positively', 'naughty', 'min', 'squad', 'er', 'heartbreaking', 'uncut', 'ignorance', 'secondary', 'brood', 'bye', 'guitar', 'paxton', 'canyon', 'buzz', 'beatles', 'dont', 'skits', 'hopelessly', 'tasteless', 'hughes', 'automatically', 'shoddy', 'rod', 'gina', 'beware', 'affection', 'populate', 'narrow', 'preminger', 'abrupt', 'admirable', 'gillian', 'morbid', 'suspension', 'bounce', 'youngest', '1969', 'heap', 'betrayal', 'respective', 'patricia', 'lip', 'martha', 'imaginable', 'weather', 'lush', 'kline', 'kitty', 'steady', 'coaster', 'realm', 'gal', 'meg', 'christine', 'recommendation', 'baffle', 'insurance', 'daniels', 'jess', 'muppet', 'jews', 'grate', 'severely', 'sweat', 'chainsaw', 'bronson', 'brendan', 'mayhem', 'selection', 'trigger', 'fist', 'entitle', 'profit', 'anticipation', 'taboo', 'guests', 'goof', 'fluff', 'eternal', 'candle', 'kidman', 'farmer', 'astound', 'lester', 'conventions', '19', 'psychology', 'artsy', 'reluctant', 'enable', '73', 'distribute', 'evidently', 'historic', 'outlaw', 'inconsistent', 'hepburn', 'wilder', 'circus', 'tick', 'underworld', 'fontaine', 'renaissance', 'sooner', 'shatter', 'indication', 'filler', 'orient', 'lois', 'filth', 'nicolas', 'dish', 'iconic', 'punish', 'injure', 'acceptance', 'triple', 'oldest', 'whore', 'insipid', 'salt', 'reserve', 'agency', 'shrink', 'affairs', 'boston', 'sox', 'analyze', 'contemplate', 'weaknesses', 'harmless', 'housewife', 'cope', 'recognise', 'rome', 'zoom', 'fifties', 'macho', 'bros', 'spade', 'sassy', 'stalker', 'angst', 'banal', 'zombi', 'cruelty', 'corpses', 'revive', 'visions', 'scorsese', 'muppets', 'bean', 'steer', 'hammy', 'glorify', 'gere', 'overlong', 'uh', 'gasp', 'steele', '1976', 'confident', 'trivia', 'hokey', 'spree', 'preachy', 'connections', 'widescreen', 'flag', 'strongest', 'cassavetes', 'locals', 'denis', 'faint', 'repress', 'height', 'ram', '1981', 'shield', 'obligatory', 'beard', 'morally', 'cushing', 'nolte', 'enthral', 'cow', 'harold', 'dwarf', 'rhyme', 'alvin', 'flirt', 'portrayals', 'difficulty', 'runner', 'rhythm', 'commander', 'blackmail', 'beside', 'down', 'exceptions', 'ants', 'shred', 'unexplained', 'schlock', 'worship', 'naschy', 'mount', 'slimy', 'someday', 'muscle', 'comparisons', 'interestingly', 'shepherd', 'melody', 'www', 'hara', 'mentality', 'prominent', 'legends', 'route', 'despicable', 'rapist', 'flashy', 'mol', 'stairs', 'casual', 'shortcomings', 'spinal', 'avenge', 'danish', 'vital', 'wield', 'representation', '1945', '95', 'clan', 'boob', 'ebert', 'physics', 'brush', '28', 'flock', 'cohen', 'suitably', 'bachelor', 'recognizable', 'unrelated', 'phenomenon', 'raj', 'ariel', 'harrison', 'reprise', 'vibrant', 'preserve', 'delicate', 'timberlake', 'dylan', 'heartwarming', 'assist', 'undermine', 'submit', 'ingenious', 'hapless', 'hug', 'persuade', 'independence', 'colin', 'cookie', 'loathe', 'conquer', 'globe', 'neill', 'phillip', 'carey', 'proclaim', 'phillips', 'jade', 'guinness', 'cycle', 'melissa', 'resume', 'lukas', 'helm', 'corbett', 'enlighten', 'pickford', 'elite', 'cher', 'clueless', 'coup', 'loretta', 'inexplicable', 'considerably', 'grainy', 'info', 'norm', 'europa', 'horn', 'dim', 'claustrophobic', 'http', 'zane', 'rot', 'gems', 'kathryn', 'pixar', 'jordan', 'politician', 'winchester', 'georges', 'item', 'inhabitants', 'vanessa', 'breakfast', 'glamorous', 'marlon', 'destine', 'orphan', 'immature', 'mathieu', 'blatantly', 'christie', 'bondage', 'article', 'publicity', 'toronto', 'institution', 'ish', 'riff', 'feast', 'static', 'symbolic', 'hilarity', 'ritchie', 'sever', 'excel', 'election', 'backwards', 'choke', 'anton', 'razor', 'banter', 'uma', 'sicken', 'incidentally', 'wig', 'claude', 'eternity', 'wendigo', 'surgery', 'resurrect', 'camcorder', 'keen', 'dandy', 'corman', 'peer', 'minority', 'boyer', 'disable', 'mermaid', 'ton', 'excess', 'continually', 'enlist', 'transplant', 'vocal', 'satirical', 'departure', 'audrey', 'insightful', 'lecture', 'dvds', 'partially', 'descend', 'assassination', 'pc', 'deem', 'alley', 'leather', 'chamberlain', 'shorter', 'proportion', 'disregard', 'differently', 'howl', 'inflict', 'authorities', 'knightley', 'foil', 'detectives', 'charlton', 'natives', 'glare', 'goers', 'affleck', 'feat', 'frog', 'gunga', 'toe', 'concepts', 'peril', 'genie', 'smack', 'nope', '1994', 'mannerisms', 'comprehend', 'huston', 'snatch', 'trials', 'alexandre', 'shave', 'btw', 'pacific', 'holocaust', 'potter', 'chip', 'comprise', 'culminate', 'trier', 'boo', 'computers', '1990s', 'niece', 'tara', 'profession', 'suggestion', 'uniformly', 'lighter', 'sorely', 'messy', 'duration', 'accurately', 'mitch', 'milo', 'whack', 'scrap', 'greet', 'windows', 'natalie', '4th', 'moe', 'neurotic', 'braveheart', 'goldsworthy', 'fishburne', 'newer', '1991', 'homicide', 'dudley', 'northern', 'tack', 'lifeless', 'expense', 'mon', 'carlito', 'dwell', 'bogus', 'deer', 'einstein', 'outright', 'belly', 'helpful', 'conrad', 'evolution', 'exquisite', 'demonic', 'triangle', 'summarize', 'bulk', 'creek', 'ie', 'randolph', 'predecessor', 'mutual', 'nina', 'gable', 'myth', 'liu', 'token', 'armstrong', 'firmly', 'sleaze', 'lavish', 'reliable', 'elevator', 'healthy', 'fright', 'clara', 'spawn', 'gilliam', 'outdated', 'neatly', 'errol', 'biblical', 'flavor', 'tolerate', 'indulge', 'mcqueen', 'undead', 'speeches', 'mercy', 'setup', 'cbs', '1974', 'snuff', 'gods', 'eleven', 'degrade', 'vile', 'evelyn', 'sincerely', 'skit', 'disastrous', '1977', 'signal', 'kazan', 'wtf', 'corn', 'fifth', 'leaders', 'pee', 'casino', 'spar', 'groan', 'bsg', 'paula', 'luis', 'miniseries', 'insanity', 'porter', 'kent', 'antonio', 'akin', 'cerebral', 'curtain', 'highway', 'spray', 'secure', 'sergeant', 'blur', 'goldblum', 'conan', 'salman', 'pioneer', 'judd', 'radical', 'insights', 'improvise', 'stare', 'truman', 'capote', 'convert', 'vain', 'embark', 'realities', 'deliverance', 'seedy', 'contempt', 'abound', 'poker', 'statue', '1985', 'subtly', 'nations', 'differ', 'joker', 'carmen', 'sometime', 'walt', 'boris', 'grateful', 'artwork', 'spill', 'mason', 'candidate', 'cemetery', 'activity', 'roar', 'helpless', 'lex', 'error', 'cartoonish', 'lance', 'bait', 'snip', 'internal', 'cain', 'jedi', 'contribution', 'monty', 'owners', 'terminator', 'growth', 'masterson', 'nominations', 'inspirational', 'bravo', 'weaker', 'terrorize', 'gimmick', 'linear', 'dot', 'las', 'mum', 'verge', 'rapidly', 'vastly', 'voyage', 'exhaust', '21st', 'masterfully', 'scariest', 'dubious', 'pepper', 'jill', 'puppets', 'miami', 'frontal', 'topics', 'thirties', 'hugely', 'cypher', 'bach', 'lauren', 'ingrid', 'des', 'transcend', 'cinemas', 'corporation', 'unlikeable', 'tokyo', 'origin', 'hackman', 'motorcycle', 'modest', 'repulsive', 'handicap', 'wardrobe', 'turtle', 'thunderbirds', 'soylent', 'standout', 'christina', '1959', 'giants', 'youthful', 'arab', 'sophie', 'crosby', 'expertly', 'limitations', 'strengths', 'parsons', 'macabre', 'stunningly', 'natured', 'excellently', 'underwear', 'males', 'replay', 'inaccurate', 'wonderland', 'unsure', 'painter', 'relentless', 'thieve', 'hoot', 'crisp', 'cecil', 'sparkle', 'amrita', 'sale', 'origins', 'monitor', 'undeniably', 'id', 'vehicles', 'spine', 'homosexuality', 'casper', 'saddle', 'youtube', 'perception', 'motive', 'missile', 'ol', 'juliet', 'unsuspecting', 'authenticity', 'mabel', 'screenwriters', 'pump', 'shelter', 'mitchum', 'burke', 'headache', 'comb', 'harlow', 'sniper', 'drone', 'beowulf', 'suburban', 'longest', 'lennon', 'galaxy', 'energetic', 'playboy', 'exterior', 'request', 'estrange', '1940s', 'mentor', 'witchcraft', 'scarface', 'accessible', 'magician', 'stardom', 'judgment', 'definitive', 'toni', 'siblings', 'dealer', 'kinnear', 'ronald', 'instrument', 'servants', 'nbc', 'dodge', 'phase', 'users', 'bruno', 'literal', 'entirety', 'colleagues', 'mobile', 'unattractive', 'fatale', '21', 'mice', 'yep', 'thrust', 'scifi', 'pronounce', 'endlessly', 'clutter', 'delicious', 'polly', 'hawk', 'herd', 'abruptly', 'ash', 'flood', 'underwater', 'garland', 'vividly', 'cents', 'cheadle', 'rookie', 'residents', 'netflix', '200', 'salvation', 'promptly', 'gypo', 'troma', 'earnest', 'yokai', 'puerto', 'mutant', 'derivative', 'sgt', 'exorcist', 'laurie', 'tide', 'improbable', 'principle', 'grass', 'butch', 'anyhow', 'inherent', 'asia', 'dismal', 'dilemma', 'victorian', 'chat', 'stylize', 'immerse', 'pale', 'dj', 'erika', 'blossom', 'cliches', 'imo', 'sensible', 'characteristics', 'raid', 'identical', 'jodie', '1944', 'wong', '1982', 'eventual', 'irene', 'hindi', 'readers', '1953', 'dragons', 'zorro', 'caron', 'senior', 'harriet', 'jules', 'churn', 'depths', 'mama', 'stud', 'filthy', 'respectable', 'offbeat', 'syndrome', 'lola', 'stray', 'cyborg', 'unimaginative', 'misfortune', 'foolish', 'spencer', 'fragile', 'esquire', 'sack', 'deliberate', 'barbra', 'sf', 'anil', 'classy', 'berkeley', 'pegg', 'isolation', 'rack', 'breakdown', 'sublime', 'dustin', 'deanna', '1998', 'expectation', 'divine', 'tremendously', 'nightclub', 'stimulate', 'wisely', '1975', 'blaze', 'filmmaking', 'spectacle', 'toby', 'jan', 'miranda', 'gentlemen', 'enthusiastic', 'axe', 'noticeable', 'lightning', 'odyssey', 'plug', 'lade', 'decidedly', 'pumbaa', 'principals', 'immortal', 'profile', 'minnelli', 'romeo', 'ridicule', 'rider', 'envy', 'hippies', 'collar', 'timmy', 'fruit', 'thurman', 'reminder', 'franklin', 'filter', 'basket', 'chamber', 'connor', 'outrage', 'incapable', 'hayworth', 'psychopath', 'quentin', 'ugh', 'cheaply', 'werewolves', 'flimsy', 'turd', 'spaghetti', 'approve', 'debt', 'sidewalk', '23', 'sydney', 'sentimentality', 'volume', 'samantha', 'freaky', 'cal', 'frontier', 'classify', 'overshadow', 'passengers', 'revisit', 'addiction', 'spout', 'pierre', 'busey', 'hi', 'elect', 'intricate', 'loy', '300', 'robertson', 'ponder', 'jealousy', 'precede', 'cunningham', 'seymour', 'hadley', 'goods', 'claw', 'lunch', 'diminish', 'destructive', 'ominous', 'parrot', 'ultimatum', 'vintage', 'shepard', 'moron', 'conveniently', 'salvage', 'stephanie', 'joint', 'whiny', 'cape', 'excruciatingly', 'quantum', 'karate', 'gamera', 'tendency', 'inmates', 'daisy', 'vanilla', 'coke', 'ricky', 'rainy', 'theories', 'collette', 'hail', 'morals', 'coffin', 'torch', 'apologize', 'subway', 'incorrect', 'distort', 'furniture', 'rerun', 'aussie', 'obsessive', '1934', 'melvyn', 'clay', 'havoc', 'dukes', 'aggressive', 'turmoil', 'discipline', 'bikini', 'tourist', 'weary', 'bachchan', 'juliette', 'exceed', 'stella', 'arguments', 'august', 'draft', 'goals', 'hannah', 'liam', 'harbor', 'indiana', 'squeeze', 'establishment', 'sanders', 'download', 'warp', 'niven', 'bucket', 'fairbanks', 'surrender', 'deputy', 'longoria', 'herman', 'intentional', 'bounty', 'fassbinder', 'unsatisfying', 'overblown', 'ranch', 'immense', 'sucker', 'horny', 'archive', 'allege', 'vince', 'jenna', 'grandma', 'cliffhanger', 'shore', 'europeans', 'splash', 'cutter', 'redundant', 'carnage', 'mystical', 'insomnia', 'sigh', 'commitment', 'patch', 'routines', 'invade', 'schneider', 'hyper', 'predictably', 'psychologist', 'salesman', 'rebellious', 'korea', 'traits', 'opt', 'integrate', 'bum', 'tolerable', 'realization', 'adaption', 'angie', 'optimistic', 'peaceful', 'chiba', 'clooney', 'neighbour', 'passage', 'anguish', 'ghetto', 'wine', 'herbert', 'thelma', 'gilbert', 'undergo', 'lethal', 'rowlands', 'jury', 'sarcastic', 'hybrid', 'jersey', 'vega', 'afterward', 'shootout', 'lang', 'subtext', 'clive', 'sarandon', 'consideration', 'palm', 'mug', 'serum', 'starve', 'fascist', 'demille', 'peculiar', 'drill', '\\x97', 'rivers', 'gielgud', 'legitimate', 'virtual', 'jacques', 'adrian', 'license', 'mormon', 'arquette', 'collective', 'dramatically', 'reinforce', 'overboard', 'morons', 'hooper', 'chong', 'goodbye', 'cuban', 'relentlessly', 'complement', 'phenomenal', 'jolie', 'sorrow', 'gibson', 'courtroom', 'gershwin', 'arkin', 'verbal', 'mythology', 'iturbi', 'bogart', 'medieval', 'vault', 'sammo', 'depart', 'owl', 'lionel', 'kathy', 'burden', 'skilled', 'lace', 'colman', 'unsympathetic', 'allure', 'rea', 'python', 'distraction', 'monologue', 'haines', 'diverse', 'strict', 'sixth', 'georgia', 'feminine', 'anthology', 'propose', 'newcomer', 'eagle', 'marilyn', 'sunrise', 'consciousness', 'crop', 'debbie', 'spear', 'madsen', 'ritual', 'vanity', 'upside', 'elliott', '1967', 'skinny', 'graveyard', 'hateful', 'swell', 'inch', 'puppy', 'mole', 'dumber', 'pedestrian', 'dahmer', 'meal', 'deliciously', 'brainless', 'otto', 'mortal', 'foundation', 'nun', 'employee', 'sour', 'hound', 'blink', 'instincts', 'shockingly', 'pfeiffer', 'gooding', 'prevail', 'amidst', 'dynamics', 'laputa', 'invention', 'professionals', 'satisfaction', 'calculate', 'nuances', 'olivia', 'denise', 'bonnie', 'crave', 'drab', 'dame', 'moss', 'israeli', 'heighten', 'cab', 'sundance', 'possession', 'seductive', 'cherish', 'anytime', 'forties', 'regularly', 'fallon', 'volunteer', '85', 'beckinsale', 'penelope', 'sheen', 'feeble', 'void', 'doyle', 'psyche', 'republic', 'lowe', 'recite', 'immigrant', 'ira', 'cannes', 'lucille', 'gaze', 'sap', 'policy', 'olds', 'martian', 'pathos', 'intertwine', 'readily', 'mysteriously', 'symbol', 'cigarette', 'fluid', 'contestants', 'hooker', 'um', 'wheelchair', 'tactics', 'verdict', 'diary', 'explosive', 'dillinger', 'retrieve', 'juan', 'darth', 'unusually', 'indifferent', 'predator', 'degrees', 'embarrassingly', 'july', 'rapid', 'fuzzy', 'shah', 'dispatch', 'viewpoint', 'biker', 'branch', 'fanatic', 'columbia', 'auto', 'deed', 'agony', 'gloria', 'stern', 'debra', 'followers', 'aftermath', 'cameraman', 'vera', 'kris', 'economic', 'screwball', 'ordeal', 'hurry', 'starters', 'pros', 'medicine', 'delightfully', 'wider', 'rosario', 'statements', 'intact', 'products', 'cindy', 'noteworthy', 'dumbest', 'assignment', 'tomei', 'gwyneth', 'tcm', '1948', 'lamb', 'privilege', 'anxious', 'inaccuracies', 'sondra', 'meantime', 'novelty', 'idol', 'ny', 'centuries', 'detroit', 'convention', 'serials', 'additionally', 'sailor', 'guinea', 'truths', 'degenerate', 'alot', 'cram', 'tho', 'excruciate', '1992', '101', 'frost', 'nauseate', 'cliched', 'eli', 'meyer', 'obstacles', 'wright', 'retell', 'galactica', 'edison', 'sarcasm', 'session', 'meteor', 'macdonald', 'informative', 'jose', 'campus', 'deck', 'artistry', 'corey', 'northam', 'unanswered', 'manners', 'beetle', 'arouse', 'detach', 'controversy', 'visconti', 'frantic', 'executives', 'soprano', 'grieve', 'simpsons', 'edith', 'goodman', 'shaggy', 'suspicion', 'likeable', 'thunder', 'inclusion', 'strangle', 'slim', 'gallery', 'roughly', 'relieve', 'godard', 'tomb', 'brow', 'dominic', 'casablanca', 'regain', 'enigmatic', 'intro', 'originals', 'incidents', 'reek', 'greene', 'daylight', 'mick', 'delay', 'muslims', 'cody', 'consequently', 'arty', 'phoenix', 'rice', 'flavia', 'goldie', 'rational', 'snowman', 'wayans', 'maureen', 'kathleen', 'collins', 'sober', 'sway', 'tattoo', 'boost', 'therapy', 'mourn', 'uncanny', 'choir', 'paranoid', 'factual', 'coma', 'consequence', 'determination', 'guardian', 'apt', 'denouement', 'destination', 'intensely', 'stiles', 'geek', 'frances', 'arrow', 'realistically', 'alliance', 'redneck', 'county', 'dreamy', 'sly', 'caper', 'reiser', 'fulfill', 'harden', 'duh', 'vonnegut', 'stance', 'momentum', 'eagerly', 'bald', 'delirious', 'festivals', 'depictions', 'antagonist', 'tailor', 'exclusively', 'cloak', 'iranian', 'stardust', 'sweden', 'spotlight', 'imprison', 'beckham', 'johansson', 'sterling', 'investigator', 'relevance', 'robbers', 'playwright', 'warehouse', 'sebastian', 'harrow', 'heath', 'submarine', 'brat', 'compound', 'geisha', 'apple', 'ps', 'roam', 'hostel', 'hmmm', 'dispose', 'mccarthy', 'abortion', 'murky', 'warden', 'saloon', 'battlestar', 'precise', 'russo', 'splice', 'randall', 'hostage', 'coburn', 'bauer', 'comeback', 'midst', 'adele', 'inter', 'imaginary', 'ww2', 'politicians', 'awareness', 'occult', 'du', 'participants', 'isabelle', 'curiously', 'sonny', 'shotgun', 'foremost', 'replacement', 'brooke', 'scenarios', 'characterisation', 'injury', 'ambiguity', 'giovanna', 'necessity', 'blaise', 'scarlet', 'paragraph', 'myrtle', 'dafoe', 'gus', 'omar', 'veterans', 'weep', 'baron', 'overs', 'hmm', 'district', 'can', 'mandy', 'collector', 'periods', 'sensibility', 'finney', 'natali', 'decay', 'lastly', 'diner', 'sock', 'fellini', 'lens', 'capacity', '1951', 'gigantic', 'brides', 'brett', 'apocalyptic', 'hysterically', 'barney', 'boggle', 'bennett', 'talky', 'feinstone', 'communication', '1943', 'loren', 'paths', 'quasi', 'gackt', 'sho', 'lunatic', 'lopez', 'resistance', 'sg', 'faux', 'sunset', 'erase', 'rohmer', 'hawn', 'paste', 'creasy', 'grendel', 'slater', 'unstable', 'meredith', 'payoff', 'overbear', 'ample', 'eh', 'apocalypse', 'platform', 'diego', 'convent', 'remainder', 'hines', 'slum', 'olsen', 'nuanced', 'homicidal', 'tightly', 'ferrell', 'cater', 'gloomy', 'sufficient', 'prophecy', 'vignettes', 'psychedelic', 'iq', 'substantial', 'composition', 'avid', 'stadium', 'mash', 'disco', 'girlfriends', 'laboratory', 'unclear', 'trauma', 'shahid', '1963', 'mins', 'riddle', 'kristofferson', '1932', 'complications', 'blockbusters', 'characterizations', 'epics', 'marisa', 'rupert', 'locke', 'subdue', 'slashers', 'benjamin', 'incest', 'mumble', 'nightmarish', 'ins', 'je', 'stride', 'anita', 'rodriguez', 'limp', 'voyager', 'upcoming', 'gosh', 'brent', 'suppress', 'october', 'massey', 'martino', 'jude', 'silverman', 'shriek', 'revival', 'eyeball', 'safely', 'supreme', 'brien', 'jagger', 'aaron', 'misty', 'loop', 'videotape', '1955', 'spew', 'biopic', 'watcher', 'goat', 'extensive', 'kells', 'smuggle', 'carlos', 'russ', 'skeptical', 'vivian', 'manufacture', 'scan', '1958', 'favourites', 'excellence', 'essay', 'orchestra', 'bernsen', 'versa', 'stagger', 'butterfly', 'hitch', 'merry', 'organization', 'upstairs', 'engine', 'dock', 'coward', 'bonanza', 'slower', 'diversity', 'morph', 'outlandish', 'pornography', 'madeleine', 'valid', 'murderers', 'courtesy', 'artemisia', 'boundaries', '27', 'fortunate', 'gorilla', 'mutate', 'pivotal', 'clunky', 'marcel', 'exploitative', 'thailand', 'interior', 'moan', 'weekly', 'fling', 'baddies', 'caretaker', 'observations', 'brashear', 'phantasm', 'array', 'protection', 'sync', 'doug', 'visitor', 'boogie', 'dynamite', 'observation', 'mannered', 'turkish', 'evans', 'crank', 'marine', 'interpretations', 'novelist', 'cena', 'plate', 'nutshell', 'blandings', 'gannon', 'overuse', 'samuel', 'rouse', 'angelina', 'skirt', 'sara', 'conductor', 'rourke', 'landmark', 'travis', 'neal', 'obscurity', 'pecker', '26', 'ripoff', 'bonham', 'famed', 'pimp', 'arrogance', 'maximum', 'ernie', 'wartime', 'understatement', 'sheep', 'rightly', 'manipulation', 'bittersweet', 'daytime', 'accidental', 'entries', 'armor', 'satanic', 'sincerity', 'duchovny', 'vargas', 'fundamental', 'sanity', 'somethings', 'chandler', 'reagan', 'madison', 'stitch', 'balloon', 'guevara', 'misfire', 'unhinge', 'ninety', 'jackman', 'slavery', 'gloss', 'cedric', 'gino', 'customers', 'colleague', 'garfield', 'conceal', 'trivial', 'smug', 'villainous', 'janet', 'dip', 'lo', 'cocaine', 'portuguese', 'fiancée', 'peggy', 'thereby', 'wrestler', 'magically', 'commendable', 'unappealing', 'inadvertently', 'nora', 'tramp', 'luzhin', 'sherlock', 'scarecrows', 'ursula', 'sholay', 'ajay', 'sylvia', 'reluctantly', 'prolong', 'seth', 'wee', 'subsequently', 'hugo', 'grease', 'comparable', 'lara', 'understandably', 'hallmark', 'ala', 'kirsten', 'lighten', 'celebrities', 'spontaneous', 'capitalize', 'quintessential', 'mimic', 'atlantic', 'aesthetic', 'unfamiliar', 'traditions', 'incline', 'dam', 'hostile', 'scarlett', 'tin', 'closure', 'forgiveness', 'monotonous', 'sitcoms', 'fetish', 'redford', 'jo', 'devotion', 'takashi', 'wholesome', 'exude', 'characteristic', 'chaotic', 'scatter', 'contestant', 'sophia', 'cradle', 'protective', 'extract', 'climatic', 'entice', 'belle', 'elicit', 'filmography', 'caprica', 'ooze', 'shameless', 'voodoo', 'chloe', 'cheerful', 'dangerously', 'liotta', 'castro', 'achievements', 'clarity', 'barker', 'dallas', 'dreyfuss', 'suzanne', 'elsa', 'similarity', 'deeds', 'beers', 'motel', 'glossy', 'puke', '2009', 'bolt', 'transparent', 'carpet', 'pizza', 'traumatic', 'egyptian', 'bert', 'sleuth', 'convenient', 'unnatural', 'chock', 'deathtrap', 'straw', 'incestuous', 'serbian', 'zodiac', 'burial', 'seattle', 'kaufman', 'krueger', 'segal', 'hobgoblins', 'tashan', 'conclusions', 'sexist', 'abundance', 'meadows', 'infinitely', 'bronte', 'sail', 'regime', 'cells', 'redgrave', 'admission', 'busby', 'rampant', 'whimsical', 'facility', 'gena', 'pornographic', 'slut', 'coal', 'adjust', 'earliest', 'nest', 'sheridan', 'coolest', 'oblivious', 'garage', 'tits', 'rebellion', 'melancholy', 'mold', 'brawl', 'ealing', 'titular', 'jabba', 'admirer', 'shameful', 'unnecessarily', 'taut', 'mamet', 'monica', 'myrna', 'practical', 'harron', 'almighty', 'cease', 'philo', 'honour', 'preacher', 'oprah', 'kindly', 'restraint', 'polar', 'sting', 'shelve', 'constraints', 'bloodbath', 'fritz', 'imho', 'senator', 'awry', 'booth', 'hesitate', 'espionage', 'unconventional', 'juice', '1946', 'quirk', 'tess', 'runaway', 'resonate', 'holt', 'impersonate', 'val', 'govinda', 'endeavor', 'informer', 'henchmen', 'byron', 'fraud', 'faye', 'ernest', 'babes', 'sales', 'shannon', 'sickness', 'gypsy', 'grandpa', 'creations', 'plead', 'ideals', 'pia', 'miraculously', 'semblance', 'se', 'roach', 'beforehand', 'monroe', 'han', 'wesley', 'fragment', 'kinski', 'botch', 'letdown', 'shrek', 'raunchy', 'cheech', 'strap', 'vapid', 'programme', 'travolta', 'ghostly', 'deteriorate', 'sane', 'lil', 'spaceship', 'martians', 'dunst', 'upbeat', 'criticisms', 'embody', 'quaint', 'sergio', '1966', 'permanent', 'macmurray', 'monks', 'madman', 'failures', 'dwight', 'pauline', 'circa', 'battlefield', 'sabotage', 'buffy', 'overtones', 'depardieu', 'zelah', 'blondell', 'edmund', 'gretchen', 'escort', 'superstar', 'gandolfini', 'lindy', 'norton', 'wherever', 'toxic', 'colony', 'vcr', 'outdo', 'crowe', 'caution', 'flourish', 'ambiance', 'hark', 'lubitsch', 'payne', '1000', 'sob', 'dyke', '98', 'uneasy', 'luc', '1957', 'outrageously', 'arch', 'mud', 'tent', 'demeanor', 'desk', 'openly', 'vow', 'underdevelop', 'egypt', 'arnie', 'lapse', 'meek', 'liner', 'coop', 'dictator', 'theodore', 'sample', 'aniston', 'mart', 'variation', 'marvin', 'presidential', 'deepest', 'hometown', 'staple', 'benny', 'robotic', 'sixteen', 'fiend', 'bout', 'censorship', 'fodder', 'radiation', 'seuss', 'ghastly', 'reform', 'englund', 'croc', 'assert', 'incidental', 'mack', 'forrest', 'reckon', 'log', 'electronic', 'admiration', 'streak', 'halt', 'dern', 'bodyguard', 'fagin', 'unnerve', 'beam', 'beaver', 'suave', 'mediocrity', 'enormously', 'wink', 'patty', 'impend', 'wu', 'poet', 'esteem', 'ninjas', 'peckinpah', 'whisper', 'perplex', 'feather', 'simulate', 'prone', 'dom', 'mira', 'clyde', 'email', 'fitzgerald', 'farrah', 'mega', 'wisecrack', 'dramatize', 'darkly', 'sensual', 'slay', 'experts', 'assistance', 'dante', 'sponsor', 'purse', 'bid', 'yarn', 'offense', 'mustache', 'vincenzo', 'nineties', 'client', 'swamp', 'badness', 'chant', 'disappearance', 'knees', 'retreat', 'connie', 'bicker', 'principles', 'helmet', 'foreshadow', 'stepmother', 'vigilante', 'epitome', 'atrocity', 'britney', 'progression', 'hanzo', 'policemen', 'everett', 'automatic', 'midget', 'prologue', 'repair', 'melbourne', 'coppola', 'distinction', 'rework', 'stomp', 'groom', 'wrinkle', 'dope', '1949', 'fairness', 'alligator', 'brazilian', 'brit', 'vaughn', 'courageous', 'idealistic', 'investment', 'gig', 'paz', 'flush', 'marijuana', 'abomination', 'farnsworth', 'hijack', 'myra', 'digest', 'meter', 'recur', 'paycheck', 'boogeyman', 'cassie', 'signature', 'bastard', 'succumb', 'harilal', 'dillon', 'emmy', 'sammy', 'ravish', 'magazines', 'data', 'ostensibly', 'yank', 'helena', 'conjure', 'rivalry', 'commend', 'weirdness', 'gi', 'panahi', 'effortlessly', 'tissue', 'classmates', 'stamp', 'marcus', 'sandy', 'prostitution', 'bartender', 'alba', 'della', 'forsythe', 'reese', 'vibe', 'stem', 'interiors', 'symbols', 'liberty', 'dissolve', 'sniff', 'mastermind', 'crumble', 'auteur', 'liberate', 'economy', 'groove', 'cohesive', 'socially', 'spoon', 'ang', 'concentration', 'counterparts', 'shatner', 'elephants', 'maurice', 'december', 'distinctive', 'employees', 'revolver', 'geoffrey', 'rail', 'lap', 'crow', 'gown', 'pickup', 'bimbo', 'loner', 'palestinian', 'mister', 'division', 'damsel', 'believability', 'barnes', 'rodney', 'sensitivity', 'shorten', 'irving', 'outset', 'shudder', 'woefully', 'categories', 'jumble', 'clinic', 'ing', 'asset', 'annoyance', 'trump', 'shack', 'lindsey', 'norris', 'plummer', 'clarence', 'shamble', 'frat', 'kareena', 'burgess', 'mae', 'katie', 'alexandra', 'inconsistencies', 'dictate', 'allan', 'riders', '250', 'brandon', 'peek', 'sensibilities', 'bing', 'theatres', '1965', 'playful', 'swiss', '500', 'judgement', 'uncertain', 'escalate', 'daria', '1942', 'prompt', 'brick', 'cockney', 'officially', 'undo', 'manic', 'hairy', 'malden', 'terrorism', 'apartheid', 'fabric', 'ewoks', 'permit', 'fawcett', 'sibling', 'culkin', 'violate', '1920', 'seduction', 'archer', 'ali', 'funky', 'morse', 'intersperse', 'brainwash', 'retro', 'kalifornia', 'throne', 'influential', 'sammi', 'latino', 'pompous', 'systems', 'intimidate', 'starship', 'troopers', 'perspectives', 'tolerance', 'muni', 'lighthearted', 'gruff', 'laser', 'manga', 'midler', 'warhols', 'downfall', 'booze', 'apollo', 'fiery', 'joshua', 'glenda', 'kilmer', 'retirement', 'hans', 'guru', 'hilton', 'predecessors', 'screenplays', 'interlude', 'wreak', 'abduct', 'attendant', 'fold', 'animator', 'zu', 'noam', 'decapitate', 'seriousness', 'perverse', 'injustice', 'pam', 'bogdanovich', 'recapture', 'shocker', 'telegraph', 'floriane', 'tango', 'keanu', 'lin', 'crypt', 'cruella', 'jigsaw', 'ss', 'mobster', 'drool', 'islands', 'reno', 'mercifully', 'heather', 'placement', 'ax', 'ads', 'hale', 'prospect', 'jewelry', 'lurid', 'correctness', 'kramer', 'reckless', 'raft', 'fighters', 'chen', 'bloodshed', 'adultery', 'confession', 'natasha', 'thereafter', 'gladiator', 'captive', 'forebode', 'lt', 'winners', 'gen', 'dealers', 'towns', 'supermarket', 'inexperienced', 'interplay', 'justification', 'collaboration', 'cunning', 'handy', 'fierce', 'cement', 'tasty', 'bio', 'mostel', 'monday', 'locale', 'virtue', 'dizzy', 'shaun', 'anxiety', 'diaz', 'standpoint', 'superfluous', 'hypnotic', 'snail', 'fiasco', 'scorpion', 'sensational', 'impressions', 'lions', 'chevy', 'infest', 'decency', 'simba', 'willy', 'stripper', 'ceremony', 'berenger', 'czech', 'romania', 'mythical', 'dunne', 'toro', 'todays', 'bewilder', 'undercover', 'monologues', 'kusturica', 'surgeon', 'beth', 'drummer', 'vertigo', 'cowardly', 'henderson', 'pertwee', 'rosenstrasse', 'lars', 'widower', 'revel', 'lick', 'thorn', 'baddie', 'opposition', 'toole', 'lizard', 'henchman', 'tread', 'scarier', 'abstract', 'amid', 'forbes', 'hallucinations', 'lanza', 'uptight', 'orlando', 'geniuses', 'russians', 'attic', 'willingly', 'fur', 'nearest', 'overwrought', 'brennan', 'thereof', 'hypnotize', 'skate', 'hawaii', 'cannibals', 'shuffle', 'scriptwriter', 'gee', 'bitchy', 'sophistication', 'drastically', 'jurassic', 'ceiling', 'marines', 'bart', 'honey', 'luxury', 'barton', 'stricken', 'aircraft', 'muriel', 'communism', 'luthor', 'connive', 'tina', 'villa', 'bigfoot', 'awfulness', 'kornbluth', 'deborah', 'downbeat', 'erupt', 'slot', 'maugham', 'jerky', 'representative', 'pulse', 'posh', 'wrongly', 'pub', 'sleeper', 'dedication', 'federal', 'thug', 'accomplishment', 'deceive', 'finely', 'mcdermott', 'rudd', '1964', 'grady', 'corbin', 'genetic', 'attain', 'assassinate', 'devise', 'weaver', 'dickinson', 'ratio', 'flare', 'richly', 'azumi', 'sensation', 'optimism', 'dodgy', 'artistically', 'denial', 'engagement', 'gently', 'mac', 'abroad', 'fuss', 'icy', 'icons', 'ballroom', 'liberties', 'gusto', 'mastroianni', 'gravity', 'aura', 'potent', 'liar', 'kings', 'hoover', 'profoundly', 'millennium', 'clockwork', 'weigh', 'intelligently', 'vaudeville', 'lansbury', 'hunky', 'missions', 'lila', 'nifty', 'identities', 'jew', 'tug', 'bon', 'bliss', 'aime', 'sleepwalk', 'significantly', 'dukakis', 'moonstruck', 'romanian', 'celeste', 'groundbreaking', 'cheung', 'mcdowell', 'schwarzenegger', 'pleasures', 'sleepy', 'continuously', 'bicycle', 'capitalism', 'animations', 'labour', 'loony', 'dopey', 'tsui', 'stevenson', 'verse', 'penis', 'allude', 'traumatize', 'ossessione', 'overplay', 'reside', 'applause', 'sprinkle', 'rogue', 'bishop', 'raven', 'maturity', 'golf', 'caruso', 'temptation', 'continent', 'restrict', 'ebay', 'squander', 'granger', 'showcases', 'chemical', 'athletic', 'garde', 'ledger', 'mutants', 'shrill', 'anonymous', 'vienna', 'irrational', 'developments', 'officials', 'uninspiring', 'grossly', 'penguin', 'intellectually', 'predictability', 'melinda', 'sasquatch', 'zeta', 'sorvino', 'euro', 'idiocy', 'uncredited', 'thirds', 'reportedly', 'marx', 'cheesiness', 'efficient', 'virginity', 'lds', 'prophet', 'alcoholism', 'heroin', 'doris', 'ranger', 'dogma', 'harp', 'veer', 'rizzo', 'oblivion', 'disdain', 'civilians', 'valerie', 'zhang', 'cortez', 'jolly', 'keeper', 'chart', 'gossip', 'shawn', '1920s', 'zealand', 'hazzard', 'bloke', 'satisfactory', 'cynicism', 'explanations', 'hustler', 'cracker', 'notwithstanding', 'lorre', 'elliot', 'cloth', 'holland', 'carnival', 'swift', '1938', 'corridors', 'kingsley', 'brunette', 'fewer', 'pond', 'clutch', 'kenny', 'goo', 'prolific', 'relish', 'elder', 'preferably', 'throats', 'gung', 'unwilling', 'chunk', 'righteous', 'shady', 'plunge', 'thwart', 'mattei', 'omit', 'mismatch', 'portman', 'autobiography', 'deservedly', 'dani', 'legion', 'cod', 'upbringing', 'extraordinarily', 'propel', 'trumpet', 'peterson', 'devour', 'witted', 'snowy', 'izzard', 'sykes', 'chang', 'youngsters', 'sore', 'heavenly', 'mechanic', 'violently', 'cinematographic', 'canvas', 'penalty', '48', 'ongoing', 'visceral', 'rko', 'harvest', 'atomic', 'bearable', 'percent', 'tolkien', 'sabu', 'sloane', 'aboard', 'transformers', 'nonexistent', 'loom', 'condescend', 'ahmad', 'celine', 'languages', 'elmer', 'simpler', 'lesbians', 'ogre', 'distinctly', 'billion', 'supportive', 'booker', 'michaels', 'hogan', 'taker', 'hurl', 'lawn', 'levy', 'lump', 'scandal', 'rapture', 'harass', 'lightweight', 'greenaway', 'patriotic', 'herrings', 'pavarotti', 'hammerhead', 'tedium', 'shiny', 'keitel', 'nt', 'tremor', 'welch', 'sarne', 'gram', 'angelo', 'tobe', 'innuendo', 'animators', 'quibble', 'volumes', 'maverick', 'hungarian', 'dietrich', 'eddy', 'monastery', 'contend', 'illusion', 'criticise', 'climate', 'dental', '1931', 'durbin', 'dangers', 'govern', 'overtly', 'coleman', 'immigrants', 'annoyingly', 'alienation', 'found', 'mandatory', 'agatha', 'christensen', 'irresistible', 'proudly', 'elisha', 'urgency', 'ferry', 'denver', 'backwoods', 'quip', 'import', 'trendy', 'flamboyant', 'teddy', 'ditch', 'insignificant', 'passenger', 'pip', 'mcadams', 'darius', 'muscular', 'coverage', 'fable', 'flicker', 'headline', 'mcgavin', 'symbolize', 'relive', 'shakespearean', 'conquest', 'babble', 'neeson', 'intervene', 'heartless', 'amoral', 'khouri', 'rehearse', 'zany', 'beef', 'wrath', 'unconscious', 'afghanistan', 'seventh', 'leno', 'dominick', 'gays', 'association', 'jolt', 'empathize', 'notions', 'ae', 'chef', 'slack', 'metropolis', 'swords', 'barbarian', 'electricity', 'vulnerability', 'deadpan', 'recipe', 'compositions', 'happier', 'maguire', 'heir', 'pistol', 'priests', 'grisly', 'breakthrough', 'astonishingly', 'meyers', 'harlin', 'whistle', 'stoop', 'crenna', 'moderately', 'disasters', 'marjorie', 'abu', 'caesar', 'cousins', 'needlessly', 'mockery', 'nerdy', 'scam', 'sematary', 'succession', 'ecstasy', 'korda', 'architect', 'numbingly', 'pasolini', 'theo', 'aztec', 'lommel', 'delia', 'cristina', 'pawn', 'steamy', 'crass', 'believer', 'posture', 'jock', 'bruckheimer', 'backdrops', 'passions', 'capsule', '400', 'underscore', 'amok', 'intellect', 'squirm', 'lament', 'unemployed', 'borderline', 'rico', 'sailors', 'temporary', 'darling', 'specialize', 'smirk', 'keeler', 'zabriskie', 'hopeful', 'islam', 'impeccable', 'daphne', 'largest', 'academic', 'compassionate', 'opponents', 'truthful', 'heavens', 'adequately', 'worldwide', 'management', 'demean', 'connolly', 'constitute', 'rebecca', 'breathless', 'behalf', 'chocolate', 'custody', 'inc', 'duff', 'farewell', 'roads', '1941', 'cillian', 'mpaa', 'nutty', 'cramp', 'existential', 'undress', 'circuit', 'counterpart', 'architecture', 'unlucky', 'versatile', 'roommates', 'paraphrase', 'smarmy', 'carve', 'lange', 'chapters', 'tourists', 'seinfeld', 'irresponsible', 'harlem', 'knives', 'underline', 'passive', 'carface', 'batwoman', 'soak', 'gage', 'hedy', 'lawyers', 'wolves', 'characterize', 'infuse', 'hare', 'downtown', 'il', 'frenzy', 'mj', 'callahan', 'italians', 'janitor', 'honeymoon', 'naval', 'perpetuate', 'tucker', 'kiddie', 'hector', 'peep', 'insects', 'rusty', 'rig', 'rugged', 'assortment', 'jed', 'continuous', 'liz', 'crouch', 'lightly', 'stature', 'administration', 'limbs', 'duryea', 'supremacy', 'corky', 'micheal', 'drivers', 'discount', 'philadelphia', 'locales', 'wai', 'orgy', 'astronaut', 'aweigh', 'benoit', 'undertaker', 'deathstalker', 'kamal', 'backyard', 'wwi', 'affirm', 'reload', 'masquerade', 'irwin', 'morgana', 'mutilate', 'shamelessly', 'danning', 'saif', 'kinky', 'sandwich', '1935', 'satellite', 'pod', 'stoltz', 'permeate', 'candidates', 'revelations', 'dime', 'hardest', 'hispanic', 'sessions', 'marlene', 'honorable', 'arizona', 'wits', 'lieutenant', 'fairytale', 'opener', 'jackass', 'corleone', 'viggo', 'subtleties', 'knack', 'switzerland', 'revere', 'usage', 'cocky', 'discussions', 'carole', 'taunt', 'customs', 'apprentice', 'askey', 'platoon', 'hamill', 'psychiatric', 'boyfriends', 'maiden', 'jessie', 'mo', 'bravery', '18th', 'vivah', 'leia', 'garcia', 'illiterate', 'crouse', 'casually', 'infidelity', 'forgivable', 'palette', 'carson', 'hayward', 'azaria', 'trim', 'stubborn', 'barman', 'smite', 'kriemhild', 'flea', 'fleming', 'ella', 'oppressive', 'lung', 'speechless', 'dahl', 'undeveloped', 'approximately', 'telly', 'atrocities', 'didnt', 'aiello', 'witherspoon', 'saddest', 'contradict', 'it´s', 'plantation', 'levant', 'joanna', 'democracy', 'supporters', 'incompetence', 'marathon', 'creepiness', 'smarter', 'january', '1956', 'lamarr', 'vic', 'shun', 'sleeve', 'glee', 'intruder', 'exile', 'promotion', 'disconnect', 'berry', 'gimmicks', 'uber', 'donate', 'logo', 'villagers', 'poo', 'bolivia', 'dismay', 'cbc', 'choreographer', 'leak', 'conception', 'cocktail', 'tel', 'swap', 'lotr', 'brits', 'historians', 'astronauts', 'curve', 'footsteps', 'smoothly', 'dye', 'lovingly', 'rehearsal', 'sans', 'sheila', 'telephone', 'jameson', 'grandparents', 'mcintire', 'reconcile', 'prevalent', 'rainer', 'rhys', 'knox', 'fugitive', 'macbeth', 'kindness', 'reminisce', 'muddy', 'stupidest', 'lyrical', 'snoop', 'restless', 'refund', 'cheaper', 'shaolin', 'eater', 'disgruntle', 'discernible', 'benson', 'dreadfully', 'leary', '700', 'diabolical', 'longtime', 'oddball', 'monstrous', 'growl', 'mend', 'itchy', 'reception', 'surfers', 'incarnation', 'basil', 'looney', 'allison', 'sixty', 'exhilarate', 'spectacularly', 'friendships', 'brink', 'abide', 'stoic', 'beau', 'snippets', 'vengeful', 'tensions', 'schumacher', 'horizon', 'snappy', 'lombard', 'admirably', 'duties', 'merrill', 'diver', 'til', 'encompass', 'leopold', 'spellbind', 'montages', 'alternately', 'miracles', 'weirdo', 'witless', 'oriental', 'thankful', 'renew', 'strikingly', 'zatoichi', 'enrage', 'november', 'picnic', 'drifter', 'foch', 'dane', 'sant', 'sr', 'deception', 'requisite', 'shiver', 'overt', 'societies', 'interweave', 'daisies', 'superiors', 'lamas', 'operas', 'norwegian', '1937', 'mindset', 'anchorman', 'suggestive', 'railroad', 'marquis', 'reincarnation', 'sparse', 'capt', 'grain', 'participation', 'psychologically', 'criminally', 'thaw', 'discard', 'hunk', 'byrne', 'maclean', 'flounder', 'apartments', 'untrue', 'liza', 'kentucky', 'entertainer', '33', 'hiv', 'technological', 'hubby', 'insanely', 'motor', 'dusty', 'slew', 'transmit', 'nuance', 'napoleon', 'adventurous', 'bass', 'tangle', 'grumpy', 'scantily', 'virtues', 'spectrum', 'radar', 'gym', 'misplace', 'underdog', 'rightfully', 'noah', 'summon', 'coin', 'veil', 'agonize', 'regal', 'obscene', 'dense', 'punctuate', 'penetrate', 'divert', 'intestines', 'fanatics', 'undertake', 'blaine', 'partial', 'emote', 'wellington', 'articulate', 'werner', 'manifest', 'winston', 'strut', 'argento', 'wolverine', '86', 'cathy', 'overseas', 'monstrosity', 'organs', 'proverbial', 'munchies', 'blackie', 'lucio', 'baseketball', 'clumsily', 'pita', 'dial', 'dung', 'scrub', 'leer', 'infuriate', 'newcombe', 'kerr', 'thinner', 'btk', 'darkman', 'fantastically', 'wallach', 'coarse', 'decorate', 'skywalker', 'surrogate', 'commission', 'overnight', 'eleanor', 'underused', 'confederate', '1962', 'mortensen', '1954', 'stefan', 'marital', 'forum', 'dignify', 'tigerland', 'extremes', 'orphanage', 'nielsen', 'chalk', 'desolate', 'showtime', 'downside', 'sweetheart', 'babysitter', 'frenetic', '150', 'affections', 'marvellous', 'aristocrat', 'masturbation', 'wondrous', 'sorta', 'shadowy', 'dupe', 'atwill', 'townspeople', 'envision', 'veronica', 'colourful', 'thirteen', 'willem', 'holden', 'albums', 'consummate', 'rocker', 'allegedly', 'taint', 'exclude', 'unrated', 'stable', 'ewan', 'lam', 'competently', 'renowned', 'chairman', 'societal', 'toll', 'crummy', 'nerds', 'planets', 'rigid', 'primal', 'poppins', 'mischievous', 'monumental', 'knit', 'undertones', 'venezuela', 'colonial', 'cambodia', 'catastrophe', 'harmony', 'inheritance', 'keyboard', 'eponymous', 'finch', 'norma', 'renoir', 'litter', 'caroline', 'apologies', 'expertise', 'nana', 'episodic', 'trelkovsky', 'kermit', 'bryan', 'throwaway', 'voters', 'seclude', 'kit', 'di', 'chore', 'prototype', 'darken', 'strangest', 'recreation', 'operatic', 'allegory', 'typecast', 'krishna', 'locker', 'tasteful', 'fernando', 'saturate', 'hockey', 'interfere', 'shue', 'gardner', 'gamut', 'hatch', 'malcolm', 'exaggeration', 'greta', 'indifference', 'nuns', 'molest', 'congratulate', 'transpire', 'wal', 'rally', 'darkest', 'disclose', 'flamenco', 'cleveland', 'variations', 'ideology', 'townsend', 'tepid', 'goer', 'siege', 'universally', 'grail', 'kei', 'iceberg', 'realist', 'fathom', 'tow', 'polite', 'piper', 'gum', 'oppress', 'sacred', 'shuttle', 'merge', 'unfinished', 'fireworks', 'unborn', 'outta', 'disrespect', 'paperhouse', 'phyllis', 'unimpressive', 'haha', 'turgid', 'shaq', 'unremarkable', 'currie', 'misogynistic', 'trent', 'feud', 'wray', 'yoda', 'fend', 'amateurs', 'canon', 'illuminate', 'bava', 'socialist', 'dummy', 'robbie', 'rathbone', 'smallest', 'speaker', 'gertrude', 'recount', 'librarian', 'hes', 'salem', 'hardships', 'unfairly', 'implement', 'eustache', 'nell', 'neutral', 'texture', 'coincidences', 'closeups', 'sullavan', 'enlightenment', 'costner', 'pianist', 'automobile', 'cassel', 'integral', 'projection', 'erik', '64', 'gladly', 'jumbo', 'chow', 'misfits', 'advocate', 'emulate', 'governor', 'nickname', 'burrow', 'mcdonald', 'nanny', 'charity', 'frye', 'postman', 'holm', 'insecure', 'binoche', 'aunts', 'olympic', 'catalog', 'michel', 'overweight', 'tumble', 'skimpy', '88', 'daft', 'somber', 'bark', 'digress', 'uniquely', 'canoe', 'scum', 'wicker', 'condense', 'maniacal', 'seize', 'pinnacle', 'unsuccessful', 'concoct', 'therapist', 'decoration', 'olympia', 'usher', 'jovi', 'cowboys', 'frenchman', 'dale', 'ka', 'rainbow', 'singin', 'council', 'foley', 'hilliard', 'distributor', 'archie', 'exceedingly', 'sneer', 'outsider', 'misuse', 'geeky', 'sentiments', 'geeks', 'celie', 'retrospect', 'port', 'mcbain', 'muse', 'exemplify', 'shenanigans', 'signify', 'irs', 'kerry', 'motif', 'aviv', 'ashraf', 'commando', 'lithgow', 'minions', 'runtime', 'approval', 'evaluate', 'deform', 'blaxploitation', 'spur', 'soulless', 'unnamed', 'avant', 'vacuous', 'talentless', 'rewind', 'iowa', 'enact', 'hayden', 'sherry', 'threats', 'beta', 'amusingly', 'hickock', 'winslet', 'withdraw', 'jaffar', 'resurrection', 'bee', 'aspirations', 'menu', 'rabid', 'silhouette', 'balcony', 'ppv', 'bagdad', 'wb', 'banana', 'gilligan', 'ichi', 'roeg', 'maya', 'twenties', 'snore', 'troll', 'opponent', 'punchline', 'options', 'sleepwalkers', 'prehistoric', 'weed', 'romano', 'pbs', 'unforgivable', 'abominable', 'sybil', 'hanna', 'bathsheba', 'yea', 'jeep', 'arbitrary', 'infant', 'hagar', 'ounce', 'stealth', 'interminable', 'zenia', 'soar', 'crispin', 'cafe', 'beery', 'outlook', 'actuality', 'krell', 'robber', 'megan', 'downward', 'talkie', 'dakota', 'discern', 'subconscious', 'boyish', 'anniversary', 'mercilessly', 'sordid', 'igor', 'ilk', 'yacht', 'milland', 'outbreak', 'historian', 'om', 'withstand', 'walters', 'freely', 'wagon', 'gadgets', 'heiress', 'tint', 'foreground', 'bathtub', 'pazu', 'sheeta', 'marley', 'cleaner', 'amber', 'surrealism', 'loot', 'chimney', 'twentieth', 'infectious', 'orchestral', 'conroy', 'offside', 'tenderness', 'restoration', 'hilary', 'furry', 'marriages', 'dench', 'muster', 'coen', 'café', 'instruct', 'cos', 'hagen', 'hunger', 'sadden', 'featurette', 'pullman', 'lifelong', 'gellar', 'tomlinson', 'heritage', 'outdoor', 'refrain', 'separation', 'formidable', '1947', 'overpower', 'raiders', 'elegance', 'sterile', 'cent', 'fondness', 'manor', 'artful', 'breeze', 'alain', 'waterfront', 'dexter', 'towel', 'greats', 'pollack', 'steiner', 'stalwart', 'housewives', 'offspring', 'morgue', 'notoriety', 'uneducated', 'traitor', 'lili', 'environmental', 'sorcery', 'galore', 'waterfall', 'grandson', 'ethics', 'hitchhiker', 'rooker', 'positives', 'occupation', 'baxter', 'duncan', 'transvestite', 'partition', 'hesitation', 'zoo', 'impressively', 'loudly', 'triad', 'implications', 'circumstance', 'pope', 'refine', 'intrusive', 'joyous', '1952', 'therein', 'mcgregor', 'ivy', 'patton', 'adelaide', 'shtick', 'kitten', 'denmark', 'gremlins', 'weissmuller', 'yikes', 'abbott', 'cite', 'spouse', 'liquor', 'fort', 'assembly', 'armageddon', 'campers', 'conceit', 'savior', 'excesses', 'elementary', 'billie', 'turturro', 'fiennes', 'manchu', 'impale', 'wendt', 'shaft', 'nicky', 'assassins', 'lumber', 'visitors', 'excrement', 'hartman', 'trot', 'marginally', 'ripley', 'sabretooth', 'manos', 'hackenstein', 'lordi', 'shootouts', 'distributors', 'theft', 'tomato', 'employer', 'bruise', 'brash', 'adulthood', 'eroticism', 'vinnie', 'depalma', 'departments', 'repertoire', 'framework', 'stroll', 'aggression', 'abort', 'moonlight', 'hustle', 'puri', 'fulfillment', 'powerfully', 'plausibility', 'unbearably', 'outcast', 'allusions', 'researcher', 'bench', 'classroom', 'accentuate', 'ernst', 'pesci', 'warfare', 'sprawl', 'stylistic', 'tighter', 'instructor', 'katherine', 'capshaw', 'labyrinth', 'fanny', 'enforcer', 'escapist', 'raoul', 'newhart', 'malta', 'hindsight', 'familiarity', 'fluffy', 'craziness', 'devious', 'intimacy', 'spook', 'renee', 'mantegna', 'diet', 'madly', 'rib', 'organ', 'finnish', 'velvet', 'yahoo', 'competitive', 'nacho', 'amiable', 'output', 'jacob', 'perkins', 'superlative', 'inherently', 'houston', 'granddaughter', 'critically', 'commentaries', 'sherman', 'cruz', 'rarity', 'edwards', 'donner', 'dir', 'deconstruct', 'opus', 'textbook', 'rouge', 'carrier', 'peel', 'domination', 'vietnamese', 'distraught', 'chord', 'palpable', 'calvin', 'roses', 'fabricate', 'tung', 'ivan', 'math', 'fineman', 'den', 'brew', 'cassandra', 'hysteria', 'berserk', 'advertisement', 'prestigious', 'gerald', 'aristocratic', 'bog', '01', 'putrid', 'aplomb', 'expressive', 'demonstration', 'tricky', 'venoms', 'gardener', 'poignancy', 'gomez', 'franchot', 'crusade', 'broderick', 'disability', 'twitch', 'alpha', 'effortless', 'humiliation', 'mormons', 'cyborgs', 'hick', 'erratic', '“', 'magnolia', 'implication', 'prance', 'dispute', 'subversive', 'congratulations', 'memoirs', 'spiderman', 'mist', 'slob', '11th', 'behead', 'shea', '8th', 'pang', 'magnificently', 'benet', 'financially', 'rosie', 'defence', 'monotone', 'mia', 'capra', 'screech', 'ache', 'distasteful', 'recap', 'keller', 'materials', 'corporations', 'esque', 'schtick', 'mcshane', 'seberg', 'narcissistic', 'electrocute', 'impersonation', 'ada', 'haim', 'sophomoric', 'ethel', 'wrestlemania', 'debacle', '77', 'remorse', 'durante', 'stain', 'vamp', 'untalented', 'stupidly', 'scrappy', 'tito', 'devgan', 'savini', 'seller', 'grader', 'marvelously', 'imperial', 'complexities', 'heroism', 'unfaithful', 'gripe', 'tilly', 'contaminate', 'ransom', 'consistency', 'rejection', 'residence', 'lad', 'woeful', 'wanda', 'crater', 'tng', 'successes', 'acquit', 'pimlico', 'dilute', 'disillusion', 'originate', 'fourteen', 'lilly', 'formerly', 'zelda', 'basics', 'olive', 'humphrey', 'plotline', 'nintendo', 'collide', 'resonance', 'comet', 'listener', 'hottest', 'homework', 'dev', 'wry', 'yugoslavia', 'brim', 'vent', 'katsu', 'ck', 'paine', 'cahill', 'buscemi', 'lull', 'weir', 'aboriginal', 'chaney', 'lemon', 'childlike', 'iris', 'stowe', 'meditation', 'imaginations', 'penchant', 'arena', 'exclusive', 'luise', 'feisty', 'wince', 'lore', 'employment', 'shoestring', 'ripper', 'appoint', 'ronny', 'gyllenhaal', 'freshman', 'cough', 'deluise', 'thai', 'pardon', 'lorenzo', 'sofia', 'invariably', 'missouri', 'perversion', 'th', 'epps', 'dorm', 'isabel', 'fascism', 'accusations', 'emil', 'scriptwriters', 'barn', 'manson', 'chiller', 'abby', 'acquaint', 'troy', 'achilles', 'andrea', 'aptly', 'waiter', 'repellent', 'wallet', 'immoral', 'patriarch', 'google', 'impulse', 'saxon', 'silk', 'eyebrows', 'predicament', 'prayer', 'moviegoers', 'plumb', 'commentator', 'emmanuelle', 'carlyle', 'africans', 'chester', 'avalanche', 'ivory', 'staircase', 'machinery', 'emptiness', 'aimless', 'coincidentally', 'bomber', 'guiness', 'colbert', 'careless', 'disfigure', 'puff', 'moderate', 'forge', '31', 'swayze', 'winger', 'wherein', 'niche', 'goth', 'malevolent', 'foggy', 'bernie', 'biological', 'plump', 'sweetness', 'singleton', 'janeane', 'indulgence', 'selma', '20s', 'swanson', 'raul', 'backstage', 'rebuild', 'soo', 'ne', 'fricker', 'fiona', 'lambert', 'patriotism', 'counsel', 'leadership', 'ludicrously', 'brock', 'noon', 'awkwardly', 'bailey', 'cavalry', 'disservice', 'annual', 'beggar', 'scarcely', 'waqt', 'shooter', 'loan', 'adrenaline', 'atop', 'morbius', 'cam', 'grunt', 'reverend', 'perlman', 'desi', 'roast', 'tracey', 'ranma', 'cavemen', 'dunaway', 'mraovich', 'kibbutz', 'pregnancy', 'starlet', 'handedly', 'enjoyably', '911', 'zoe', 'scenic', 'nitpick', 'hallucination', 'marshal', 'curl', 'drawback', 'parole', 'wyoming', 'skeleton', 'ohio', 'pastor', 'batter', 'oops', 'enthusiasts', 'continuation', 'heed', 'aimlessly', 'thinly', 'wiser', 'cock', 'parisian', 'farmers', 'jj', 'hamper', 'novice', 'myriad', 'sydow', 'extension', 'mish', 'underestimate', 'tournament', 'promotional', 'trinity', 'suite', 'backbone', 'freudian', 'cleanse', 'communities', 'gazzara', 'mime', 'republican', 'strangler', 'idealism', 'cleese', 'precision', 'autistic', 'guerrilla', 'electrify', 'eg', 'masculine', 'ingredient', 'inconsequential', 'pov', 'tighten', 'progressive', 'pedro', 'yankee', 'uncertainty', 'component', 'fictitious', 'hillbilly', 'guidance', 'sen', 'adept', 'archaeologist', 'unstoppable', 'perpetrate', 'haze', 'lyle', 'probe', 'irreverent', 'progressively', 'cooler', 'luscious', 'wilde', 'mis', 'ably', 'lana', 'shemp', 'myths', 'lassie', 'effeminate', 'griffin', 'graphically', 'loach', 'bribe', 'metaphysical', 'implant', '42', 'wallow', 'tempest', 'ditto', 'guise', '180', 'willard', 'connelly', 'astute', 'dice', 'civilize', 'chin', 'refuge', 'unwittingly', 'outbursts', 'intellectuals', 'keira', 'preparation', '1922', 'invincible', 'jaffe', 'goddess', 'ironside', 'tragically', 'professionally', 'culp', 'instrumental', 'entity', 'whoa', 'outweigh', 'glamour', 'respectful', 'formal', 'pryor', 'virgins', 'swat', 'tribulations', 'demographic', 'tilt', 'glove', 'shearer', 'barb', 'tot', 'farcical', 'unsatisfied', '”', 'risky', 'retread', 'sfx', 'simplest', 'democratic', 'synchronize', 'anders', 'midway', 'townsfolk', 'smallville', 'combo', 'saura', 'rapists', 'thematic', 'nc', 'shawshank', 'picker', '5th', 'watchers', 'amos', 'compulsive', 'andie', '6th', 'borg', 'kaye', 'razzie', 'bureau', 'coherence', 'eldest', 'bunker', 'personify', 'prophetic', 'dour', 'hutton', 'rory', 'soooo', 'hike', 'liken', 'creed', 'software', 'sickly', 'wolfman', 'losses', 'purposely', 'orwell', 'northwest', 'unlock', 'groovy', 'dressler', 'assumption', 'abhay', 'bloat', 'nixon', 'wodehouse', 'slit', 'mordrid', 'lynn', 'rancid', 'varma', 'berkowitz', 'orca', 'thrive', 'seas', 'roland', 'grindhouse', 'emotionless', 'heres', 'patrol', 'arabic', 'soften', 'romy', 'hippy', 'flatter', 'burstyn', 'leone', 'inventor', 'throwback', 'yup', 'jab', 'fearless', 'elusive', 'institute', '1928', 'ail', 'jeopardy', 'frolic', 'literate', 'tout', 'evocative', 'mysticism', 'darryl', 'moran', 'reginald', 'joyce', 'hypocrisy', 'snicker', 'anal', 'riley', 'caption', 'heartily', 'techno', 'copyright', 'stratton', 'rao', 'organic', 'external', 'dispense', 'ant', 'ana', '84', 'gunfire', 'newspapers', 'helicopters', 'vu', 'capabilities', 'miners', 'aditya', 'clarify', 'serviceable', 'sardonic', 'bullock', 'regulars', 'speakers', 'trey', 'belgium', 'mystic', 'grandeur', 'fenton', 'brute', 'hilt', 'humane', 'noticeably', 'nuke', 'footlight', 'tristan', 'afterlife', 'akira', 'puerile', 'berate', 'trait', 'grit', 'behaviors', 'anatomy', 'peasant', 'slant', 'neon', 'discourage', 'addictive', 'permanently', 'frodo', 'cuckoo', 'gil', 'devilish', 'buffoon', 'poorest', 'folklore', 'assort', 'ploy', 'epidemic', 'browse', 'ching', 'capitalist', 'salute', 'roscoe', 'puddle', 'proposition', 'effectiveness', 'powder', 'perky', 'personnel', 'sesame', 'suspicions', 'metaphors', 'abbot', 'costello', 'engulf', 'boone', 'refugee', 'schindler', 'morton', 'noirs', 'plaster', 'kipling', 'kali', 'undeniable', 'stereo', 'consumption', 'reflections', 'heyday', 'delude', 'devos', 'filmic', 'teller', 'magnum', 'wizards', 'idle', 'wildlife', 'spectator', 'juicy', 'tickle', 'kiki', 'abigail', 'immortality', 'intentioned', '34', 'squeamish', 'moods', 'deftly', 'governments', 'earthquake', 'todesking', 'bra', 'troupe', 'iago', 'punks', 'consciously', 'fidelity', 'venom', 'fuse', 'gandalf', 'skillfully', 'fateful', 'fez', 'pretensions', 'saber', 'wtc', 'operations', 'bizarrely', 'compilation', 'geraldine', 'hottie', 'whomever', 'emergency', '65', 'nasa', 'philippe', 'picturesque', 'sheedy', 'mobsters', 'majestic', 'rudy', 'incessant', 'err', 'earp', 'resourceful', 'obligation', 'attackers', 'gwynne', 'insomniac', 'flute', 'porky', 'cigarettes', 'alamo', 'pym', 'gospel', 'mockumentary', 'eighty', 'schizophrenic', 'calibre', 'bradford', 'mc', 'flap', 'gutter', 'peg', 'concrete', 'carlisle', 'disk', 'fisted', 'gunfight', 'robocop', 'yadda', 'dicaprio', '97', 'fork', 'swarm', 'stepfather', 'graceful', 'chimp', 'panel', 'purport', 'hog', 'paresh', 'heflin', 'robby', 'chubby', 'cannibalism', 'thornton', 'mansfield', 'ponderous', 'crab', 'rosanna', 'radioactive', 'innovation', 'frail', 'beginnings', 'verbally', 'stutter', 'miniature', 'bloodthirsty', 'quotable', 'caribbean', 'aggravate', 'homo', 'ca', 'rumour', 'pony', 'danza', 'elisabeth', 'bound', 'singular', 'sympathise', 'supporter', 'gambler', 'strangelove', 'superpowers', 'consent', 'wheeler', 'carroll', 'grable', 'naturalistic', 'suburbia', 'enforcement', 'backward', 'palsy', 'duchess', 'bronx', 'dangle', 'excerpt', 'poirot', 'adversity', 'gameplay', 'columbine', 'rediscover', 'dino', 'mistreat', 'mutilation', 'policies', 'gail', 'commenter', 'unpretentious', 'commentators', 'scalise', 'brothel', 'committee', 'income', 'fantastical', 'buttgereit', 'arrangements', 'whodunit', 'vulgarity', 'blackadder', 'bewitch', 'envelope', 'bead', 'seaside', 'resign', 'connecticut', 'wickedly', 'englishman', 'curtiz', 'marina', 'carefree', 'goons', 'prowl', 'ozzy', 'terrain', 'blurry', 'pills', 'presley', 'denominator', 'goldsmith', 'protector', 'binder', 'mesh', 'incomplete', 'easiest', 'lupino', 'falcon', 'thematically', 'comically', 'avenger', 'partnership', 'doolittle', 'juxtapose', 'nominee', 'actively', 'getaway', 'orchestrate', 'intervention', 'convenience', 'terminal', 'patriot', 'futile', 'pervasive', 'renegade', 'revert', 'homophobic', 'tragedies', 'diva', 'vincente', 'shane', 'applegate', '79', 'munro', '29', 'criteria', 'knoxville', 'cub', 'lillian', 'gabe', 'maher', 'delon', 'advert', 'simone', 'injuries', 'courtney', 'contemporaries', 'pows', 'womanize', 'haphazard', 'audiard', 'brass', 'denholm', 'bunuel', 'darkwolf', 'josie', 'toast', 'soil', 'yuzna', 'contradiction', 'tornado', 'breezy', 'meld', 'omega', 'pluck', 'ingenuity', 'kelso', 'stratten', 'tub', 'perdition', 'merchandise', 'floyd', 'fireplace', 'suburbs', 'trifle', 'mastery', 'trish', 'dominant', 'editors', 'enforce', 'sufficiently', 'lengths', 'displeasure', 'foolishly', 'goose', 'tintin', 'nash', 'oral', 'clinton', 'landlord', 'kattan', 'extravagant', 'medal', 'waist', 'levin', 'percentage', 'cane', 'criterion', 'affluent', 'ambush', 'cobra', 'hanson', 'calamity', 'richer', 'herein', 'ineptitude', 'sewer', 'yvonne', 'outsiders', 'reincarnate', 'leonardo', 'blunder', 'haul', 'chad', 'wimp', 'mushroom', 'thankless', 'vipul', 'vikings', 'nevada', 'webster', 'charley', 'haggard', 'dependent', 'eclipse', 'bandit', 'disposal', 'vernon', 'milverton', 'hallways', 'moses', 'payment', 'yo', 'surfer', 'graffiti', 'hideously', 'raggedy', 'diamonds', 'slutty', 'wimpy', 'knightly', 'panties', 'parsifal', 'assumptions', 'fumble', 'mechanics', 'stall', 'invisibility', 'liven', 'afro', 'yada', 'breckinridge', 'deus', 'maddy', 'hicks', 'kari', 'nada', 'dyer', 'domergue', 'hallam', 'palermo', 'savvy', 'storyteller', 'snob', 'vixen', 'laundry', 'fictionalize', 'talkies', 'anakin', 'invoke', 'manhood', 'accustom', 'hewitt', 'submission', 'eileen', 'argentina', 'oblige', 'activist', 'pipe', 'prominently', 'veronika', 'misadventures', 'austrian', 'digger', 'bozz', 'dudes', 'burlesque', 'shia', 'franz', 'flawlessly', 'contributions', 'ming', 'congress', 'comprehension', 'rumble', 'dumbed', 'immune', 'ott', 'bethany', 'loggia', 'oppression', 'electronics', 'trance', 'definately', 'mumbo', 'pander', 'yakuza', 'guzman', 'goody', 'slang', 'infiltrate', 'youths', 'dismember', 'kitsch', 'testify', 'stylistically', 'absurdly', 'uneventful', 'acquaintance', 'disconcert', 'gleason', 'intolerance', 'overthrow', 'callous', 'maltin', 'bafta', 'boman', 'irani', 'lecherous', 'toolbox', 'worldly', 'deprave', 'herring', 'scout', 'dialect', 'perpetually', 'frailty', 'believably', 'fringe', 'rattle', 'rene', 'tautou', 'judi', 'raimi', 'biographical', 'afi', 'sierra', 'cotton', 'burtynsky', 'arrows', 'pillow', 'meatball', 'journalism', 'softcore', 'bombastic', 'grocery', 'nadia', 'colonies', 'pretension', '47', 'solidly', '89', 'backstory', 'admirers', 'depravity', 'ignite', 'junkie', 'obey', 'pa', 'susannah', 'urinate', 'mona', 'pollution', 'matinée', 'counterpoint', 'mayer', 'jonestown', 'dreamworks', 'tan', 'ramon', 'trainer', 'dc', 'liv', 'illinois', 'chinatown', 'spinster', 'beauties', 'godmother', 'wrist', 'cleverness', 'truffaut', 'brigitte', 'pickpocket', 'merchant', 'dual', 'lulu', 'ark', 'heroines', 'gump', 'lohan', 'hazel', 'becky', 'showgirls', 'torso', 'narratives', 'doe', 'cromwell', 'mishaps', 'legged', 'luminous', 'doze', 'pollute', 'goodnight', 'passages', 'rom', 'afterthought', 'ripe', 'reproduce', 'caan', 'pic', 'everyman', 'sultry', 'inbred', 'additions', 'offenders', 'fondly', 'col', 'thrash', 'crotch', 'egan', 'derail', 'vocabulary', 'religions', 'permission', 'categorize', 'furnish', 'dunno', 'abbey', 'verve', 'machinations', 'orbit', 'journalists', 'grisby', 'moto', 'relegate', 'heterosexual', 'testimony', 'explicitly', 'staden', 'mcnally', 'impossibly', 'renny', 'problematic', 'eighth', 'advertisements', 'obsolete', 'fridge', 'janine', 'jeanette', 'mommy', 'ubiquitous', 'excessively', 'nostril', '71', 'gullible', 'writhe', 'visionary', 'wyatt', 'weaken', 'xica', 'tyson', 'bubba', 'feminism', 'rican', 'memorize', 'satirize', 'moustache', 'lurch', 'neve', 'peet', 'wag', 'ricardo', 'noisy', 'digitally', 'moonwalker', 'glimmer', 'mahatma', 'rajpal', 'comatose', 'carbon', 'lesbianism', 'gel', 'delta', 'fatally', 'herald', 'trunk', 'hellman', 'underwhelming', 'lest', 'akshaye', 'grandiose', 'bloodless', 'miraculous', 'maze', 'dna', 'superimpose', 'attachment', 'hermann', 'goodfellas', 'genitals', 'dibiase', 'sociopath', 'timer', 'domain', 'thespian', 'syndicate', 'dourif', 'someones', 'frosty', 'mukhsin', 'legally', 'ww', 'yuppie', 'mercury', 'noel', 'giamatti', 'kirkland', 'ineffective', 'disrespectful', 'modine', 'rudolph', 'smother', 'harmon', 'scroll', 'wwf', 'raider', 'rochon', 'weisz', 'rockwell', 'toddler', 'farrelly', 'omg', 'quartet', 'russel', 'catalogue', 'stallion', 'misfit', 'seminal', 'oakland', 'sideways', 'horseback', 'fists', 'confessions', 'reconciliation', 'khanna', 'detect', 'debts', 'refreshingly', 'freshness', 'responses', 'hardship', 'farther', 'cybill', 'jonny', '36', 'elude', 'deter', 'ness', 'graduation', 'cargo', 'repulsion', 'chico', 'strathairn', 'stuntman', 'challenger', 'mph', 'televise', 'brisk', 'woronov', 'demi', 'appetite', 'utmost', 'trench', 'greenwood', 'lon', 'insect', 'darlene', 'deceit', 'radiant', 'falter', 'itch', 'chopra', 'unnoticed', 'sharif', 'autobiographical', 'togar', 'resentment', 'jayne', 'stifle', 'antidote', 'gals', '76', 'trappings', 'heaton', 'sculpture', 'epilogue', 'ida', 'vancouver', 'thou', 'dien', 'palatable', 'francois', 'solitary', 'kiddies', 'quincy', 'mystify', 'alias', 'advancement', 'constance', 'caucasian', 'discredit', 'stifler', 'forewarn', 'pupils', 'unbalance', 'suspiciously']\n"
     ]
    }
   ],
   "source": [
    "print(topwords)"
   ]
  },
  {
   "cell_type": "markdown",
   "metadata": {},
   "source": [
    "## Vectorizer "
   ]
  },
  {
   "cell_type": "code",
   "execution_count": 73,
   "metadata": {},
   "outputs": [],
   "source": [
    "from sklearn.feature_extraction.text import CountVectorizer\n",
    "from sklearn.feature_extraction.text import TfidfTransformer\n",
    "from sklearn.feature_extraction.text import TfidfVectorizer"
   ]
  },
  {
   "cell_type": "code",
   "execution_count": 74,
   "metadata": {},
   "outputs": [],
   "source": [
    "transformer = TfidfTransformer(smooth_idf=False)"
   ]
  },
  {
   "cell_type": "code",
   "execution_count": 75,
   "metadata": {},
   "outputs": [
    {
     "data": {
      "text/plain": [
       "array([[0.81940995, 0.        , 0.57320793],\n",
       "       [1.        , 0.        , 0.        ],\n",
       "       [1.        , 0.        , 0.        ],\n",
       "       [1.        , 0.        , 0.        ],\n",
       "       [0.47330339, 0.88089948, 0.        ],\n",
       "       [0.58149261, 0.        , 0.81355169]])"
      ]
     },
     "execution_count": 75,
     "metadata": {},
     "output_type": "execute_result"
    }
   ],
   "source": [
    "counts = [[3, 0, 1],\n",
    "          [2, 0, 0],\n",
    "          [3, 0, 0],\n",
    "          [4, 0, 0],\n",
    "          [3, 2, 0],\n",
    "          [3, 0, 2]]\n",
    "tfidf = transformer.fit_transform(counts)\n",
    "tfidf.toarray()"
   ]
  },
  {
   "cell_type": "code",
   "execution_count": 76,
   "metadata": {},
   "outputs": [
    {
     "data": {
      "text/plain": [
       "array([[1, 0, 1, 2, 1],\n",
       "       [1, 1, 0, 2, 1]])"
      ]
     },
     "execution_count": 76,
     "metadata": {},
     "output_type": "execute_result"
    }
   ],
   "source": [
    "t_corpus = ['the boy love the toy', 'the boy hate the toy']\n",
    "t_cnt_vec = CountVectorizer()\n",
    "t_cnt_vec.fit(' '.join(t_corpus).split())\n",
    "t_cnt_vec.transform(t_corpus).toarray()"
   ]
  },
  {
   "cell_type": "code",
   "execution_count": 158,
   "metadata": {},
   "outputs": [
    {
     "data": {
      "text/plain": [
       "['boy', 'hate', 'love', 'the', 'toy']"
      ]
     },
     "execution_count": 158,
     "metadata": {},
     "output_type": "execute_result"
    }
   ],
   "source": [
    "t_cnt_vec.get_feature_names()"
   ]
  },
  {
   "cell_type": "code",
   "execution_count": 159,
   "metadata": {},
   "outputs": [
    {
     "data": {
      "text/plain": [
       "array([[1, 0, 1, 2, 1],\n",
       "       [1, 1, 0, 2, 1]], dtype=int64)"
      ]
     },
     "execution_count": 159,
     "metadata": {},
     "output_type": "execute_result"
    }
   ],
   "source": [
    "t_corpus = ['the boy love the toy', 'the boy hate the toy']\n",
    "t_cnt_vec = CountVectorizer()\n",
    "t_corpus_counts = t_cnt_vec.fit_transform(t_corpus).toarray()\n",
    "t_corpus_counts"
   ]
  },
  {
   "cell_type": "code",
   "execution_count": 160,
   "metadata": {},
   "outputs": [
    {
     "data": {
      "text/plain": [
       "array([[0.35409974, 0.        , 0.49767483, 0.70819948, 0.35409974],\n",
       "       [0.35409974, 0.49767483, 0.        , 0.70819948, 0.35409974]])"
      ]
     },
     "execution_count": 160,
     "metadata": {},
     "output_type": "execute_result"
    }
   ],
   "source": [
    "transformer = TfidfTransformer(smooth_idf=True)\n",
    "transformer.fit_transform(t_corpus_counts).toarray()"
   ]
  },
  {
   "cell_type": "code",
   "execution_count": 161,
   "metadata": {},
   "outputs": [
    {
     "data": {
      "text/plain": [
       "array([[1, 0, 1, 2, 1],\n",
       "       [1, 1, 0, 2, 1]])"
      ]
     },
     "execution_count": 161,
     "metadata": {},
     "output_type": "execute_result"
    }
   ],
   "source": [
    "t_corpus = ['the boy love the toy', 'the boy hate the toy']\n",
    "t_cnt_vec = CountVectorizer()\n",
    "t_cnt_vec.fit(t_corpus)\n",
    "t_cnt_vec.transform(t_corpus).toarray()"
   ]
  },
  {
   "cell_type": "code",
   "execution_count": 162,
   "metadata": {},
   "outputs": [
    {
     "data": {
      "text/plain": [
       "array([[0.35409974, 0.        , 0.49767483, 0.70819948, 0.35409974],\n",
       "       [0.35409974, 0.49767483, 0.        , 0.70819948, 0.35409974]])"
      ]
     },
     "execution_count": 162,
     "metadata": {},
     "output_type": "execute_result"
    }
   ],
   "source": [
    "t_corpus = ['the boy love the toy', 'the boy hate the toy']\n",
    "t_tfidf_vec = TfidfVectorizer()\n",
    "t_tfidf_vec.fit(t_corpus)\n",
    "t_tfidf_vec.transform(t_corpus).toarray()"
   ]
  },
  {
   "cell_type": "code",
   "execution_count": 15,
   "metadata": {},
   "outputs": [
    {
     "data": {
      "text/plain": [
       "array([[0.41508858, 0.        , 0.48828702, 0.6457389 , 0.41508858],\n",
       "       [0.41508858, 0.48828702, 0.        , 0.6457389 , 0.41508858]])"
      ]
     },
     "execution_count": 15,
     "metadata": {},
     "output_type": "execute_result"
    }
   ],
   "source": [
    "t_corpus = ['the boy love the toy', 'the boy hate the toy']\n",
    "t_tfidf_vec = TfidfVectorizer()\n",
    "t_tfidf_vec.fit(' '.join(t_corpus).split())\n",
    "t_tfidf_vec.transform(t_corpus).toarray()"
   ]
  },
  {
   "cell_type": "code",
   "execution_count": 11,
   "metadata": {},
   "outputs": [
    {
     "data": {
      "text/plain": [
       "array([[0.37796447, 0.        , 0.37796447, 0.75592895, 0.37796447],\n",
       "       [0.37796447, 0.37796447, 0.        , 0.75592895, 0.37796447]])"
      ]
     },
     "execution_count": 11,
     "metadata": {},
     "output_type": "execute_result"
    }
   ],
   "source": [
    "t_corpus = ['the boy love the toy', 'the boy hate the toy']\n",
    "t_tfidf_vec = TfidfVectorizer()\n",
    "t_tfidf_vec.fit(['boy', 'hate', 'love', 'the', 'toy'])\n",
    "t_tfidf_vec.transform(t_corpus).toarray()"
   ]
  },
  {
   "cell_type": "code",
   "execution_count": 20,
   "metadata": {},
   "outputs": [
    {
     "data": {
      "text/plain": [
       "array([[1., 0., 0., 0., 0.],\n",
       "       [0., 1., 0., 0., 0.],\n",
       "       [0., 0., 1., 0., 0.],\n",
       "       [0., 0., 0., 1., 0.],\n",
       "       [0., 0., 0., 0., 1.]])"
      ]
     },
     "execution_count": 20,
     "metadata": {},
     "output_type": "execute_result"
    }
   ],
   "source": [
    "t_tfidf_vec.fit_transform(['boy', 'hate', 'love', 'the', 'toy']).toarray()"
   ]
  },
  {
   "cell_type": "code",
   "execution_count": 21,
   "metadata": {},
   "outputs": [
    {
     "data": {
      "text/plain": [
       "array([2.09861229, 2.09861229, 2.09861229, 2.09861229, 2.09861229])"
      ]
     },
     "execution_count": 21,
     "metadata": {},
     "output_type": "execute_result"
    }
   ],
   "source": [
    "t_tfidf_vec.idf_"
   ]
  },
  {
   "cell_type": "code",
   "execution_count": 28,
   "metadata": {},
   "outputs": [
    {
     "data": {
      "text/plain": [
       "array([[0.37796447, 0.        , 0.37796447, 0.75592895, 0.37796447],\n",
       "       [0.37796447, 0.37796447, 0.        , 0.75592895, 0.37796447]])"
      ]
     },
     "execution_count": 28,
     "metadata": {},
     "output_type": "execute_result"
    }
   ],
   "source": [
    "import numpy as np\n",
    "from sklearn.preprocessing import normalize\n",
    "a= np.array([2.09861229, 2.09861229, 2.09861229, 2.09861229, 2.09861229])\n",
    "b= np.array([[1, 0, 1, 2, 1],\n",
    "            [1, 1, 0, 2, 1]])\n",
    "normalize(a*b)"
   ]
  },
  {
   "cell_type": "code",
   "execution_count": 30,
   "metadata": {},
   "outputs": [
    {
     "data": {
      "text/plain": [
       "array([[1., 0., 0., 0., 0.],\n",
       "       [1., 0., 0., 0., 0.],\n",
       "       [0., 1., 0., 0., 0.],\n",
       "       [0., 0., 1., 0., 0.],\n",
       "       [0., 0., 0., 1., 0.],\n",
       "       [0., 0., 0., 1., 0.],\n",
       "       [0., 0., 0., 1., 0.],\n",
       "       [0., 0., 0., 1., 0.],\n",
       "       [0., 0., 0., 0., 1.],\n",
       "       [0., 0., 0., 0., 1.]])"
      ]
     },
     "execution_count": 30,
     "metadata": {},
     "output_type": "execute_result"
    }
   ],
   "source": [
    "t_tfidf_vec.fit_transform(['boy', 'boy','hate', 'love', 'the', 'the','the', 'the', 'toy', 'toy']).toarray()"
   ]
  },
  {
   "cell_type": "code",
   "execution_count": 31,
   "metadata": {},
   "outputs": [
    {
     "data": {
      "text/plain": [
       "array([2.29928298, 2.70474809, 2.70474809, 1.78845736, 2.29928298])"
      ]
     },
     "execution_count": 31,
     "metadata": {},
     "output_type": "execute_result"
    }
   ],
   "source": [
    "t_tfidf_vec.idf_"
   ]
  },
  {
   "cell_type": "code",
   "execution_count": 32,
   "metadata": {},
   "outputs": [
    {
     "data": {
      "text/plain": [
       "array([[0.41508858, 0.        , 0.48828702, 0.6457389 , 0.41508858],\n",
       "       [0.41508858, 0.48828702, 0.        , 0.6457389 , 0.41508858]])"
      ]
     },
     "execution_count": 32,
     "metadata": {},
     "output_type": "execute_result"
    }
   ],
   "source": [
    "a= np.array([2.29928298, 2.70474809, 2.70474809, 1.78845736, 2.29928298])\n",
    "b= np.array([[1, 0, 1, 2, 1],\n",
    "            [1, 1, 0, 2, 1]])\n",
    "normalize(a*b)"
   ]
  },
  {
   "cell_type": "code",
   "execution_count": 13,
   "metadata": {},
   "outputs": [
    {
     "data": {
      "text/plain": [
       "['boy', 'hate', 'love', 'the', 'toy']"
      ]
     },
     "execution_count": 13,
     "metadata": {},
     "output_type": "execute_result"
    }
   ],
   "source": [
    "t_tfidf_vec.get_feature_names()"
   ]
  },
  {
   "cell_type": "code",
   "execution_count": null,
   "metadata": {},
   "outputs": [],
   "source": [
    "idf = np.array([1, 0, 1.69315, 2, 1])\n",
    "tf1 = nap.array([])"
   ]
  },
  {
   "cell_type": "code",
   "execution_count": null,
   "metadata": {},
   "outputs": [],
   "source": [
    "#fit: learn the value of itf for each term"
   ]
  },
  {
   "cell_type": "markdown",
   "metadata": {},
   "source": [
    "## Additional process on  train_x, test_x"
   ]
  },
  {
   "cell_type": "code",
   "execution_count": 77,
   "metadata": {},
   "outputs": [],
   "source": [
    "# only keep topwords for each review"
   ]
  },
  {
   "cell_type": "code",
   "execution_count": 78,
   "metadata": {},
   "outputs": [],
   "source": [
    "def add_preprocessing(line):\n",
    "    tokens = [t for t in nltk.word_tokenize(line)\n",
    "              if t in topwords]\n",
    "    return ' '.join(tokens)"
   ]
  },
  {
   "cell_type": "code",
   "execution_count": 136,
   "metadata": {},
   "outputs": [
    {
     "name": "stdout",
     "output_type": "stream",
     "text": [
      "Processing time is 4814.36 seconds\n"
     ]
    }
   ],
   "source": [
    "start = time.time()\n",
    "train_x_a = [add_preprocessing(x) for x in train_x]\n",
    "test_x_a = [add_preprocessing(x) for x in test_x]\n",
    "print('Processing time is %.2f seconds' %(time.time()-start))"
   ]
  },
  {
   "cell_type": "markdown",
   "metadata": {},
   "source": [
    "## Feature Extraction"
   ]
  },
  {
   "cell_type": "code",
   "execution_count": 80,
   "metadata": {},
   "outputs": [
    {
     "data": {
      "text/plain": [
       "TfidfVectorizer(analyzer='word', binary=False, decode_error='strict',\n",
       "        dtype=<class 'numpy.float64'>, encoding='utf-8', input='content',\n",
       "        lowercase=True, max_df=1.0, max_features=None, min_df=1,\n",
       "        ngram_range=(1, 1), norm='l2', preprocessor=None, smooth_idf=True,\n",
       "        stop_words=None, strip_accents=None, sublinear_tf=False,\n",
       "        token_pattern='(?u)\\\\b\\\\w\\\\w+\\\\b', tokenizer=None, use_idf=True,\n",
       "        vocabulary=None)"
      ]
     },
     "execution_count": 80,
     "metadata": {},
     "output_type": "execute_result"
    }
   ],
   "source": [
    "tf_vec = TfidfVectorizer()\n",
    "tf_vec.fit(topwords)"
   ]
  },
  {
   "cell_type": "code",
   "execution_count": 81,
   "metadata": {},
   "outputs": [],
   "source": [
    "train_features = tf_vec.transform(train_x)\n",
    "test_features = tf_vec.transform(test_x)"
   ]
  },
  {
   "cell_type": "code",
   "execution_count": 82,
   "metadata": {},
   "outputs": [
    {
     "data": {
      "text/plain": [
       "((25000, 9966), (25000, 9966))"
      ]
     },
     "execution_count": 82,
     "metadata": {},
     "output_type": "execute_result"
    }
   ],
   "source": [
    "train_features.shape, test_features.shape"
   ]
  },
  {
   "cell_type": "markdown",
   "metadata": {},
   "source": [
    "## Additional Feature Extraction "
   ]
  },
  {
   "cell_type": "code",
   "execution_count": 83,
   "metadata": {},
   "outputs": [],
   "source": [
    "tf_vec_a = TfidfVectorizer()"
   ]
  },
  {
   "cell_type": "code",
   "execution_count": 84,
   "metadata": {},
   "outputs": [
    {
     "name": "stdout",
     "output_type": "stream",
     "text": [
      "processing time is 14.69 seconds\n"
     ]
    }
   ],
   "source": [
    "start = time.time()\n",
    "tf_vec_a.fit(train_x_a)\n",
    "train_features_a = tf_vec_a.transform(train_x_a)\n",
    "test_features_a = tf_vec_a.transform(test_x_a)\n",
    "print(\"processing time is %.2f seconds\" %(time.time()-start) )"
   ]
  },
  {
   "cell_type": "code",
   "execution_count": 85,
   "metadata": {},
   "outputs": [
    {
     "data": {
      "text/plain": [
       "((25000, 9966), (25000, 9966))"
      ]
     },
     "execution_count": 85,
     "metadata": {},
     "output_type": "execute_result"
    }
   ],
   "source": [
    "train_features_a.shape, test_features_a.shape"
   ]
  },
  {
   "cell_type": "markdown",
   "metadata": {},
   "source": [
    "## Consider negative words"
   ]
  },
  {
   "cell_type": "code",
   "execution_count": 126,
   "metadata": {},
   "outputs": [],
   "source": [
    "def load_data(path):\n",
    "    data = pd.read_csv(path)\n",
    "    x = data.reviewText.tolist()\n",
    "    y = data.sentiment.tolist()\n",
    "    return x, y"
   ]
  },
  {
   "cell_type": "code",
   "execution_count": 127,
   "metadata": {},
   "outputs": [],
   "source": [
    "train_x, train_y = load_data('train.csv')\n",
    "test_x, test_y = load_data('test.csv')"
   ]
  },
  {
   "cell_type": "code",
   "execution_count": 128,
   "metadata": {},
   "outputs": [
    {
     "data": {
      "text/plain": [
       "10039"
      ]
     },
     "execution_count": 128,
     "metadata": {},
     "output_type": "execute_result"
    }
   ],
   "source": [
    "topwords_b = list(set(topwords+neg_words))\n",
    "len(topwords_b)"
   ]
  },
  {
   "cell_type": "code",
   "execution_count": 129,
   "metadata": {},
   "outputs": [],
   "source": [
    "def preprocessing_b(line):\n",
    "    line = line.replace('<br />', '')\n",
    "    line = line.translate(transtbl)\n",
    "    \n",
    "    tokens = [lemmatizer.lemmatize(t.lower(), 'v')\n",
    "              for t in nltk.word_tokenize(line)\n",
    "              if t.lower() not in stopwords_b]\n",
    "    return ' '.join(tokens)"
   ]
  },
  {
   "cell_type": "code",
   "execution_count": 130,
   "metadata": {},
   "outputs": [
    {
     "name": "stdout",
     "output_type": "stream",
     "text": [
      "Processing time: 250.5151982307434\n"
     ]
    }
   ],
   "source": [
    "start = time.time()\n",
    "train_x_b = [preprocessing_b(x) for x in train_x]\n",
    "test_x_b = [preprocessing_b(x) for x in test_x]\n",
    "print('Processing time:', time.time()-start)"
   ]
  },
  {
   "cell_type": "code",
   "execution_count": 131,
   "metadata": {},
   "outputs": [
    {
     "name": "stdout",
     "output_type": "stream",
     "text": [
      "processing time is 13.63 seconds\n"
     ]
    }
   ],
   "source": [
    "tf_vec_b = TfidfVectorizer()\n",
    "start = time.time()\n",
    "tf_vec_b.fit(topwords_b)\n",
    "train_features_b = tf_vec_b.transform(train_x_b)\n",
    "test_features_b = tf_vec_b.transform(test_x_b)\n",
    "print(\"processing time is %.2f seconds\" %(time.time()-start) )"
   ]
  },
  {
   "cell_type": "code",
   "execution_count": 125,
   "metadata": {},
   "outputs": [],
   "source": [
    "nptrain = pd.DataFrame(np.column_stack((train_x_b,train_y)), columns=['reviewText','sentiment'])\n",
    "nptest = pd.DataFrame(np.column_stack((test_x_b,test_y)), columns=['reviewText','sentiment'])\n",
    "nptrain.to_csv('nptrain.csv', index=False)\n",
    "nptest.to_csv('nptest.csv', index=False)"
   ]
  },
  {
   "cell_type": "markdown",
   "metadata": {},
   "source": [
    "## Additional Consider negative words\n",
    "### only keep topwords_b for each review"
   ]
  },
  {
   "cell_type": "code",
   "execution_count": 142,
   "metadata": {},
   "outputs": [],
   "source": [
    "def preprocessing_c(line):\n",
    "    \n",
    "    tokens = [t for t in nltk.word_tokenize(line)\n",
    "              if t.lower() in topwords_b]\n",
    "    return ' '.join(tokens)"
   ]
  },
  {
   "cell_type": "code",
   "execution_count": 143,
   "metadata": {},
   "outputs": [
    {
     "name": "stdout",
     "output_type": "stream",
     "text": [
      "Processing time is 1407.94 seconds\n"
     ]
    }
   ],
   "source": [
    "start = time.time()\n",
    "train_x_c = [preprocessing_c(x) for x in train_x_b]\n",
    "test_x_c = [preprocessing_c(x) for x in test_x_b]\n",
    "print('Processing time is %.2f seconds' %(time.time()-start))"
   ]
  },
  {
   "cell_type": "code",
   "execution_count": 144,
   "metadata": {},
   "outputs": [
    {
     "name": "stdout",
     "output_type": "stream",
     "text": [
      "processing time is 15.20 seconds\n"
     ]
    }
   ],
   "source": [
    "tf_vec_c = TfidfVectorizer()\n",
    "start = time.time()\n",
    "tf_vec_c.fit(train_x_c)\n",
    "train_features_c = tf_vec_c.transform(train_x_c)\n",
    "test_features_c = tf_vec_c.transform(test_x_c)\n",
    "print(\"processing time is %.2f seconds\" %(time.time()-start) )"
   ]
  },
  {
   "cell_type": "code",
   "execution_count": 145,
   "metadata": {},
   "outputs": [
    {
     "name": "stdout",
     "output_type": "stream",
     "text": [
      "done\n"
     ]
    }
   ],
   "source": [
    "print('done')"
   ]
  },
  {
   "cell_type": "markdown",
   "metadata": {},
   "source": [
    "### Summary:\n",
    "### Pick up 1000 topwords from 65081 unique words to generate 9966 features via tf-idf feature extraction method\n",
    "### train_x(list), test_x(list), train_features(array 25000, 9966), test_features(array25000, 9966)  Tf-idf only fit topwords list  0.8435\n",
    "### train_x_a(list), test_x_a(list), train_features_a(array25000, 9966), test_features_a(array25000, 9966)  Tf-idf fit the train data which only contain topwords.  0.8329\n",
    "### train_x_b(list), test_x_b(list), train_features_b(array25000, 9966),  test_features_b(array25000, 9966)  consider negative words, Tf-idf fit topwords_b.   0.8436\n",
    "### train_x_c(list), test_x_c(list), train_features_c(array25000, 9966),  test_features_c(array25000, 9966)  consider negative words, Tf-idf fit the train data which only contain topwords_b.\n",
    "## train_x_a(list), test_x_a(list) make more sense."
   ]
  },
  {
   "cell_type": "markdown",
   "metadata": {},
   "source": [
    "## Multinomial Naive Bayes(train_features)"
   ]
  },
  {
   "cell_type": "code",
   "execution_count": 97,
   "metadata": {},
   "outputs": [],
   "source": [
    "from sklearn.naive_bayes import MultinomialNB\n",
    "from sklearn import metrics"
   ]
  },
  {
   "cell_type": "code",
   "execution_count": 98,
   "metadata": {},
   "outputs": [
    {
     "data": {
      "text/plain": [
       "MultinomialNB(alpha=1.0, class_prior=None, fit_prior=True)"
      ]
     },
     "execution_count": 98,
     "metadata": {},
     "output_type": "execute_result"
    }
   ],
   "source": [
    "mnb_model = MultinomialNB()\n",
    "mnb_model"
   ]
  },
  {
   "cell_type": "code",
   "execution_count": 99,
   "metadata": {},
   "outputs": [
    {
     "name": "stdout",
     "output_type": "stream",
     "text": [
      "Multinomial NB model trained in 0.374575 seconds\n"
     ]
    }
   ],
   "source": [
    "start = time.time()\n",
    "mnb_model.fit(train_features, train_y)\n",
    "end = time.time()\n",
    "print(\"Multinomial NB model trained in %f seconds\" % (end-start))"
   ]
  },
  {
   "cell_type": "code",
   "execution_count": 100,
   "metadata": {},
   "outputs": [
    {
     "name": "stdout",
     "output_type": "stream",
     "text": [
      "['pos' 'pos' 'pos' ... 'neg' 'neg' 'neg']\n"
     ]
    }
   ],
   "source": [
    "pred = mnb_model.predict(test_features)\n",
    "print(pred)"
   ]
  },
  {
   "cell_type": "code",
   "execution_count": 101,
   "metadata": {},
   "outputs": [
    {
     "data": {
      "text/plain": [
       "FreqDist({'neg': 13310, 'pos': 11690})"
      ]
     },
     "execution_count": 101,
     "metadata": {},
     "output_type": "execute_result"
    }
   ],
   "source": [
    "nltk.FreqDist(pred)"
   ]
  },
  {
   "cell_type": "code",
   "execution_count": 102,
   "metadata": {},
   "outputs": [
    {
     "data": {
      "text/plain": [
       "FreqDist({'pos': 12500, 'neg': 12500})"
      ]
     },
     "execution_count": 102,
     "metadata": {},
     "output_type": "execute_result"
    }
   ],
   "source": [
    "nltk.FreqDist(test_y)"
   ]
  },
  {
   "cell_type": "code",
   "execution_count": 103,
   "metadata": {},
   "outputs": [
    {
     "data": {
      "text/plain": [
       "0.84352"
      ]
     },
     "execution_count": 103,
     "metadata": {},
     "output_type": "execute_result"
    }
   ],
   "source": [
    "accuracy = metrics.accuracy_score(pred, test_y)\n",
    "accuracy"
   ]
  },
  {
   "cell_type": "code",
   "execution_count": 104,
   "metadata": {},
   "outputs": [
    {
     "name": "stdout",
     "output_type": "stream",
     "text": [
      "              precision    recall  f1-score   support\n",
      "\n",
      "         neg       0.82      0.88      0.85     12500\n",
      "         pos       0.87      0.81      0.84     12500\n",
      "\n",
      "   micro avg       0.84      0.84      0.84     25000\n",
      "   macro avg       0.84      0.84      0.84     25000\n",
      "weighted avg       0.84      0.84      0.84     25000\n",
      "\n"
     ]
    }
   ],
   "source": [
    "print(metrics.classification_report(y_true=test_y, y_pred=pred))"
   ]
  },
  {
   "cell_type": "code",
   "execution_count": 186,
   "metadata": {},
   "outputs": [
    {
     "name": "stdout",
     "output_type": "stream",
     "text": [
      "              precision    recall  f1-score   support\n",
      "\n",
      "     class 0       0.50      1.00      0.67         1\n",
      "     class 1       0.00      0.00      0.00         1\n",
      "     class 2       1.00      0.67      0.80         3\n",
      "\n",
      "   micro avg       0.60      0.60      0.60         5\n",
      "   macro avg       0.50      0.56      0.49         5\n",
      "weighted avg       0.70      0.60      0.61         5\n",
      "\n"
     ]
    }
   ],
   "source": [
    "y_true = [0, 1, 2, 2, 2]\n",
    "y_pred = [0, 0, 2, 2, 1]\n",
    "target_names = ['class 0', 'class 1', 'class 2']\n",
    "print(metrics.classification_report(y_true, y_pred, target_names=target_names))"
   ]
  },
  {
   "cell_type": "code",
   "execution_count": 193,
   "metadata": {},
   "outputs": [
    {
     "name": "stdout",
     "output_type": "stream",
     "text": [
      "              precision    recall  f1-score   support\n",
      "\n",
      "     class 1       1.00      1.00      1.00         2\n",
      "     class 0       0.00      0.00      0.00         1\n",
      "     class 2       0.50      1.00      0.67         1\n",
      "     class 3       1.00      0.67      0.80         3\n",
      "\n",
      "   micro avg       0.71      0.71      0.71         7\n",
      "   macro avg       0.62      0.67      0.62         7\n",
      "weighted avg       0.79      0.71      0.72         7\n",
      "\n"
     ]
    }
   ],
   "source": [
    "y_true = [1,'m', 'l', 'n', 'n', 'n',1]\n",
    "y_pred = [1,'m', 'm', 'n', 'n', 'l',1]\n",
    "target_names = ['class 1', 'class 0', 'class 2','class 3'](order is 1,lmn)\n",
    "print(metrics.classification_report(y_true, y_pred, target_names=target_names))"
   ]
  },
  {
   "cell_type": "code",
   "execution_count": 188,
   "metadata": {},
   "outputs": [
    {
     "name": "stdout",
     "output_type": "stream",
     "text": [
      "done\n"
     ]
    }
   ],
   "source": [
    "print('done')"
   ]
  },
  {
   "cell_type": "markdown",
   "metadata": {},
   "source": [
    "## Multinomial Naive Bayes(train_features_a)"
   ]
  },
  {
   "cell_type": "code",
   "execution_count": 152,
   "metadata": {},
   "outputs": [
    {
     "data": {
      "text/plain": [
       "MultinomialNB(alpha=1.0, class_prior=None, fit_prior=True)"
      ]
     },
     "execution_count": 152,
     "metadata": {},
     "output_type": "execute_result"
    }
   ],
   "source": [
    "mnb_model_a = MultinomialNB()\n",
    "mnb_model_a"
   ]
  },
  {
   "cell_type": "code",
   "execution_count": 153,
   "metadata": {},
   "outputs": [
    {
     "name": "stdout",
     "output_type": "stream",
     "text": [
      "Multinomial NB model trained in 0.767738 seconds\n"
     ]
    }
   ],
   "source": [
    "start = time.time()\n",
    "mnb_model_a.fit(train_features_a, train_y)\n",
    "end = time.time()\n",
    "print(\"Multinomial NB model trained in %f seconds\" % (end-start))"
   ]
  },
  {
   "cell_type": "code",
   "execution_count": 154,
   "metadata": {},
   "outputs": [
    {
     "name": "stdout",
     "output_type": "stream",
     "text": [
      "['neg' 'pos' 'pos' ... 'neg' 'neg' 'neg']\n"
     ]
    }
   ],
   "source": [
    "pred_a = mnb_model_a.predict(test_features_a)\n",
    "print(pred_a)"
   ]
  },
  {
   "cell_type": "code",
   "execution_count": 155,
   "metadata": {},
   "outputs": [
    {
     "data": {
      "text/plain": [
       "FreqDist({'neg': 13410, 'pos': 11590})"
      ]
     },
     "execution_count": 155,
     "metadata": {},
     "output_type": "execute_result"
    }
   ],
   "source": [
    "nltk.FreqDist(pred_a)"
   ]
  },
  {
   "cell_type": "code",
   "execution_count": 156,
   "metadata": {},
   "outputs": [
    {
     "data": {
      "text/plain": [
       "0.83288"
      ]
     },
     "execution_count": 156,
     "metadata": {},
     "output_type": "execute_result"
    }
   ],
   "source": [
    "accuracy_a = metrics.accuracy_score(pred_a, test_y)\n",
    "accuracy_a"
   ]
  },
  {
   "cell_type": "code",
   "execution_count": 157,
   "metadata": {},
   "outputs": [
    {
     "name": "stdout",
     "output_type": "stream",
     "text": [
      "              precision    recall  f1-score   support\n",
      "\n",
      "         neg       0.81      0.87      0.84     12500\n",
      "         pos       0.86      0.80      0.83     12500\n",
      "\n",
      "   micro avg       0.83      0.83      0.83     25000\n",
      "   macro avg       0.83      0.83      0.83     25000\n",
      "weighted avg       0.83      0.83      0.83     25000\n",
      "\n"
     ]
    }
   ],
   "source": [
    "print(metrics.classification_report(y_true=test_y, y_pred=pred_a))"
   ]
  },
  {
   "cell_type": "markdown",
   "metadata": {},
   "source": [
    "## Multinomial Naive Bayes(train_features_b)"
   ]
  },
  {
   "cell_type": "code",
   "execution_count": 146,
   "metadata": {},
   "outputs": [
    {
     "data": {
      "text/plain": [
       "MultinomialNB(alpha=1.0, class_prior=None, fit_prior=True)"
      ]
     },
     "execution_count": 146,
     "metadata": {},
     "output_type": "execute_result"
    }
   ],
   "source": [
    "mnb_model_b = MultinomialNB()\n",
    "mnb_model_b"
   ]
  },
  {
   "cell_type": "code",
   "execution_count": 147,
   "metadata": {
    "scrolled": true
   },
   "outputs": [
    {
     "name": "stdout",
     "output_type": "stream",
     "text": [
      "Multinomial NB model trained in 0.439806 seconds\n"
     ]
    }
   ],
   "source": [
    "start = time.time()\n",
    "mnb_model_b.fit(train_features_b, train_y)\n",
    "end = time.time()\n",
    "print(\"Multinomial NB model trained in %f seconds\" % (end-start))"
   ]
  },
  {
   "cell_type": "code",
   "execution_count": 148,
   "metadata": {},
   "outputs": [
    {
     "name": "stdout",
     "output_type": "stream",
     "text": [
      "['neg' 'pos' 'pos' ... 'neg' 'neg' 'neg']\n"
     ]
    }
   ],
   "source": [
    "pred_b = mnb_model_b.predict(test_features_b)\n",
    "print(pred_b)"
   ]
  },
  {
   "cell_type": "code",
   "execution_count": 149,
   "metadata": {},
   "outputs": [
    {
     "data": {
      "text/plain": [
       "FreqDist({'neg': 13376, 'pos': 11624})"
      ]
     },
     "execution_count": 149,
     "metadata": {},
     "output_type": "execute_result"
    }
   ],
   "source": [
    "nltk.FreqDist(pred_b)"
   ]
  },
  {
   "cell_type": "code",
   "execution_count": 150,
   "metadata": {},
   "outputs": [
    {
     "data": {
      "text/plain": [
       "0.8436"
      ]
     },
     "execution_count": 150,
     "metadata": {},
     "output_type": "execute_result"
    }
   ],
   "source": [
    "accuracy_b = metrics.accuracy_score(pred_b, test_y)\n",
    "accuracy_b"
   ]
  },
  {
   "cell_type": "code",
   "execution_count": 151,
   "metadata": {},
   "outputs": [
    {
     "data": {
      "text/plain": [
       "set()"
      ]
     },
     "execution_count": 151,
     "metadata": {},
     "output_type": "execute_result"
    }
   ],
   "source": [
    "set(neg_words)&set(topwords)"
   ]
  },
  {
   "cell_type": "markdown",
   "metadata": {},
   "source": [
    "## Multinomial Naive Bayes(train_features_c)"
   ]
  },
  {
   "cell_type": "code",
   "execution_count": 158,
   "metadata": {},
   "outputs": [
    {
     "data": {
      "text/plain": [
       "MultinomialNB(alpha=1.0, class_prior=None, fit_prior=True)"
      ]
     },
     "execution_count": 158,
     "metadata": {},
     "output_type": "execute_result"
    }
   ],
   "source": [
    "mnb_model_c = MultinomialNB()\n",
    "mnb_model_c"
   ]
  },
  {
   "cell_type": "code",
   "execution_count": 159,
   "metadata": {},
   "outputs": [
    {
     "name": "stdout",
     "output_type": "stream",
     "text": [
      "Multinomial NB model trained in 0.144806 seconds\n"
     ]
    }
   ],
   "source": [
    "start = time.time()\n",
    "mnb_model_c.fit(train_features_c, train_y)\n",
    "end = time.time()\n",
    "print(\"Multinomial NB model trained in %f seconds\" % (end-start))"
   ]
  },
  {
   "cell_type": "code",
   "execution_count": 160,
   "metadata": {},
   "outputs": [
    {
     "name": "stdout",
     "output_type": "stream",
     "text": [
      "['neg' 'pos' 'pos' ... 'neg' 'neg' 'neg']\n"
     ]
    }
   ],
   "source": [
    "pred_c = mnb_model_c.predict(test_features_c)\n",
    "print(pred_c)"
   ]
  },
  {
   "cell_type": "code",
   "execution_count": 161,
   "metadata": {},
   "outputs": [
    {
     "data": {
      "text/plain": [
       "FreqDist({'neg': 13426, 'pos': 11574})"
      ]
     },
     "execution_count": 161,
     "metadata": {},
     "output_type": "execute_result"
    }
   ],
   "source": [
    "nltk.FreqDist(pred_c)"
   ]
  },
  {
   "cell_type": "code",
   "execution_count": 162,
   "metadata": {},
   "outputs": [
    {
     "data": {
      "text/plain": [
       "0.8324"
      ]
     },
     "execution_count": 162,
     "metadata": {},
     "output_type": "execute_result"
    }
   ],
   "source": [
    "accuracy_c = metrics.accuracy_score(pred_c, test_y)\n",
    "accuracy_c"
   ]
  },
  {
   "cell_type": "markdown",
   "metadata": {},
   "source": [
    "## Predict new sentences "
   ]
  },
  {
   "cell_type": "code",
   "execution_count": 202,
   "metadata": {},
   "outputs": [],
   "source": [
    "def predict_new(sentence):\n",
    "    sentence = preprocessing(sentence)#argument must be string\n",
    "    features = tf_vec.transform([sentence])#argument must be list\n",
    "    pred = mnb_model.predict(features)\n",
    "    return pred   "
   ]
  },
  {
   "cell_type": "code",
   "execution_count": 204,
   "metadata": {},
   "outputs": [
    {
     "data": {
      "text/plain": [
       "array(['neg'], dtype='<U3')"
      ]
     },
     "execution_count": 204,
     "metadata": {},
     "output_type": "execute_result"
    }
   ],
   "source": [
    "predict_new('This looks not terrible')"
   ]
  },
  {
   "cell_type": "code",
   "execution_count": 205,
   "metadata": {},
   "outputs": [
    {
     "data": {
      "text/plain": [
       "array(['pos'], dtype='<U3')"
      ]
     },
     "execution_count": 205,
     "metadata": {},
     "output_type": "execute_result"
    }
   ],
   "source": [
    "predict_new('This looks great')"
   ]
  },
  {
   "cell_type": "code",
   "execution_count": 206,
   "metadata": {},
   "outputs": [
    {
     "data": {
      "text/plain": [
       "array(['neg'], dtype='<U3')"
      ]
     },
     "execution_count": 206,
     "metadata": {},
     "output_type": "execute_result"
    }
   ],
   "source": [
    "predict_new('This looks not bad')"
   ]
  },
  {
   "cell_type": "code",
   "execution_count": 258,
   "metadata": {},
   "outputs": [],
   "source": [
    "def predict_new_b(sentence):\n",
    "    sentence = preprocessing_b(sentence)#argument must be string\n",
    "    features = tf_vec_b.transform([sentence])#argument must be list\n",
    "    pred = mnb_model_b.predict(features)\n",
    "    return pred "
   ]
  },
  {
   "cell_type": "code",
   "execution_count": 259,
   "metadata": {},
   "outputs": [
    {
     "data": {
      "text/plain": [
       "array(['neg'], dtype='<U3')"
      ]
     },
     "execution_count": 259,
     "metadata": {},
     "output_type": "execute_result"
    }
   ],
   "source": [
    "predict_new_b('This looks not terrible')"
   ]
  },
  {
   "cell_type": "code",
   "execution_count": 260,
   "metadata": {},
   "outputs": [
    {
     "data": {
      "text/plain": [
       "array(['neg'], dtype='<U3')"
      ]
     },
     "execution_count": 260,
     "metadata": {},
     "output_type": "execute_result"
    }
   ],
   "source": [
    "predict_new_b('This looks not bad')"
   ]
  },
  {
   "cell_type": "code",
   "execution_count": 163,
   "metadata": {},
   "outputs": [],
   "source": [
    "def predict_new_c(sentence):\n",
    "    sentence = preprocessing_b(sentence)#argument must be string\n",
    "    features = tf_vec_c.transform([sentence])#argument must be list\n",
    "    pred = mnb_model_c.predict(features)\n",
    "    return pred "
   ]
  },
  {
   "cell_type": "code",
   "execution_count": 165,
   "metadata": {},
   "outputs": [
    {
     "data": {
      "text/plain": [
       "array(['neg'], dtype='<U3')"
      ]
     },
     "execution_count": 165,
     "metadata": {},
     "output_type": "execute_result"
    }
   ],
   "source": [
    "predict_new_c('This looks not terrible')"
   ]
  },
  {
   "cell_type": "code",
   "execution_count": 167,
   "metadata": {},
   "outputs": [
    {
     "data": {
      "text/plain": [
       "array(['neg'], dtype='<U3')"
      ]
     },
     "execution_count": 167,
     "metadata": {},
     "output_type": "execute_result"
    }
   ],
   "source": [
    "predict_new_c('This looks not bad')"
   ]
  },
  {
   "cell_type": "markdown",
   "metadata": {},
   "source": [
    "#### it doesnt improve accuracy to put negtive words into topwords "
   ]
  },
  {
   "cell_type": "markdown",
   "metadata": {},
   "source": [
    "## Select N topwords "
   ]
  },
  {
   "cell_type": "code",
   "execution_count": 261,
   "metadata": {},
   "outputs": [],
   "source": [
    "def train_n_topwords(n, tfidf=False):\n",
    "    topwords = [fpair[0] for fpair in voca.most_common(n)]\n",
    "    if tfidf:\n",
    "        vec = TfidfVectorizer()\n",
    "    else:\n",
    "        vec = CountVectorizer()\n",
    "    vec.fit(topwords)\n",
    "    train_features = vec.transform(train_x)\n",
    "    test_features = vec.transform(test_x)\n",
    "    \n",
    "    mnb_model = MultinomialNB()\n",
    "    mnb_model.fit(train_features, train_y)\n",
    "    pred = mnb_model.predict(test_features)\n",
    "    \n",
    "    return metrics.accuracy_score(pred, test_y), mnb_model"
   ]
  },
  {
   "cell_type": "code",
   "execution_count": 263,
   "metadata": {},
   "outputs": [
    {
     "data": {
      "text/plain": [
       "(0.82504, MultinomialNB(alpha=1.0, class_prior=None, fit_prior=True))"
      ]
     },
     "execution_count": 263,
     "metadata": {},
     "output_type": "execute_result"
    }
   ],
   "source": [
    "train_n_topwords(500, tfidf=True)"
   ]
  },
  {
   "cell_type": "code",
   "execution_count": 277,
   "metadata": {},
   "outputs": [
    {
     "name": "stdout",
     "output_type": "stream",
     "text": [
      "Train and verify: |================================================>.| 97% "
     ]
    }
   ],
   "source": [
    "from my_utils import print_progress\n",
    "possible_n = [i*500 for i in range(1, 20)]\n",
    "cnt_accuracies  = []\n",
    "tfidf_accuracies  = []\n",
    "for i, n in enumerate(possible_n):\n",
    "    cnt_accuracies.append(train_n_topwords(n, tfidf=False)[0])\n",
    "    tfidf_accuracies.append(train_n_topwords(n, tfidf=True)[0])\n",
    "    print_progress(bar_length=50, decimals=0, iteration=2 * i + 1, total=2*len(possible_n), prefix='Train and verify:')\n",
    "    "
   ]
  },
  {
   "cell_type": "code",
   "execution_count": 274,
   "metadata": {},
   "outputs": [],
   "source": [
    "import matplotlib.pyplot as plt\n",
    "%matplotlib inline"
   ]
  },
  {
   "cell_type": "code",
   "execution_count": 278,
   "metadata": {},
   "outputs": [
    {
     "data": {
      "text/plain": [
       "<matplotlib.legend.Legend at 0x1a4d593128>"
      ]
     },
     "execution_count": 278,
     "metadata": {},
     "output_type": "execute_result"
    },
    {
     "data": {
      "image/png": "[encoded data removed]",
      "text/plain": [
       "<Figure size 432x288 with 1 Axes>"
      ]
     },
     "metadata": {
      "needs_background": "light"
     },
     "output_type": "display_data"
    }
   ],
   "source": [
    "plt.plot(possible_n, cnt_accuracies, label='Word Count')\n",
    "plt.plot(possible_n, tfidf_accuracies, label='Tf-idf')\n",
    "plt.legend()"
   ]
  },
  {
   "cell_type": "code",
   "execution_count": 280,
   "metadata": {},
   "outputs": [
    {
     "data": {
      "text/plain": [
       "(0.8466, 6)"
      ]
     },
     "execution_count": 280,
     "metadata": {},
     "output_type": "execute_result"
    }
   ],
   "source": [
    "max(tfidf_accuracies), tfidf_accuracies.index(max(tfidf_accuracies))"
   ]
  },
  {
   "cell_type": "code",
   "execution_count": 282,
   "metadata": {},
   "outputs": [
    {
     "data": {
      "text/plain": [
       "0.8466"
      ]
     },
     "execution_count": 282,
     "metadata": {},
     "output_type": "execute_result"
    }
   ],
   "source": [
    "train_n_topwords(3500, tfidf=True)[0]"
   ]
  },
  {
   "cell_type": "markdown",
   "metadata": {},
   "source": [
    "###  train_n_topwords 3500 give the best accuracy 0.8466"
   ]
  },
  {
   "cell_type": "markdown",
   "metadata": {},
   "source": [
    "## Save model "
   ]
  },
  {
   "cell_type": "code",
   "execution_count": 283,
   "metadata": {},
   "outputs": [],
   "source": [
    "import pickle"
   ]
  },
  {
   "cell_type": "code",
   "execution_count": 284,
   "metadata": {},
   "outputs": [],
   "source": [
    "with open('tf_vec.pkl','wb') as pkl_file:\n",
    "    pickle.dump(tf_vec, pkl_file)"
   ]
  },
  {
   "cell_type": "code",
   "execution_count": 285,
   "metadata": {},
   "outputs": [],
   "source": [
    "with open('mnb_model.pkl','wb') as pkl_file:\n",
    "    pickle.dump(mnb_model, pkl_file)"
   ]
  },
  {
   "cell_type": "code",
   "execution_count": null,
   "metadata": {},
   "outputs": [],
   "source": []
  }
 ],
 "metadata": {
  "kernelspec": {
   "display_name": "Python 3",
   "language": "python",
   "name": "python3"
  },
  "language_info": {
   "codemirror_mode": {
    "name": "ipython",
    "version": 3
   },
   "file_extension": ".py",
   "mimetype": "text/x-python",
   "name": "python",
   "nbconvert_exporter": "python",
   "pygments_lexer": "ipython3",
   "version": "3.6.8"
  }
 },
 "nbformat": 4,
 "nbformat_minor": 2
}
