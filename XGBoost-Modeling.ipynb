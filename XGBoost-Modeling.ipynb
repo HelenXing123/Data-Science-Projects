{
 "cells": [
  {
   "cell_type": "code",
   "execution_count": 102,
   "metadata": {},
   "outputs": [],
   "source": [
    "import pandas as pd\n",
    "import numpy as np\n",
    "import matplotlib.pyplot as plt\n",
    "%matplotlib inline\n",
    "import xgboost as xgb\n",
    "import seaborn as sns\n",
    "sns.set_style('darkgrid')"
   ]
  },
  {
   "cell_type": "markdown",
   "metadata": {},
   "source": [
    "### Load Data "
   ]
  },
  {
   "cell_type": "code",
   "execution_count": 103,
   "metadata": {},
   "outputs": [],
   "source": [
    "df = pd.read_csv('loan_2015_clean_update.csv')"
   ]
  },
  {
   "cell_type": "code",
   "execution_count": 104,
   "metadata": {},
   "outputs": [
    {
     "data": {
      "text/plain": [
       "(381716, 93)"
      ]
     },
     "execution_count": 104,
     "metadata": {},
     "output_type": "execute_result"
    }
   ],
   "source": [
    "df.shape"
   ]
  },
  {
   "cell_type": "code",
   "execution_count": 105,
   "metadata": {
    "scrolled": true
   },
   "outputs": [
    {
     "name": "stdout",
     "output_type": "stream",
     "text": [
      "<class 'pandas.core.frame.DataFrame'>\n",
      "RangeIndex: 381716 entries, 0 to 381715\n",
      "Data columns (total 93 columns):\n",
      "totalilhighcreditlimit        381716 non-null float64\n",
      "allutil                       19292 non-null float64\n",
      "numtl120dpd2m                 363867 non-null float64\n",
      "verificationstatusjoint       409 non-null object\n",
      "mthssincerecentbc             378203 non-null float64\n",
      "id                            381716 non-null int64\n",
      "inqlast12m                    19292 non-null float64\n",
      "emplength                     359441 non-null object\n",
      "mortacc                       381716 non-null float64\n",
      "numtl30dpd                    381716 non-null float64\n",
      "openacc6m                     19292 non-null float64\n",
      "pubrecbankruptcies            381716 non-null float64\n",
      "mthssincerecentinq            342273 non-null float64\n",
      "numrevaccts                   381715 non-null float64\n",
      "numactvrevtl                  381716 non-null float64\n",
      "dti                           381714 non-null float64\n",
      "mthssincelastdelinq           197352 non-null float64\n",
      "intrate                       381716 non-null object\n",
      "mthssincelastmajorderog       112930 non-null float64\n",
      "openacc                       381716 non-null float64\n",
      "delinqamnt                    381716 non-null float64\n",
      "mthssincerecentbcdlq          98960 non-null float64\n",
      "pcttlnvrdlq                   381716 non-null float64\n",
      "accopenpast24mths             381716 non-null float64\n",
      "annualincjoint                409 non-null float64\n",
      "homeownership                 381716 non-null object\n",
      "loanamnt                      381716 non-null float64\n",
      "subgrade                      381716 non-null object\n",
      "mosinrcnttl                   381716 non-null float64\n",
      "openrv12m                     19292 non-null float64\n",
      "accnowdelinq                  381716 non-null float64\n",
      "totalbalil                    19292 non-null float64\n",
      "mthssincercntil               18764 non-null float64\n",
      "collections12mthsexmed        381716 non-null float64\n",
      "avgcurbal                     381716 non-null float64\n",
      "desc                          42 non-null object\n",
      "delinq2yrs                    381716 non-null float64\n",
      "dtijoint                      408 non-null float64\n",
      "numoprevtl                    381716 non-null float64\n",
      "annualinc                     381716 non-null float64\n",
      "numrevtlbalgt0                381716 non-null float64\n",
      "mosinoldilacct                370293 non-null float64\n",
      "openil12m                     19292 non-null float64\n",
      "mosinrcntrevtlop              381716 non-null float64\n",
      "taxliens                      381716 non-null float64\n",
      "totalrevhilim                 381716 non-null float64\n",
      "openactil                     19292 non-null float64\n",
      "numacctsever120pd             381716 non-null float64\n",
      "percentbcgt75                 377780 non-null float64\n",
      "totalbclimit                  381716 non-null float64\n",
      "maxbalbc                      19292 non-null float64\n",
      "openrv24m                     19292 non-null float64\n",
      "totalacc                      381716 non-null float64\n",
      "mthssincelastrecord           69363 non-null float64\n",
      "ficorangehigh                 381716 non-null float64\n",
      "numtl90gdpd24m                381716 non-null float64\n",
      "numsats                       381716 non-null float64\n",
      "revolbal                      381716 non-null float64\n",
      "ficorangelow                  381716 non-null float64\n",
      "applicationtype               381716 non-null object\n",
      "totcollamt                    381716 non-null float64\n",
      "verificationstatus            381716 non-null object\n",
      "totalbalexmort                381716 non-null float64\n",
      "purpose                       381716 non-null object\n",
      "chargeoffwithin12mths         381716 non-null float64\n",
      "totalcutl                     19292 non-null float64\n",
      "inqfi                         19292 non-null float64\n",
      "grade                         381716 non-null object\n",
      "earliestcrline                381716 non-null object\n",
      "mosinoldrevtlop               381716 non-null float64\n",
      "revolutil                     381562 non-null object\n",
      "numtloppast12m                381716 non-null float64\n",
      "bcutil                        377804 non-null float64\n",
      "numiltl                       381716 non-null float64\n",
      "addrstate                     381716 non-null object\n",
      "installment                   381716 non-null float64\n",
      "term                          381716 non-null object\n",
      "inqlast6mths                  381716 non-null float64\n",
      "pubrec                        381716 non-null float64\n",
      "emptitle                      359395 non-null object\n",
      "tothicredlim                  381716 non-null float64\n",
      "totcurbal                     381716 non-null float64\n",
      "initialliststatus             381716 non-null object\n",
      "numbcsats                     381716 non-null float64\n",
      "mthssincerecentrevoldelinq    138041 non-null float64\n",
      "ilutil                        16772 non-null float64\n",
      "numactvbctl                   381716 non-null float64\n",
      "openil24m                     19292 non-null float64\n",
      "zipcode                       381716 non-null object\n",
      "numbctl                       381716 non-null float64\n",
      "bcopentobuy                   378050 non-null float64\n",
      "issued                        381716 non-null object\n",
      "loanstatus                    381716 non-null int64\n",
      "dtypes: float64(73), int64(2), object(18)\n",
      "memory usage: 270.8+ MB\n"
     ]
    }
   ],
   "source": [
    "df.info()"
   ]
  },
  {
   "cell_type": "code",
   "execution_count": 106,
   "metadata": {},
   "outputs": [],
   "source": [
    "all_null_feature = []\n",
    "\n",
    "ob_feature = ['verificationstatusjoint', 'emplength', 'intrate', 'homeownership', 'subgrade', 'desc', 'applicationtype', 'verificationstatus', 'purpose', 'grade', 'earliestcrline', 'revolutil', 'addrstate', 'term', 'emptitle', 'initialliststatus', 'zipcode', 'issued'] \n",
    "\n",
    "num_feature = ['totalilhighcreditlimit', 'allutil', 'numtl120dpd2m', 'mthssincerecentbc', 'id', 'inqlast12m', 'mortacc', 'numtl30dpd', 'openacc6m', 'pubrecbankruptcies', 'mthssincerecentinq', 'numrevaccts', 'numactvrevtl', 'dti', 'mthssincelastdelinq', 'mthssincelastmajorderog', 'openacc', 'delinqamnt', 'mthssincerecentbcdlq', 'pcttlnvrdlq', 'accopenpast24mths', 'annualincjoint', 'loanamnt', 'mosinrcnttl', 'openrv12m', 'accnowdelinq', 'totalbalil', 'mthssincercntil', 'collections12mthsexmed', 'avgcurbal', 'delinq2yrs', 'dtijoint', 'numoprevtl', 'annualinc', 'numrevtlbalgt0', 'mosinoldilacct', 'openil12m', 'mosinrcntrevtlop', 'taxliens', 'totalrevhilim', 'openactil', 'numacctsever120pd', 'percentbcgt75', 'totalbclimit', 'maxbalbc', 'openrv24m', 'totalacc', 'mthssincelastrecord', 'ficorangehigh', 'numtl90gdpd24m', 'numsats', 'revolbal', 'ficorangelow', 'totcollamt', 'totalbalexmort', 'chargeoffwithin12mths', 'totalcutl', 'inqfi', 'mosinoldrevtlop', 'numtloppast12m', 'bcutil', 'numiltl', 'installment', 'inqlast6mths', 'pubrec', 'tothicredlim', 'totcurbal', 'numbcsats', 'mthssincerecentrevoldelinq', 'ilutil', 'numactvbctl', 'openil24m', 'numbctl', 'bcopentobuy', 'loanstatus']"
   ]
  },
  {
   "cell_type": "code",
   "execution_count": 107,
   "metadata": {},
   "outputs": [
    {
     "name": "stdout",
     "output_type": "stream",
     "text": [
      "all_null_feature length: 0\n",
      "ob_feature: 18\n",
      "num_feature: 75\n"
     ]
    }
   ],
   "source": [
    "print('all_null_feature length:', len(all_null_feature))\n",
    "print('ob_feature:', len(ob_feature))\n",
    "print('num_feature:', len(num_feature))"
   ]
  },
  {
   "cell_type": "code",
   "execution_count": 108,
   "metadata": {},
   "outputs": [
    {
     "data": {
      "text/plain": [
       "0    304622\n",
       "1     77094\n",
       "Name: loanstatus, dtype: int64"
      ]
     },
     "execution_count": 108,
     "metadata": {},
     "output_type": "execute_result"
    }
   ],
   "source": [
    "df['loanstatus'].value_counts()"
   ]
  },
  {
   "cell_type": "code",
   "execution_count": 109,
   "metadata": {},
   "outputs": [
    {
     "name": "stdout",
     "output_type": "stream",
     "text": [
      "ob_feature: 16\n"
     ]
    }
   ],
   "source": [
    "ob_feature.remove('applicationtype')# 99.9% are Individual\n",
    "ob_feature.remove('desc') #'desc' is similar to purpose\n",
    "num_feature.remove('id')\n",
    "print('ob_feature:', len(ob_feature))"
   ]
  },
  {
   "cell_type": "code",
   "execution_count": 110,
   "metadata": {},
   "outputs": [
    {
     "data": {
      "text/plain": [
       "90"
      ]
     },
     "execution_count": 110,
     "metadata": {},
     "output_type": "execute_result"
    }
   ],
   "source": [
    "select_feature = ob_feature + num_feature\n",
    "len(select_feature)"
   ]
  },
  {
   "cell_type": "markdown",
   "metadata": {},
   "source": [
    "#### Only use the term of 36 month as they are already due now and the results are suposed to be fully paid or  charged off"
   ]
  },
  {
   "cell_type": "code",
   "execution_count": 111,
   "metadata": {},
   "outputs": [
    {
     "data": {
      "text/plain": [
       " 36 months    283167\n",
       " 60 months     98549\n",
       "Name: term, dtype: int64"
      ]
     },
     "execution_count": 111,
     "metadata": {},
     "output_type": "execute_result"
    }
   ],
   "source": [
    "df['term'].value_counts()"
   ]
  },
  {
   "cell_type": "code",
   "execution_count": 112,
   "metadata": {},
   "outputs": [],
   "source": [
    "df = df.query('term==\" 36 months\"')"
   ]
  },
  {
   "cell_type": "code",
   "execution_count": 113,
   "metadata": {},
   "outputs": [
    {
     "data": {
      "text/plain": [
       "(283167, 93)"
      ]
     },
     "execution_count": 113,
     "metadata": {},
     "output_type": "execute_result"
    }
   ],
   "source": [
    "df.shape"
   ]
  },
  {
   "cell_type": "code",
   "execution_count": 114,
   "metadata": {},
   "outputs": [],
   "source": [
    "ob_feature.remove('term')"
   ]
  },
  {
   "cell_type": "code",
   "execution_count": 115,
   "metadata": {},
   "outputs": [
    {
     "data": {
      "text/plain": [
       "89"
      ]
     },
     "execution_count": 115,
     "metadata": {},
     "output_type": "execute_result"
    }
   ],
   "source": [
    "select_feature = ob_feature + num_feature\n",
    "len(select_feature)"
   ]
  },
  {
   "cell_type": "markdown",
   "metadata": {},
   "source": [
    "### Label Target "
   ]
  },
  {
   "cell_type": "code",
   "execution_count": 116,
   "metadata": {},
   "outputs": [
    {
     "name": "stdout",
     "output_type": "stream",
     "text": [
      "0    240991\n",
      "1     42176\n",
      "Name: loanstatus, dtype: int64\n",
      "0    0.851056\n",
      "1    0.148944\n",
      "Name: loanstatus, dtype: float64\n"
     ]
    }
   ],
   "source": [
    "print(df['loanstatus'].value_counts())\n",
    "print(df['loanstatus'].value_counts(normalize=True)) \n",
    "#1: charged off(more than 4 months late)   2: fully paid"
   ]
  },
  {
   "cell_type": "markdown",
   "metadata": {},
   "source": [
    "### Split into training and testing data by 'issued' "
   ]
  },
  {
   "cell_type": "code",
   "execution_count": 99,
   "metadata": {},
   "outputs": [
    {
     "data": {
      "text/plain": [
       "array(['Dec-2015', 'Nov-2015', 'Oct-2015', 'Sep-2015', 'Aug-2015',\n",
       "       'Jul-2015', 'Jun-2015', 'May-2015', 'Apr-2015', 'Mar-2015',\n",
       "       'Feb-2015', 'Jan-2015'], dtype=object)"
      ]
     },
     "execution_count": 99,
     "metadata": {},
     "output_type": "execute_result"
    }
   ],
   "source": [
    "issued = df['issued'].unique()\n",
    "issued"
   ]
  },
  {
   "cell_type": "code",
   "execution_count": 117,
   "metadata": {},
   "outputs": [
    {
     "data": {
      "text/plain": [
       "(283165, 90)"
      ]
     },
     "execution_count": 117,
     "metadata": {},
     "output_type": "execute_result"
    }
   ],
   "source": [
    "df = df[select_feature+['id']][:-2]\n",
    "df.shape\n",
    "# delete the last two rows as they are all null"
   ]
  },
  {
   "cell_type": "code",
   "execution_count": 118,
   "metadata": {},
   "outputs": [
    {
     "data": {
      "text/plain": [
       "1    252828\n",
       "0     30337\n",
       "Name: train_flg, dtype: int64"
      ]
     },
     "execution_count": 118,
     "metadata": {},
     "output_type": "execute_result"
    }
   ],
   "source": [
    "df['train_flg'] = df.issued.apply(lambda x: 0 if x in issued[:1] else 1)\n",
    "df.train_flg.value_counts()\n",
    "# Dec:1 as testing data   others: 0 as traing data"
   ]
  },
  {
   "cell_type": "markdown",
   "metadata": {},
   "source": [
    "## Feature Engineering & cleaning "
   ]
  },
  {
   "cell_type": "code",
   "execution_count": 119,
   "metadata": {},
   "outputs": [],
   "source": [
    "# convert all ob_feature into numerical feature"
   ]
  },
  {
   "cell_type": "code",
   "execution_count": 120,
   "metadata": {},
   "outputs": [
    {
     "data": {
      "text/html": [
       "<div>\n",
       "<style scoped>\n",
       "    .dataframe tbody tr th:only-of-type {\n",
       "        vertical-align: middle;\n",
       "    }\n",
       "\n",
       "    .dataframe tbody tr th {\n",
       "        vertical-align: top;\n",
       "    }\n",
       "\n",
       "    .dataframe thead th {\n",
       "        text-align: right;\n",
       "    }\n",
       "</style>\n",
       "<table border=\"1\" class=\"dataframe\">\n",
       "  <thead>\n",
       "    <tr style=\"text-align: right;\">\n",
       "      <th></th>\n",
       "      <th>verificationstatusjoint</th>\n",
       "      <th>emplength</th>\n",
       "      <th>intrate</th>\n",
       "      <th>homeownership</th>\n",
       "      <th>subgrade</th>\n",
       "      <th>verificationstatus</th>\n",
       "      <th>purpose</th>\n",
       "      <th>grade</th>\n",
       "      <th>earliestcrline</th>\n",
       "      <th>revolutil</th>\n",
       "      <th>...</th>\n",
       "      <th>numbcsats</th>\n",
       "      <th>mthssincerecentrevoldelinq</th>\n",
       "      <th>ilutil</th>\n",
       "      <th>numactvbctl</th>\n",
       "      <th>openil24m</th>\n",
       "      <th>numbctl</th>\n",
       "      <th>bcopentobuy</th>\n",
       "      <th>loanstatus</th>\n",
       "      <th>id</th>\n",
       "      <th>train_flg</th>\n",
       "    </tr>\n",
       "  </thead>\n",
       "  <tbody>\n",
       "    <tr>\n",
       "      <th>0</th>\n",
       "      <td>NaN</td>\n",
       "      <td>10+ years</td>\n",
       "      <td>11.99%</td>\n",
       "      <td>MORTGAGE</td>\n",
       "      <td>C1</td>\n",
       "      <td>Not Verified</td>\n",
       "      <td>small_business</td>\n",
       "      <td>C</td>\n",
       "      <td>Dec-1999</td>\n",
       "      <td>19.2%</td>\n",
       "      <td>...</td>\n",
       "      <td>13.0</td>\n",
       "      <td>6.0</td>\n",
       "      <td>73.0</td>\n",
       "      <td>5.0</td>\n",
       "      <td>1.0</td>\n",
       "      <td>17.0</td>\n",
       "      <td>57830.0</td>\n",
       "      <td>0</td>\n",
       "      <td>68355089</td>\n",
       "      <td>0</td>\n",
       "    </tr>\n",
       "    <tr>\n",
       "      <th>1</th>\n",
       "      <td>NaN</td>\n",
       "      <td>10+ years</td>\n",
       "      <td>13.99%</td>\n",
       "      <td>MORTGAGE</td>\n",
       "      <td>C4</td>\n",
       "      <td>Not Verified</td>\n",
       "      <td>debt_consolidation</td>\n",
       "      <td>C</td>\n",
       "      <td>Aug-2003</td>\n",
       "      <td>29.7%</td>\n",
       "      <td>...</td>\n",
       "      <td>2.0</td>\n",
       "      <td>69.0</td>\n",
       "      <td>36.0</td>\n",
       "      <td>2.0</td>\n",
       "      <td>1.0</td>\n",
       "      <td>5.0</td>\n",
       "      <td>1506.0</td>\n",
       "      <td>0</td>\n",
       "      <td>68407277</td>\n",
       "      <td>0</td>\n",
       "    </tr>\n",
       "    <tr>\n",
       "      <th>4</th>\n",
       "      <td>NaN</td>\n",
       "      <td>4 years</td>\n",
       "      <td>13.44%</td>\n",
       "      <td>RENT</td>\n",
       "      <td>C3</td>\n",
       "      <td>Source Verified</td>\n",
       "      <td>debt_consolidation</td>\n",
       "      <td>C</td>\n",
       "      <td>Oct-1987</td>\n",
       "      <td>68.4%</td>\n",
       "      <td>...</td>\n",
       "      <td>2.0</td>\n",
       "      <td>NaN</td>\n",
       "      <td>99.0</td>\n",
       "      <td>2.0</td>\n",
       "      <td>0.0</td>\n",
       "      <td>2.0</td>\n",
       "      <td>844.0</td>\n",
       "      <td>0</td>\n",
       "      <td>68426831</td>\n",
       "      <td>0</td>\n",
       "    </tr>\n",
       "    <tr>\n",
       "      <th>5</th>\n",
       "      <td>NaN</td>\n",
       "      <td>10+ years</td>\n",
       "      <td>9.17%</td>\n",
       "      <td>MORTGAGE</td>\n",
       "      <td>B2</td>\n",
       "      <td>Not Verified</td>\n",
       "      <td>debt_consolidation</td>\n",
       "      <td>B</td>\n",
       "      <td>Jun-1990</td>\n",
       "      <td>84.5%</td>\n",
       "      <td>...</td>\n",
       "      <td>4.0</td>\n",
       "      <td>NaN</td>\n",
       "      <td>63.0</td>\n",
       "      <td>4.0</td>\n",
       "      <td>2.0</td>\n",
       "      <td>5.0</td>\n",
       "      <td>0.0</td>\n",
       "      <td>0</td>\n",
       "      <td>68476668</td>\n",
       "      <td>0</td>\n",
       "    </tr>\n",
       "    <tr>\n",
       "      <th>6</th>\n",
       "      <td>NaN</td>\n",
       "      <td>3 years</td>\n",
       "      <td>12.88%</td>\n",
       "      <td>MORTGAGE</td>\n",
       "      <td>C2</td>\n",
       "      <td>Not Verified</td>\n",
       "      <td>other</td>\n",
       "      <td>C</td>\n",
       "      <td>Jun-1996</td>\n",
       "      <td>67.2%</td>\n",
       "      <td>...</td>\n",
       "      <td>8.0</td>\n",
       "      <td>NaN</td>\n",
       "      <td>67.0</td>\n",
       "      <td>7.0</td>\n",
       "      <td>2.0</td>\n",
       "      <td>11.0</td>\n",
       "      <td>7940.0</td>\n",
       "      <td>0</td>\n",
       "      <td>68338832</td>\n",
       "      <td>0</td>\n",
       "    </tr>\n",
       "  </tbody>\n",
       "</table>\n",
       "<p>5 rows × 91 columns</p>\n",
       "</div>"
      ],
      "text/plain": [
       "  verificationstatusjoint  emplength  intrate homeownership subgrade  \\\n",
       "0                     NaN  10+ years   11.99%      MORTGAGE       C1   \n",
       "1                     NaN  10+ years   13.99%      MORTGAGE       C4   \n",
       "4                     NaN    4 years   13.44%          RENT       C3   \n",
       "5                     NaN  10+ years    9.17%      MORTGAGE       B2   \n",
       "6                     NaN    3 years   12.88%      MORTGAGE       C2   \n",
       "\n",
       "  verificationstatus             purpose grade earliestcrline revolutil  ...  \\\n",
       "0       Not Verified      small_business     C       Dec-1999     19.2%  ...   \n",
       "1       Not Verified  debt_consolidation     C       Aug-2003     29.7%  ...   \n",
       "4    Source Verified  debt_consolidation     C       Oct-1987     68.4%  ...   \n",
       "5       Not Verified  debt_consolidation     B       Jun-1990     84.5%  ...   \n",
       "6       Not Verified               other     C       Jun-1996     67.2%  ...   \n",
       "\n",
       "  numbcsats mthssincerecentrevoldelinq ilutil numactvbctl openil24m  numbctl  \\\n",
       "0      13.0                        6.0   73.0         5.0       1.0     17.0   \n",
       "1       2.0                       69.0   36.0         2.0       1.0      5.0   \n",
       "4       2.0                        NaN   99.0         2.0       0.0      2.0   \n",
       "5       4.0                        NaN   63.0         4.0       2.0      5.0   \n",
       "6       8.0                        NaN   67.0         7.0       2.0     11.0   \n",
       "\n",
       "   bcopentobuy  loanstatus        id  train_flg  \n",
       "0      57830.0           0  68355089          0  \n",
       "1       1506.0           0  68407277          0  \n",
       "4        844.0           0  68426831          0  \n",
       "5          0.0           0  68476668          0  \n",
       "6       7940.0           0  68338832          0  \n",
       "\n",
       "[5 rows x 91 columns]"
      ]
     },
     "execution_count": 120,
     "metadata": {},
     "output_type": "execute_result"
    }
   ],
   "source": [
    "df.head()"
   ]
  },
  {
   "cell_type": "code",
   "execution_count": 121,
   "metadata": {},
   "outputs": [],
   "source": [
    "# datatime to numerical feature"
   ]
  },
  {
   "cell_type": "code",
   "execution_count": 122,
   "metadata": {},
   "outputs": [
    {
     "data": {
      "text/plain": [
       "array(['Dec-1999', 'Aug-2003', 'Oct-1987', 'Jun-1990', 'Jun-1996',\n",
       "       'Apr-2002', 'Nov-1994', 'Feb-1999', 'May-1984', 'Mar-2005',\n",
       "       'Dec-2001', 'May-2000', 'Oct-2011', 'May-1991', 'May-2001',\n",
       "       'Dec-1985', 'Jul-2011', 'Jun-2002', 'May-1994', 'Feb-2002',\n",
       "       'Aug-2004', 'Oct-1996', 'Jun-2007', 'Jul-2001', 'May-1992',\n",
       "       'Jul-2004', 'Jan-2001', 'Sep-2004', 'Jun-2005', 'Nov-2001',\n",
       "       'Sep-2006', 'Feb-2004', 'Oct-1998', 'Aug-1987', 'Apr-2001',\n",
       "       'Aug-1997', 'Jan-1999', 'Feb-1996', 'Dec-1987', 'Sep-1994',\n",
       "       'Nov-2002', 'Feb-2012', 'Oct-2006', 'Apr-1993', 'Oct-2004',\n",
       "       'Apr-2005', 'Dec-2002', 'Jan-1998', 'Jun-2001', 'Sep-2007',\n",
       "       'Mar-2001', 'Apr-2003', 'May-2008', 'Apr-1994', 'Jan-2002',\n",
       "       'May-2002', 'Nov-2000', 'Nov-2009', 'Sep-2003', 'Dec-1997',\n",
       "       'Aug-2008', 'Aug-2009', 'May-2006', 'May-1985', 'Jun-1999',\n",
       "       'Sep-2002', 'Feb-2000', 'Nov-2003', 'Jun-2006', 'Aug-1974',\n",
       "       'Feb-2010', 'Nov-2005', 'Mar-2004', 'Oct-2008', 'Oct-1991',\n",
       "       'Apr-2006', 'Aug-1998', 'Nov-2004', 'Dec-2006', 'Jan-2008',\n",
       "       'Jan-1993', 'Jun-1995', 'Nov-1991', 'Jul-1995', 'Oct-2000',\n",
       "       'May-1998', 'Jun-1997', 'Aug-2011', 'Dec-2000', 'Apr-2004',\n",
       "       'May-2012', 'Sep-1984', 'Sep-2010', 'Mar-2000', 'Jul-1993',\n",
       "       'Nov-1999', 'Dec-2009', 'Jul-1998', 'Aug-2001', 'Jul-1994',\n",
       "       'Oct-1993', 'Jun-1986', 'Sep-2000', 'Sep-1990', 'Mar-1997',\n",
       "       'May-1993', 'Nov-1985', 'Apr-1992', 'Aug-2002', 'Sep-2009',\n",
       "       'Mar-2009', 'Dec-1977', 'Jul-1996', 'Apr-1983', 'Aug-1996',\n",
       "       'Jan-1986', 'Mar-1996', 'Apr-1991', 'May-1999', 'Nov-1983',\n",
       "       'Sep-1987', 'Mar-2012', 'Nov-1996', 'Dec-2004', 'Jul-2003',\n",
       "       'Jul-2000', 'Apr-1989', 'Nov-1987', 'Oct-1979', 'May-2009',\n",
       "       'Aug-2007', 'Feb-2008', 'Dec-2005', 'Jan-1997', 'Jul-2007',\n",
       "       'Oct-1999', 'Dec-2007', 'Apr-1988', 'May-1996', 'May-2003',\n",
       "       'Jul-1984', 'Sep-1995', 'Mar-2002', 'Dec-2003', 'Jun-1992',\n",
       "       'Apr-2011', 'Nov-1984', 'Mar-2003', 'Jul-1987', 'Jan-1988',\n",
       "       'Oct-2007', 'Aug-1995', 'Feb-1997', 'Feb-1995', 'Aug-1999',\n",
       "       'Feb-2005', 'Dec-1996', 'Feb-1987', 'Mar-1980', 'Oct-2003',\n",
       "       'Apr-1985', 'Nov-1998', 'Jan-2003', 'Mar-1991', 'Sep-1993',\n",
       "       'Nov-2011', 'Nov-1988', 'Jun-1987', 'May-1988', 'Jun-1998',\n",
       "       'Sep-1991', 'Nov-2006', 'May-1982', 'Jul-2005', 'Aug-2010',\n",
       "       'Aug-2005', 'Mar-1998', 'Aug-1985', 'Aug-2000', 'Nov-2007',\n",
       "       'Dec-2011', 'Oct-2001', 'Sep-1988', 'Oct-1985', 'Mar-2007',\n",
       "       'Jun-2003', 'Feb-1979', 'Apr-1999', 'Apr-1990', 'Feb-1990',\n",
       "       'Jul-2009', 'Jul-1992', 'Jul-1999', 'Jan-1994', 'Dec-1986',\n",
       "       'Feb-1998', 'Jan-2011', 'Jun-1991', 'Oct-2005', 'Feb-2003',\n",
       "       'Sep-1989', 'Jun-2008', 'Dec-1983', 'Jul-1968', 'Jan-2006',\n",
       "       'Mar-1989', 'Nov-1993', 'Apr-2007', 'Dec-1993', 'Feb-2009',\n",
       "       'May-1981', 'Apr-2000', 'Oct-2002', 'Mar-1990', 'Jan-1982',\n",
       "       'Jun-2010', 'Jan-2007', 'Apr-1998', 'Mar-1994', 'May-1995',\n",
       "       'Feb-1984', 'May-1997', 'May-1980', 'Nov-1992', 'Mar-2006',\n",
       "       'Mar-2008', 'Nov-1997', 'Mar-1978', 'Apr-1987', 'Nov-1990',\n",
       "       'Oct-1994', 'Feb-1994', 'Nov-2012', 'Aug-1988', 'Jun-1985',\n",
       "       'May-1986', 'Feb-1982', 'Jan-2004', 'Sep-1997', 'Dec-1989',\n",
       "       'Jan-1990', 'Sep-2001', 'Dec-1982', 'Jul-2012', 'Feb-2007',\n",
       "       'Jul-1985', 'Jul-1990', 'Mar-2011', 'Jan-1992', 'May-1990',\n",
       "       'Jul-2008', 'Nov-1986', 'Sep-1976', 'Nov-1989', 'Feb-1992',\n",
       "       'Oct-1990', 'May-1987', 'Dec-2010', 'Nov-1995', 'May-2005',\n",
       "       'Oct-1983', 'Jan-1989', 'Jul-2006', 'Apr-1976', 'Apr-1996',\n",
       "       'Apr-1975', 'Jul-1977', 'Apr-1995', 'Jul-1982', 'Feb-2001',\n",
       "       'Nov-1978', 'Dec-1988', 'Aug-1993', 'May-2004', 'Sep-1999',\n",
       "       'Jan-2005', 'Oct-1997', 'Aug-1983', 'Jan-1972', 'Oct-1995',\n",
       "       'Jul-1988', 'Jun-2004', 'Oct-1978', 'Sep-1992', 'Aug-1991',\n",
       "       'Sep-1983', 'Mar-1986', 'Jan-1987', 'Apr-1977', 'May-2011',\n",
       "       'May-2010', 'Jun-1994', 'Oct-1988', 'Oct-2009', 'Jun-1989',\n",
       "       'Dec-1994', 'Jan-1977', 'Jun-2009', 'Jul-1997', 'Sep-1998',\n",
       "       'Jul-1974', 'Jun-1983', 'Mar-1979', 'Sep-1975', 'Oct-1989',\n",
       "       'Jul-2002', 'Feb-1985', 'Mar-1999', 'Feb-1991', 'Feb-2011',\n",
       "       'Mar-1988', 'Dec-1995', 'Jun-2000', 'Aug-1989', 'Aug-1980',\n",
       "       'Feb-1983', 'Sep-2011', 'Mar-1981', 'Dec-1992', 'Jan-1979',\n",
       "       'Jun-1978', 'Oct-1992', 'Dec-1990', 'Aug-2012', 'Oct-1986',\n",
       "       'Dec-2008', 'Oct-1982', 'Sep-1978', 'Aug-1990', 'Jun-2012',\n",
       "       'Feb-2006', 'Oct-2012', 'Jul-1989', 'Apr-1997', 'Sep-1981',\n",
       "       'Feb-1989', 'Aug-2006', 'Aug-1992', 'Jul-1986', 'Apr-1969',\n",
       "       'Jun-1969', 'Jul-2010', 'Oct-1980', 'May-1983', 'Jul-1978',\n",
       "       'Dec-1975', 'Jan-1995', 'Aug-1994', 'Sep-2005', 'Aug-1975',\n",
       "       'Oct-1973', 'Jun-1984', 'Oct-1984', 'Jun-1988', 'Dec-1998',\n",
       "       'Jan-2012', 'Apr-1970', 'Mar-1972', 'Apr-2010', 'Jan-2000',\n",
       "       'Jul-1983', 'Apr-1984', 'Oct-1974', 'Mar-1992', 'Jun-2011',\n",
       "       'Mar-2010', 'Mar-1982', 'Jan-1981', 'Jan-2009', 'Mar-1995',\n",
       "       'Mar-1993', 'Apr-2008', 'Mar-1984', 'Dec-1980', 'May-1989',\n",
       "       'Nov-2010', 'May-1978', 'Jul-1991', 'Apr-2012', 'Dec-1984',\n",
       "       'Sep-2012', 'Aug-1981', 'Dec-1991', 'Apr-2009', 'Sep-1996',\n",
       "       'Apr-1986', 'Sep-2008', 'Sep-1982', 'Jan-2010', 'Aug-1978',\n",
       "       'Aug-1984', 'Jan-1974', 'Jan-1996', 'Oct-2010', 'Sep-1979',\n",
       "       'Jan-1991', 'Sep-1964', 'Apr-1973', 'Aug-1977', 'Jan-1985',\n",
       "       'Sep-1985', 'Apr-1982', 'Mar-1985', 'May-1966', 'Jun-1975',\n",
       "       'Mar-1987', 'Mar-1974', 'Dec-1978', 'Nov-2008', 'Jan-1983',\n",
       "       'Oct-1975', 'Sep-1980', 'Aug-1986', 'Jan-1984', 'Jun-1979',\n",
       "       'Jul-1981', 'Oct-1971', 'Mar-1973', 'May-2007', 'Nov-1979',\n",
       "       'Sep-1986', 'Nov-1982', 'Jun-1993', 'Feb-1988', 'Feb-1986',\n",
       "       'Mar-1977', 'Dec-1981', 'Aug-1982', 'Jun-1974', 'Jan-1976',\n",
       "       'Feb-1980', 'Jun-1980', 'Feb-1993', 'Jun-1981', 'Oct-1981',\n",
       "       'Jun-1973', 'Apr-1965', 'Nov-1980', 'Sep-1962', 'Nov-1974',\n",
       "       'Jun-1977', 'Jul-1979', 'May-1975', 'Nov-1973', 'Jul-1976',\n",
       "       'Jul-1980', 'Jan-1971', 'Jun-1982', 'Nov-1981', 'Dec-1976',\n",
       "       'Jun-1970', 'Feb-1976', 'Oct-1976', 'May-1979', 'Nov-1977',\n",
       "       'Mar-1983', 'Jan-1973', 'Feb-1978', 'Jan-1968', 'Sep-1971',\n",
       "       'Oct-1977', 'Jan-1980', 'Aug-1973', 'Apr-1974', 'Aug-1969',\n",
       "       'Aug-1979', 'Sep-1965', 'Nov-1976', 'Sep-1974', 'May-1977',\n",
       "       'Jan-1960', 'Feb-1973', 'May-1976', 'Aug-1967', 'Apr-1978',\n",
       "       'Feb-1981', 'Jan-1967', 'Nov-1972', 'Oct-1970', 'Apr-1972',\n",
       "       'Mar-1970', 'Nov-1971', 'Nov-1965', 'Jul-1969', 'Feb-1968',\n",
       "       'Aug-1976', 'Apr-1979', 'Nov-1975', 'Jan-1975', 'May-1974',\n",
       "       'Jan-1963', 'Dec-1965', 'Jun-1972', 'Jan-1964', 'May-1971',\n",
       "       'Dec-1973', 'Aug-1972', 'May-1970', 'Jan-1969', 'Sep-1972',\n",
       "       'Feb-1969', 'Apr-1980', 'Mar-1968', 'Feb-1977', 'Feb-1972',\n",
       "       'Dec-1966', 'Dec-1979', 'May-1967', 'Dec-1970', 'Oct-1966',\n",
       "       'Mar-1976', 'May-1972', 'Nov-1968', 'Feb-1965', 'Dec-1961',\n",
       "       'Sep-1977', 'Sep-1970', 'Feb-1975', 'Jun-1971', 'Jun-1968',\n",
       "       'Apr-1966', 'Jan-1978', 'Jan-1961', 'Dec-1962', 'May-1961',\n",
       "       'Feb-1970', 'Aug-1971', 'Mar-1967', 'Jan-1959', 'Jul-1975',\n",
       "       'Mar-1963', 'Jul-1963', 'Mar-1969', 'Apr-1967', 'Dec-1974',\n",
       "       'Dec-1964', 'Mar-1975', 'Jun-1976', 'Sep-1973', 'Oct-1968',\n",
       "       'Oct-1958', 'Dec-1968', 'Apr-1981', 'Feb-1974', 'Feb-1959',\n",
       "       'May-1969', 'Jan-1950', 'Aug-1968', 'Sep-1966', 'Oct-1959',\n",
       "       'Jun-1965', 'Feb-1961', 'Oct-1962', 'Oct-1964', 'Sep-1969',\n",
       "       'Sep-1961', 'Nov-1967', 'Nov-1970', 'Dec-1963', 'Oct-1972',\n",
       "       'Jul-1973', 'Mar-1962', 'May-1973', 'Jul-1970', 'Jan-1956',\n",
       "       'May-1965', 'Jan-1965', 'Jun-1966', 'Oct-1969', 'Jun-1955',\n",
       "       'May-1964', 'Feb-1967', 'Sep-1967', 'Aug-1966', 'Feb-1964',\n",
       "       'Nov-1969', 'Dec-1967', 'Apr-1971', 'May-1968', 'Dec-1972',\n",
       "       'Jul-1967', 'Jul-1966', 'Mar-1971', 'Dec-1969', 'Jan-1966',\n",
       "       'Dec-1971', 'Jul-1965', 'Jun-1963', 'Oct-1965', 'Jul-1972',\n",
       "       'Feb-1971', 'Oct-1963', 'Aug-1970', 'Aug-1964', 'Nov-1963',\n",
       "       'Apr-1963', 'Nov-1966', 'Feb-1966', 'Jan-1970', 'Apr-1968',\n",
       "       'Sep-1953', 'Sep-1963', 'Apr-1955', 'Jun-1967', 'Aug-1959',\n",
       "       'Jun-1958', 'Nov-1956', 'Jul-1959', 'Jul-1971', 'Jan-1955',\n",
       "       'Mar-1966', 'Mar-1958', 'Jan-1958', 'Apr-1962', 'Sep-1968',\n",
       "       'Apr-1960', 'Jun-1964', 'May-1960', 'Nov-1962', 'Oct-1967',\n",
       "       'Aug-1960', 'Jul-1962', 'May-1955', 'Mar-1960', 'Jan-1962',\n",
       "       'Aug-1951', 'Aug-1965', 'Sep-1959', 'Apr-1964', 'Mar-1964',\n",
       "       'Jun-1957', 'Nov-1958', 'Nov-1964', 'Mar-1965', 'Mar-1961',\n",
       "       'Jan-1957', 'May-1962', 'Aug-1961', 'Dec-1956', 'Aug-1963',\n",
       "       'Jul-1964', 'Mar-1955', 'Jul-1958', 'May-1959', 'Jan-1952',\n",
       "       'Sep-1960', 'Jul-1951', 'Dec-1960', 'Aug-1950', 'Aug-1955',\n",
       "       'Jun-1959', 'Oct-1961', 'Apr-1958', 'Jan-1954', 'Jan-1951',\n",
       "       'Jan-1944'], dtype=object)"
      ]
     },
     "execution_count": 122,
     "metadata": {},
     "output_type": "execute_result"
    }
   ],
   "source": [
    "df.earliestcrline.unique()"
   ]
  },
  {
   "cell_type": "code",
   "execution_count": 123,
   "metadata": {},
   "outputs": [],
   "source": [
    "# convert to number of months to Dec 2015"
   ]
  },
  {
   "cell_type": "code",
   "execution_count": 124,
   "metadata": {},
   "outputs": [],
   "source": [
    "cl_month = df.earliestcrline.apply(lambda x: x.split('-')[0])\n",
    "cl_year = df.earliestcrline.apply(lambda x: x.split('-')[1])"
   ]
  },
  {
   "cell_type": "code",
   "execution_count": 125,
   "metadata": {},
   "outputs": [
    {
     "name": "stdout",
     "output_type": "stream",
     "text": [
      "['Dec' 'Aug' 'Oct' 'Jun' 'Apr' 'Nov' 'Feb' 'May' 'Mar' 'Jul' 'Jan' 'Sep']\n",
      "['1999' '2003' '1987' '1990' '1996' '2002' '1994' '1984' '2005' '2001'\n",
      " '2000' '2011' '1991' '1985' '2004' '2007' '1992' '2006' '1998' '1997'\n",
      " '2012' '1993' '2008' '2009' '1974' '2010' '1995' '1986' '1977' '1983'\n",
      " '1989' '1979' '1988' '1980' '1982' '1968' '1981' '1978' '1976' '1975'\n",
      " '1972' '1969' '1973' '1970' '1964' '1966' '1971' '1965' '1962' '1960'\n",
      " '1967' '1963' '1961' '1959' '1958' '1950' '1956' '1955' '1953' '1951'\n",
      " '1957' '1952' '1954' '1944']\n"
     ]
    }
   ],
   "source": [
    "print(cl_month.unique())\n",
    "print(cl_year.unique())"
   ]
  },
  {
   "cell_type": "code",
   "execution_count": 126,
   "metadata": {
    "scrolled": true
   },
   "outputs": [
    {
     "data": {
      "text/plain": [
       "['Apr',\n",
       " 'Aug',\n",
       " 'Dec',\n",
       " 'Feb',\n",
       " 'Jan',\n",
       " 'Jul',\n",
       " 'Jun',\n",
       " 'Mar',\n",
       " 'May',\n",
       " 'Nov',\n",
       " 'Oct',\n",
       " 'Sep']"
      ]
     },
     "execution_count": 126,
     "metadata": {},
     "output_type": "execute_result"
    }
   ],
   "source": [
    "sorted(cl_month.unique())"
   ]
  },
  {
   "cell_type": "code",
   "execution_count": 127,
   "metadata": {},
   "outputs": [],
   "source": [
    "dic_month = {'Dec':0, 'Nov':1, 'Oct':2,'Sep':3,'Aug':4,'Jul':5,'Jun':6,'May':7,'Apr':8,'Mar':9,'Feb':10,'Jan':11}"
   ]
  },
  {
   "cell_type": "code",
   "execution_count": 128,
   "metadata": {},
   "outputs": [
    {
     "data": {
      "text/plain": [
       "0    192\n",
       "1    148\n",
       "4    338\n",
       "5    306\n",
       "6    234\n",
       "Name: earliestcrline_month, dtype: int64"
      ]
     },
     "execution_count": 128,
     "metadata": {},
     "output_type": "execute_result"
    }
   ],
   "source": [
    "df['earliestcrline_month'] = df.earliestcrline.apply(lambda x: (2015-int(x.split('-')[1]))*12+dic_month[x.split('-')[0]])\n",
    "df.earliestcrline_month[:5]"
   ]
  },
  {
   "cell_type": "code",
   "execution_count": 129,
   "metadata": {},
   "outputs": [],
   "source": [
    "ob_feature.remove('earliestcrline')\n",
    "num_feature.append('earliestcrline_month')"
   ]
  },
  {
   "cell_type": "code",
   "execution_count": 130,
   "metadata": {},
   "outputs": [
    {
     "data": {
      "text/plain": [
       "89"
      ]
     },
     "execution_count": 130,
     "metadata": {},
     "output_type": "execute_result"
    }
   ],
   "source": [
    "select_feature = ob_feature + num_feature\n",
    "len(select_feature)"
   ]
  },
  {
   "cell_type": "code",
   "execution_count": 131,
   "metadata": {},
   "outputs": [
    {
     "data": {
      "text/plain": [
       "dtype('int64')"
      ]
     },
     "execution_count": 131,
     "metadata": {},
     "output_type": "execute_result"
    }
   ],
   "source": [
    "df.earliestcrline_month.dtype"
   ]
  },
  {
   "cell_type": "markdown",
   "metadata": {},
   "source": [
    "### Convert \"emplength\" feature to numerical feature"
   ]
  },
  {
   "cell_type": "code",
   "execution_count": 132,
   "metadata": {},
   "outputs": [
    {
     "name": "stdout",
     "output_type": "stream",
     "text": [
      "18970\n",
      "['10+ years' '4 years' '3 years' '6 years' '8 years' '2 years' '9 years'\n",
      " '< 1 year' '5 years' '1 year' nan '7 years']\n"
     ]
    }
   ],
   "source": [
    "print(df['emplength'].isnull().sum())\n",
    "print(df['emplength'].unique())"
   ]
  },
  {
   "cell_type": "code",
   "execution_count": 133,
   "metadata": {},
   "outputs": [
    {
     "data": {
      "text/plain": [
       "10+ years    89687\n",
       "2 years      25889\n",
       "< 1 year     24089\n",
       "3 years      23109\n",
       "1 year       19240\n",
       "5 years      16899\n",
       "4 years      16754\n",
       "8 years      14270\n",
       "7 years      12162\n",
       "6 years      11182\n",
       "9 years      10914\n",
       "Name: emplength, dtype: int64"
      ]
     },
     "execution_count": 133,
     "metadata": {},
     "output_type": "execute_result"
    }
   ],
   "source": [
    "df['emplength'].value_counts()"
   ]
  },
  {
   "cell_type": "code",
   "execution_count": 134,
   "metadata": {},
   "outputs": [],
   "source": [
    "#way 1(not run)\n",
    "#df['emplength'].replace('n/a', np.nan, inplace=True)\n",
    "#df['emplength'].replace('< 1 year', '0', inplace=True)\n",
    "#df['emplength'].replace(to_replace='[^0-9]+', value='', inplace=True, regex=True)\n",
    "#df.emplength.fillna(value=-999,inplace=True)\n",
    "#df['emplength'] = df['emplength'].astype(int)"
   ]
  },
  {
   "cell_type": "code",
   "execution_count": 135,
   "metadata": {},
   "outputs": [],
   "source": [
    "#way 2(run)\n",
    "df['emplength'].replace('< 1 year', '0 year', inplace=True)\n",
    "df['emplength'].replace('10+ years', '10 years', inplace=True)\n",
    "df['emplength'].fillna(value='-999 years', inplace=True)\n",
    "df['emplength'] = df['emplength'].apply(lambda x: x.split()[0])\n",
    "df['emplength'] = df['emplength'].astype('int')"
   ]
  },
  {
   "cell_type": "code",
   "execution_count": 136,
   "metadata": {},
   "outputs": [
    {
     "data": {
      "text/plain": [
       "array([  10,    4,    3,    6,    8,    2,    9,    0,    5,    1, -999,\n",
       "          7])"
      ]
     },
     "execution_count": 136,
     "metadata": {},
     "output_type": "execute_result"
    }
   ],
   "source": [
    "#way 2(run)\n",
    "df['emplength'].unique()"
   ]
  },
  {
   "cell_type": "code",
   "execution_count": 137,
   "metadata": {},
   "outputs": [],
   "source": [
    "ob_feature.remove('emplength')\n",
    "num_feature.append('emplength')"
   ]
  },
  {
   "cell_type": "code",
   "execution_count": 138,
   "metadata": {},
   "outputs": [
    {
     "name": "stdout",
     "output_type": "stream",
     "text": [
      "13 76 89\n"
     ]
    }
   ],
   "source": [
    "print(len(ob_feature),len(num_feature),len(select_feature))"
   ]
  },
  {
   "cell_type": "markdown",
   "metadata": {},
   "source": [
    "### % to numerical feature: intrate, revolutil "
   ]
  },
  {
   "cell_type": "code",
   "execution_count": 139,
   "metadata": {},
   "outputs": [],
   "source": [
    "df['intrate'] = df.intrate.apply(lambda x: float(x.replace('%','')))\n",
    "df['revolutil']=df.revolutil.apply(lambda x: float(str(x).replace('%','')))"
   ]
  },
  {
   "cell_type": "code",
   "execution_count": 140,
   "metadata": {},
   "outputs": [
    {
     "data": {
      "text/plain": [
       "0    11.99\n",
       "1    13.99\n",
       "4    13.44\n",
       "5     9.17\n",
       "Name: intrate, dtype: float64"
      ]
     },
     "execution_count": 140,
     "metadata": {},
     "output_type": "execute_result"
    }
   ],
   "source": [
    "df['intrate'][:4]"
   ]
  },
  {
   "cell_type": "code",
   "execution_count": 141,
   "metadata": {},
   "outputs": [
    {
     "data": {
      "text/plain": [
       "0    19.2\n",
       "1    29.7\n",
       "4    68.4\n",
       "Name: revolutil, dtype: float64"
      ]
     },
     "execution_count": 141,
     "metadata": {},
     "output_type": "execute_result"
    }
   ],
   "source": [
    "df['revolutil'][:3]"
   ]
  },
  {
   "cell_type": "code",
   "execution_count": 142,
   "metadata": {},
   "outputs": [
    {
     "name": "stdout",
     "output_type": "stream",
     "text": [
      "11 78 89\n"
     ]
    }
   ],
   "source": [
    "ob_feature.remove('intrate')\n",
    "num_feature.append('intrate')\n",
    "ob_feature.remove('revolutil')\n",
    "num_feature.append('revolutil')\n",
    "print(len(ob_feature),len(num_feature),len(select_feature))"
   ]
  },
  {
   "cell_type": "markdown",
   "metadata": {},
   "source": [
    "### ordinal feature encoding : grade, subgrade"
   ]
  },
  {
   "cell_type": "code",
   "execution_count": 143,
   "metadata": {},
   "outputs": [
    {
     "data": {
      "text/plain": [
       "array(['C1', 'C4', 'C3', 'B2', 'C2', 'A2', 'B5', 'B1', 'E3', 'A4', 'A1',\n",
       "       'C5', 'B4', 'B3', 'D1', 'D3', 'A5', 'D2', 'E1', 'D4', 'E5', 'A3',\n",
       "       'F1', 'D5', 'F2', 'F3', 'E2', 'E4', 'F4', 'G2', 'F5', 'G1', 'G3',\n",
       "       'G4', 'G5'], dtype=object)"
      ]
     },
     "execution_count": 143,
     "metadata": {},
     "output_type": "execute_result"
    }
   ],
   "source": [
    "df.subgrade.unique()"
   ]
  },
  {
   "cell_type": "code",
   "execution_count": 144,
   "metadata": {},
   "outputs": [],
   "source": [
    "grade_dic = {'A':1, 'B':2, 'C':3, 'D':4, 'E':5, 'F':6, 'G':7}"
   ]
  },
  {
   "cell_type": "code",
   "execution_count": 145,
   "metadata": {},
   "outputs": [],
   "source": [
    "df['grade'] = df.grade.map(grade_dic)"
   ]
  },
  {
   "cell_type": "code",
   "execution_count": 146,
   "metadata": {},
   "outputs": [
    {
     "data": {
      "text/plain": [
       "array([11, 14, 13,  7, 12,  2, 10,  6, 23,  4,  1, 15,  9,  8, 16, 18,  5,\n",
       "       17, 21, 19, 25,  3, 26, 20, 27, 28, 22, 24, 29, 32, 30, 31, 33, 34,\n",
       "       35])"
      ]
     },
     "execution_count": 146,
     "metadata": {},
     "output_type": "execute_result"
    }
   ],
   "source": [
    "df['subgrade'] = df.subgrade.apply(lambda x:(grade_dic[x[0]]-1)*5+int(x[1]))\n",
    "df['subgrade'].unique()"
   ]
  },
  {
   "cell_type": "code",
   "execution_count": 147,
   "metadata": {},
   "outputs": [
    {
     "data": {
      "text/plain": [
       "array([3, 2, 1, 5, 4, 6, 7])"
      ]
     },
     "execution_count": 147,
     "metadata": {},
     "output_type": "execute_result"
    }
   ],
   "source": [
    "df['grade'].unique()"
   ]
  },
  {
   "cell_type": "code",
   "execution_count": 148,
   "metadata": {},
   "outputs": [
    {
     "name": "stdout",
     "output_type": "stream",
     "text": [
      "9 80 89\n"
     ]
    }
   ],
   "source": [
    "ob_feature.remove('grade')\n",
    "num_feature.append('grade')\n",
    "ob_feature.remove('subgrade')\n",
    "num_feature.append('subgrade')\n",
    "print(len(ob_feature),len(num_feature),len(select_feature))"
   ]
  },
  {
   "cell_type": "markdown",
   "metadata": {},
   "source": [
    "### High cardinality features"
   ]
  },
  {
   "cell_type": "code",
   "execution_count": 149,
   "metadata": {},
   "outputs": [],
   "source": [
    "# hight cardinality: have large amount of unique value"
   ]
  },
  {
   "cell_type": "markdown",
   "metadata": {},
   "source": [
    "### zipcode-- frequency encoding"
   ]
  },
  {
   "cell_type": "code",
   "execution_count": 150,
   "metadata": {},
   "outputs": [
    {
     "data": {
      "text/plain": [
       "0    577xx\n",
       "1    190xx\n",
       "4    300xx\n",
       "5    550xx\n",
       "6    275xx\n",
       "Name: zipcode, dtype: object"
      ]
     },
     "execution_count": 150,
     "metadata": {},
     "output_type": "execute_result"
    }
   ],
   "source": [
    "df['zipcode'][:5]"
   ]
  },
  {
   "cell_type": "code",
   "execution_count": 151,
   "metadata": {},
   "outputs": [
    {
     "data": {
      "text/plain": [
       "0    577\n",
       "1    190\n",
       "4    300\n",
       "5    550\n",
       "6    275\n",
       "Name: zipcode, dtype: int64"
      ]
     },
     "execution_count": 151,
     "metadata": {},
     "output_type": "execute_result"
    }
   ],
   "source": [
    "df['zipcode'] = df.zipcode.apply(lambda x: int(x[:3]))\n",
    "df['zipcode'][:5]"
   ]
  },
  {
   "cell_type": "code",
   "execution_count": 152,
   "metadata": {
    "scrolled": true
   },
   "outputs": [
    {
     "data": {
      "text/plain": [
       "array([577, 190, 300, 550, 275, 160,  29, 293, 462, 299, 226, 100, 214,\n",
       "       125, 672, 354, 238, 750, 993, 215, 606, 984, 331, 330, 441, 142,\n",
       "       493, 644, 453,  15, 347, 430, 134,  54, 967, 381, 117, 434, 787,\n",
       "       236, 472,  16,  85, 482, 670, 850,  30,  23,  70, 220, 280, 604,\n",
       "       346, 377, 958, 681, 439, 661, 477, 973, 431, 282, 910, 349, 986,\n",
       "       544, 112, 197, 355, 551, 498, 481,  10,  64, 357,  88, 913, 930,\n",
       "       480, 327, 805, 111, 770, 926, 711, 751, 440, 322, 172, 230, 250,\n",
       "       113, 894,  31, 234,  80,  28, 945, 208, 594, 104, 158, 941, 370,\n",
       "       922, 191, 900, 906,  20, 210, 468, 957, 490, 294, 207, 786, 563,\n",
       "       463, 301, 436, 231, 607, 554, 773, 324, 600, 164, 980, 956, 341,\n",
       "       366, 815, 917, 928, 825, 495,  21, 270, 140, 380, 778, 618, 376,\n",
       "       743, 303,  27, 763, 939, 201, 222, 116, 240, 365, 890, 760, 302,\n",
       "       416, 653, 610, 350,  19, 641, 244,  78, 924, 181, 891, 329, 968,\n",
       "       454, 404, 820, 953, 774, 286, 308, 631, 902, 193, 310, 981, 342,\n",
       "       358, 325, 707, 974, 601, 217, 209, 212, 401, 287, 373, 925, 351,\n",
       "       146, 801, 277,  18, 951, 283, 333, 757, 752, 131, 852, 211, 460,\n",
       "       802, 372,  60,  34, 800, 328, 919, 553, 221, 420,  50, 908, 450,\n",
       "       645, 961, 152, 199,  77, 806,  82, 531, 156, 388, 972,  58, 935,\n",
       "       920, 960, 605, 934, 921, 241, 488, 700, 360, 660, 608, 278, 875,\n",
       "       783, 484, 982, 141, 124, 246, 295,  89, 150, 178, 881, 943, 985,\n",
       "       224, 338, 339, 662, 276, 907, 195,  17,  76, 615, 640, 216, 402,\n",
       "        69,  12, 494, 153, 755, 451, 570, 218, 118, 853, 362,  79, 990,\n",
       "       323, 306, 704, 911, 139, 123, 691, 483, 710, 557, 637, 391, 785,\n",
       "       950, 762,  24, 337, 537, 781, 626, 703, 761, 765, 992, 264, 476,\n",
       "       316, 296, 165,  72, 138,  13, 983, 326, 725, 189, 932, 410,  71,\n",
       "       130, 432, 400, 487, 844, 281, 320, 448, 396, 103,  75, 145, 461,\n",
       "       114, 265, 403, 717, 383, 614, 239, 768, 955, 944, 627, 442,  38,\n",
       "       452, 115, 206, 949, 319, 182, 971, 379, 940, 271,  66, 616, 630,\n",
       "       183, 352, 895, 809, 622, 927, 952, 782, 474, 473, 151, 105, 729,\n",
       "       562, 840, 435, 585, 767,  86, 317, 657, 558, 334, 167, 344, 912,\n",
       "       708, 780, 273, 905,  63, 612, 740, 200, 233, 166, 245, 683, 970,\n",
       "       583, 871, 803, 243,  62, 384,  74, 638, 457,  67,  47, 560, 797,\n",
       "       109, 223, 321, 744, 292, 988, 532, 946, 584, 995, 444, 728,  68,\n",
       "       535, 290, 194, 989, 731, 933, 799, 546, 959, 291, 718, 923, 272,\n",
       "       173,  39, 336, 382, 314, 658,  42,  57,  83, 390,  87, 775, 741,\n",
       "       914, 458, 720,  25, 931, 371, 395, 110, 611, 274, 446, 469, 954,\n",
       "       857,  56,  49, 163, 170, 148,  65,  22, 335, 120, 232, 754, 235,\n",
       "        40, 359, 776, 650, 633, 680, 132, 916, 701,  41, 297, 813, 705,\n",
       "       810, 486, 816, 547, 666, 784, 777, 427, 445, 443, 730, 144, 851,\n",
       "       304, 133, 790,  32, 455, 581,  61, 937, 392, 903, 101, 727, 185,\n",
       "       664, 549, 864, 315, 647, 361, 978, 722, 421, 588, 788,  73, 161,\n",
       "       242, 284, 227, 676, 456,  26, 496, 530, 492, 385, 318, 721, 723,\n",
       "       267, 597, 713, 656, 791, 137,  43, 406, 559,  14, 745, 936, 639,\n",
       "       499, 598, 796, 897, 592, 467, 397, 795, 107, 565, 237, 998, 168,\n",
       "       756, 438, 977, 976, 187, 646, 759, 305, 804, 665, 180, 582, 225,\n",
       "       904, 285, 422, 465, 534, 808, 860, 652, 712, 179, 749, 108, 548,\n",
       "       279, 679, 374, 543, 823, 609, 398, 724, 356, 121, 841, 394,  11,\n",
       "        48, 915, 824, 580, 119, 386, 541, 829, 261, 706, 389, 196, 991,\n",
       "       918, 253, 564, 363, 859, 219, 489, 793, 540, 127, 258, 591, 128,\n",
       "       735, 228, 129, 634, 856, 423, 143, 260, 599, 464, 734, 157, 147,\n",
       "       629, 449, 883, 863, 617, 997, 794, 685, 266, 736, 678, 719, 485,\n",
       "       603, 620, 811, 378, 229, 433, 405, 575, 571, 877, 674, 174, 254,\n",
       "       975, 159, 772,  81, 846, 948, 307, 393, 870, 758, 479, 368, 539,\n",
       "       847, 169, 387,  53, 835, 122, 693, 176,  51, 437, 747, 175, 746,\n",
       "       602, 186, 561, 425, 873, 779, 364, 471, 636, 154, 623, 198, 255,\n",
       "       994, 714, 106, 313, 624, 171, 688, 880, 309, 475, 542, 814,  52,\n",
       "       126, 447, 470, 587, 263, 628, 874, 188, 648, 789, 491, 962, 135,\n",
       "       689, 288, 466, 478,  44, 257, 726, 155, 613, 497,  35, 716, 753,\n",
       "       136, 184, 882, 822, 947, 625, 407, 412, 411, 590, 667, 671, 687,\n",
       "        33, 367, 298, 996, 177, 798, 415, 668, 826, 855, 764, 149, 256,\n",
       "       413, 262, 766, 898, 574, 311,  37,  36, 690, 792, 748, 675, 566,\n",
       "       673, 312,  84, 769, 865, 102, 684, 567, 249,  46, 251, 843, 677,\n",
       "       827, 572,  45,  92, 669, 573, 635, 162, 332, 247, 545, 654, 651,\n",
       "       828, 424, 739, 979, 586, 596, 414, 509, 812, 737, 408, 619, 738,\n",
       "       655, 845, 878, 538, 426, 576, 409, 686, 268, 965, 836, 807, 831,\n",
       "       999, 593, 742,  96, 510, 879, 595, 893, 259, 522, 252, 527,  97,\n",
       "       369,   8, 830,  98,  59, 963, 555, 834,  94,  90,  91, 289, 506,\n",
       "       861, 418, 248, 556, 833, 884, 892, 417, 929, 500, 702,   7, 709,\n",
       "       969, 204, 821, 837, 849, 501, 520, 817, 771, 649, 832, 862, 504,\n",
       "       507, 942, 203, 838])"
      ]
     },
     "execution_count": 152,
     "metadata": {},
     "output_type": "execute_result"
    }
   ],
   "source": [
    "df['zipcode'].unique()"
   ]
  },
  {
   "cell_type": "code",
   "execution_count": 153,
   "metadata": {},
   "outputs": [
    {
     "data": {
      "text/plain": [
       "50"
      ]
     },
     "execution_count": 153,
     "metadata": {},
     "output_type": "execute_result"
    }
   ],
   "source": [
    "int('     50')"
   ]
  },
  {
   "cell_type": "code",
   "execution_count": 154,
   "metadata": {},
   "outputs": [
    {
     "data": {
      "text/html": [
       "<div>\n",
       "<style scoped>\n",
       "    .dataframe tbody tr th:only-of-type {\n",
       "        vertical-align: middle;\n",
       "    }\n",
       "\n",
       "    .dataframe tbody tr th {\n",
       "        vertical-align: top;\n",
       "    }\n",
       "\n",
       "    .dataframe thead th {\n",
       "        text-align: right;\n",
       "    }\n",
       "</style>\n",
       "<table border=\"1\" class=\"dataframe\">\n",
       "  <thead>\n",
       "    <tr style=\"text-align: right;\">\n",
       "      <th></th>\n",
       "      <th>zipcode</th>\n",
       "      <th>0</th>\n",
       "    </tr>\n",
       "  </thead>\n",
       "  <tbody>\n",
       "    <tr>\n",
       "      <th>0</th>\n",
       "      <td>7</td>\n",
       "      <td>1</td>\n",
       "    </tr>\n",
       "    <tr>\n",
       "      <th>1</th>\n",
       "      <td>8</td>\n",
       "      <td>2</td>\n",
       "    </tr>\n",
       "    <tr>\n",
       "      <th>2</th>\n",
       "      <td>10</td>\n",
       "      <td>434</td>\n",
       "    </tr>\n",
       "    <tr>\n",
       "      <th>3</th>\n",
       "      <td>11</td>\n",
       "      <td>144</td>\n",
       "    </tr>\n",
       "    <tr>\n",
       "      <th>4</th>\n",
       "      <td>12</td>\n",
       "      <td>99</td>\n",
       "    </tr>\n",
       "  </tbody>\n",
       "</table>\n",
       "</div>"
      ],
      "text/plain": [
       "   zipcode    0\n",
       "0        7    1\n",
       "1        8    2\n",
       "2       10  434\n",
       "3       11  144\n",
       "4       12   99"
      ]
     },
     "execution_count": 154,
     "metadata": {},
     "output_type": "execute_result"
    }
   ],
   "source": [
    "zipcode_freq = df.groupby('zipcode').size().reset_index()\n",
    "zipcode_freq[:5]"
   ]
  },
  {
   "cell_type": "code",
   "execution_count": 155,
   "metadata": {},
   "outputs": [
    {
     "data": {
      "text/plain": [
       "(901, 2)"
      ]
     },
     "execution_count": 155,
     "metadata": {},
     "output_type": "execute_result"
    }
   ],
   "source": [
    "zipcode_freq.shape"
   ]
  },
  {
   "cell_type": "code",
   "execution_count": 156,
   "metadata": {},
   "outputs": [
    {
     "data": {
      "text/html": [
       "<div>\n",
       "<style scoped>\n",
       "    .dataframe tbody tr th:only-of-type {\n",
       "        vertical-align: middle;\n",
       "    }\n",
       "\n",
       "    .dataframe tbody tr th {\n",
       "        vertical-align: top;\n",
       "    }\n",
       "\n",
       "    .dataframe thead th {\n",
       "        text-align: right;\n",
       "    }\n",
       "</style>\n",
       "<table border=\"1\" class=\"dataframe\">\n",
       "  <thead>\n",
       "    <tr style=\"text-align: right;\">\n",
       "      <th></th>\n",
       "      <th>zipcode</th>\n",
       "      <th>zipcode_freq</th>\n",
       "    </tr>\n",
       "  </thead>\n",
       "  <tbody>\n",
       "    <tr>\n",
       "      <th>0</th>\n",
       "      <td>7</td>\n",
       "      <td>1</td>\n",
       "    </tr>\n",
       "    <tr>\n",
       "      <th>1</th>\n",
       "      <td>8</td>\n",
       "      <td>2</td>\n",
       "    </tr>\n",
       "    <tr>\n",
       "      <th>2</th>\n",
       "      <td>10</td>\n",
       "      <td>434</td>\n",
       "    </tr>\n",
       "  </tbody>\n",
       "</table>\n",
       "</div>"
      ],
      "text/plain": [
       "   zipcode  zipcode_freq\n",
       "0        7             1\n",
       "1        8             2\n",
       "2       10           434"
      ]
     },
     "execution_count": 156,
     "metadata": {},
     "output_type": "execute_result"
    }
   ],
   "source": [
    "zipcode_freq.columns = ['zipcode', 'zipcode_freq']\n",
    "zipcode_freq[:3]"
   ]
  },
  {
   "cell_type": "code",
   "execution_count": 157,
   "metadata": {},
   "outputs": [
    {
     "data": {
      "text/html": [
       "<div>\n",
       "<style scoped>\n",
       "    .dataframe tbody tr th:only-of-type {\n",
       "        vertical-align: middle;\n",
       "    }\n",
       "\n",
       "    .dataframe tbody tr th {\n",
       "        vertical-align: top;\n",
       "    }\n",
       "\n",
       "    .dataframe thead th {\n",
       "        text-align: right;\n",
       "    }\n",
       "</style>\n",
       "<table border=\"1\" class=\"dataframe\">\n",
       "  <thead>\n",
       "    <tr style=\"text-align: right;\">\n",
       "      <th></th>\n",
       "      <th>zipcode</th>\n",
       "      <th>zipcode_freq</th>\n",
       "    </tr>\n",
       "  </thead>\n",
       "  <tbody>\n",
       "    <tr>\n",
       "      <th>0</th>\n",
       "      <td>577</td>\n",
       "      <td>131</td>\n",
       "    </tr>\n",
       "    <tr>\n",
       "      <th>1</th>\n",
       "      <td>190</td>\n",
       "      <td>926</td>\n",
       "    </tr>\n",
       "    <tr>\n",
       "      <th>2</th>\n",
       "      <td>300</td>\n",
       "      <td>2723</td>\n",
       "    </tr>\n",
       "    <tr>\n",
       "      <th>3</th>\n",
       "      <td>550</td>\n",
       "      <td>612</td>\n",
       "    </tr>\n",
       "    <tr>\n",
       "      <th>4</th>\n",
       "      <td>275</td>\n",
       "      <td>1083</td>\n",
       "    </tr>\n",
       "  </tbody>\n",
       "</table>\n",
       "</div>"
      ],
      "text/plain": [
       "   zipcode  zipcode_freq\n",
       "0      577           131\n",
       "1      190           926\n",
       "2      300          2723\n",
       "3      550           612\n",
       "4      275          1083"
      ]
     },
     "execution_count": 157,
     "metadata": {},
     "output_type": "execute_result"
    }
   ],
   "source": [
    "df = pd.merge(df, zipcode_freq, how='left', on='zipcode')\n",
    "df[['zipcode','zipcode_freq']][:5]"
   ]
  },
  {
   "cell_type": "code",
   "execution_count": 158,
   "metadata": {},
   "outputs": [
    {
     "name": "stdout",
     "output_type": "stream",
     "text": [
      "8 82 89\n"
     ]
    }
   ],
   "source": [
    "ob_feature.remove('zipcode')\n",
    "num_feature.append('zipcode')\n",
    "num_feature.append('zipcode_freq')\n",
    "print(len(ob_feature),len(num_feature),len(select_feature))"
   ]
  },
  {
   "cell_type": "code",
   "execution_count": 159,
   "metadata": {
    "scrolled": true
   },
   "outputs": [
    {
     "data": {
      "text/plain": [
       "['verificationstatusjoint',\n",
       " 'homeownership',\n",
       " 'verificationstatus',\n",
       " 'purpose',\n",
       " 'addrstate',\n",
       " 'emptitle',\n",
       " 'initialliststatus',\n",
       " 'issued']"
      ]
     },
     "execution_count": 159,
     "metadata": {},
     "output_type": "execute_result"
    }
   ],
   "source": [
    "ob_feature"
   ]
  },
  {
   "cell_type": "code",
   "execution_count": 160,
   "metadata": {},
   "outputs": [
    {
     "data": {
      "text/plain": [
       "0    0\n",
       "1    0\n",
       "2    0\n",
       "3    0\n",
       "4    0\n",
       "Name: loanstatus, dtype: int64"
      ]
     },
     "execution_count": 160,
     "metadata": {},
     "output_type": "execute_result"
    }
   ],
   "source": [
    "df.loanstatus[:5]"
   ]
  },
  {
   "cell_type": "markdown",
   "metadata": {},
   "source": [
    "###  addrstate-- freqency encoding"
   ]
  },
  {
   "cell_type": "code",
   "execution_count": 161,
   "metadata": {},
   "outputs": [
    {
     "data": {
      "text/html": [
       "<div>\n",
       "<style scoped>\n",
       "    .dataframe tbody tr th:only-of-type {\n",
       "        vertical-align: middle;\n",
       "    }\n",
       "\n",
       "    .dataframe tbody tr th {\n",
       "        vertical-align: top;\n",
       "    }\n",
       "\n",
       "    .dataframe thead th {\n",
       "        text-align: right;\n",
       "    }\n",
       "</style>\n",
       "<table border=\"1\" class=\"dataframe\">\n",
       "  <thead>\n",
       "    <tr style=\"text-align: right;\">\n",
       "      <th></th>\n",
       "      <th>addrstate</th>\n",
       "      <th>addrstate_freq</th>\n",
       "    </tr>\n",
       "  </thead>\n",
       "  <tbody>\n",
       "    <tr>\n",
       "      <th>0</th>\n",
       "      <td>SD</td>\n",
       "      <td>550</td>\n",
       "    </tr>\n",
       "    <tr>\n",
       "      <th>1</th>\n",
       "      <td>PA</td>\n",
       "      <td>9508</td>\n",
       "    </tr>\n",
       "    <tr>\n",
       "      <th>2</th>\n",
       "      <td>GA</td>\n",
       "      <td>9391</td>\n",
       "    </tr>\n",
       "    <tr>\n",
       "      <th>3</th>\n",
       "      <td>MN</td>\n",
       "      <td>5094</td>\n",
       "    </tr>\n",
       "    <tr>\n",
       "      <th>4</th>\n",
       "      <td>NC</td>\n",
       "      <td>7649</td>\n",
       "    </tr>\n",
       "  </tbody>\n",
       "</table>\n",
       "</div>"
      ],
      "text/plain": [
       "  addrstate  addrstate_freq\n",
       "0        SD             550\n",
       "1        PA            9508\n",
       "2        GA            9391\n",
       "3        MN            5094\n",
       "4        NC            7649"
      ]
     },
     "execution_count": 161,
     "metadata": {},
     "output_type": "execute_result"
    }
   ],
   "source": [
    "addrstate_freq = df.groupby('addrstate').size().reset_index()\n",
    "addrstate_freq.columns = ['addrstate', 'addrstate_freq']\n",
    "df = pd.merge(df, addrstate_freq, how='left', on='addrstate')\n",
    "df[['addrstate', 'addrstate_freq']][:5]"
   ]
  },
  {
   "cell_type": "code",
   "execution_count": 162,
   "metadata": {},
   "outputs": [
    {
     "name": "stdout",
     "output_type": "stream",
     "text": [
      "7 83\n"
     ]
    }
   ],
   "source": [
    "ob_feature.remove('addrstate')\n",
    "num_feature.append('addrstate_freq')\n",
    "print(len(ob_feature),len(num_feature))"
   ]
  },
  {
   "cell_type": "code",
   "execution_count": 163,
   "metadata": {},
   "outputs": [
    {
     "data": {
      "text/plain": [
       "['verificationstatusjoint',\n",
       " 'homeownership',\n",
       " 'verificationstatus',\n",
       " 'purpose',\n",
       " 'emptitle',\n",
       " 'initialliststatus',\n",
       " 'issued']"
      ]
     },
     "execution_count": 163,
     "metadata": {},
     "output_type": "execute_result"
    }
   ],
   "source": [
    "ob_feature"
   ]
  },
  {
   "cell_type": "markdown",
   "metadata": {},
   "source": [
    "### emptitle-- frequency encoding "
   ]
  },
  {
   "cell_type": "code",
   "execution_count": 164,
   "metadata": {},
   "outputs": [
    {
     "data": {
      "text/plain": [
       "86157"
      ]
     },
     "execution_count": 164,
     "metadata": {},
     "output_type": "execute_result"
    }
   ],
   "source": [
    "len(df['emptitle'].unique())"
   ]
  },
  {
   "cell_type": "code",
   "execution_count": 165,
   "metadata": {},
   "outputs": [
    {
     "data": {
      "text/html": [
       "<div>\n",
       "<style scoped>\n",
       "    .dataframe tbody tr th:only-of-type {\n",
       "        vertical-align: middle;\n",
       "    }\n",
       "\n",
       "    .dataframe tbody tr th {\n",
       "        vertical-align: top;\n",
       "    }\n",
       "\n",
       "    .dataframe thead th {\n",
       "        text-align: right;\n",
       "    }\n",
       "</style>\n",
       "<table border=\"1\" class=\"dataframe\">\n",
       "  <thead>\n",
       "    <tr style=\"text-align: right;\">\n",
       "      <th></th>\n",
       "      <th>emptitle</th>\n",
       "      <th>emptitle_freq</th>\n",
       "    </tr>\n",
       "  </thead>\n",
       "  <tbody>\n",
       "    <tr>\n",
       "      <th>0</th>\n",
       "      <td>Engineer</td>\n",
       "      <td>1027.0</td>\n",
       "    </tr>\n",
       "    <tr>\n",
       "      <th>1</th>\n",
       "      <td>leadman</td>\n",
       "      <td>17.0</td>\n",
       "    </tr>\n",
       "    <tr>\n",
       "      <th>2</th>\n",
       "      <td>Veterinary Tecnician</td>\n",
       "      <td>1.0</td>\n",
       "    </tr>\n",
       "    <tr>\n",
       "      <th>3</th>\n",
       "      <td>Vice President of Recruiting Operations</td>\n",
       "      <td>1.0</td>\n",
       "    </tr>\n",
       "    <tr>\n",
       "      <th>4</th>\n",
       "      <td>Logistics Manager</td>\n",
       "      <td>77.0</td>\n",
       "    </tr>\n",
       "  </tbody>\n",
       "</table>\n",
       "</div>"
      ],
      "text/plain": [
       "                                  emptitle  emptitle_freq\n",
       "0                                 Engineer         1027.0\n",
       "1                                  leadman           17.0\n",
       "2                     Veterinary Tecnician            1.0\n",
       "3  Vice President of Recruiting Operations            1.0\n",
       "4                        Logistics Manager           77.0"
      ]
     },
     "execution_count": 165,
     "metadata": {},
     "output_type": "execute_result"
    }
   ],
   "source": [
    "emptitle_freq = df.groupby('emptitle').size().reset_index()\n",
    "emptitle_freq.columns = ['emptitle','emptitle_freq']\n",
    "df = pd.merge(df,emptitle_freq, how='left', on='emptitle')\n",
    "df[['emptitle','emptitle_freq']][:5]"
   ]
  },
  {
   "cell_type": "code",
   "execution_count": 166,
   "metadata": {},
   "outputs": [
    {
     "name": "stdout",
     "output_type": "stream",
     "text": [
      "6 84\n"
     ]
    }
   ],
   "source": [
    "ob_feature.remove('emptitle')\n",
    "num_feature.append('emptitle_freq')\n",
    "print(len(ob_feature),len(num_feature))"
   ]
  },
  {
   "cell_type": "code",
   "execution_count": 167,
   "metadata": {},
   "outputs": [
    {
     "data": {
      "text/plain": [
       "['verificationstatusjoint',\n",
       " 'homeownership',\n",
       " 'verificationstatus',\n",
       " 'purpose',\n",
       " 'initialliststatus',\n",
       " 'issued']"
      ]
     },
     "execution_count": 167,
     "metadata": {},
     "output_type": "execute_result"
    }
   ],
   "source": [
    "ob_feature"
   ]
  },
  {
   "cell_type": "markdown",
   "metadata": {},
   "source": [
    "### one-hot encoding  "
   ]
  },
  {
   "cell_type": "code",
   "execution_count": 168,
   "metadata": {},
   "outputs": [],
   "source": [
    "#A dummy variable is a variable that takes values of 0 and 1\n",
    "# one-hot encoding: convert all the remaining ob_feature into dummy "
   ]
  },
  {
   "cell_type": "code",
   "execution_count": 169,
   "metadata": {},
   "outputs": [],
   "source": [
    "dummy_feature = ['verificationstatusjoint', 'homeownership','verificationstatus','purpose',\n",
    "                  'initialliststatus']"
   ]
  },
  {
   "cell_type": "code",
   "execution_count": 170,
   "metadata": {},
   "outputs": [],
   "source": [
    "df_dummy = pd.get_dummies(df[dummy_feature])"
   ]
  },
  {
   "cell_type": "code",
   "execution_count": 171,
   "metadata": {
    "scrolled": true
   },
   "outputs": [
    {
     "data": {
      "text/plain": [
       "['verificationstatusjoint_Not Verified',\n",
       " 'homeownership_ANY',\n",
       " 'homeownership_MORTGAGE',\n",
       " 'homeownership_OWN',\n",
       " 'homeownership_RENT',\n",
       " 'verificationstatus_Not Verified',\n",
       " 'verificationstatus_Source Verified',\n",
       " 'verificationstatus_Verified',\n",
       " 'purpose_car',\n",
       " 'purpose_credit_card',\n",
       " 'purpose_debt_consolidation',\n",
       " 'purpose_educational',\n",
       " 'purpose_home_improvement',\n",
       " 'purpose_house',\n",
       " 'purpose_major_purchase',\n",
       " 'purpose_medical',\n",
       " 'purpose_moving',\n",
       " 'purpose_other',\n",
       " 'purpose_renewable_energy',\n",
       " 'purpose_small_business',\n",
       " 'purpose_vacation',\n",
       " 'purpose_wedding',\n",
       " 'initialliststatus_f',\n",
       " 'initialliststatus_w']"
      ]
     },
     "execution_count": 171,
     "metadata": {},
     "output_type": "execute_result"
    }
   ],
   "source": [
    "OHE_feature = list(df_dummy.columns.values)\n",
    "OHE_feature"
   ]
  },
  {
   "cell_type": "code",
   "execution_count": 172,
   "metadata": {},
   "outputs": [
    {
     "data": {
      "text/plain": [
       "24"
      ]
     },
     "execution_count": 172,
     "metadata": {},
     "output_type": "execute_result"
    }
   ],
   "source": [
    "len(OHE_feature)"
   ]
  },
  {
   "cell_type": "code",
   "execution_count": 173,
   "metadata": {},
   "outputs": [],
   "source": [
    "df = pd.concat([df,df_dummy], axis=1)"
   ]
  },
  {
   "cell_type": "code",
   "execution_count": 174,
   "metadata": {},
   "outputs": [
    {
     "data": {
      "text/plain": [
       "(283165, 119)"
      ]
     },
     "execution_count": 174,
     "metadata": {},
     "output_type": "execute_result"
    }
   ],
   "source": [
    "df.shape"
   ]
  },
  {
   "cell_type": "code",
   "execution_count": 175,
   "metadata": {},
   "outputs": [],
   "source": [
    "for feat in dummy_feature:\n",
    "    ob_feature.remove(feat)"
   ]
  },
  {
   "cell_type": "code",
   "execution_count": 176,
   "metadata": {},
   "outputs": [
    {
     "data": {
      "text/plain": [
       "['issued']"
      ]
     },
     "execution_count": 176,
     "metadata": {},
     "output_type": "execute_result"
    }
   ],
   "source": [
    "ob_feature"
   ]
  },
  {
   "cell_type": "code",
   "execution_count": 177,
   "metadata": {},
   "outputs": [],
   "source": [
    "num_feature.remove('loanstatus')# it is label feature"
   ]
  },
  {
   "cell_type": "code",
   "execution_count": 178,
   "metadata": {},
   "outputs": [],
   "source": [
    "select_feature = num_feature+OHE_feature"
   ]
  },
  {
   "cell_type": "code",
   "execution_count": 179,
   "metadata": {},
   "outputs": [
    {
     "name": "stdout",
     "output_type": "stream",
     "text": [
      "107\n",
      "['totalilhighcreditlimit', 'allutil', 'numtl120dpd2m', 'mthssincerecentbc', 'inqlast12m', 'mortacc', 'numtl30dpd', 'openacc6m', 'pubrecbankruptcies', 'mthssincerecentinq', 'numrevaccts', 'numactvrevtl', 'dti', 'mthssincelastdelinq', 'mthssincelastmajorderog', 'openacc', 'delinqamnt', 'mthssincerecentbcdlq', 'pcttlnvrdlq', 'accopenpast24mths', 'annualincjoint', 'loanamnt', 'mosinrcnttl', 'openrv12m', 'accnowdelinq', 'totalbalil', 'mthssincercntil', 'collections12mthsexmed', 'avgcurbal', 'delinq2yrs', 'dtijoint', 'numoprevtl', 'annualinc', 'numrevtlbalgt0', 'mosinoldilacct', 'openil12m', 'mosinrcntrevtlop', 'taxliens', 'totalrevhilim', 'openactil', 'numacctsever120pd', 'percentbcgt75', 'totalbclimit', 'maxbalbc', 'openrv24m', 'totalacc', 'mthssincelastrecord', 'ficorangehigh', 'numtl90gdpd24m', 'numsats', 'revolbal', 'ficorangelow', 'totcollamt', 'totalbalexmort', 'chargeoffwithin12mths', 'totalcutl', 'inqfi', 'mosinoldrevtlop', 'numtloppast12m', 'bcutil', 'numiltl', 'installment', 'inqlast6mths', 'pubrec', 'tothicredlim', 'totcurbal', 'numbcsats', 'mthssincerecentrevoldelinq', 'ilutil', 'numactvbctl', 'openil24m', 'numbctl', 'bcopentobuy', 'earliestcrline_month', 'emplength', 'intrate', 'revolutil', 'grade', 'subgrade', 'zipcode', 'zipcode_freq', 'addrstate_freq', 'emptitle_freq', 'verificationstatusjoint_Not Verified', 'homeownership_ANY', 'homeownership_MORTGAGE', 'homeownership_OWN', 'homeownership_RENT', 'verificationstatus_Not Verified', 'verificationstatus_Source Verified', 'verificationstatus_Verified', 'purpose_car', 'purpose_credit_card', 'purpose_debt_consolidation', 'purpose_educational', 'purpose_home_improvement', 'purpose_house', 'purpose_major_purchase', 'purpose_medical', 'purpose_moving', 'purpose_other', 'purpose_renewable_energy', 'purpose_small_business', 'purpose_vacation', 'purpose_wedding', 'initialliststatus_f', 'initialliststatus_w']\n"
     ]
    }
   ],
   "source": [
    "print(len(select_feature))\n",
    "print(select_feature)"
   ]
  },
  {
   "cell_type": "code",
   "execution_count": 180,
   "metadata": {},
   "outputs": [],
   "source": [
    "df.to_csv('loan_2015_ready.csv', index=False)"
   ]
  },
  {
   "cell_type": "code",
   "execution_count": 181,
   "metadata": {},
   "outputs": [
    {
     "name": "stdout",
     "output_type": "stream",
     "text": [
      "done\n"
     ]
    }
   ],
   "source": [
    "print('done')"
   ]
  },
  {
   "cell_type": "markdown",
   "metadata": {},
   "source": [
    "## XGBoost"
   ]
  },
  {
   "cell_type": "code",
   "execution_count": 376,
   "metadata": {},
   "outputs": [],
   "source": [
    "from sklearn.model_selection import StratifiedKFold\n",
    "from sklearn.model_selection import train_test_split"
   ]
  },
  {
   "cell_type": "code",
   "execution_count": 377,
   "metadata": {},
   "outputs": [
    {
     "name": "stderr",
     "output_type": "stream",
     "text": [
      "/anaconda3/lib/python3.6/site-packages/IPython/core/interactiveshell.py:3049: DtypeWarning: Columns (0) have mixed types. Specify dtype option on import or set low_memory=False.\n",
      "  interactivity=interactivity, compiler=compiler, result=result)\n"
     ]
    },
    {
     "data": {
      "text/plain": [
       "(283165, 118)"
      ]
     },
     "execution_count": 377,
     "metadata": {},
     "output_type": "execute_result"
    }
   ],
   "source": [
    "df = pd.read_csv('loan_2015_ready.csv')\n",
    "df.shape"
   ]
  },
  {
   "cell_type": "code",
   "execution_count": 378,
   "metadata": {},
   "outputs": [
    {
     "data": {
      "text/plain": [
       "107"
      ]
     },
     "execution_count": 378,
     "metadata": {},
     "output_type": "execute_result"
    }
   ],
   "source": [
    "select_feature = ['totalilhighcreditlimit', 'allutil', 'numtl120dpd2m', 'mthssincerecentbc', 'inqlast12m', 'mortacc', 'numtl30dpd', 'openacc6m', 'pubrecbankruptcies', 'mthssincerecentinq', 'numrevaccts', 'numactvrevtl', 'dti', 'mthssincelastdelinq', 'mthssincelastmajorderog', 'openacc', 'delinqamnt', 'mthssincerecentbcdlq', 'pcttlnvrdlq', 'accopenpast24mths', 'annualincjoint', 'loanamnt', 'mosinrcnttl', 'openrv12m', 'accnowdelinq', 'totalbalil', 'mthssincercntil', 'collections12mthsexmed', 'avgcurbal', 'delinq2yrs', 'dtijoint', 'numoprevtl', 'annualinc', 'numrevtlbalgt0', 'mosinoldilacct', 'openil12m', 'mosinrcntrevtlop', 'taxliens', 'totalrevhilim', 'openactil', 'numacctsever120pd', 'percentbcgt75', 'totalbclimit', 'maxbalbc', 'openrv24m', 'totalacc', 'mthssincelastrecord', 'ficorangehigh', 'numtl90gdpd24m', 'numsats', 'revolbal', 'ficorangelow', 'totcollamt', 'totalbalexmort', 'chargeoffwithin12mths', 'totalcutl', 'inqfi', 'mosinoldrevtlop', 'numtloppast12m', 'bcutil', 'numiltl', 'installment', 'inqlast6mths', 'pubrec', 'tothicredlim', 'totcurbal', 'numbcsats', 'mthssincerecentrevoldelinq', 'ilutil', 'numactvbctl', 'openil24m', 'numbctl', 'bcopentobuy', 'earliestcrline_month', 'emplength', 'intrate', 'revolutil', 'grade', 'subgrade', 'zipcode', 'zipcode_freq', 'addrstate_freq', 'emptitle_freq', 'verificationstatusjoint_Not Verified', 'homeownership_ANY', 'homeownership_MORTGAGE', 'homeownership_OWN', 'homeownership_RENT', 'verificationstatus_Not Verified', 'verificationstatus_Source Verified', 'verificationstatus_Verified', 'purpose_car', 'purpose_credit_card', 'purpose_debt_consolidation', 'purpose_educational', 'purpose_home_improvement', 'purpose_house', 'purpose_major_purchase', 'purpose_medical', 'purpose_moving', 'purpose_other', 'purpose_renewable_energy', 'purpose_small_business', 'purpose_vacation', 'purpose_wedding', 'initialliststatus_f', 'initialliststatus_w']\n",
    "feat = select_feature\n",
    "len(feat)"
   ]
  },
  {
   "cell_type": "code",
   "execution_count": 379,
   "metadata": {},
   "outputs": [
    {
     "data": {
      "text/plain": [
       "((252828, 118), (30337, 118))"
      ]
     },
     "execution_count": 379,
     "metadata": {},
     "output_type": "execute_result"
    }
   ],
   "source": [
    "df_train = df.query(\"train_flg==1\")\n",
    "df_test = df.query(\"train_flg==0\")\n",
    "df_train.shape,df_test.shape"
   ]
  },
  {
   "cell_type": "code",
   "execution_count": 380,
   "metadata": {},
   "outputs": [
    {
     "data": {
      "text/plain": [
       "(252828, 107)"
      ]
     },
     "execution_count": 380,
     "metadata": {},
     "output_type": "execute_result"
    }
   ],
   "source": [
    "df_train[feat].shape"
   ]
  },
  {
   "cell_type": "code",
   "execution_count": 381,
   "metadata": {},
   "outputs": [],
   "source": [
    "x_train, x_valid, y_train, y_valid = train_test_split(df_train[feat], df_train.loanstatus,\n",
    "                                                      test_size=0.33, random_state=1234, \n",
    "                                                      stratify = df_train.loanstatus)"
   ]
  },
  {
   "cell_type": "code",
   "execution_count": 382,
   "metadata": {},
   "outputs": [],
   "source": [
    "x_test, y_test = df_test[feat], df_test.loanstatus"
   ]
  },
  {
   "cell_type": "code",
   "execution_count": 383,
   "metadata": {},
   "outputs": [
    {
     "name": "stderr",
     "output_type": "stream",
     "text": [
      "/anaconda3/lib/python3.6/site-packages/xgboost/core.py:587: FutureWarning: Series.base is deprecated and will be removed in a future version\n",
      "  if getattr(data, 'base', None) is not None and \\\n",
      "/anaconda3/lib/python3.6/site-packages/xgboost/core.py:588: FutureWarning: Series.base is deprecated and will be removed in a future version\n",
      "  data.base is not None and isinstance(data, np.ndarray) \\\n"
     ]
    }
   ],
   "source": [
    "#The data is stored in a DMatrix object.\n",
    "dtrain = xgb.DMatrix(x_train, y_train, missing=np.NAN)\n",
    "dvalid = xgb.DMatrix(x_valid, y_valid, missing=np.NAN)\n",
    "dtest = xgb.DMatrix(x_test, y_test, missing=np.NAN)"
   ]
  },
  {
   "cell_type": "code",
   "execution_count": 384,
   "metadata": {},
   "outputs": [],
   "source": [
    "params = {'objective': 'binary:logistic',#binary:logistic-return probability,multi:softmax-mutiplt clssification,return classes\n",
    "          #multi:softprob-return probability for each class. select the type of model to run at each iteration\n",
    "          'booster':'gbtree',#default, tree base\n",
    "          'eta': 0.05, # like learning rate. Typical final 0.01-0.2, default=0.3\n",
    "          'max_depth': 6,#Typical values: 3-10\n",
    "          'subsample': 0.632,#Typical values: 0.5-1, to prevent overfitting\n",
    "          'colsample_bytree':0.7, # number of features randomly picked\n",
    "          'silent':0, #0:wont print running messages, 1:will do\n",
    "          'seed':1234,#Can be used for generating reproducible results and also for parameter tuning\n",
    "          'eval_metric':'auc',#The metric to be used for validation data.\n",
    "         # a binary classification problem. AUC is a good way for evaluation for this type of problems\n",
    "          'min_child_weight':5\n",
    "         #'gamma':Minimum loss reduction required to make a further partition on a leaf node of the tree.\n",
    "         }\n"
   ]
  },
  {
   "cell_type": "code",
   "execution_count": 385,
   "metadata": {},
   "outputs": [
    {
     "name": "stdout",
     "output_type": "stream",
     "text": [
      "[0]\ttrain-auc:0.690583\tval-auc:0.683766\n",
      "Multiple eval metrics have been passed: 'val-auc' will be used for early stopping.\n",
      "\n",
      "Will train until val-auc hasn't improved in 50 rounds.\n",
      "[1]\ttrain-auc:0.696627\tval-auc:0.688148\n",
      "[2]\ttrain-auc:0.698968\tval-auc:0.689701\n",
      "[3]\ttrain-auc:0.700457\tval-auc:0.690529\n",
      "[4]\ttrain-auc:0.701593\tval-auc:0.691749\n",
      "[5]\ttrain-auc:0.702352\tval-auc:0.692228\n",
      "[6]\ttrain-auc:0.703082\tval-auc:0.692619\n",
      "[7]\ttrain-auc:0.703565\tval-auc:0.692796\n",
      "[8]\ttrain-auc:0.703999\tval-auc:0.693029\n",
      "[9]\ttrain-auc:0.70479\tval-auc:0.693557\n",
      "[10]\ttrain-auc:0.705197\tval-auc:0.69399\n",
      "[11]\ttrain-auc:0.705999\tval-auc:0.694517\n",
      "[12]\ttrain-auc:0.70645\tval-auc:0.694724\n",
      "[13]\ttrain-auc:0.706955\tval-auc:0.694911\n",
      "[14]\ttrain-auc:0.707237\tval-auc:0.695148\n",
      "[15]\ttrain-auc:0.707725\tval-auc:0.695192\n",
      "[16]\ttrain-auc:0.70808\tval-auc:0.695491\n",
      "[17]\ttrain-auc:0.708423\tval-auc:0.695549\n",
      "[18]\ttrain-auc:0.708901\tval-auc:0.695849\n",
      "[19]\ttrain-auc:0.709177\tval-auc:0.696053\n",
      "[20]\ttrain-auc:0.70963\tval-auc:0.696109\n",
      "[21]\ttrain-auc:0.709918\tval-auc:0.696215\n",
      "[22]\ttrain-auc:0.71023\tval-auc:0.696349\n",
      "[23]\ttrain-auc:0.710582\tval-auc:0.696566\n",
      "[24]\ttrain-auc:0.710863\tval-auc:0.69655\n",
      "[25]\ttrain-auc:0.71185\tval-auc:0.697099\n",
      "[26]\ttrain-auc:0.711969\tval-auc:0.697097\n",
      "[27]\ttrain-auc:0.712247\tval-auc:0.697152\n",
      "[28]\ttrain-auc:0.712499\tval-auc:0.697218\n",
      "[29]\ttrain-auc:0.712799\tval-auc:0.697259\n",
      "[30]\ttrain-auc:0.713555\tval-auc:0.697726\n",
      "[31]\ttrain-auc:0.713897\tval-auc:0.697849\n",
      "[32]\ttrain-auc:0.714317\tval-auc:0.698123\n",
      "[33]\ttrain-auc:0.714573\tval-auc:0.698199\n",
      "[34]\ttrain-auc:0.714815\tval-auc:0.698287\n",
      "[35]\ttrain-auc:0.71508\tval-auc:0.698443\n",
      "[36]\ttrain-auc:0.715289\tval-auc:0.698598\n",
      "[37]\ttrain-auc:0.715644\tval-auc:0.698872\n",
      "[38]\ttrain-auc:0.716298\tval-auc:0.699345\n",
      "[39]\ttrain-auc:0.716601\tval-auc:0.699396\n",
      "[40]\ttrain-auc:0.716863\tval-auc:0.699549\n",
      "[41]\ttrain-auc:0.717126\tval-auc:0.699648\n",
      "[42]\ttrain-auc:0.717386\tval-auc:0.699709\n",
      "[43]\ttrain-auc:0.717696\tval-auc:0.699771\n",
      "[44]\ttrain-auc:0.717993\tval-auc:0.699882\n",
      "[45]\ttrain-auc:0.7183\tval-auc:0.700053\n",
      "[46]\ttrain-auc:0.718535\tval-auc:0.700087\n",
      "[47]\ttrain-auc:0.718866\tval-auc:0.700272\n",
      "[48]\ttrain-auc:0.719148\tval-auc:0.700409\n",
      "[49]\ttrain-auc:0.719547\tval-auc:0.700538\n",
      "[50]\ttrain-auc:0.71979\tval-auc:0.700651\n",
      "[51]\ttrain-auc:0.720258\tval-auc:0.700714\n",
      "[52]\ttrain-auc:0.720544\tval-auc:0.700853\n",
      "[53]\ttrain-auc:0.720814\tval-auc:0.700902\n",
      "[54]\ttrain-auc:0.721093\tval-auc:0.701001\n",
      "[55]\ttrain-auc:0.721471\tval-auc:0.70114\n",
      "[56]\ttrain-auc:0.721686\tval-auc:0.701235\n",
      "[57]\ttrain-auc:0.721967\tval-auc:0.70137\n",
      "[58]\ttrain-auc:0.722269\tval-auc:0.701454\n",
      "[59]\ttrain-auc:0.722496\tval-auc:0.70157\n",
      "[60]\ttrain-auc:0.722821\tval-auc:0.701591\n",
      "[61]\ttrain-auc:0.723119\tval-auc:0.701685\n",
      "[62]\ttrain-auc:0.723508\tval-auc:0.701824\n",
      "[63]\ttrain-auc:0.724023\tval-auc:0.702018\n",
      "[64]\ttrain-auc:0.724347\tval-auc:0.702127\n",
      "[65]\ttrain-auc:0.724641\tval-auc:0.702248\n",
      "[66]\ttrain-auc:0.724922\tval-auc:0.702299\n",
      "[67]\ttrain-auc:0.725225\tval-auc:0.702381\n",
      "[68]\ttrain-auc:0.725671\tval-auc:0.702442\n",
      "[69]\ttrain-auc:0.726111\tval-auc:0.702537\n",
      "[70]\ttrain-auc:0.726564\tval-auc:0.70263\n",
      "[71]\ttrain-auc:0.726934\tval-auc:0.702735\n",
      "[72]\ttrain-auc:0.727344\tval-auc:0.702844\n",
      "[73]\ttrain-auc:0.727692\tval-auc:0.70295\n",
      "[74]\ttrain-auc:0.72807\tval-auc:0.703114\n",
      "[75]\ttrain-auc:0.728279\tval-auc:0.703143\n",
      "[76]\ttrain-auc:0.728684\tval-auc:0.703216\n",
      "[77]\ttrain-auc:0.729139\tval-auc:0.703351\n",
      "[78]\ttrain-auc:0.729456\tval-auc:0.703454\n",
      "[79]\ttrain-auc:0.729735\tval-auc:0.703524\n",
      "[80]\ttrain-auc:0.730183\tval-auc:0.703698\n",
      "[81]\ttrain-auc:0.730656\tval-auc:0.70388\n",
      "[82]\ttrain-auc:0.730945\tval-auc:0.703948\n",
      "[83]\ttrain-auc:0.731258\tval-auc:0.704004\n",
      "[84]\ttrain-auc:0.73167\tval-auc:0.704013\n",
      "[85]\ttrain-auc:0.731843\tval-auc:0.704081\n",
      "[86]\ttrain-auc:0.732186\tval-auc:0.704144\n",
      "[87]\ttrain-auc:0.732562\tval-auc:0.704198\n",
      "[88]\ttrain-auc:0.732947\tval-auc:0.704259\n",
      "[89]\ttrain-auc:0.733193\tval-auc:0.704285\n",
      "[90]\ttrain-auc:0.733667\tval-auc:0.704411\n",
      "[91]\ttrain-auc:0.734031\tval-auc:0.704451\n",
      "[92]\ttrain-auc:0.734412\tval-auc:0.704508\n",
      "[93]\ttrain-auc:0.734828\tval-auc:0.704615\n",
      "[94]\ttrain-auc:0.735187\tval-auc:0.704659\n",
      "[95]\ttrain-auc:0.735478\tval-auc:0.704737\n",
      "[96]\ttrain-auc:0.735827\tval-auc:0.704781\n",
      "[97]\ttrain-auc:0.736066\tval-auc:0.704842\n",
      "[98]\ttrain-auc:0.73644\tval-auc:0.704968\n",
      "[99]\ttrain-auc:0.736731\tval-auc:0.705015\n",
      "[100]\ttrain-auc:0.736975\tval-auc:0.705091\n",
      "[101]\ttrain-auc:0.737243\tval-auc:0.705143\n",
      "[102]\ttrain-auc:0.737562\tval-auc:0.705265\n",
      "[103]\ttrain-auc:0.737707\tval-auc:0.705318\n",
      "[104]\ttrain-auc:0.737975\tval-auc:0.705351\n",
      "[105]\ttrain-auc:0.738346\tval-auc:0.705386\n",
      "[106]\ttrain-auc:0.738663\tval-auc:0.705397\n",
      "[107]\ttrain-auc:0.738908\tval-auc:0.705404\n",
      "[108]\ttrain-auc:0.7391\tval-auc:0.705489\n",
      "[109]\ttrain-auc:0.739288\tval-auc:0.705504\n",
      "[110]\ttrain-auc:0.739574\tval-auc:0.705551\n",
      "[111]\ttrain-auc:0.739988\tval-auc:0.705618\n",
      "[112]\ttrain-auc:0.740238\tval-auc:0.705648\n",
      "[113]\ttrain-auc:0.74058\tval-auc:0.705757\n",
      "[114]\ttrain-auc:0.740893\tval-auc:0.705818\n",
      "[115]\ttrain-auc:0.741268\tval-auc:0.705867\n",
      "[116]\ttrain-auc:0.741433\tval-auc:0.705875\n",
      "[117]\ttrain-auc:0.74178\tval-auc:0.705979\n",
      "[118]\ttrain-auc:0.742134\tval-auc:0.706053\n",
      "[119]\ttrain-auc:0.742339\tval-auc:0.706087\n",
      "[120]\ttrain-auc:0.742403\tval-auc:0.706128\n",
      "[121]\ttrain-auc:0.742669\tval-auc:0.706194\n",
      "[122]\ttrain-auc:0.743\tval-auc:0.706253\n",
      "[123]\ttrain-auc:0.743344\tval-auc:0.706259\n",
      "[124]\ttrain-auc:0.743501\tval-auc:0.706277\n",
      "[125]\ttrain-auc:0.743732\tval-auc:0.706315\n",
      "[126]\ttrain-auc:0.743945\tval-auc:0.706394\n",
      "[127]\ttrain-auc:0.744146\tval-auc:0.706407\n",
      "[128]\ttrain-auc:0.744427\tval-auc:0.706495\n",
      "[129]\ttrain-auc:0.744705\tval-auc:0.706519\n",
      "[130]\ttrain-auc:0.745044\tval-auc:0.706578\n",
      "[131]\ttrain-auc:0.745436\tval-auc:0.706615\n",
      "[132]\ttrain-auc:0.745787\tval-auc:0.706629\n",
      "[133]\ttrain-auc:0.745983\tval-auc:0.706686\n",
      "[134]\ttrain-auc:0.746283\tval-auc:0.706764\n",
      "[135]\ttrain-auc:0.746649\tval-auc:0.706829\n",
      "[136]\ttrain-auc:0.746852\tval-auc:0.706874\n",
      "[137]\ttrain-auc:0.747188\tval-auc:0.706933\n",
      "[138]\ttrain-auc:0.747384\tval-auc:0.706894\n",
      "[139]\ttrain-auc:0.747574\tval-auc:0.706939\n",
      "[140]\ttrain-auc:0.7477\tval-auc:0.706929\n",
      "[141]\ttrain-auc:0.747983\tval-auc:0.707003\n",
      "[142]\ttrain-auc:0.748146\tval-auc:0.707034\n",
      "[143]\ttrain-auc:0.748345\tval-auc:0.707078\n",
      "[144]\ttrain-auc:0.748589\tval-auc:0.707143\n",
      "[145]\ttrain-auc:0.748892\tval-auc:0.707124\n",
      "[146]\ttrain-auc:0.749325\tval-auc:0.707187\n",
      "[147]\ttrain-auc:0.749514\tval-auc:0.707171\n",
      "[148]\ttrain-auc:0.749828\tval-auc:0.70722\n",
      "[149]\ttrain-auc:0.749971\tval-auc:0.707202\n",
      "[150]\ttrain-auc:0.750306\tval-auc:0.707206\n",
      "[151]\ttrain-auc:0.750458\tval-auc:0.707254\n",
      "[152]\ttrain-auc:0.750785\tval-auc:0.7073\n",
      "[153]\ttrain-auc:0.751094\tval-auc:0.707346\n",
      "[154]\ttrain-auc:0.751261\tval-auc:0.707427\n",
      "[155]\ttrain-auc:0.7516\tval-auc:0.707439\n",
      "[156]\ttrain-auc:0.751758\tval-auc:0.707417\n",
      "[157]\ttrain-auc:0.752011\tval-auc:0.70742\n",
      "[158]\ttrain-auc:0.752263\tval-auc:0.707415\n",
      "[159]\ttrain-auc:0.752559\tval-auc:0.707469\n",
      "[160]\ttrain-auc:0.752736\tval-auc:0.707493\n",
      "[161]\ttrain-auc:0.752976\tval-auc:0.707467\n",
      "[162]\ttrain-auc:0.753106\tval-auc:0.707448\n",
      "[163]\ttrain-auc:0.753334\tval-auc:0.70749\n",
      "[164]\ttrain-auc:0.753563\tval-auc:0.707507\n",
      "[165]\ttrain-auc:0.753824\tval-auc:0.707535\n",
      "[166]\ttrain-auc:0.754025\tval-auc:0.707521\n",
      "[167]\ttrain-auc:0.754335\tval-auc:0.707578\n",
      "[168]\ttrain-auc:0.754465\tval-auc:0.707588\n",
      "[169]\ttrain-auc:0.754584\tval-auc:0.707586\n",
      "[170]\ttrain-auc:0.754742\tval-auc:0.707565\n",
      "[171]\ttrain-auc:0.755016\tval-auc:0.707608\n",
      "[172]\ttrain-auc:0.755198\tval-auc:0.707652\n",
      "[173]\ttrain-auc:0.755315\tval-auc:0.707678\n",
      "[174]\ttrain-auc:0.755476\tval-auc:0.707709\n",
      "[175]\ttrain-auc:0.755663\tval-auc:0.707722\n",
      "[176]\ttrain-auc:0.755842\tval-auc:0.707736\n",
      "[177]\ttrain-auc:0.756071\tval-auc:0.707768\n",
      "[178]\ttrain-auc:0.756335\tval-auc:0.707749\n",
      "[179]\ttrain-auc:0.75663\tval-auc:0.707807\n",
      "[180]\ttrain-auc:0.756805\tval-auc:0.707836\n",
      "[181]\ttrain-auc:0.757107\tval-auc:0.707849\n",
      "[182]\ttrain-auc:0.757477\tval-auc:0.707933\n",
      "[183]\ttrain-auc:0.757764\tval-auc:0.707999\n",
      "[184]\ttrain-auc:0.757959\tval-auc:0.707987\n",
      "[185]\ttrain-auc:0.758159\tval-auc:0.707943\n",
      "[186]\ttrain-auc:0.758366\tval-auc:0.708037\n",
      "[187]\ttrain-auc:0.758679\tval-auc:0.708049\n",
      "[188]\ttrain-auc:0.758937\tval-auc:0.708074\n",
      "[189]\ttrain-auc:0.759172\tval-auc:0.708117\n",
      "[190]\ttrain-auc:0.759342\tval-auc:0.708137\n",
      "[191]\ttrain-auc:0.759621\tval-auc:0.708193\n",
      "[192]\ttrain-auc:0.75987\tval-auc:0.708173\n",
      "[193]\ttrain-auc:0.759897\tval-auc:0.708184\n",
      "[194]\ttrain-auc:0.76015\tval-auc:0.708194\n",
      "[195]\ttrain-auc:0.760499\tval-auc:0.708217\n"
     ]
    },
    {
     "name": "stdout",
     "output_type": "stream",
     "text": [
      "[196]\ttrain-auc:0.760808\tval-auc:0.708312\n",
      "[197]\ttrain-auc:0.761065\tval-auc:0.708367\n",
      "[198]\ttrain-auc:0.761261\tval-auc:0.708346\n",
      "[199]\ttrain-auc:0.761371\tval-auc:0.708368\n",
      "[200]\ttrain-auc:0.761584\tval-auc:0.708366\n",
      "[201]\ttrain-auc:0.761695\tval-auc:0.708362\n",
      "[202]\ttrain-auc:0.761847\tval-auc:0.708384\n",
      "[203]\ttrain-auc:0.762118\tval-auc:0.708437\n",
      "[204]\ttrain-auc:0.762192\tval-auc:0.708444\n",
      "[205]\ttrain-auc:0.762338\tval-auc:0.708436\n",
      "[206]\ttrain-auc:0.762644\tval-auc:0.70849\n",
      "[207]\ttrain-auc:0.762824\tval-auc:0.708484\n",
      "[208]\ttrain-auc:0.762969\tval-auc:0.708506\n",
      "[209]\ttrain-auc:0.763245\tval-auc:0.708497\n",
      "[210]\ttrain-auc:0.763291\tval-auc:0.708471\n",
      "[211]\ttrain-auc:0.763599\tval-auc:0.708444\n",
      "[212]\ttrain-auc:0.763708\tval-auc:0.708462\n",
      "[213]\ttrain-auc:0.763941\tval-auc:0.708429\n",
      "[214]\ttrain-auc:0.764181\tval-auc:0.708486\n",
      "[215]\ttrain-auc:0.764419\tval-auc:0.708464\n",
      "[216]\ttrain-auc:0.764666\tval-auc:0.708476\n",
      "[217]\ttrain-auc:0.764925\tval-auc:0.708475\n",
      "[218]\ttrain-auc:0.765025\tval-auc:0.70848\n",
      "[219]\ttrain-auc:0.76526\tval-auc:0.708456\n",
      "[220]\ttrain-auc:0.765547\tval-auc:0.708501\n",
      "[221]\ttrain-auc:0.765678\tval-auc:0.708492\n",
      "[222]\ttrain-auc:0.766009\tval-auc:0.708562\n",
      "[223]\ttrain-auc:0.76616\tval-auc:0.708525\n",
      "[224]\ttrain-auc:0.7664\tval-auc:0.708573\n",
      "[225]\ttrain-auc:0.766497\tval-auc:0.708574\n",
      "[226]\ttrain-auc:0.766728\tval-auc:0.708576\n",
      "[227]\ttrain-auc:0.766815\tval-auc:0.708594\n",
      "[228]\ttrain-auc:0.767058\tval-auc:0.708592\n",
      "[229]\ttrain-auc:0.767368\tval-auc:0.708636\n",
      "[230]\ttrain-auc:0.767615\tval-auc:0.708619\n",
      "[231]\ttrain-auc:0.767825\tval-auc:0.708631\n",
      "[232]\ttrain-auc:0.767935\tval-auc:0.708616\n",
      "[233]\ttrain-auc:0.768178\tval-auc:0.708643\n",
      "[234]\ttrain-auc:0.768467\tval-auc:0.708637\n",
      "[235]\ttrain-auc:0.768677\tval-auc:0.708647\n",
      "[236]\ttrain-auc:0.768915\tval-auc:0.708692\n",
      "[237]\ttrain-auc:0.769154\tval-auc:0.708753\n",
      "[238]\ttrain-auc:0.769276\tval-auc:0.708774\n",
      "[239]\ttrain-auc:0.769563\tval-auc:0.708857\n",
      "[240]\ttrain-auc:0.769732\tval-auc:0.708839\n",
      "[241]\ttrain-auc:0.769999\tval-auc:0.708858\n",
      "[242]\ttrain-auc:0.770133\tval-auc:0.708841\n",
      "[243]\ttrain-auc:0.770291\tval-auc:0.708876\n",
      "[244]\ttrain-auc:0.77038\tval-auc:0.708895\n",
      "[245]\ttrain-auc:0.770574\tval-auc:0.708884\n",
      "[246]\ttrain-auc:0.770694\tval-auc:0.708878\n",
      "[247]\ttrain-auc:0.77086\tval-auc:0.708872\n",
      "[248]\ttrain-auc:0.77101\tval-auc:0.708906\n",
      "[249]\ttrain-auc:0.77126\tval-auc:0.708906\n",
      "[250]\ttrain-auc:0.771527\tval-auc:0.708919\n",
      "[251]\ttrain-auc:0.77169\tval-auc:0.70892\n",
      "[252]\ttrain-auc:0.771793\tval-auc:0.708897\n",
      "[253]\ttrain-auc:0.772097\tval-auc:0.708936\n",
      "[254]\ttrain-auc:0.772325\tval-auc:0.708872\n",
      "[255]\ttrain-auc:0.772479\tval-auc:0.708886\n",
      "[256]\ttrain-auc:0.772636\tval-auc:0.708926\n",
      "[257]\ttrain-auc:0.772746\tval-auc:0.708915\n",
      "[258]\ttrain-auc:0.772893\tval-auc:0.708917\n",
      "[259]\ttrain-auc:0.77312\tval-auc:0.708862\n",
      "[260]\ttrain-auc:0.773332\tval-auc:0.708842\n",
      "[261]\ttrain-auc:0.773538\tval-auc:0.708842\n",
      "[262]\ttrain-auc:0.773749\tval-auc:0.708856\n",
      "[263]\ttrain-auc:0.773886\tval-auc:0.708855\n",
      "[264]\ttrain-auc:0.77421\tval-auc:0.708852\n",
      "[265]\ttrain-auc:0.774416\tval-auc:0.708839\n",
      "[266]\ttrain-auc:0.774606\tval-auc:0.708799\n",
      "[267]\ttrain-auc:0.774947\tval-auc:0.708757\n",
      "[268]\ttrain-auc:0.774976\tval-auc:0.708772\n",
      "[269]\ttrain-auc:0.775209\tval-auc:0.708788\n",
      "[270]\ttrain-auc:0.775381\tval-auc:0.70881\n",
      "[271]\ttrain-auc:0.775496\tval-auc:0.708801\n",
      "[272]\ttrain-auc:0.775781\tval-auc:0.708725\n",
      "[273]\ttrain-auc:0.775877\tval-auc:0.708714\n",
      "[274]\ttrain-auc:0.776129\tval-auc:0.708652\n",
      "[275]\ttrain-auc:0.776358\tval-auc:0.708641\n",
      "[276]\ttrain-auc:0.776548\tval-auc:0.708619\n",
      "[277]\ttrain-auc:0.776627\tval-auc:0.708614\n",
      "[278]\ttrain-auc:0.776845\tval-auc:0.708589\n",
      "[279]\ttrain-auc:0.776966\tval-auc:0.708586\n",
      "[280]\ttrain-auc:0.777133\tval-auc:0.708564\n",
      "[281]\ttrain-auc:0.777213\tval-auc:0.708595\n",
      "[282]\ttrain-auc:0.777388\tval-auc:0.708594\n",
      "[283]\ttrain-auc:0.777468\tval-auc:0.708569\n",
      "[284]\ttrain-auc:0.777618\tval-auc:0.70859\n",
      "[285]\ttrain-auc:0.777723\tval-auc:0.708612\n",
      "[286]\ttrain-auc:0.778017\tval-auc:0.708625\n",
      "[287]\ttrain-auc:0.778259\tval-auc:0.708596\n",
      "[288]\ttrain-auc:0.778466\tval-auc:0.708588\n",
      "[289]\ttrain-auc:0.778555\tval-auc:0.708598\n",
      "[290]\ttrain-auc:0.778637\tval-auc:0.708587\n",
      "[291]\ttrain-auc:0.778814\tval-auc:0.708593\n",
      "[292]\ttrain-auc:0.778959\tval-auc:0.708579\n",
      "[293]\ttrain-auc:0.779223\tval-auc:0.708614\n",
      "[294]\ttrain-auc:0.779377\tval-auc:0.708635\n",
      "[295]\ttrain-auc:0.77967\tval-auc:0.708591\n",
      "[296]\ttrain-auc:0.77995\tval-auc:0.708612\n",
      "[297]\ttrain-auc:0.780233\tval-auc:0.708634\n",
      "[298]\ttrain-auc:0.780466\tval-auc:0.708686\n",
      "[299]\ttrain-auc:0.780718\tval-auc:0.708714\n",
      "[300]\ttrain-auc:0.780923\tval-auc:0.708761\n",
      "[301]\ttrain-auc:0.78104\tval-auc:0.708796\n",
      "[302]\ttrain-auc:0.781164\tval-auc:0.70877\n",
      "[303]\ttrain-auc:0.781394\tval-auc:0.708745\n",
      "Stopping. Best iteration:\n",
      "[253]\ttrain-auc:0.772097\tval-auc:0.708936\n",
      "\n"
     ]
    }
   ],
   "source": [
    "watchlist = [(dtrain,'train'),(dvalid,'val')]\n",
    "num_boost_round = 1500\n",
    "gbm = xgb.train(params, dtrain, num_boost_round, evals=watchlist, \n",
    "               early_stopping_rounds=50)\n",
    "#stop the training procedure once the performance on the test dataset has not improved after a fixed number of training iterations"
   ]
  },
  {
   "cell_type": "code",
   "execution_count": 386,
   "metadata": {},
   "outputs": [],
   "source": [
    "from sklearn.metrics import roc_curve, auc\n",
    "from sklearn import linear_model, datasets\n",
    "import pylab as pl\n",
    "def draw_ROC(model, dtrain, dvalid, dtest, y_train, y_valid, y_test ):\n",
    "    probas_ = model.predict(dvalid, ntree_limit=model.best_ntree_limit)\n",
    "    probas_1 = model.predict(dtrain, ntree_limit=model.best_ntree_limit)\n",
    "    probas_2 = model.predict(dtest, ntree_limit=model.best_ntree_limit)\n",
    "    fpr, tpr, thresholds = roc_curve(y_valid, probas_)\n",
    "    fpr_1, tpr_1, thresholds_1 = roc_curve(y_train, probas_1)\n",
    "    fpr_2, tpr_2, thresholds_2 = roc_curve(y_test, probas_2)\n",
    "    roc_auc = auc(fpr, tpr)\n",
    "    roc_auc_1 = auc(fpr_1, tpr_1)\n",
    "    roc_auc_2 = auc(fpr_2, tpr_2)\n",
    "    print(\"Area under the ROC curve - validation: %f\" % roc_auc)\n",
    "    print(\"Area under the ROC curve - train: %f\" % roc_auc_1)\n",
    "    print(\"Area under the ROC curve - test: %f\" % roc_auc_2)\n",
    "    # Plot ROC curve\n",
    "    plt.figure(figsize=(8,8))\n",
    "    plt.plot(fpr, tpr, label='ROC curve - test(AUC = %0.2f)' % roc_auc, color='r')\n",
    "    plt.plot(fpr_1, tpr_1, label='ROC curve - train (AUC = %0.2f)' % roc_auc_1, color='b')\n",
    "    plt.plot(fpr_2, tpr_2, label='ROC curve - train (AUC = %0.2f)' % roc_auc_2, color='g')\n",
    "    plt.plot([0, 1], [0, 1], 'k--')\n",
    "    plt.xlim([0.0, 1.0])\n",
    "    plt.ylim([0.0, 1.0])\n",
    "    plt.xlabel('False Positive Rate')\n",
    "    plt.ylabel('True Positive Rate')\n",
    "    plt.title('ROC for lead score model')\n",
    "    plt.legend(loc=\"lower right\")\n",
    "    plt.show()"
   ]
  },
  {
   "cell_type": "code",
   "execution_count": 387,
   "metadata": {},
   "outputs": [
    {
     "name": "stdout",
     "output_type": "stream",
     "text": [
      "Area under the ROC curve - validation: 0.708936\n",
      "Area under the ROC curve - train: 0.772097\n",
      "Area under the ROC curve - test: 0.715221\n"
     ]
    },
    {
     "data": {
      "image/png": "[encoded data removed]",
      "text/plain": [
       "<Figure size 576x576 with 1 Axes>"
      ]
     },
     "metadata": {},
     "output_type": "display_data"
    }
   ],
   "source": [
    "draw_ROC(gbm, dtrain, dvalid, dtest, y_train, y_valid, y_test)"
   ]
  },
  {
   "cell_type": "code",
   "execution_count": 388,
   "metadata": {},
   "outputs": [],
   "source": [
    "y_pred = gbm.predict(dtest)"
   ]
  },
  {
   "cell_type": "code",
   "execution_count": 389,
   "metadata": {},
   "outputs": [
    {
     "name": "stdout",
     "output_type": "stream",
     "text": [
      "0.7321319 0.0054590236 0.14285085\n"
     ]
    }
   ],
   "source": [
    "print(y_pred.max(), y_pred.min(), y_pred.mean())"
   ]
  },
  {
   "cell_type": "code",
   "execution_count": 390,
   "metadata": {},
   "outputs": [],
   "source": [
    "importance=gbm.get_fscore()"
   ]
  },
  {
   "cell_type": "code",
   "execution_count": 391,
   "metadata": {},
   "outputs": [],
   "source": [
    "df_importance = pd.DataFrame(importance.items(), columns=['feature', 'fscore'])\n",
    "df_importance['fscore'] = df_importance['fscore'] / df_importance['fscore'].sum()"
   ]
  },
  {
   "cell_type": "code",
   "execution_count": 392,
   "metadata": {},
   "outputs": [
    {
     "data": {
      "text/html": [
       "<div>\n",
       "<style scoped>\n",
       "    .dataframe tbody tr th:only-of-type {\n",
       "        vertical-align: middle;\n",
       "    }\n",
       "\n",
       "    .dataframe tbody tr th {\n",
       "        vertical-align: top;\n",
       "    }\n",
       "\n",
       "    .dataframe thead th {\n",
       "        text-align: right;\n",
       "    }\n",
       "</style>\n",
       "<table border=\"1\" class=\"dataframe\">\n",
       "  <thead>\n",
       "    <tr style=\"text-align: right;\">\n",
       "      <th></th>\n",
       "      <th>feature</th>\n",
       "      <th>fscore</th>\n",
       "    </tr>\n",
       "  </thead>\n",
       "  <tbody>\n",
       "    <tr>\n",
       "      <th>3</th>\n",
       "      <td>dti</td>\n",
       "      <td>0.043061</td>\n",
       "    </tr>\n",
       "    <tr>\n",
       "      <th>31</th>\n",
       "      <td>installment</td>\n",
       "      <td>0.034045</td>\n",
       "    </tr>\n",
       "    <tr>\n",
       "      <th>12</th>\n",
       "      <td>mosinoldilacct</td>\n",
       "      <td>0.032747</td>\n",
       "    </tr>\n",
       "    <tr>\n",
       "      <th>39</th>\n",
       "      <td>zipcode</td>\n",
       "      <td>0.032314</td>\n",
       "    </tr>\n",
       "    <tr>\n",
       "      <th>4</th>\n",
       "      <td>emptitle_freq</td>\n",
       "      <td>0.030366</td>\n",
       "    </tr>\n",
       "    <tr>\n",
       "      <th>37</th>\n",
       "      <td>bcutil</td>\n",
       "      <td>0.029789</td>\n",
       "    </tr>\n",
       "    <tr>\n",
       "      <th>0</th>\n",
       "      <td>intrate</td>\n",
       "      <td>0.029212</td>\n",
       "    </tr>\n",
       "    <tr>\n",
       "      <th>14</th>\n",
       "      <td>mosinoldrevtlop</td>\n",
       "      <td>0.028058</td>\n",
       "    </tr>\n",
       "    <tr>\n",
       "      <th>41</th>\n",
       "      <td>revolutil</td>\n",
       "      <td>0.026471</td>\n",
       "    </tr>\n",
       "    <tr>\n",
       "      <th>21</th>\n",
       "      <td>bcopentobuy</td>\n",
       "      <td>0.025606</td>\n",
       "    </tr>\n",
       "    <tr>\n",
       "      <th>33</th>\n",
       "      <td>earliestcrline_month</td>\n",
       "      <td>0.025173</td>\n",
       "    </tr>\n",
       "    <tr>\n",
       "      <th>50</th>\n",
       "      <td>avgcurbal</td>\n",
       "      <td>0.024885</td>\n",
       "    </tr>\n",
       "    <tr>\n",
       "      <th>47</th>\n",
       "      <td>annualinc</td>\n",
       "      <td>0.024380</td>\n",
       "    </tr>\n",
       "    <tr>\n",
       "      <th>5</th>\n",
       "      <td>tothicredlim</td>\n",
       "      <td>0.024091</td>\n",
       "    </tr>\n",
       "    <tr>\n",
       "      <th>17</th>\n",
       "      <td>zipcode_freq</td>\n",
       "      <td>0.023803</td>\n",
       "    </tr>\n",
       "    <tr>\n",
       "      <th>18</th>\n",
       "      <td>mthssincerecentbc</td>\n",
       "      <td>0.023298</td>\n",
       "    </tr>\n",
       "    <tr>\n",
       "      <th>28</th>\n",
       "      <td>revolbal</td>\n",
       "      <td>0.023081</td>\n",
       "    </tr>\n",
       "    <tr>\n",
       "      <th>44</th>\n",
       "      <td>totalrevhilim</td>\n",
       "      <td>0.022649</td>\n",
       "    </tr>\n",
       "    <tr>\n",
       "      <th>10</th>\n",
       "      <td>mthssincerecentinq</td>\n",
       "      <td>0.022360</td>\n",
       "    </tr>\n",
       "    <tr>\n",
       "      <th>34</th>\n",
       "      <td>totalilhighcreditlimit</td>\n",
       "      <td>0.022216</td>\n",
       "    </tr>\n",
       "    <tr>\n",
       "      <th>7</th>\n",
       "      <td>accopenpast24mths</td>\n",
       "      <td>0.021855</td>\n",
       "    </tr>\n",
       "    <tr>\n",
       "      <th>51</th>\n",
       "      <td>totalbalexmort</td>\n",
       "      <td>0.020629</td>\n",
       "    </tr>\n",
       "    <tr>\n",
       "      <th>23</th>\n",
       "      <td>loanamnt</td>\n",
       "      <td>0.019763</td>\n",
       "    </tr>\n",
       "    <tr>\n",
       "      <th>9</th>\n",
       "      <td>totalbclimit</td>\n",
       "      <td>0.018681</td>\n",
       "    </tr>\n",
       "    <tr>\n",
       "      <th>53</th>\n",
       "      <td>mthssincelastdelinq</td>\n",
       "      <td>0.018249</td>\n",
       "    </tr>\n",
       "    <tr>\n",
       "      <th>2</th>\n",
       "      <td>mthssincelastrecord</td>\n",
       "      <td>0.017888</td>\n",
       "    </tr>\n",
       "    <tr>\n",
       "      <th>46</th>\n",
       "      <td>mthssincelastmajorderog</td>\n",
       "      <td>0.017672</td>\n",
       "    </tr>\n",
       "    <tr>\n",
       "      <th>26</th>\n",
       "      <td>ficorangehigh</td>\n",
       "      <td>0.016950</td>\n",
       "    </tr>\n",
       "    <tr>\n",
       "      <th>29</th>\n",
       "      <td>totcurbal</td>\n",
       "      <td>0.015868</td>\n",
       "    </tr>\n",
       "    <tr>\n",
       "      <th>8</th>\n",
       "      <td>emplength</td>\n",
       "      <td>0.014426</td>\n",
       "    </tr>\n",
       "    <tr>\n",
       "      <th>...</th>\n",
       "      <td>...</td>\n",
       "      <td>...</td>\n",
       "    </tr>\n",
       "    <tr>\n",
       "      <th>59</th>\n",
       "      <td>numsats</td>\n",
       "      <td>0.003823</td>\n",
       "    </tr>\n",
       "    <tr>\n",
       "      <th>56</th>\n",
       "      <td>numacctsever120pd</td>\n",
       "      <td>0.003102</td>\n",
       "    </tr>\n",
       "    <tr>\n",
       "      <th>25</th>\n",
       "      <td>grade</td>\n",
       "      <td>0.003029</td>\n",
       "    </tr>\n",
       "    <tr>\n",
       "      <th>54</th>\n",
       "      <td>delinq2yrs</td>\n",
       "      <td>0.002885</td>\n",
       "    </tr>\n",
       "    <tr>\n",
       "      <th>67</th>\n",
       "      <td>purpose_debt_consolidation</td>\n",
       "      <td>0.002092</td>\n",
       "    </tr>\n",
       "    <tr>\n",
       "      <th>75</th>\n",
       "      <td>verificationstatus_Source Verified</td>\n",
       "      <td>0.002020</td>\n",
       "    </tr>\n",
       "    <tr>\n",
       "      <th>69</th>\n",
       "      <td>verificationstatus_Verified</td>\n",
       "      <td>0.001875</td>\n",
       "    </tr>\n",
       "    <tr>\n",
       "      <th>72</th>\n",
       "      <td>initialliststatus_f</td>\n",
       "      <td>0.001659</td>\n",
       "    </tr>\n",
       "    <tr>\n",
       "      <th>62</th>\n",
       "      <td>verificationstatus_Not Verified</td>\n",
       "      <td>0.001587</td>\n",
       "    </tr>\n",
       "    <tr>\n",
       "      <th>70</th>\n",
       "      <td>collections12mthsexmed</td>\n",
       "      <td>0.001515</td>\n",
       "    </tr>\n",
       "    <tr>\n",
       "      <th>32</th>\n",
       "      <td>pubrec</td>\n",
       "      <td>0.001443</td>\n",
       "    </tr>\n",
       "    <tr>\n",
       "      <th>55</th>\n",
       "      <td>pubrecbankruptcies</td>\n",
       "      <td>0.001154</td>\n",
       "    </tr>\n",
       "    <tr>\n",
       "      <th>57</th>\n",
       "      <td>numtl90gdpd24m</td>\n",
       "      <td>0.001082</td>\n",
       "    </tr>\n",
       "    <tr>\n",
       "      <th>38</th>\n",
       "      <td>delinqamnt</td>\n",
       "      <td>0.001010</td>\n",
       "    </tr>\n",
       "    <tr>\n",
       "      <th>76</th>\n",
       "      <td>purpose_credit_card</td>\n",
       "      <td>0.001010</td>\n",
       "    </tr>\n",
       "    <tr>\n",
       "      <th>71</th>\n",
       "      <td>initialliststatus_w</td>\n",
       "      <td>0.001010</td>\n",
       "    </tr>\n",
       "    <tr>\n",
       "      <th>65</th>\n",
       "      <td>homeownership_OWN</td>\n",
       "      <td>0.000721</td>\n",
       "    </tr>\n",
       "    <tr>\n",
       "      <th>60</th>\n",
       "      <td>taxliens</td>\n",
       "      <td>0.000721</td>\n",
       "    </tr>\n",
       "    <tr>\n",
       "      <th>73</th>\n",
       "      <td>purpose_small_business</td>\n",
       "      <td>0.000649</td>\n",
       "    </tr>\n",
       "    <tr>\n",
       "      <th>79</th>\n",
       "      <td>purpose_home_improvement</td>\n",
       "      <td>0.000505</td>\n",
       "    </tr>\n",
       "    <tr>\n",
       "      <th>63</th>\n",
       "      <td>numtl120dpd2m</td>\n",
       "      <td>0.000433</td>\n",
       "    </tr>\n",
       "    <tr>\n",
       "      <th>68</th>\n",
       "      <td>purpose_other</td>\n",
       "      <td>0.000433</td>\n",
       "    </tr>\n",
       "    <tr>\n",
       "      <th>77</th>\n",
       "      <td>purpose_moving</td>\n",
       "      <td>0.000361</td>\n",
       "    </tr>\n",
       "    <tr>\n",
       "      <th>74</th>\n",
       "      <td>purpose_car</td>\n",
       "      <td>0.000289</td>\n",
       "    </tr>\n",
       "    <tr>\n",
       "      <th>81</th>\n",
       "      <td>purpose_medical</td>\n",
       "      <td>0.000289</td>\n",
       "    </tr>\n",
       "    <tr>\n",
       "      <th>78</th>\n",
       "      <td>purpose_major_purchase</td>\n",
       "      <td>0.000144</td>\n",
       "    </tr>\n",
       "    <tr>\n",
       "      <th>82</th>\n",
       "      <td>purpose_vacation</td>\n",
       "      <td>0.000144</td>\n",
       "    </tr>\n",
       "    <tr>\n",
       "      <th>83</th>\n",
       "      <td>purpose_house</td>\n",
       "      <td>0.000144</td>\n",
       "    </tr>\n",
       "    <tr>\n",
       "      <th>84</th>\n",
       "      <td>purpose_renewable_energy</td>\n",
       "      <td>0.000144</td>\n",
       "    </tr>\n",
       "    <tr>\n",
       "      <th>80</th>\n",
       "      <td>chargeoffwithin12mths</td>\n",
       "      <td>0.000072</td>\n",
       "    </tr>\n",
       "  </tbody>\n",
       "</table>\n",
       "<p>85 rows × 2 columns</p>\n",
       "</div>"
      ],
      "text/plain": [
       "                               feature    fscore\n",
       "3                                  dti  0.043061\n",
       "31                         installment  0.034045\n",
       "12                      mosinoldilacct  0.032747\n",
       "39                             zipcode  0.032314\n",
       "4                        emptitle_freq  0.030366\n",
       "37                              bcutil  0.029789\n",
       "0                              intrate  0.029212\n",
       "14                     mosinoldrevtlop  0.028058\n",
       "41                           revolutil  0.026471\n",
       "21                         bcopentobuy  0.025606\n",
       "33                earliestcrline_month  0.025173\n",
       "50                           avgcurbal  0.024885\n",
       "47                           annualinc  0.024380\n",
       "5                         tothicredlim  0.024091\n",
       "17                        zipcode_freq  0.023803\n",
       "18                   mthssincerecentbc  0.023298\n",
       "28                            revolbal  0.023081\n",
       "44                       totalrevhilim  0.022649\n",
       "10                  mthssincerecentinq  0.022360\n",
       "34              totalilhighcreditlimit  0.022216\n",
       "7                    accopenpast24mths  0.021855\n",
       "51                      totalbalexmort  0.020629\n",
       "23                            loanamnt  0.019763\n",
       "9                         totalbclimit  0.018681\n",
       "53                 mthssincelastdelinq  0.018249\n",
       "2                  mthssincelastrecord  0.017888\n",
       "46             mthssincelastmajorderog  0.017672\n",
       "26                       ficorangehigh  0.016950\n",
       "29                           totcurbal  0.015868\n",
       "8                            emplength  0.014426\n",
       "..                                 ...       ...\n",
       "59                             numsats  0.003823\n",
       "56                   numacctsever120pd  0.003102\n",
       "25                               grade  0.003029\n",
       "54                          delinq2yrs  0.002885\n",
       "67          purpose_debt_consolidation  0.002092\n",
       "75  verificationstatus_Source Verified  0.002020\n",
       "69         verificationstatus_Verified  0.001875\n",
       "72                 initialliststatus_f  0.001659\n",
       "62     verificationstatus_Not Verified  0.001587\n",
       "70              collections12mthsexmed  0.001515\n",
       "32                              pubrec  0.001443\n",
       "55                  pubrecbankruptcies  0.001154\n",
       "57                      numtl90gdpd24m  0.001082\n",
       "38                          delinqamnt  0.001010\n",
       "76                 purpose_credit_card  0.001010\n",
       "71                 initialliststatus_w  0.001010\n",
       "65                   homeownership_OWN  0.000721\n",
       "60                            taxliens  0.000721\n",
       "73              purpose_small_business  0.000649\n",
       "79            purpose_home_improvement  0.000505\n",
       "63                       numtl120dpd2m  0.000433\n",
       "68                       purpose_other  0.000433\n",
       "77                      purpose_moving  0.000361\n",
       "74                         purpose_car  0.000289\n",
       "81                     purpose_medical  0.000289\n",
       "78              purpose_major_purchase  0.000144\n",
       "82                    purpose_vacation  0.000144\n",
       "83                       purpose_house  0.000144\n",
       "84            purpose_renewable_energy  0.000144\n",
       "80               chargeoffwithin12mths  0.000072\n",
       "\n",
       "[85 rows x 2 columns]"
      ]
     },
     "execution_count": 392,
     "metadata": {},
     "output_type": "execute_result"
    }
   ],
   "source": [
    "df_importance.sort_values(['fscore'], ascending=False, inplace=True)\n",
    "df_importance"
   ]
  },
  {
   "cell_type": "code",
   "execution_count": null,
   "metadata": {},
   "outputs": [],
   "source": []
  }
 ],
 "metadata": {
  "kernelspec": {
   "display_name": "Python 3",
   "language": "python",
   "name": "python3"
  },
  "language_info": {
   "codemirror_mode": {
    "name": "ipython",
    "version": 3
   },
   "file_extension": ".py",
   "mimetype": "text/x-python",
   "name": "python",
   "nbconvert_exporter": "python",
   "pygments_lexer": "ipython3",
   "version": "3.6.8"
  }
 },
 "nbformat": 4,
 "nbformat_minor": 2
}
